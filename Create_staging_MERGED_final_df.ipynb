{
 "cells": [
  {
   "cell_type": "code",
   "execution_count": null,
   "metadata": {},
   "outputs": [],
   "source": [
    "import psycopg2\n",
    "import pandas as pd\n",
    "from sqlalchemy import create_engine\n",
    "\n",
    "import pandas as pd\n",
    "import numpy as np\n",
    "\n",
    "from create_staging_tables import create_staging_merged_initial_df\n",
    "from web_scrape_functions import scrape_bill_url"
   ]
  },
  {
   "cell_type": "code",
   "execution_count": null,
   "metadata": {},
   "outputs": [],
   "source": [
    "engine = create_engine('postgresql://localhost:5432/wa_leg_staging')"
   ]
  },
  {
   "cell_type": "code",
   "execution_count": null,
   "metadata": {},
   "outputs": [],
   "source": [
    "con = engine.connect()"
   ]
  },
  {
   "cell_type": "code",
   "execution_count": null,
   "metadata": {},
   "outputs": [],
   "source": [
    "merged_initial_df = pd.read_sql_query('select * from \"merged_initial\"',con=engine)"
   ]
  },
  {
   "cell_type": "code",
   "execution_count": null,
   "metadata": {},
   "outputs": [],
   "source": [
    "bill_text_df = pd.read_sql_query('select * from \"bill_text\"',con=engine)"
   ]
  },
  {
   "cell_type": "code",
   "execution_count": null,
   "metadata": {},
   "outputs": [],
   "source": [
    "legislator_df = pd.read_sql_query('select * from \"legislator\"',con=engine)"
   ]
  },
  {
   "cell_type": "code",
   "execution_count": null,
   "metadata": {},
   "outputs": [],
   "source": [
    "merged_initial_df.info()"
   ]
  },
  {
   "cell_type": "code",
   "execution_count": null,
   "metadata": {},
   "outputs": [],
   "source": [
    "legislator_df"
   ]
  },
  {
   "cell_type": "code",
   "execution_count": null,
   "metadata": {},
   "outputs": [],
   "source": [
    "bill_text_df.shape"
   ]
  },
  {
   "cell_type": "code",
   "execution_count": null,
   "metadata": {},
   "outputs": [],
   "source": [
    "merged_second = merged_initial_df.merge(bill_text_df, how='left', on=['unique_id', 'htm_url'])"
   ]
  },
  {
   "cell_type": "code",
   "execution_count": null,
   "metadata": {},
   "outputs": [],
   "source": [
    "merged_second"
   ]
  },
  {
   "cell_type": "code",
   "execution_count": null,
   "metadata": {},
   "outputs": [],
   "source": [
    "def change_agency_to_int(agency):\n",
    "    if agency == 'House':\n",
    "        return 0\n",
    "    else:\n",
    "        return 1"
   ]
  },
  {
   "cell_type": "code",
   "execution_count": null,
   "metadata": {},
   "outputs": [],
   "source": [
    "legislator_df['agency'] = legislator_df['agency'].apply(change_agency_to_int)"
   ]
  },
  {
   "cell_type": "code",
   "execution_count": null,
   "metadata": {},
   "outputs": [],
   "source": [
    "merged_final = merged_second.merge(legislator_df, how='left', left_on=['voter_id', 'voting_agency'], right_on=['id', 'agency'])"
   ]
  },
  {
   "cell_type": "code",
   "execution_count": null,
   "metadata": {},
   "outputs": [],
   "source": []
  },
  {
   "cell_type": "code",
   "execution_count": null,
   "metadata": {},
   "outputs": [],
   "source": [
    "def create_staging_merged_final_df(merged_initial_df, bill_text_df, legislator_df):\n",
    "    '''Create merged_final pandas dataframe. This dataframe contains all necessary data and is ready for \n",
    "    cleaning.\n",
    "    Input\n",
    "    merged_initial_df: pandas dataframe loaded from wa_leg_staging database, merged_inital table\n",
    "    bill_text_df: pandas dataframe loaded from wa_leg_staging database, bill_text table\n",
    "    legislator_df: pandas dataframe loaded from wa_leg_staging database, legislator table\n",
    "    '''\n",
    "    merged_second_df = merged_initial_df.merge(bill_text_df, how='left', on=['unique_id', 'htm_url'])\n",
    "    \n",
    "    def change_agency_to_int(agency):\n",
    "        if agency == 'House':\n",
    "            return 0\n",
    "        if agency == 'Senate':\n",
    "            return 1\n",
    "    \n",
    "    legislator_df['agency'] = legislator_df['agency'].apply(change_agency_to_int)\n",
    "    merged_final = merged_second_df.merge(legislator_df, \n",
    "                               how='left', \n",
    "                               left_on=['voter_id', 'voting_agency'], \n",
    "                               right_on=['id', 'agency'])\n",
    "    \n",
    "    return merged_final"
   ]
  },
  {
   "cell_type": "code",
   "execution_count": null,
   "metadata": {},
   "outputs": [],
   "source": [
    "MERGED_final = create_staging_merged_final_df(merged_initial_df, bill_text_df, legislator_df)"
   ]
  },
  {
   "cell_type": "code",
   "execution_count": null,
   "metadata": {},
   "outputs": [],
   "source": []
  }
 ],
 "metadata": {
  "kernelspec": {
   "display_name": "Python 3",
   "language": "python",
   "name": "python3"
  },
  "language_info": {
   "codemirror_mode": {
    "name": "ipython",
    "version": 3
   },
   "file_extension": ".py",
   "mimetype": "text/x-python",
   "name": "python",
   "nbconvert_exporter": "python",
   "pygments_lexer": "ipython3",
   "version": "3.6.5"
  }
 },
 "nbformat": 4,
 "nbformat_minor": 2
}
