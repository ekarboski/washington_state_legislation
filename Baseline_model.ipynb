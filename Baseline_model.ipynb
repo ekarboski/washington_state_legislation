{
 "cells": [
  {
   "cell_type": "code",
   "execution_count": 263,
   "metadata": {},
   "outputs": [],
   "source": [
    "import psycopg2\n",
    "import pandas as pd\n",
    "from sqlalchemy import create_engine\n",
    "\n",
    "import pandas as pd\n",
    "import numpy as np\n",
    "\n",
    "from sklearn.linear_model import LogisticRegression\n",
    "from sklearn.ensemble import RandomForestClassifier\n",
    "from sklearn.model_selection import train_test_split, cross_val_score\n",
    "from sklearn.metrics import log_loss, roc_curve, roc_auc_score\n",
    "\n",
    "from sklearn.feature_extraction.text import TfidfVectorizer, CountVectorizer\n",
    "import nltk\n",
    "from nltk.corpus import stopwords\n",
    "\n",
    "import seaborn as sns\n",
    "import matplotlib.pyplot as plt\n",
    "% matplotlib inline"
   ]
  },
  {
   "cell_type": "code",
   "execution_count": 2,
   "metadata": {},
   "outputs": [],
   "source": [
    "engine = create_engine('postgresql://localhost:5432/wa_leg_staging')"
   ]
  },
  {
   "cell_type": "code",
   "execution_count": 27,
   "metadata": {},
   "outputs": [],
   "source": [
    "merged_final_df = pd.read_sql_query('select * from \"merged_final\"',con=engine)\n",
    "bill_text_df = pd.read_sql_query('select * from \"bill_text\"',con=engine)\n",
    "rep_score_df = pd.read_sql_query('select * from \"rep_score\"',con=engine)\n",
    "loyalty_df = pd.read_sql_query('select * from \"loyalty\"',con=engine)"
   ]
  },
  {
   "cell_type": "code",
   "execution_count": 41,
   "metadata": {},
   "outputs": [],
   "source": [
    "def create_clean_X(merged_final_df, bill_text_df, rep_score_df, loyalty_df):\n",
    "    \n",
    "    # Add bill_text\n",
    "    clean = merged_final_df.merge(bill_text_df, how='left', on=['unique_id', 'htm_url'])\n",
    "    clean.drop(['index_x', 'index_y'], axis=1, inplace=True)\n",
    "    clean.rename(columns={'sponsor_party': 'primary_sponsor_party'}, inplace=True)\n",
    "\n",
    "    \n",
    "    # Add rep_score and replace -1 values, then make dem_score\n",
    "    clean['bill_num'] = clean['bill_id'].apply(lambda x: x.split()[1])\n",
    "    clean['bill_num_unique'] = clean['biennium'] + ' ' + clean['bill_num']\n",
    "    clean = clean.merge(rep_score_df, how='left', on='bill_num_unique')\n",
    "\n",
    "    def replace_with_p_sponsor_party(row):\n",
    "        primary_sponsor_party = row['primary_sponsor_party']\n",
    "        if row['rep_score'] == -1:\n",
    "            return primary_sponsor_party\n",
    "        else:\n",
    "            return row['rep_score']\n",
    "    clean['rep_score'] = clean.apply(replace_with_p_sponsor_party, axis=1)\n",
    "    clean['dem_score'] = 1 - clean['rep_score']\n",
    "    \n",
    "    \n",
    "    # Add loyalty scores\n",
    "    clean = clean.merge(loyalty_df, how = 'left', on='voter_id')\n",
    "    clean.drop(['index_x', 'index_y'], axis=1, inplace=True)\n",
    "    \n",
    "    \n",
    "    # Feature Engineering functions\n",
    "    def create_congress_nums(biennium):\n",
    "        '''Numbers bienniums so that 1991 is 1 and 1993 is 3.'''\n",
    "        first_year = int((biennium.split('-'))[0])\n",
    "        return first_year - 1990\n",
    "    \n",
    "    def find_num_sponsors(secondary_sponsors):\n",
    "        if type(secondary_sponsors) == str:\n",
    "            return len(secondary_sponsors)\n",
    "        else: return 1\n",
    "    \n",
    "    # Feature Engineering\n",
    "    clean['bill_length'] = clean['bill_text'].apply(lambda x: len(x))\n",
    "    clean['congress_num'] = clean['biennium'].apply(create_congress_nums)\n",
    "    clean['num_sponsors'] = clean['secondary_sponsors'].apply(find_num_sponsors)\n",
    "\n",
    "    return clean"
   ]
  },
  {
   "cell_type": "code",
   "execution_count": 42,
   "metadata": {},
   "outputs": [],
   "source": [
    "clean = create_clean_X(merged_final_df, bill_text_df, rep_score_df, loyalty_df)"
   ]
  },
  {
   "cell_type": "code",
   "execution_count": 43,
   "metadata": {},
   "outputs": [
    {
     "data": {
      "text/html": [
       "<div>\n",
       "<style scoped>\n",
       "    .dataframe tbody tr th:only-of-type {\n",
       "        vertical-align: middle;\n",
       "    }\n",
       "\n",
       "    .dataframe tbody tr th {\n",
       "        vertical-align: top;\n",
       "    }\n",
       "\n",
       "    .dataframe thead th {\n",
       "        text-align: right;\n",
       "    }\n",
       "</style>\n",
       "<table border=\"1\" class=\"dataframe\">\n",
       "  <thead>\n",
       "    <tr style=\"text-align: right;\">\n",
       "      <th></th>\n",
       "      <th>vote</th>\n",
       "      <th>vote_date</th>\n",
       "      <th>voter_id</th>\n",
       "      <th>voting_agency</th>\n",
       "      <th>bill_unique</th>\n",
       "      <th>unique_id</th>\n",
       "      <th>biennium</th>\n",
       "      <th>bill_id</th>\n",
       "      <th>htm_url</th>\n",
       "      <th>sponsor_agency</th>\n",
       "      <th>...</th>\n",
       "      <th>bill_num</th>\n",
       "      <th>bill_num_unique</th>\n",
       "      <th>secondary_sponsors</th>\n",
       "      <th>primary_sponsor_id</th>\n",
       "      <th>rep_score</th>\n",
       "      <th>dem_score</th>\n",
       "      <th>loyalty_score</th>\n",
       "      <th>bill_length</th>\n",
       "      <th>congress_num</th>\n",
       "      <th>num_sponsors</th>\n",
       "    </tr>\n",
       "  </thead>\n",
       "  <tbody>\n",
       "    <tr>\n",
       "      <th>0</th>\n",
       "      <td>1</td>\n",
       "      <td>1993-02-16</td>\n",
       "      <td>347</td>\n",
       "      <td>1</td>\n",
       "      <td>1993-94 SB 5426</td>\n",
       "      <td>12053.0</td>\n",
       "      <td>1993-94</td>\n",
       "      <td>SB 5426</td>\n",
       "      <td>http://app.leg.wa.gov/documents/billdocs/1993-...</td>\n",
       "      <td>1</td>\n",
       "      <td>...</td>\n",
       "      <td>5426</td>\n",
       "      <td>1993-94 5426</td>\n",
       "      <td>{445,309,339,562}</td>\n",
       "      <td>562</td>\n",
       "      <td>0.5</td>\n",
       "      <td>0.5</td>\n",
       "      <td>0.153989</td>\n",
       "      <td>34836</td>\n",
       "      <td>3</td>\n",
       "      <td>17</td>\n",
       "    </tr>\n",
       "    <tr>\n",
       "      <th>1</th>\n",
       "      <td>1</td>\n",
       "      <td>1993-02-16</td>\n",
       "      <td>360</td>\n",
       "      <td>1</td>\n",
       "      <td>1993-94 SB 5426</td>\n",
       "      <td>12053.0</td>\n",
       "      <td>1993-94</td>\n",
       "      <td>SB 5426</td>\n",
       "      <td>http://app.leg.wa.gov/documents/billdocs/1993-...</td>\n",
       "      <td>1</td>\n",
       "      <td>...</td>\n",
       "      <td>5426</td>\n",
       "      <td>1993-94 5426</td>\n",
       "      <td>{445,309,339,562}</td>\n",
       "      <td>562</td>\n",
       "      <td>0.5</td>\n",
       "      <td>0.5</td>\n",
       "      <td>0.101553</td>\n",
       "      <td>34836</td>\n",
       "      <td>3</td>\n",
       "      <td>17</td>\n",
       "    </tr>\n",
       "    <tr>\n",
       "      <th>2</th>\n",
       "      <td>1</td>\n",
       "      <td>1993-02-16</td>\n",
       "      <td>361</td>\n",
       "      <td>1</td>\n",
       "      <td>1993-94 SB 5426</td>\n",
       "      <td>12053.0</td>\n",
       "      <td>1993-94</td>\n",
       "      <td>SB 5426</td>\n",
       "      <td>http://app.leg.wa.gov/documents/billdocs/1993-...</td>\n",
       "      <td>1</td>\n",
       "      <td>...</td>\n",
       "      <td>5426</td>\n",
       "      <td>1993-94 5426</td>\n",
       "      <td>{445,309,339,562}</td>\n",
       "      <td>562</td>\n",
       "      <td>0.5</td>\n",
       "      <td>0.5</td>\n",
       "      <td>-0.105107</td>\n",
       "      <td>34836</td>\n",
       "      <td>3</td>\n",
       "      <td>17</td>\n",
       "    </tr>\n",
       "    <tr>\n",
       "      <th>3</th>\n",
       "      <td>1</td>\n",
       "      <td>1993-02-16</td>\n",
       "      <td>387</td>\n",
       "      <td>1</td>\n",
       "      <td>1993-94 SB 5426</td>\n",
       "      <td>12053.0</td>\n",
       "      <td>1993-94</td>\n",
       "      <td>SB 5426</td>\n",
       "      <td>http://app.leg.wa.gov/documents/billdocs/1993-...</td>\n",
       "      <td>1</td>\n",
       "      <td>...</td>\n",
       "      <td>5426</td>\n",
       "      <td>1993-94 5426</td>\n",
       "      <td>{445,309,339,562}</td>\n",
       "      <td>562</td>\n",
       "      <td>0.5</td>\n",
       "      <td>0.5</td>\n",
       "      <td>-0.001329</td>\n",
       "      <td>34836</td>\n",
       "      <td>3</td>\n",
       "      <td>17</td>\n",
       "    </tr>\n",
       "    <tr>\n",
       "      <th>4</th>\n",
       "      <td>1</td>\n",
       "      <td>1993-02-16</td>\n",
       "      <td>512</td>\n",
       "      <td>1</td>\n",
       "      <td>1993-94 SB 5426</td>\n",
       "      <td>12053.0</td>\n",
       "      <td>1993-94</td>\n",
       "      <td>SB 5426</td>\n",
       "      <td>http://app.leg.wa.gov/documents/billdocs/1993-...</td>\n",
       "      <td>1</td>\n",
       "      <td>...</td>\n",
       "      <td>5426</td>\n",
       "      <td>1993-94 5426</td>\n",
       "      <td>{445,309,339,562}</td>\n",
       "      <td>562</td>\n",
       "      <td>0.5</td>\n",
       "      <td>0.5</td>\n",
       "      <td>0.100189</td>\n",
       "      <td>34836</td>\n",
       "      <td>3</td>\n",
       "      <td>17</td>\n",
       "    </tr>\n",
       "  </tbody>\n",
       "</table>\n",
       "<p>5 rows × 27 columns</p>\n",
       "</div>"
      ],
      "text/plain": [
       "   vote  vote_date  voter_id  voting_agency      bill_unique  unique_id  \\\n",
       "0     1 1993-02-16       347              1  1993-94 SB 5426    12053.0   \n",
       "1     1 1993-02-16       360              1  1993-94 SB 5426    12053.0   \n",
       "2     1 1993-02-16       361              1  1993-94 SB 5426    12053.0   \n",
       "3     1 1993-02-16       387              1  1993-94 SB 5426    12053.0   \n",
       "4     1 1993-02-16       512              1  1993-94 SB 5426    12053.0   \n",
       "\n",
       "  biennium  bill_id                                            htm_url  \\\n",
       "0  1993-94  SB 5426  http://app.leg.wa.gov/documents/billdocs/1993-...   \n",
       "1  1993-94  SB 5426  http://app.leg.wa.gov/documents/billdocs/1993-...   \n",
       "2  1993-94  SB 5426  http://app.leg.wa.gov/documents/billdocs/1993-...   \n",
       "3  1993-94  SB 5426  http://app.leg.wa.gov/documents/billdocs/1993-...   \n",
       "4  1993-94  SB 5426  http://app.leg.wa.gov/documents/billdocs/1993-...   \n",
       "\n",
       "   sponsor_agency     ...       bill_num  bill_num_unique  secondary_sponsors  \\\n",
       "0               1     ...           5426     1993-94 5426   {445,309,339,562}   \n",
       "1               1     ...           5426     1993-94 5426   {445,309,339,562}   \n",
       "2               1     ...           5426     1993-94 5426   {445,309,339,562}   \n",
       "3               1     ...           5426     1993-94 5426   {445,309,339,562}   \n",
       "4               1     ...           5426     1993-94 5426   {445,309,339,562}   \n",
       "\n",
       "   primary_sponsor_id  rep_score  dem_score loyalty_score bill_length  \\\n",
       "0                 562        0.5        0.5      0.153989       34836   \n",
       "1                 562        0.5        0.5      0.101553       34836   \n",
       "2                 562        0.5        0.5     -0.105107       34836   \n",
       "3                 562        0.5        0.5     -0.001329       34836   \n",
       "4                 562        0.5        0.5      0.100189       34836   \n",
       "\n",
       "  congress_num num_sponsors  \n",
       "0            3           17  \n",
       "1            3           17  \n",
       "2            3           17  \n",
       "3            3           17  \n",
       "4            3           17  \n",
       "\n",
       "[5 rows x 27 columns]"
      ]
     },
     "execution_count": 43,
     "metadata": {},
     "output_type": "execute_result"
    }
   ],
   "source": [
    "clean.head()"
   ]
  },
  {
   "cell_type": "markdown",
   "metadata": {},
   "source": [
    "### Dummies"
   ]
  },
  {
   "cell_type": "code",
   "execution_count": 99,
   "metadata": {},
   "outputs": [],
   "source": [
    "clean_new = clean.copy()"
   ]
  },
  {
   "cell_type": "code",
   "execution_count": 100,
   "metadata": {},
   "outputs": [],
   "source": [
    "# Dummy Options\n",
    "#     district_dummies = pd.get_dummies(clean_new['district'])\n",
    "#     clean_dist_dum = clean_new.merge(district_dummies, right_index=True, left_index=True)\n",
    "\n",
    "voter_id_dummies = pd.get_dummies(clean_new['voter_id'])\n",
    "clean_voter_dum = clean_new.merge(voter_id_dummies, right_index=True, left_index=True)"
   ]
  },
  {
   "cell_type": "markdown",
   "metadata": {},
   "source": [
    "# Make Sample"
   ]
  },
  {
   "cell_type": "code",
   "execution_count": 44,
   "metadata": {},
   "outputs": [
    {
     "data": {
      "text/html": [
       "<div>\n",
       "<style scoped>\n",
       "    .dataframe tbody tr th:only-of-type {\n",
       "        vertical-align: middle;\n",
       "    }\n",
       "\n",
       "    .dataframe tbody tr th {\n",
       "        vertical-align: top;\n",
       "    }\n",
       "\n",
       "    .dataframe thead th {\n",
       "        text-align: right;\n",
       "    }\n",
       "</style>\n",
       "<table border=\"1\" class=\"dataframe\">\n",
       "  <thead>\n",
       "    <tr style=\"text-align: right;\">\n",
       "      <th></th>\n",
       "      <th>vote</th>\n",
       "      <th>vote_date</th>\n",
       "      <th>voter_id</th>\n",
       "      <th>voting_agency</th>\n",
       "      <th>bill_unique</th>\n",
       "      <th>unique_id</th>\n",
       "      <th>biennium</th>\n",
       "      <th>bill_id</th>\n",
       "      <th>htm_url</th>\n",
       "      <th>sponsor_agency</th>\n",
       "      <th>...</th>\n",
       "      <th>bill_num</th>\n",
       "      <th>bill_num_unique</th>\n",
       "      <th>secondary_sponsors</th>\n",
       "      <th>primary_sponsor_id</th>\n",
       "      <th>rep_score</th>\n",
       "      <th>dem_score</th>\n",
       "      <th>loyalty_score</th>\n",
       "      <th>bill_length</th>\n",
       "      <th>congress_num</th>\n",
       "      <th>num_sponsors</th>\n",
       "    </tr>\n",
       "  </thead>\n",
       "  <tbody>\n",
       "    <tr>\n",
       "      <th>2840240</th>\n",
       "      <td>1</td>\n",
       "      <td>2015-03-10</td>\n",
       "      <td>7635</td>\n",
       "      <td>0</td>\n",
       "      <td>2015-16 ESHB 1761</td>\n",
       "      <td>94206.0</td>\n",
       "      <td>2015-16</td>\n",
       "      <td>ESHB 1761</td>\n",
       "      <td>http://app.leg.wa.gov/documents/billdocs/2015-...</td>\n",
       "      <td>0</td>\n",
       "      <td>...</td>\n",
       "      <td>1761</td>\n",
       "      <td>2015-16 1761</td>\n",
       "      <td>{5154,18517,14186,3483,3486,8317,17218,15736,1...</td>\n",
       "      <td>15809</td>\n",
       "      <td>0.333333</td>\n",
       "      <td>0.666667</td>\n",
       "      <td>-0.157444</td>\n",
       "      <td>7943</td>\n",
       "      <td>25</td>\n",
       "      <td>51</td>\n",
       "    </tr>\n",
       "    <tr>\n",
       "      <th>41760</th>\n",
       "      <td>1</td>\n",
       "      <td>1994-03-05</td>\n",
       "      <td>268</td>\n",
       "      <td>1</td>\n",
       "      <td>1993-94 SSB 6039</td>\n",
       "      <td>13289.0</td>\n",
       "      <td>1993-94</td>\n",
       "      <td>SSB 6039</td>\n",
       "      <td>http://app.leg.wa.gov/documents/billdocs/1993-...</td>\n",
       "      <td>1</td>\n",
       "      <td>...</td>\n",
       "      <td>6039</td>\n",
       "      <td>1993-94 6039</td>\n",
       "      <td>{445,308,339,127,148}</td>\n",
       "      <td>148</td>\n",
       "      <td>0.600000</td>\n",
       "      <td>0.400000</td>\n",
       "      <td>-0.071446</td>\n",
       "      <td>21519</td>\n",
       "      <td>3</td>\n",
       "      <td>21</td>\n",
       "    </tr>\n",
       "    <tr>\n",
       "      <th>1269314</th>\n",
       "      <td>1</td>\n",
       "      <td>2001-04-16</td>\n",
       "      <td>651</td>\n",
       "      <td>0</td>\n",
       "      <td>2001-02 SHB 2041</td>\n",
       "      <td>39866.0</td>\n",
       "      <td>2001-02</td>\n",
       "      <td>SHB 2041</td>\n",
       "      <td>http://app.leg.wa.gov/documents/billdocs/2001-...</td>\n",
       "      <td>0</td>\n",
       "      <td>...</td>\n",
       "      <td>2041</td>\n",
       "      <td>2001-02 2041</td>\n",
       "      <td>{1609,2314,315,3471}</td>\n",
       "      <td>3471</td>\n",
       "      <td>0.250000</td>\n",
       "      <td>0.750000</td>\n",
       "      <td>0.074322</td>\n",
       "      <td>43111</td>\n",
       "      <td>11</td>\n",
       "      <td>20</td>\n",
       "    </tr>\n",
       "    <tr>\n",
       "      <th>1324382</th>\n",
       "      <td>1</td>\n",
       "      <td>2002-03-14</td>\n",
       "      <td>1922</td>\n",
       "      <td>1</td>\n",
       "      <td>2001-02 SHB 2926</td>\n",
       "      <td>41462.0</td>\n",
       "      <td>2001-02</td>\n",
       "      <td>SHB 2926</td>\n",
       "      <td>http://app.leg.wa.gov/documents/billdocs/2001-...</td>\n",
       "      <td>0</td>\n",
       "      <td>...</td>\n",
       "      <td>2926</td>\n",
       "      <td>2001-02 2926</td>\n",
       "      <td>{157,1587}</td>\n",
       "      <td>1587</td>\n",
       "      <td>0.500000</td>\n",
       "      <td>0.500000</td>\n",
       "      <td>-0.113220</td>\n",
       "      <td>14137</td>\n",
       "      <td>11</td>\n",
       "      <td>10</td>\n",
       "    </tr>\n",
       "    <tr>\n",
       "      <th>138812</th>\n",
       "      <td>1</td>\n",
       "      <td>1994-02-14</td>\n",
       "      <td>54</td>\n",
       "      <td>0</td>\n",
       "      <td>1993-94 HB 2382</td>\n",
       "      <td>9999.0</td>\n",
       "      <td>1993-94</td>\n",
       "      <td>HB 2382</td>\n",
       "      <td>http://app.leg.wa.gov/documents/billdocs/1993-...</td>\n",
       "      <td>0</td>\n",
       "      <td>...</td>\n",
       "      <td>2382</td>\n",
       "      <td>1993-94 2382</td>\n",
       "      <td>{656,7,180,250,972,227,376,75,198,661}</td>\n",
       "      <td>661</td>\n",
       "      <td>0.500000</td>\n",
       "      <td>0.500000</td>\n",
       "      <td>-0.185629</td>\n",
       "      <td>4290</td>\n",
       "      <td>3</td>\n",
       "      <td>38</td>\n",
       "    </tr>\n",
       "  </tbody>\n",
       "</table>\n",
       "<p>5 rows × 27 columns</p>\n",
       "</div>"
      ],
      "text/plain": [
       "         vote  vote_date  voter_id  voting_agency        bill_unique  \\\n",
       "2840240     1 2015-03-10      7635              0  2015-16 ESHB 1761   \n",
       "41760       1 1994-03-05       268              1   1993-94 SSB 6039   \n",
       "1269314     1 2001-04-16       651              0   2001-02 SHB 2041   \n",
       "1324382     1 2002-03-14      1922              1   2001-02 SHB 2926   \n",
       "138812      1 1994-02-14        54              0    1993-94 HB 2382   \n",
       "\n",
       "         unique_id biennium    bill_id  \\\n",
       "2840240    94206.0  2015-16  ESHB 1761   \n",
       "41760      13289.0  1993-94   SSB 6039   \n",
       "1269314    39866.0  2001-02   SHB 2041   \n",
       "1324382    41462.0  2001-02   SHB 2926   \n",
       "138812      9999.0  1993-94    HB 2382   \n",
       "\n",
       "                                                   htm_url  sponsor_agency  \\\n",
       "2840240  http://app.leg.wa.gov/documents/billdocs/2015-...               0   \n",
       "41760    http://app.leg.wa.gov/documents/billdocs/1993-...               1   \n",
       "1269314  http://app.leg.wa.gov/documents/billdocs/2001-...               0   \n",
       "1324382  http://app.leg.wa.gov/documents/billdocs/2001-...               0   \n",
       "138812   http://app.leg.wa.gov/documents/billdocs/1993-...               0   \n",
       "\n",
       "            ...       bill_num  bill_num_unique  \\\n",
       "2840240     ...           1761     2015-16 1761   \n",
       "41760       ...           6039     1993-94 6039   \n",
       "1269314     ...           2041     2001-02 2041   \n",
       "1324382     ...           2926     2001-02 2926   \n",
       "138812      ...           2382     1993-94 2382   \n",
       "\n",
       "                                        secondary_sponsors  \\\n",
       "2840240  {5154,18517,14186,3483,3486,8317,17218,15736,1...   \n",
       "41760                                {445,308,339,127,148}   \n",
       "1269314                               {1609,2314,315,3471}   \n",
       "1324382                                         {157,1587}   \n",
       "138812              {656,7,180,250,972,227,376,75,198,661}   \n",
       "\n",
       "         primary_sponsor_id  rep_score  dem_score loyalty_score bill_length  \\\n",
       "2840240               15809   0.333333   0.666667     -0.157444        7943   \n",
       "41760                   148   0.600000   0.400000     -0.071446       21519   \n",
       "1269314                3471   0.250000   0.750000      0.074322       43111   \n",
       "1324382                1587   0.500000   0.500000     -0.113220       14137   \n",
       "138812                  661   0.500000   0.500000     -0.185629        4290   \n",
       "\n",
       "        congress_num num_sponsors  \n",
       "2840240           25           51  \n",
       "41760              3           21  \n",
       "1269314           11           20  \n",
       "1324382           11           10  \n",
       "138812             3           38  \n",
       "\n",
       "[5 rows x 27 columns]"
      ]
     },
     "execution_count": 44,
     "metadata": {},
     "output_type": "execute_result"
    }
   ],
   "source": [
    "sample = clean.sample(n=200000)\n",
    "sample = sample[sample['vote'] <= 1]\n",
    "sample.head()"
   ]
  },
  {
   "cell_type": "code",
   "execution_count": 73,
   "metadata": {},
   "outputs": [
    {
     "data": {
      "text/html": [
       "<div>\n",
       "<style scoped>\n",
       "    .dataframe tbody tr th:only-of-type {\n",
       "        vertical-align: middle;\n",
       "    }\n",
       "\n",
       "    .dataframe tbody tr th {\n",
       "        vertical-align: top;\n",
       "    }\n",
       "\n",
       "    .dataframe thead th {\n",
       "        text-align: right;\n",
       "    }\n",
       "</style>\n",
       "<table border=\"1\" class=\"dataframe\">\n",
       "  <thead>\n",
       "    <tr style=\"text-align: right;\">\n",
       "      <th></th>\n",
       "      <th>vote</th>\n",
       "      <th>vote_date</th>\n",
       "      <th>voter_id</th>\n",
       "      <th>voting_agency</th>\n",
       "      <th>bill_unique</th>\n",
       "      <th>unique_id</th>\n",
       "      <th>biennium</th>\n",
       "      <th>bill_id</th>\n",
       "      <th>htm_url</th>\n",
       "      <th>sponsor_agency</th>\n",
       "      <th>...</th>\n",
       "      <th>bill_num</th>\n",
       "      <th>bill_num_unique</th>\n",
       "      <th>secondary_sponsors</th>\n",
       "      <th>primary_sponsor_id</th>\n",
       "      <th>rep_score</th>\n",
       "      <th>dem_score</th>\n",
       "      <th>loyalty_score</th>\n",
       "      <th>bill_length</th>\n",
       "      <th>congress_num</th>\n",
       "      <th>num_sponsors</th>\n",
       "    </tr>\n",
       "  </thead>\n",
       "  <tbody>\n",
       "    <tr>\n",
       "      <th>2707300</th>\n",
       "      <td>1</td>\n",
       "      <td>2015-02-11</td>\n",
       "      <td>15736</td>\n",
       "      <td>0</td>\n",
       "      <td>2015-16 HB 1011</td>\n",
       "      <td>92774.0</td>\n",
       "      <td>2015-16</td>\n",
       "      <td>HB 1011</td>\n",
       "      <td>http://app.leg.wa.gov/documents/billdocs/2015-...</td>\n",
       "      <td>0</td>\n",
       "      <td>...</td>\n",
       "      <td>1011</td>\n",
       "      <td>2015-16 1011</td>\n",
       "      <td>{10249,8237,10039,18264,15820,10041,14202,11952}</td>\n",
       "      <td>11952</td>\n",
       "      <td>0.625</td>\n",
       "      <td>0.375</td>\n",
       "      <td>0.299148</td>\n",
       "      <td>6787</td>\n",
       "      <td>25</td>\n",
       "      <td>48</td>\n",
       "    </tr>\n",
       "    <tr>\n",
       "      <th>2707365</th>\n",
       "      <td>0</td>\n",
       "      <td>2015-04-02</td>\n",
       "      <td>13161</td>\n",
       "      <td>1</td>\n",
       "      <td>2015-16 ESR 8658</td>\n",
       "      <td>99768.0</td>\n",
       "      <td>2015-16</td>\n",
       "      <td>ESR 8658</td>\n",
       "      <td>http://app.leg.wa.gov/documents/billdocs/2015-...</td>\n",
       "      <td>1</td>\n",
       "      <td>...</td>\n",
       "      <td>8658</td>\n",
       "      <td>2015-16 8658</td>\n",
       "      <td>None</td>\n",
       "      <td>15779</td>\n",
       "      <td>1.000</td>\n",
       "      <td>0.000</td>\n",
       "      <td>0.275408</td>\n",
       "      <td>563</td>\n",
       "      <td>25</td>\n",
       "      <td>1</td>\n",
       "    </tr>\n",
       "    <tr>\n",
       "      <th>2708282</th>\n",
       "      <td>1</td>\n",
       "      <td>2015-04-02</td>\n",
       "      <td>17217</td>\n",
       "      <td>1</td>\n",
       "      <td>2015-16 ESR 8658</td>\n",
       "      <td>99768.0</td>\n",
       "      <td>2015-16</td>\n",
       "      <td>ESR 8658</td>\n",
       "      <td>http://app.leg.wa.gov/documents/billdocs/2015-...</td>\n",
       "      <td>1</td>\n",
       "      <td>...</td>\n",
       "      <td>8658</td>\n",
       "      <td>2015-16 8658</td>\n",
       "      <td>None</td>\n",
       "      <td>15779</td>\n",
       "      <td>1.000</td>\n",
       "      <td>0.000</td>\n",
       "      <td>-0.096599</td>\n",
       "      <td>563</td>\n",
       "      <td>25</td>\n",
       "      <td>1</td>\n",
       "    </tr>\n",
       "    <tr>\n",
       "      <th>2708777</th>\n",
       "      <td>1</td>\n",
       "      <td>2015-04-02</td>\n",
       "      <td>322</td>\n",
       "      <td>1</td>\n",
       "      <td>2015-16 ESR 8658</td>\n",
       "      <td>99768.0</td>\n",
       "      <td>2015-16</td>\n",
       "      <td>ESR 8658</td>\n",
       "      <td>http://app.leg.wa.gov/documents/billdocs/2015-...</td>\n",
       "      <td>1</td>\n",
       "      <td>...</td>\n",
       "      <td>8658</td>\n",
       "      <td>2015-16 8658</td>\n",
       "      <td>None</td>\n",
       "      <td>15779</td>\n",
       "      <td>1.000</td>\n",
       "      <td>0.000</td>\n",
       "      <td>-0.024782</td>\n",
       "      <td>563</td>\n",
       "      <td>25</td>\n",
       "      <td>1</td>\n",
       "    </tr>\n",
       "    <tr>\n",
       "      <th>2709013</th>\n",
       "      <td>1</td>\n",
       "      <td>2015-04-02</td>\n",
       "      <td>2142</td>\n",
       "      <td>1</td>\n",
       "      <td>2015-16 ESR 8658</td>\n",
       "      <td>99768.0</td>\n",
       "      <td>2015-16</td>\n",
       "      <td>ESR 8658</td>\n",
       "      <td>http://app.leg.wa.gov/documents/billdocs/2015-...</td>\n",
       "      <td>1</td>\n",
       "      <td>...</td>\n",
       "      <td>8658</td>\n",
       "      <td>2015-16 8658</td>\n",
       "      <td>None</td>\n",
       "      <td>15779</td>\n",
       "      <td>1.000</td>\n",
       "      <td>0.000</td>\n",
       "      <td>-0.099249</td>\n",
       "      <td>563</td>\n",
       "      <td>25</td>\n",
       "      <td>1</td>\n",
       "    </tr>\n",
       "  </tbody>\n",
       "</table>\n",
       "<p>5 rows × 27 columns</p>\n",
       "</div>"
      ],
      "text/plain": [
       "         vote  vote_date  voter_id  voting_agency       bill_unique  \\\n",
       "2707300     1 2015-02-11     15736              0   2015-16 HB 1011   \n",
       "2707365     0 2015-04-02     13161              1  2015-16 ESR 8658   \n",
       "2708282     1 2015-04-02     17217              1  2015-16 ESR 8658   \n",
       "2708777     1 2015-04-02       322              1  2015-16 ESR 8658   \n",
       "2709013     1 2015-04-02      2142              1  2015-16 ESR 8658   \n",
       "\n",
       "         unique_id biennium   bill_id  \\\n",
       "2707300    92774.0  2015-16   HB 1011   \n",
       "2707365    99768.0  2015-16  ESR 8658   \n",
       "2708282    99768.0  2015-16  ESR 8658   \n",
       "2708777    99768.0  2015-16  ESR 8658   \n",
       "2709013    99768.0  2015-16  ESR 8658   \n",
       "\n",
       "                                                   htm_url  sponsor_agency  \\\n",
       "2707300  http://app.leg.wa.gov/documents/billdocs/2015-...               0   \n",
       "2707365  http://app.leg.wa.gov/documents/billdocs/2015-...               1   \n",
       "2708282  http://app.leg.wa.gov/documents/billdocs/2015-...               1   \n",
       "2708777  http://app.leg.wa.gov/documents/billdocs/2015-...               1   \n",
       "2709013  http://app.leg.wa.gov/documents/billdocs/2015-...               1   \n",
       "\n",
       "            ...       bill_num  bill_num_unique  \\\n",
       "2707300     ...           1011     2015-16 1011   \n",
       "2707365     ...           8658     2015-16 8658   \n",
       "2708282     ...           8658     2015-16 8658   \n",
       "2708777     ...           8658     2015-16 8658   \n",
       "2709013     ...           8658     2015-16 8658   \n",
       "\n",
       "                                       secondary_sponsors  primary_sponsor_id  \\\n",
       "2707300  {10249,8237,10039,18264,15820,10041,14202,11952}               11952   \n",
       "2707365                                              None               15779   \n",
       "2708282                                              None               15779   \n",
       "2708777                                              None               15779   \n",
       "2709013                                              None               15779   \n",
       "\n",
       "         rep_score  dem_score loyalty_score bill_length congress_num  \\\n",
       "2707300      0.625      0.375      0.299148        6787           25   \n",
       "2707365      1.000      0.000      0.275408         563           25   \n",
       "2708282      1.000      0.000     -0.096599         563           25   \n",
       "2708777      1.000      0.000     -0.024782         563           25   \n",
       "2709013      1.000      0.000     -0.099249         563           25   \n",
       "\n",
       "        num_sponsors  \n",
       "2707300           48  \n",
       "2707365            1  \n",
       "2708282            1  \n",
       "2708777            1  \n",
       "2709013            1  \n",
       "\n",
       "[5 rows x 27 columns]"
      ]
     },
     "execution_count": 73,
     "metadata": {},
     "output_type": "execute_result"
    }
   ],
   "source": [
    "sample_one_year = clean[clean['biennium'] == '2015-16']\n",
    "sample_one_year = sample_one_year[sample_one_year['vote'] <= 1]\n",
    "sample_one_year.head()"
   ]
  },
  {
   "cell_type": "code",
   "execution_count": 101,
   "metadata": {},
   "outputs": [
    {
     "data": {
      "text/html": [
       "<div>\n",
       "<style scoped>\n",
       "    .dataframe tbody tr th:only-of-type {\n",
       "        vertical-align: middle;\n",
       "    }\n",
       "\n",
       "    .dataframe tbody tr th {\n",
       "        vertical-align: top;\n",
       "    }\n",
       "\n",
       "    .dataframe thead th {\n",
       "        text-align: right;\n",
       "    }\n",
       "</style>\n",
       "<table border=\"1\" class=\"dataframe\">\n",
       "  <thead>\n",
       "    <tr style=\"text-align: right;\">\n",
       "      <th></th>\n",
       "      <th>vote</th>\n",
       "      <th>vote_date</th>\n",
       "      <th>voter_id</th>\n",
       "      <th>voting_agency</th>\n",
       "      <th>bill_unique</th>\n",
       "      <th>unique_id</th>\n",
       "      <th>biennium</th>\n",
       "      <th>bill_id</th>\n",
       "      <th>htm_url</th>\n",
       "      <th>sponsor_agency</th>\n",
       "      <th>...</th>\n",
       "      <th>27182</th>\n",
       "      <th>27211</th>\n",
       "      <th>27225</th>\n",
       "      <th>27290</th>\n",
       "      <th>27504</th>\n",
       "      <th>27522</th>\n",
       "      <th>27975</th>\n",
       "      <th>27988</th>\n",
       "      <th>28022</th>\n",
       "      <th>28317</th>\n",
       "    </tr>\n",
       "  </thead>\n",
       "  <tbody>\n",
       "    <tr>\n",
       "      <th>2707300</th>\n",
       "      <td>1</td>\n",
       "      <td>2015-02-11</td>\n",
       "      <td>15736</td>\n",
       "      <td>0</td>\n",
       "      <td>2015-16 HB 1011</td>\n",
       "      <td>92774.0</td>\n",
       "      <td>2015-16</td>\n",
       "      <td>HB 1011</td>\n",
       "      <td>http://app.leg.wa.gov/documents/billdocs/2015-...</td>\n",
       "      <td>0</td>\n",
       "      <td>...</td>\n",
       "      <td>0</td>\n",
       "      <td>0</td>\n",
       "      <td>0</td>\n",
       "      <td>0</td>\n",
       "      <td>0</td>\n",
       "      <td>0</td>\n",
       "      <td>0</td>\n",
       "      <td>0</td>\n",
       "      <td>0</td>\n",
       "      <td>0</td>\n",
       "    </tr>\n",
       "    <tr>\n",
       "      <th>2707365</th>\n",
       "      <td>0</td>\n",
       "      <td>2015-04-02</td>\n",
       "      <td>13161</td>\n",
       "      <td>1</td>\n",
       "      <td>2015-16 ESR 8658</td>\n",
       "      <td>99768.0</td>\n",
       "      <td>2015-16</td>\n",
       "      <td>ESR 8658</td>\n",
       "      <td>http://app.leg.wa.gov/documents/billdocs/2015-...</td>\n",
       "      <td>1</td>\n",
       "      <td>...</td>\n",
       "      <td>0</td>\n",
       "      <td>0</td>\n",
       "      <td>0</td>\n",
       "      <td>0</td>\n",
       "      <td>0</td>\n",
       "      <td>0</td>\n",
       "      <td>0</td>\n",
       "      <td>0</td>\n",
       "      <td>0</td>\n",
       "      <td>0</td>\n",
       "    </tr>\n",
       "    <tr>\n",
       "      <th>2708282</th>\n",
       "      <td>1</td>\n",
       "      <td>2015-04-02</td>\n",
       "      <td>17217</td>\n",
       "      <td>1</td>\n",
       "      <td>2015-16 ESR 8658</td>\n",
       "      <td>99768.0</td>\n",
       "      <td>2015-16</td>\n",
       "      <td>ESR 8658</td>\n",
       "      <td>http://app.leg.wa.gov/documents/billdocs/2015-...</td>\n",
       "      <td>1</td>\n",
       "      <td>...</td>\n",
       "      <td>0</td>\n",
       "      <td>0</td>\n",
       "      <td>0</td>\n",
       "      <td>0</td>\n",
       "      <td>0</td>\n",
       "      <td>0</td>\n",
       "      <td>0</td>\n",
       "      <td>0</td>\n",
       "      <td>0</td>\n",
       "      <td>0</td>\n",
       "    </tr>\n",
       "    <tr>\n",
       "      <th>2708777</th>\n",
       "      <td>1</td>\n",
       "      <td>2015-04-02</td>\n",
       "      <td>322</td>\n",
       "      <td>1</td>\n",
       "      <td>2015-16 ESR 8658</td>\n",
       "      <td>99768.0</td>\n",
       "      <td>2015-16</td>\n",
       "      <td>ESR 8658</td>\n",
       "      <td>http://app.leg.wa.gov/documents/billdocs/2015-...</td>\n",
       "      <td>1</td>\n",
       "      <td>...</td>\n",
       "      <td>0</td>\n",
       "      <td>0</td>\n",
       "      <td>0</td>\n",
       "      <td>0</td>\n",
       "      <td>0</td>\n",
       "      <td>0</td>\n",
       "      <td>0</td>\n",
       "      <td>0</td>\n",
       "      <td>0</td>\n",
       "      <td>0</td>\n",
       "    </tr>\n",
       "    <tr>\n",
       "      <th>2709013</th>\n",
       "      <td>1</td>\n",
       "      <td>2015-04-02</td>\n",
       "      <td>2142</td>\n",
       "      <td>1</td>\n",
       "      <td>2015-16 ESR 8658</td>\n",
       "      <td>99768.0</td>\n",
       "      <td>2015-16</td>\n",
       "      <td>ESR 8658</td>\n",
       "      <td>http://app.leg.wa.gov/documents/billdocs/2015-...</td>\n",
       "      <td>1</td>\n",
       "      <td>...</td>\n",
       "      <td>0</td>\n",
       "      <td>0</td>\n",
       "      <td>0</td>\n",
       "      <td>0</td>\n",
       "      <td>0</td>\n",
       "      <td>0</td>\n",
       "      <td>0</td>\n",
       "      <td>0</td>\n",
       "      <td>0</td>\n",
       "      <td>0</td>\n",
       "    </tr>\n",
       "  </tbody>\n",
       "</table>\n",
       "<p>5 rows × 557 columns</p>\n",
       "</div>"
      ],
      "text/plain": [
       "         vote  vote_date  voter_id  voting_agency       bill_unique  \\\n",
       "2707300     1 2015-02-11     15736              0   2015-16 HB 1011   \n",
       "2707365     0 2015-04-02     13161              1  2015-16 ESR 8658   \n",
       "2708282     1 2015-04-02     17217              1  2015-16 ESR 8658   \n",
       "2708777     1 2015-04-02       322              1  2015-16 ESR 8658   \n",
       "2709013     1 2015-04-02      2142              1  2015-16 ESR 8658   \n",
       "\n",
       "         unique_id biennium   bill_id  \\\n",
       "2707300    92774.0  2015-16   HB 1011   \n",
       "2707365    99768.0  2015-16  ESR 8658   \n",
       "2708282    99768.0  2015-16  ESR 8658   \n",
       "2708777    99768.0  2015-16  ESR 8658   \n",
       "2709013    99768.0  2015-16  ESR 8658   \n",
       "\n",
       "                                                   htm_url  sponsor_agency  \\\n",
       "2707300  http://app.leg.wa.gov/documents/billdocs/2015-...               0   \n",
       "2707365  http://app.leg.wa.gov/documents/billdocs/2015-...               1   \n",
       "2708282  http://app.leg.wa.gov/documents/billdocs/2015-...               1   \n",
       "2708777  http://app.leg.wa.gov/documents/billdocs/2015-...               1   \n",
       "2709013  http://app.leg.wa.gov/documents/billdocs/2015-...               1   \n",
       "\n",
       "         ...   27182  27211  27225  27290  27504  27522 27975 27988 28022  \\\n",
       "2707300  ...       0      0      0      0      0      0     0     0     0   \n",
       "2707365  ...       0      0      0      0      0      0     0     0     0   \n",
       "2708282  ...       0      0      0      0      0      0     0     0     0   \n",
       "2708777  ...       0      0      0      0      0      0     0     0     0   \n",
       "2709013  ...       0      0      0      0      0      0     0     0     0   \n",
       "\n",
       "        28317  \n",
       "2707300     0  \n",
       "2707365     0  \n",
       "2708282     0  \n",
       "2708777     0  \n",
       "2709013     0  \n",
       "\n",
       "[5 rows x 557 columns]"
      ]
     },
     "execution_count": 101,
     "metadata": {},
     "output_type": "execute_result"
    }
   ],
   "source": [
    "sample_one_year_voterdum = clean_voter_dum[clean_voter_dum['biennium'] == '2015-16']\n",
    "sample_one_year_voterdum = sample_one_year_voterdum[sample_one_year_voterdum['vote'] <= 1]\n",
    "sample_one_year_voterdum.head()"
   ]
  },
  {
   "cell_type": "markdown",
   "metadata": {},
   "source": [
    "# Modeling"
   ]
  },
  {
   "cell_type": "markdown",
   "metadata": {},
   "source": [
    "### Baseline Model"
   ]
  },
  {
   "cell_type": "code",
   "execution_count": 50,
   "metadata": {},
   "outputs": [],
   "source": [
    "X_base = sample[['primary_sponsor_party', 'party']]\n",
    "y_base = sample['vote']\n",
    "X_train_b, X_test_b, y_train_b, y_test_b = train_test_split(X_base, y_base, test_size=0.30, random_state=709)"
   ]
  },
  {
   "cell_type": "code",
   "execution_count": 51,
   "metadata": {},
   "outputs": [],
   "source": [
    "baseline_model = LogisticRegression()\n",
    "baseline_model.fit(X_train_b, y_train_b)\n",
    "y_pred_b = (baseline_model.predict_proba(X_test_b))[:,1]"
   ]
  },
  {
   "cell_type": "code",
   "execution_count": 52,
   "metadata": {},
   "outputs": [
    {
     "data": {
      "text/plain": [
       "0.8656918442171533"
      ]
     },
     "execution_count": 52,
     "metadata": {},
     "output_type": "execute_result"
    }
   ],
   "source": [
    "y_pred_b.min()"
   ]
  },
  {
   "cell_type": "code",
   "execution_count": 53,
   "metadata": {},
   "outputs": [
    {
     "data": {
      "text/plain": [
       "0.3200881424795427"
      ]
     },
     "execution_count": 53,
     "metadata": {},
     "output_type": "execute_result"
    }
   ],
   "source": [
    "log_loss(y_test_b, y_pred_b)"
   ]
  },
  {
   "cell_type": "code",
   "execution_count": 56,
   "metadata": {},
   "outputs": [],
   "source": [
    "roc_auc_b = roc_auc_score(y_test_b, y_pred_b)\n",
    "fpr_b, tpr_b, thresholds_b = roc_curve(y_test_b, y_pred_b)"
   ]
  },
  {
   "cell_type": "code",
   "execution_count": 57,
   "metadata": {},
   "outputs": [
    {
     "data": {
      "image/png": "[encoded data removed]",
      "text/plain": [
       "<Figure size 432x288 with 1 Axes>"
      ]
     },
     "metadata": {},
     "output_type": "display_data"
    }
   ],
   "source": [
    "fig, ax = plt.subplots()\n",
    "plt.plot(fpr_b, tpr_b, color='darkorange', label= f'ROC curve (area = {round(roc_auc_b, 3)})')\n",
    "plt.plot([0, 1], [0, 1], color='navy', linestyle='--')\n",
    "plt.xlim([0.0, 1.0])\n",
    "plt.ylim([0.0, 1.05])\n",
    "plt.xlabel('False Positive Rate')\n",
    "plt.ylabel('True Positive Rate')\n",
    "plt.title('ROC rep and loyalty scores 2015-16')\n",
    "plt.legend(loc=\"lower right\")\n",
    "plt.show()"
   ]
  },
  {
   "cell_type": "markdown",
   "metadata": {},
   "source": [
    "### Current Top Model - rep and loyalty scores"
   ]
  },
  {
   "cell_type": "code",
   "execution_count": 180,
   "metadata": {},
   "outputs": [],
   "source": [
    "X_top = sample_one_year[['voter_id', 'voting_agency', 'unique_id', 'sponsor_agency', 'district', \n",
    "                     'party', 'is_primary_sponsor', 'is_secondary_sponsor', 'is_minority_party', \n",
    "                     'primary_sponsor_party', 'rep_score', 'loyalty_score', 'bill_length', 'bill_num']]\n",
    "\n",
    "y_top = sample_one_year['vote']\n",
    "X_train_t, X_test_t, y_train_t, y_test_t = train_test_split(X_top, y_top, test_size=0.30, random_state=709)"
   ]
  },
  {
   "cell_type": "code",
   "execution_count": 181,
   "metadata": {},
   "outputs": [],
   "source": [
    "top_model = RandomForestClassifier(n_estimators=1000, max_depth=7, n_jobs=2, random_state=709)\n",
    "top_model.fit(X_train_t, y_train_t)\n",
    "y_pred_t = (top_model.predict_proba(X_test_t))[:, 1]"
   ]
  },
  {
   "cell_type": "code",
   "execution_count": 182,
   "metadata": {},
   "outputs": [
    {
     "data": {
      "text/plain": [
       "0.25720455285753"
      ]
     },
     "execution_count": 182,
     "metadata": {},
     "output_type": "execute_result"
    }
   ],
   "source": [
    "log_loss(y_test_t, y_pred_t)"
   ]
  },
  {
   "cell_type": "code",
   "execution_count": 183,
   "metadata": {},
   "outputs": [
    {
     "data": {
      "text/plain": [
       "0.15940234638248757"
      ]
     },
     "execution_count": 183,
     "metadata": {},
     "output_type": "execute_result"
    }
   ],
   "source": [
    "y_pred_t.min()"
   ]
  },
  {
   "cell_type": "code",
   "execution_count": 184,
   "metadata": {},
   "outputs": [
    {
     "data": {
      "text/plain": [
       "<matplotlib.collections.PathCollection at 0x1a6fbd8d68>"
      ]
     },
     "execution_count": 184,
     "metadata": {},
     "output_type": "execute_result"
    },
    {
     "data": {
      "image/png": "[encoded data removed]",
      "text/plain": [
       "<Figure size 432x288 with 1 Axes>"
      ]
     },
     "metadata": {},
     "output_type": "display_data"
    }
   ],
   "source": [
    "fig, ax = plt.subplots()\n",
    "ax.scatter(y_pred_t, y_test_t, alpha=0.01)"
   ]
  },
  {
   "cell_type": "code",
   "execution_count": 185,
   "metadata": {},
   "outputs": [
    {
     "data": {
      "text/plain": [
       "(array([0.        , 0.        , 0.        , ..., 0.99730594, 0.99882135,\n",
       "        1.        ]),\n",
       " array([4.04481657e-05, 4.24705740e-04, 4.65153905e-04, ...,\n",
       "        1.00000000e+00, 1.00000000e+00, 1.00000000e+00]),\n",
       " array([0.98287177, 0.98191053, 0.98189627, ..., 0.1609254 , 0.1603104 ,\n",
       "        0.15940235]))"
      ]
     },
     "execution_count": 185,
     "metadata": {},
     "output_type": "execute_result"
    }
   ],
   "source": [
    "fpr_t, tpr_t, thresholds_t = roc_curve(y_test_t, y_pred_t)"
   ]
  },
  {
   "cell_type": "code",
   "execution_count": 186,
   "metadata": {},
   "outputs": [
    {
     "data": {
      "text/plain": [
       "0.8564209440261339"
      ]
     },
     "execution_count": 186,
     "metadata": {},
     "output_type": "execute_result"
    }
   ],
   "source": [
    "roc_auc_t = roc_auc_score(y_test_t, y_pred_t)\n",
    "roc_auc_t"
   ]
  },
  {
   "cell_type": "code",
   "execution_count": 187,
   "metadata": {},
   "outputs": [
    {
     "data": {
      "image/png": "[encoded data removed]",
      "text/plain": [
       "<Figure size 432x288 with 1 Axes>"
      ]
     },
     "metadata": {},
     "output_type": "display_data"
    }
   ],
   "source": [
    "fig, ax = plt.subplots()\n",
    "plt.plot(fpr_t, tpr_t, color='darkorange', label= f'ROC curve (area = {round(roc_auc_t, 3)})')\n",
    "plt.plot([0, 1], [0, 1], color='navy', linestyle='--')\n",
    "plt.xlim([0.0, 1.0])\n",
    "plt.ylim([0.0, 1.05])\n",
    "plt.xlabel('False Positive Rate')\n",
    "plt.ylabel('True Positive Rate')\n",
    "plt.title('ROC rep and loyalty scores 2015-16')\n",
    "plt.legend(loc=\"lower right\")\n",
    "plt.show()"
   ]
  },
  {
   "cell_type": "markdown",
   "metadata": {},
   "source": [
    "### Playground"
   ]
  },
  {
   "cell_type": "code",
   "execution_count": 71,
   "metadata": {},
   "outputs": [
    {
     "data": {
      "text/html": [
       "<div>\n",
       "<style scoped>\n",
       "    .dataframe tbody tr th:only-of-type {\n",
       "        vertical-align: middle;\n",
       "    }\n",
       "\n",
       "    .dataframe tbody tr th {\n",
       "        vertical-align: top;\n",
       "    }\n",
       "\n",
       "    .dataframe thead th {\n",
       "        text-align: right;\n",
       "    }\n",
       "</style>\n",
       "<table border=\"1\" class=\"dataframe\">\n",
       "  <thead>\n",
       "    <tr style=\"text-align: right;\">\n",
       "      <th></th>\n",
       "      <th>primary_sponsor_party</th>\n",
       "      <th>party</th>\n",
       "      <th>voting_agency</th>\n",
       "      <th>sponsor_agency</th>\n",
       "      <th>district</th>\n",
       "      <th>is_primary_sponsor</th>\n",
       "      <th>is_secondary_sponsor</th>\n",
       "      <th>is_minority_party</th>\n",
       "      <th>voter_id</th>\n",
       "      <th>bill_length</th>\n",
       "      <th>unique_id</th>\n",
       "      <th>loyalty_score</th>\n",
       "      <th>rep_score</th>\n",
       "    </tr>\n",
       "  </thead>\n",
       "  <tbody>\n",
       "    <tr>\n",
       "      <th>2840240</th>\n",
       "      <td>0</td>\n",
       "      <td>1</td>\n",
       "      <td>0</td>\n",
       "      <td>0</td>\n",
       "      <td>20</td>\n",
       "      <td>False</td>\n",
       "      <td>False</td>\n",
       "      <td>True</td>\n",
       "      <td>7635</td>\n",
       "      <td>7943</td>\n",
       "      <td>94206.0</td>\n",
       "      <td>-0.157444</td>\n",
       "      <td>0.333333</td>\n",
       "    </tr>\n",
       "    <tr>\n",
       "      <th>41760</th>\n",
       "      <td>0</td>\n",
       "      <td>1</td>\n",
       "      <td>1</td>\n",
       "      <td>1</td>\n",
       "      <td>4</td>\n",
       "      <td>False</td>\n",
       "      <td>False</td>\n",
       "      <td>True</td>\n",
       "      <td>268</td>\n",
       "      <td>21519</td>\n",
       "      <td>13289.0</td>\n",
       "      <td>-0.071446</td>\n",
       "      <td>0.600000</td>\n",
       "    </tr>\n",
       "    <tr>\n",
       "      <th>1269314</th>\n",
       "      <td>0</td>\n",
       "      <td>0</td>\n",
       "      <td>0</td>\n",
       "      <td>0</td>\n",
       "      <td>22</td>\n",
       "      <td>False</td>\n",
       "      <td>False</td>\n",
       "      <td>False</td>\n",
       "      <td>651</td>\n",
       "      <td>43111</td>\n",
       "      <td>39866.0</td>\n",
       "      <td>0.074322</td>\n",
       "      <td>0.250000</td>\n",
       "    </tr>\n",
       "    <tr>\n",
       "      <th>1324382</th>\n",
       "      <td>1</td>\n",
       "      <td>1</td>\n",
       "      <td>1</td>\n",
       "      <td>0</td>\n",
       "      <td>18</td>\n",
       "      <td>False</td>\n",
       "      <td>False</td>\n",
       "      <td>True</td>\n",
       "      <td>1922</td>\n",
       "      <td>14137</td>\n",
       "      <td>41462.0</td>\n",
       "      <td>-0.113220</td>\n",
       "      <td>0.500000</td>\n",
       "    </tr>\n",
       "    <tr>\n",
       "      <th>138812</th>\n",
       "      <td>0</td>\n",
       "      <td>1</td>\n",
       "      <td>0</td>\n",
       "      <td>0</td>\n",
       "      <td>30</td>\n",
       "      <td>False</td>\n",
       "      <td>False</td>\n",
       "      <td>True</td>\n",
       "      <td>54</td>\n",
       "      <td>4290</td>\n",
       "      <td>9999.0</td>\n",
       "      <td>-0.185629</td>\n",
       "      <td>0.500000</td>\n",
       "    </tr>\n",
       "  </tbody>\n",
       "</table>\n",
       "</div>"
      ],
      "text/plain": [
       "         primary_sponsor_party  party  voting_agency  sponsor_agency  \\\n",
       "2840240                      0      1              0               0   \n",
       "41760                        0      1              1               1   \n",
       "1269314                      0      0              0               0   \n",
       "1324382                      1      1              1               0   \n",
       "138812                       0      1              0               0   \n",
       "\n",
       "         district  is_primary_sponsor  is_secondary_sponsor  \\\n",
       "2840240        20               False                 False   \n",
       "41760           4               False                 False   \n",
       "1269314        22               False                 False   \n",
       "1324382        18               False                 False   \n",
       "138812         30               False                 False   \n",
       "\n",
       "         is_minority_party  voter_id  bill_length  unique_id  loyalty_score  \\\n",
       "2840240               True      7635         7943    94206.0      -0.157444   \n",
       "41760                 True       268        21519    13289.0      -0.071446   \n",
       "1269314              False       651        43111    39866.0       0.074322   \n",
       "1324382               True      1922        14137    41462.0      -0.113220   \n",
       "138812                True        54         4290     9999.0      -0.185629   \n",
       "\n",
       "         rep_score  \n",
       "2840240   0.333333  \n",
       "41760     0.600000  \n",
       "1269314   0.250000  \n",
       "1324382   0.500000  \n",
       "138812    0.500000  "
      ]
     },
     "execution_count": 71,
     "metadata": {},
     "output_type": "execute_result"
    }
   ],
   "source": [
    "X_top.head()"
   ]
  },
  {
   "cell_type": "code",
   "execution_count": 102,
   "metadata": {},
   "outputs": [
    {
     "data": {
      "text/html": [
       "<div>\n",
       "<style scoped>\n",
       "    .dataframe tbody tr th:only-of-type {\n",
       "        vertical-align: middle;\n",
       "    }\n",
       "\n",
       "    .dataframe tbody tr th {\n",
       "        vertical-align: top;\n",
       "    }\n",
       "\n",
       "    .dataframe thead th {\n",
       "        text-align: right;\n",
       "    }\n",
       "</style>\n",
       "<table border=\"1\" class=\"dataframe\">\n",
       "  <thead>\n",
       "    <tr style=\"text-align: right;\">\n",
       "      <th></th>\n",
       "      <th>vote</th>\n",
       "      <th>vote_date</th>\n",
       "      <th>voter_id</th>\n",
       "      <th>voting_agency</th>\n",
       "      <th>bill_unique</th>\n",
       "      <th>unique_id</th>\n",
       "      <th>biennium</th>\n",
       "      <th>bill_id</th>\n",
       "      <th>htm_url</th>\n",
       "      <th>sponsor_agency</th>\n",
       "      <th>...</th>\n",
       "      <th>27182</th>\n",
       "      <th>27211</th>\n",
       "      <th>27225</th>\n",
       "      <th>27290</th>\n",
       "      <th>27504</th>\n",
       "      <th>27522</th>\n",
       "      <th>27975</th>\n",
       "      <th>27988</th>\n",
       "      <th>28022</th>\n",
       "      <th>28317</th>\n",
       "    </tr>\n",
       "  </thead>\n",
       "  <tbody>\n",
       "    <tr>\n",
       "      <th>2707300</th>\n",
       "      <td>1</td>\n",
       "      <td>2015-02-11</td>\n",
       "      <td>15736</td>\n",
       "      <td>0</td>\n",
       "      <td>2015-16 HB 1011</td>\n",
       "      <td>92774.0</td>\n",
       "      <td>2015-16</td>\n",
       "      <td>HB 1011</td>\n",
       "      <td>http://app.leg.wa.gov/documents/billdocs/2015-...</td>\n",
       "      <td>0</td>\n",
       "      <td>...</td>\n",
       "      <td>0</td>\n",
       "      <td>0</td>\n",
       "      <td>0</td>\n",
       "      <td>0</td>\n",
       "      <td>0</td>\n",
       "      <td>0</td>\n",
       "      <td>0</td>\n",
       "      <td>0</td>\n",
       "      <td>0</td>\n",
       "      <td>0</td>\n",
       "    </tr>\n",
       "    <tr>\n",
       "      <th>2707365</th>\n",
       "      <td>0</td>\n",
       "      <td>2015-04-02</td>\n",
       "      <td>13161</td>\n",
       "      <td>1</td>\n",
       "      <td>2015-16 ESR 8658</td>\n",
       "      <td>99768.0</td>\n",
       "      <td>2015-16</td>\n",
       "      <td>ESR 8658</td>\n",
       "      <td>http://app.leg.wa.gov/documents/billdocs/2015-...</td>\n",
       "      <td>1</td>\n",
       "      <td>...</td>\n",
       "      <td>0</td>\n",
       "      <td>0</td>\n",
       "      <td>0</td>\n",
       "      <td>0</td>\n",
       "      <td>0</td>\n",
       "      <td>0</td>\n",
       "      <td>0</td>\n",
       "      <td>0</td>\n",
       "      <td>0</td>\n",
       "      <td>0</td>\n",
       "    </tr>\n",
       "    <tr>\n",
       "      <th>2708282</th>\n",
       "      <td>1</td>\n",
       "      <td>2015-04-02</td>\n",
       "      <td>17217</td>\n",
       "      <td>1</td>\n",
       "      <td>2015-16 ESR 8658</td>\n",
       "      <td>99768.0</td>\n",
       "      <td>2015-16</td>\n",
       "      <td>ESR 8658</td>\n",
       "      <td>http://app.leg.wa.gov/documents/billdocs/2015-...</td>\n",
       "      <td>1</td>\n",
       "      <td>...</td>\n",
       "      <td>0</td>\n",
       "      <td>0</td>\n",
       "      <td>0</td>\n",
       "      <td>0</td>\n",
       "      <td>0</td>\n",
       "      <td>0</td>\n",
       "      <td>0</td>\n",
       "      <td>0</td>\n",
       "      <td>0</td>\n",
       "      <td>0</td>\n",
       "    </tr>\n",
       "    <tr>\n",
       "      <th>2708777</th>\n",
       "      <td>1</td>\n",
       "      <td>2015-04-02</td>\n",
       "      <td>322</td>\n",
       "      <td>1</td>\n",
       "      <td>2015-16 ESR 8658</td>\n",
       "      <td>99768.0</td>\n",
       "      <td>2015-16</td>\n",
       "      <td>ESR 8658</td>\n",
       "      <td>http://app.leg.wa.gov/documents/billdocs/2015-...</td>\n",
       "      <td>1</td>\n",
       "      <td>...</td>\n",
       "      <td>0</td>\n",
       "      <td>0</td>\n",
       "      <td>0</td>\n",
       "      <td>0</td>\n",
       "      <td>0</td>\n",
       "      <td>0</td>\n",
       "      <td>0</td>\n",
       "      <td>0</td>\n",
       "      <td>0</td>\n",
       "      <td>0</td>\n",
       "    </tr>\n",
       "    <tr>\n",
       "      <th>2709013</th>\n",
       "      <td>1</td>\n",
       "      <td>2015-04-02</td>\n",
       "      <td>2142</td>\n",
       "      <td>1</td>\n",
       "      <td>2015-16 ESR 8658</td>\n",
       "      <td>99768.0</td>\n",
       "      <td>2015-16</td>\n",
       "      <td>ESR 8658</td>\n",
       "      <td>http://app.leg.wa.gov/documents/billdocs/2015-...</td>\n",
       "      <td>1</td>\n",
       "      <td>...</td>\n",
       "      <td>0</td>\n",
       "      <td>0</td>\n",
       "      <td>0</td>\n",
       "      <td>0</td>\n",
       "      <td>0</td>\n",
       "      <td>0</td>\n",
       "      <td>0</td>\n",
       "      <td>0</td>\n",
       "      <td>0</td>\n",
       "      <td>0</td>\n",
       "    </tr>\n",
       "  </tbody>\n",
       "</table>\n",
       "<p>5 rows × 557 columns</p>\n",
       "</div>"
      ],
      "text/plain": [
       "         vote  vote_date  voter_id  voting_agency       bill_unique  \\\n",
       "2707300     1 2015-02-11     15736              0   2015-16 HB 1011   \n",
       "2707365     0 2015-04-02     13161              1  2015-16 ESR 8658   \n",
       "2708282     1 2015-04-02     17217              1  2015-16 ESR 8658   \n",
       "2708777     1 2015-04-02       322              1  2015-16 ESR 8658   \n",
       "2709013     1 2015-04-02      2142              1  2015-16 ESR 8658   \n",
       "\n",
       "         unique_id biennium   bill_id  \\\n",
       "2707300    92774.0  2015-16   HB 1011   \n",
       "2707365    99768.0  2015-16  ESR 8658   \n",
       "2708282    99768.0  2015-16  ESR 8658   \n",
       "2708777    99768.0  2015-16  ESR 8658   \n",
       "2709013    99768.0  2015-16  ESR 8658   \n",
       "\n",
       "                                                   htm_url  sponsor_agency  \\\n",
       "2707300  http://app.leg.wa.gov/documents/billdocs/2015-...               0   \n",
       "2707365  http://app.leg.wa.gov/documents/billdocs/2015-...               1   \n",
       "2708282  http://app.leg.wa.gov/documents/billdocs/2015-...               1   \n",
       "2708777  http://app.leg.wa.gov/documents/billdocs/2015-...               1   \n",
       "2709013  http://app.leg.wa.gov/documents/billdocs/2015-...               1   \n",
       "\n",
       "         ...   27182  27211  27225  27290  27504  27522 27975 27988 28022  \\\n",
       "2707300  ...       0      0      0      0      0      0     0     0     0   \n",
       "2707365  ...       0      0      0      0      0      0     0     0     0   \n",
       "2708282  ...       0      0      0      0      0      0     0     0     0   \n",
       "2708777  ...       0      0      0      0      0      0     0     0     0   \n",
       "2709013  ...       0      0      0      0      0      0     0     0     0   \n",
       "\n",
       "        28317  \n",
       "2707300     0  \n",
       "2707365     0  \n",
       "2708282     0  \n",
       "2708777     0  \n",
       "2709013     0  \n",
       "\n",
       "[5 rows x 557 columns]"
      ]
     },
     "execution_count": 102,
     "metadata": {},
     "output_type": "execute_result"
    }
   ],
   "source": [
    "sample_one_year_voterdum.head()"
   ]
  },
  {
   "cell_type": "code",
   "execution_count": 172,
   "metadata": {},
   "outputs": [],
   "source": [
    "# X = sample_one_year_voterdum.drop(['vote', 'vote_date', 'bill_unique', 'biennium', 'bill_id', 'htm_url',\n",
    "#                                    'bill_text', 'bill_num', 'bill_num_unique', 'secondary_sponsors', \n",
    "#                                    'primary_sponsor_id', 'congress_num', 'num_sponsors'], axis=1)\n",
    "\n",
    "X = sample_one_year[['voter_id', 'voting_agency', 'unique_id', 'sponsor_agency', 'district', \n",
    "                     'party', 'is_primary_sponsor', 'is_secondary_sponsor', 'is_minority_party', \n",
    "                     'primary_sponsor_party', 'rep_score', 'loyalty_score', 'bill_length', 'bill_num']]\n",
    "y = sample_one_year['vote']\n",
    "X_train, X_test, y_train, y_test = train_test_split(X, y, test_size=0.30, random_state=709)"
   ]
  },
  {
   "cell_type": "code",
   "execution_count": 173,
   "metadata": {},
   "outputs": [],
   "source": [
    "model = RandomForestClassifier(n_estimators=1000, max_depth=7, n_jobs=2, random_state=709)\n",
    "model.fit(X_train, y_train)\n",
    "y_pred = (model.predict_proba(X_test))[:, 1]"
   ]
  },
  {
   "cell_type": "code",
   "execution_count": 174,
   "metadata": {},
   "outputs": [
    {
     "data": {
      "text/plain": [
       "0.25720455285753"
      ]
     },
     "execution_count": 174,
     "metadata": {},
     "output_type": "execute_result"
    }
   ],
   "source": [
    "log_loss(y_test, y_pred)"
   ]
  },
  {
   "cell_type": "code",
   "execution_count": 175,
   "metadata": {},
   "outputs": [
    {
     "data": {
      "text/plain": [
       "0.15940234638248757"
      ]
     },
     "execution_count": 175,
     "metadata": {},
     "output_type": "execute_result"
    }
   ],
   "source": [
    "y_pred.min()"
   ]
  },
  {
   "cell_type": "code",
   "execution_count": 176,
   "metadata": {},
   "outputs": [
    {
     "data": {
      "text/plain": [
       "<matplotlib.collections.PathCollection at 0x1a6f4c9fd0>"
      ]
     },
     "execution_count": 176,
     "metadata": {},
     "output_type": "execute_result"
    },
    {
     "data": {
      "image/png": "[encoded data removed]",
      "text/plain": [
       "<Figure size 432x288 with 1 Axes>"
      ]
     },
     "metadata": {},
     "output_type": "display_data"
    }
   ],
   "source": [
    "fig, ax = plt.subplots()\n",
    "ax.scatter(y_pred, y_test, alpha=0.01)"
   ]
  },
  {
   "cell_type": "code",
   "execution_count": 177,
   "metadata": {},
   "outputs": [],
   "source": [
    "fpr, tpr, thresholds = roc_curve(y_test, y_pred)"
   ]
  },
  {
   "cell_type": "code",
   "execution_count": 178,
   "metadata": {},
   "outputs": [
    {
     "data": {
      "text/plain": [
       "0.8564209440261339"
      ]
     },
     "execution_count": 178,
     "metadata": {},
     "output_type": "execute_result"
    }
   ],
   "source": [
    "roc_auc = roc_auc_score(y_test, y_pred)\n",
    "roc_auc"
   ]
  },
  {
   "cell_type": "code",
   "execution_count": 179,
   "metadata": {},
   "outputs": [
    {
     "data": {
      "image/png": "[encoded data removed]",
      "text/plain": [
       "<Figure size 432x288 with 1 Axes>"
      ]
     },
     "metadata": {},
     "output_type": "display_data"
    }
   ],
   "source": [
    "fig, ax = plt.subplots()\n",
    "plt.plot(fpr, tpr, color='darkorange', label= f'ROC curve (area = {round(roc_auc, 3)})')\n",
    "plt.plot([0, 1], [0, 1], color='navy', linestyle='--')\n",
    "plt.xlim([0.0, 1.0])\n",
    "plt.ylim([0.0, 1.05])\n",
    "plt.xlabel('False Positive Rate')\n",
    "plt.ylabel('True Positive Rate')\n",
    "plt.title('ROC rep and loyalty scores 2015-16')\n",
    "plt.legend(loc=\"lower right\")\n",
    "plt.show()"
   ]
  },
  {
   "cell_type": "code",
   "execution_count": null,
   "metadata": {},
   "outputs": [],
   "source": []
  },
  {
   "cell_type": "code",
   "execution_count": null,
   "metadata": {},
   "outputs": [],
   "source": []
  },
  {
   "cell_type": "markdown",
   "metadata": {},
   "source": []
  },
  {
   "cell_type": "code",
   "execution_count": 82,
   "metadata": {},
   "outputs": [],
   "source": [
    "group = sample_one_year.groupby('vote')"
   ]
  },
  {
   "cell_type": "code",
   "execution_count": 83,
   "metadata": {},
   "outputs": [
    {
     "data": {
      "text/html": [
       "<div>\n",
       "<style scoped>\n",
       "    .dataframe tbody tr th:only-of-type {\n",
       "        vertical-align: middle;\n",
       "    }\n",
       "\n",
       "    .dataframe tbody tr th {\n",
       "        vertical-align: top;\n",
       "    }\n",
       "\n",
       "    .dataframe thead th {\n",
       "        text-align: right;\n",
       "    }\n",
       "</style>\n",
       "<table border=\"1\" class=\"dataframe\">\n",
       "  <thead>\n",
       "    <tr style=\"text-align: right;\">\n",
       "      <th></th>\n",
       "      <th>voter_id</th>\n",
       "      <th>voting_agency</th>\n",
       "      <th>unique_id</th>\n",
       "      <th>sponsor_agency</th>\n",
       "      <th>district</th>\n",
       "      <th>party</th>\n",
       "      <th>is_primary_sponsor</th>\n",
       "      <th>is_minority_party</th>\n",
       "      <th>is_secondary_sponsor</th>\n",
       "      <th>primary_sponsor_party</th>\n",
       "      <th>rep_score</th>\n",
       "      <th>dem_score</th>\n",
       "      <th>loyalty_score</th>\n",
       "      <th>bill_length</th>\n",
       "      <th>congress_num</th>\n",
       "      <th>num_sponsors</th>\n",
       "    </tr>\n",
       "    <tr>\n",
       "      <th>vote</th>\n",
       "      <th></th>\n",
       "      <th></th>\n",
       "      <th></th>\n",
       "      <th></th>\n",
       "      <th></th>\n",
       "      <th></th>\n",
       "      <th></th>\n",
       "      <th></th>\n",
       "      <th></th>\n",
       "      <th></th>\n",
       "      <th></th>\n",
       "      <th></th>\n",
       "      <th></th>\n",
       "      <th></th>\n",
       "      <th></th>\n",
       "      <th></th>\n",
       "    </tr>\n",
       "  </thead>\n",
       "  <tbody>\n",
       "    <tr>\n",
       "      <th>0</th>\n",
       "      <td>12764.500000</td>\n",
       "      <td>0.242970</td>\n",
       "      <td>95725.262434</td>\n",
       "      <td>0.372211</td>\n",
       "      <td>21.795257</td>\n",
       "      <td>0.675323</td>\n",
       "      <td>0.006354</td>\n",
       "      <td>0.681527</td>\n",
       "      <td>0.035875</td>\n",
       "      <td>0.345392</td>\n",
       "      <td>0.343283</td>\n",
       "      <td>0.656717</td>\n",
       "      <td>0.028993</td>\n",
       "      <td>89470.724657</td>\n",
       "      <td>25.0</td>\n",
       "      <td>49.462574</td>\n",
       "    </tr>\n",
       "    <tr>\n",
       "      <th>1</th>\n",
       "      <td>11852.213699</td>\n",
       "      <td>0.328381</td>\n",
       "      <td>96010.719466</td>\n",
       "      <td>0.437821</td>\n",
       "      <td>25.332724</td>\n",
       "      <td>0.464220</td>\n",
       "      <td>0.010168</td>\n",
       "      <td>0.458261</td>\n",
       "      <td>0.059066</td>\n",
       "      <td>0.503617</td>\n",
       "      <td>0.422854</td>\n",
       "      <td>0.577146</td>\n",
       "      <td>0.091834</td>\n",
       "      <td>27339.572184</td>\n",
       "      <td>25.0</td>\n",
       "      <td>39.920609</td>\n",
       "    </tr>\n",
       "  </tbody>\n",
       "</table>\n",
       "</div>"
      ],
      "text/plain": [
       "          voter_id  voting_agency     unique_id  sponsor_agency   district  \\\n",
       "vote                                                                         \n",
       "0     12764.500000       0.242970  95725.262434        0.372211  21.795257   \n",
       "1     11852.213699       0.328381  96010.719466        0.437821  25.332724   \n",
       "\n",
       "         party  is_primary_sponsor  is_minority_party  is_secondary_sponsor  \\\n",
       "vote                                                                          \n",
       "0     0.675323            0.006354           0.681527              0.035875   \n",
       "1     0.464220            0.010168           0.458261              0.059066   \n",
       "\n",
       "      primary_sponsor_party  rep_score  dem_score  loyalty_score  \\\n",
       "vote                                                               \n",
       "0                  0.345392   0.343283   0.656717       0.028993   \n",
       "1                  0.503617   0.422854   0.577146       0.091834   \n",
       "\n",
       "       bill_length  congress_num  num_sponsors  \n",
       "vote                                            \n",
       "0     89470.724657          25.0     49.462574  \n",
       "1     27339.572184          25.0     39.920609  "
      ]
     },
     "execution_count": 83,
     "metadata": {},
     "output_type": "execute_result"
    }
   ],
   "source": [
    "group.mean()"
   ]
  },
  {
   "cell_type": "code",
   "execution_count": null,
   "metadata": {},
   "outputs": [],
   "source": []
  },
  {
   "cell_type": "code",
   "execution_count": null,
   "metadata": {},
   "outputs": [],
   "source": []
  },
  {
   "cell_type": "code",
   "execution_count": null,
   "metadata": {},
   "outputs": [],
   "source": []
  },
  {
   "cell_type": "code",
   "execution_count": null,
   "metadata": {},
   "outputs": [],
   "source": []
  },
  {
   "cell_type": "code",
   "execution_count": null,
   "metadata": {},
   "outputs": [],
   "source": []
  },
  {
   "cell_type": "code",
   "execution_count": null,
   "metadata": {},
   "outputs": [],
   "source": []
  },
  {
   "cell_type": "code",
   "execution_count": null,
   "metadata": {},
   "outputs": [],
   "source": []
  },
  {
   "cell_type": "code",
   "execution_count": null,
   "metadata": {},
   "outputs": [],
   "source": []
  },
  {
   "cell_type": "code",
   "execution_count": null,
   "metadata": {},
   "outputs": [],
   "source": []
  },
  {
   "cell_type": "markdown",
   "metadata": {},
   "source": [
    "# Explore bill_text"
   ]
  },
  {
   "cell_type": "code",
   "execution_count": 188,
   "metadata": {},
   "outputs": [],
   "source": [
    "nays = sample[sample['vote'] == 0]\n",
    "yeas = sample[sample['vote'] == 1]\n",
    "\n",
    "nays.head()\n",
    "yeas.head()"
   ]
  },
  {
   "cell_type": "code",
   "execution_count": 197,
   "metadata": {},
   "outputs": [],
   "source": [
    "# print(nays.loc[2132532, 'bill_text'])"
   ]
  },
  {
   "cell_type": "code",
   "execution_count": 196,
   "metadata": {},
   "outputs": [],
   "source": [
    "# print(yeas.loc[2840240, 'bill_text'])"
   ]
  },
  {
   "cell_type": "code",
   "execution_count": 220,
   "metadata": {},
   "outputs": [],
   "source": [
    "example_text = yeas.loc[2840240, 'bill_text']"
   ]
  },
  {
   "cell_type": "code",
   "execution_count": 223,
   "metadata": {},
   "outputs": [
    {
     "data": {
      "text/plain": [
       "'ENGROSSED SUBSTITUTE HOUSE BILL 1761State of Washington64th Legislature2015 Regular SessionBy House Business & Financial Services (originally sponsored by Representatives Stanford, Vick, Kirby, Parker, Ryu, G. Hunt, Blake, Santos, and Hurst)READ FIRST TIME 02/20/15.AN ACT Relating to insurance producers, insurers, and title insurance agents activities with customers and potential customers; amending RCW 48.30.140 and 48.30.150; and adding new sections to chapter 48.30 RCW.BE IT ENACTED BY THE LEGISLATURE OF THE STATE OF WASHINGTON:Sec.\\xa01.\\xa0\\xa0RCW 48.30.140 and 2009 c 329 s 1 are each amended to read as follows:(1) Except to the extent provided for in an applicable filing with the commissioner then in effect, no insurer, insurance producer, or title insurance agent shall, as an inducement to insurance, or after insurance has been effected, directly or indirectly, offer, promise, allow, give, set off, or pay to the insured or to any employee of the insured, any rebate, discount, abatement, or reduction of premium or any part thereof named in any insurance contract, or any commission thereon, or earnings, profits, dividends, or other benefit, or any other valuable consideration or inducement whatsoever which is not expressly provided for in the policy.(2) Subsection (1) of this section shall not apply as to commissions paid to a licensed insurance producer, or title insurance agent for insurance placed on that person\\'s own property or risks.(3) This section shall not apply to the allowance by any marine insurer, or marine insurance producer, to any insured, in connection with marine insurance, of such discount as is sanctioned by custom among marine insurers as being additional to the insurance producer\\'s commission.(4) This section shall not apply to advertising or promotional programs conducted by insurers((,)) or insurance producers((, or title insurance agents)) whereby prizes, goods, wares, gift cards, gift certificates, or merchandise, not exceeding ((twenty-five)) one hundred dollars in value per person in the aggregate in any twelve month period, are given to all insureds or prospective insureds under similar qualifying circumstances. This subsection does not apply to title insurers or title insurance agents.(5) This section does not apply to an offset or reimbursement of all or part of a fee paid to an insurance producer as provided in RCW 48.17.270.(6)(a) Subsection (1) of this section shall not be construed to prohibit a health carrier or disability insurer from including as part of a group or individual health benefit plan or contract containing health benefits, a wellness program which meets the requirements for an exception from the prohibition against discrimination based on a health factor under the health insurance portability and accountability act (P.L. 104-191; 110 Stat. 1936) and regulations adopted pursuant to that act.(b) For purposes of this subsection: (i) \"Health carrier\" and \"health benefit plan\" have the same meaning as provided in RCW 48.43.005; and (ii) \"wellness program\" has the same meaning as provided in 45 C.F.R. 146.121(f).Sec.\\xa02.\\xa0\\xa0RCW 48.30.150 and 2009 c 329 s 2 are each amended to read as follows:(1) No insurer, insurance producer, title insurance agent, or other person shall, as an inducement to insurance, or in connection with any insurance transaction, provide in any policy for, or offer, or sell, buy, or offer or promise to buy or give, or promise, or allow to, or on behalf of, the insured or prospective insured in any manner whatsoever:(a) Any shares of stock or other securities issued or at any time to be issued on any interest therein or rights thereto; or(b) Any special advisory board contract, or other contract, agreement, or understanding of any kind, offering, providing for, or promising any profits or special returns or special dividends((; or)).(((c) Any)) (2) Insurers, except title insurers and title insurance agents, and insurance producers may offer prizes, goods, wares, gift cards, gift certificates, or merchandise ((of)) that does not exceed an aggregate value ((in excess)) of ((twenty-five)) one hundred dollars per person in any consecutive twelve-month period.(((2))) (3) Subsection (1) of this section shall not be deemed to prohibit the sale or purchase of securities as a condition to or in connection with surety insurance insuring the performance of an obligation as part of a plan of financing found by the commissioner to be designed and operated in good faith primarily for the purpose of such financing, nor shall it be deemed to prohibit the sale of redeemable securities of a registered investment company in the same transaction in which life insurance is sold.(((3))) (4)(a) Subsection (1) of this section shall not be deemed to prohibit a health carrier or disability insurer from including as part of a group or individual health benefit plan or contract providing health benefits, a wellness program which meets the requirements for an exception from the prohibition against discrimination based on a health factor under the health insurance portability and accountability act (P.L. 104-191; 110 Stat. 1936) and regulations adopted pursuant to that act.(b) For purposes of this subsection: (i) \"Health carrier\" and \"health benefit plan\" have the same meaning as provided in RCW 48.43.005; and (ii) \"wellness program\" has the same meaning as provided in 45 C.F.R. 146.121(f).NEW SECTION.\\xa0\\xa0Sec.\\xa03.\\xa0\\xa0A new section is added to chapter 48.30 RCW to read as follows:(1) An insurance producer may give to an individual, prizes, goods, wares, gift cards, gift certificates, or merchandise not exceeding one hundred dollars in value per person in any consecutive twelve-month period for the referral of insurance business to the insurance producer, if the giving of the prizes, goods, wares, gift cards, gift certificates, or merchandise is not conditioned upon the person who is referred applying for or obtaining insurance through the insurance producer.(2) The payment for the referral must not be in cash, currency, bills, coins, check, or by money order.(3) The provisions of RCW 48.30.140 and 48.30.150 do not apply to prizes, goods, wares, gift cards, gift certificates, or merchandise given to a person in compliance with subsections (1) and (2) of this section.(4) Notwithstanding subsections (1) and (2) of this section, an insurance producer may pay to an unlicensed individual who is neither an insured nor a prospective insured a referral fee conditioned on the submission of an application if made in compliance with the provisions of RCW 48.17.490(4).NEW SECTION.\\xa0\\xa0Sec.\\xa04.\\xa0\\xa0A new section is added to chapter 48.30 RCW to read as follows:(1) An insurance producer may sponsor events for, or make contributions to a bona fide charitable or nonprofit organization, if the sponsorship or contribution is not conditioned upon the organization applying for or obtaining insurance through the insurance producer.(2) For purposes of this section, a bona fide charitable or nonprofit organization is:(a) Any nonprofit corporation duly existing under the provisions of chapter 24.03 RCW for charitable, benevolent, eleemosynary, educational, civic, patriotic, political, social, fraternal, cultural, athletic, scientific, agricultural, or horticultural purposes;(b) Any professional, commercial, industrial, or trade association;(c) Any organization duly existing under the provisions of chapter 24.12, 24.20, or 24.28 RCW;(d) Any agricultural fair authorized under the provisions of chapter 15.76 or 36.37 RCW; or(e) Any nonprofit organization, whether incorporated or otherwise, when determined by the commissioner to be organized and operated for one or more of the purposes described in (a) through (d) of this subsection.(3) RCW 48.30.140 and 48.30.150 do not apply to sponsorships or charitable contributions that are provided or given in compliance with subsection (1) of this section.--- END ---'"
      ]
     },
     "execution_count": 223,
     "metadata": {},
     "output_type": "execute_result"
    }
   ],
   "source": [
    "example_text.replace('\\n', ' ')"
   ]
  },
  {
   "cell_type": "markdown",
   "metadata": {},
   "source": [
    "### TFIDFVectorizer"
   ]
  },
  {
   "cell_type": "code",
   "execution_count": 250,
   "metadata": {},
   "outputs": [],
   "source": [
    "bills = sample_one_year['bill_text'].unique()"
   ]
  },
  {
   "cell_type": "code",
   "execution_count": 251,
   "metadata": {},
   "outputs": [
    {
     "data": {
      "text/plain": [
       "(1175,)"
      ]
     },
     "execution_count": 251,
     "metadata": {},
     "output_type": "execute_result"
    }
   ],
   "source": [
    "bills.shape"
   ]
  },
  {
   "cell_type": "code",
   "execution_count": 252,
   "metadata": {},
   "outputs": [],
   "source": [
    "def replace_newline_char(bill_text):\n",
    "    return bill_text.replace('\\n', ' ')"
   ]
  },
  {
   "cell_type": "code",
   "execution_count": 253,
   "metadata": {},
   "outputs": [],
   "source": [
    "bills = [replace_newline_char(bill) for bill in bills]    "
   ]
  },
  {
   "cell_type": "code",
   "execution_count": 254,
   "metadata": {},
   "outputs": [],
   "source": [
    "tf = TfidfVectorizer(stop_words='english')"
   ]
  },
  {
   "cell_type": "code",
   "execution_count": 255,
   "metadata": {},
   "outputs": [],
   "source": [
    "fitted = tf.fit(bills)"
   ]
  },
  {
   "cell_type": "code",
   "execution_count": 256,
   "metadata": {},
   "outputs": [],
   "source": [
    "transformed = tf.transform(bills)"
   ]
  },
  {
   "cell_type": "code",
   "execution_count": 257,
   "metadata": {},
   "outputs": [],
   "source": [
    "vocab = tf.vocabulary_"
   ]
  },
  {
   "cell_type": "code",
   "execution_count": null,
   "metadata": {},
   "outputs": [],
   "source": []
  },
  {
   "cell_type": "code",
   "execution_count": 360,
   "metadata": {},
   "outputs": [],
   "source": [
    "my_stopwords = list(set(['shall', 'chapter', 'provided', 'year', 'person', 'department', 'appropriation', 'provided'\n",
    "                 'information', 'provide', 'including', 'following', 'section', 'sec', 'year', 'subsection', \n",
    "                'agency', 'required',  'use', 'solely', 'ii', 'defined', 'approved', 'does',  'period', \n",
    "                'rcw 43', 'persons', 'individual', 'unless', '9a', '28a', 'purpose', '28b',  'washington',  \n",
    "                'fy',  'iii', 'sec rcw', 'rcw9a', 'rcw',  'apply',  '000general',  '000', 'related',  'sp', \n",
    "                'make', 'includes', 'end', 'biennia', 'set', 'terms', 'total', 'level', 'amended', \n",
    "                'engrossed', 'substitute', 'legislature', 'enacted', 'passed', 'add', 'additional', 'new', 'board',\n",
    "                'limited', 'date', 'order', 'plan', 'percent', 'support', 'director']))\n",
    "\n",
    "stop_nums = list(set([str(num) for num in range(0, 2025)]))\n",
    "stopwords_nltk = list(set(stopwords.words('english')))"
   ]
  },
  {
   "cell_type": "code",
   "execution_count": 365,
   "metadata": {},
   "outputs": [],
   "source": [
    "my_stopwords.extend(stopwords_nltk)"
   ]
  },
  {
   "cell_type": "code",
   "execution_count": 359,
   "metadata": {},
   "outputs": [],
   "source": [
    "_all"
   ]
  },
  {
   "cell_type": "code",
   "execution_count": 348,
   "metadata": {},
   "outputs": [],
   "source": [
    "stop_words_all = stopwords_nltk.extend(my_stopwords)\n",
    "stop_words_all = stopwords_nltk.extend(stop_nums)"
   ]
  },
  {
   "cell_type": "code",
   "execution_count": 352,
   "metadata": {},
   "outputs": [],
   "source": [
    "stop_words_all"
   ]
  },
  {
   "cell_type": "code",
   "execution_count": 342,
   "metadata": {},
   "outputs": [],
   "source": [
    "cv = CountVectorizer(stop_words=stop_words_all, analyzer='word', ngram_range=(1, 4), max_df=0.9, max_features = 200000)"
   ]
  },
  {
   "cell_type": "code",
   "execution_count": 343,
   "metadata": {},
   "outputs": [],
   "source": [
    "CountVectorizer?"
   ]
  },
  {
   "cell_type": "code",
   "execution_count": 344,
   "metadata": {},
   "outputs": [],
   "source": [
    "cv_fit = cv.fit_transform(bills)"
   ]
  },
  {
   "cell_type": "code",
   "execution_count": 345,
   "metadata": {},
   "outputs": [
    {
     "data": {
      "text/plain": [
       "200000"
      ]
     },
     "execution_count": 345,
     "metadata": {},
     "output_type": "execute_result"
    }
   ],
   "source": [
    "len(cv.get_feature_names())"
   ]
  },
  {
   "cell_type": "code",
   "execution_count": 346,
   "metadata": {},
   "outputs": [],
   "source": [
    "word_counts = pd.DataFrame(cv_fit.toarray(), columns= cv.get_feature_names())"
   ]
  },
  {
   "cell_type": "code",
   "execution_count": 347,
   "metadata": {},
   "outputs": [],
   "source": [
    "word_counts = word_counts.sum(axis=0)"
   ]
  },
  {
   "cell_type": "code",
   "execution_count": 349,
   "metadata": {},
   "outputs": [],
   "source": [
    "words_sorted = word_counts.sort_values(ascending=False)"
   ]
  },
  {
   "cell_type": "code",
   "execution_count": 350,
   "metadata": {},
   "outputs": [],
   "source": [
    "words_sorted_only = words_sorted.index"
   ]
  },
  {
   "cell_type": "code",
   "execution_count": 351,
   "metadata": {},
   "outputs": [
    {
     "name": "stdout",
     "output_type": "stream",
     "text": [
      "000 of\n",
      "fiscal year\n",
      "000 of the\n",
      "information\n",
      "this subsection\n",
      "office\n",
      "who\n",
      "care\n",
      "court\n",
      "general fund\n",
      "to read\n",
      "to read as follows\n",
      "to read as\n",
      "read as follows\n",
      "read as\n",
      "of this section\n",
      "2016\n",
      "use\n",
      "the general\n",
      "under this\n",
      "if the\n",
      "county\n",
      "than\n",
      "amended\n",
      "new section\n",
      "within\n",
      "this chapter\n",
      "the general fund\n",
      "board\n",
      "must be\n",
      "for fiscal\n",
      "for fiscal year\n",
      "43\n",
      "of the general\n",
      "of the general fund\n",
      "department of\n",
      "000 of the general\n",
      "following\n",
      "under rcw\n",
      "education\n",
      "its\n",
      "appropriation for\n",
      "including\n",
      "no\n",
      "provide\n",
      "amended to\n",
      "in rcw\n",
      "amended to read\n",
      "amended to read as\n",
      "state appropriation for\n"
     ]
    }
   ],
   "source": [
    "for word in words_sorted_only [50:100]:\n",
    "    print(word)"
   ]
  },
  {
   "cell_type": "code",
   "execution_count": null,
   "metadata": {},
   "outputs": [],
   "source": []
  },
  {
   "cell_type": "code",
   "execution_count": null,
   "metadata": {},
   "outputs": [],
   "source": []
  },
  {
   "cell_type": "code",
   "execution_count": null,
   "metadata": {},
   "outputs": [],
   "source": []
  },
  {
   "cell_type": "code",
   "execution_count": null,
   "metadata": {},
   "outputs": [],
   "source": []
  },
  {
   "cell_type": "code",
   "execution_count": null,
   "metadata": {},
   "outputs": [],
   "source": []
  },
  {
   "cell_type": "code",
   "execution_count": 234,
   "metadata": {},
   "outputs": [],
   "source": [
    "idf = tf.idf_"
   ]
  },
  {
   "cell_type": "code",
   "execution_count": 237,
   "metadata": {},
   "outputs": [],
   "source": [
    "rr = dict(zip(fitted.get_feature_names(), idf))"
   ]
  },
  {
   "cell_type": "code",
   "execution_count": null,
   "metadata": {},
   "outputs": [],
   "source": []
  },
  {
   "cell_type": "code",
   "execution_count": 240,
   "metadata": {},
   "outputs": [
    {
     "ename": "KeyboardInterrupt",
     "evalue": "",
     "output_type": "error",
     "traceback": [
      "\u001b[0;31m---------------------------------------------------------------------------\u001b[0m",
      "\u001b[0;31mKeyboardInterrupt\u001b[0m                         Traceback (most recent call last)",
      "\u001b[0;32m<ipython-input-240-36cd3b93180a>\u001b[0m in \u001b[0;36m<module>\u001b[0;34m()\u001b[0m\n\u001b[1;32m      4\u001b[0m \u001b[0mtoken_weight\u001b[0m\u001b[0;34m\u001b[0m\u001b[0m\n\u001b[1;32m      5\u001b[0m \u001b[0;34m\u001b[0m\u001b[0m\n\u001b[0;32m----> 6\u001b[0;31m \u001b[0msns\u001b[0m\u001b[0;34m.\u001b[0m\u001b[0mbarplot\u001b[0m\u001b[0;34m(\u001b[0m\u001b[0mx\u001b[0m\u001b[0;34m=\u001b[0m\u001b[0;34m'token'\u001b[0m\u001b[0;34m,\u001b[0m \u001b[0my\u001b[0m\u001b[0;34m=\u001b[0m\u001b[0;34m'weight'\u001b[0m\u001b[0;34m,\u001b[0m \u001b[0mdata\u001b[0m\u001b[0;34m=\u001b[0m\u001b[0mtoken_weight\u001b[0m\u001b[0;34m)\u001b[0m\u001b[0;34m\u001b[0m\u001b[0m\n\u001b[0m\u001b[1;32m      7\u001b[0m \u001b[0mplt\u001b[0m\u001b[0;34m.\u001b[0m\u001b[0mtitle\u001b[0m\u001b[0;34m(\u001b[0m\u001b[0;34m\"Inverse Document Frequency(idf) per token\"\u001b[0m\u001b[0;34m)\u001b[0m\u001b[0;34m\u001b[0m\u001b[0m\n\u001b[1;32m      8\u001b[0m \u001b[0mfig\u001b[0m\u001b[0;34m=\u001b[0m\u001b[0mplt\u001b[0m\u001b[0;34m.\u001b[0m\u001b[0mgcf\u001b[0m\u001b[0;34m(\u001b[0m\u001b[0;34m)\u001b[0m\u001b[0;34m\u001b[0m\u001b[0m\n",
      "\u001b[0;32m/anaconda3/lib/python3.6/site-packages/seaborn/categorical.py\u001b[0m in \u001b[0;36mbarplot\u001b[0;34m(x, y, hue, data, order, hue_order, estimator, ci, n_boot, units, orient, color, palette, saturation, errcolor, errwidth, capsize, dodge, ax, **kwargs)\u001b[0m\n\u001b[1;32m   2962\u001b[0m         \u001b[0max\u001b[0m \u001b[0;34m=\u001b[0m \u001b[0mplt\u001b[0m\u001b[0;34m.\u001b[0m\u001b[0mgca\u001b[0m\u001b[0;34m(\u001b[0m\u001b[0;34m)\u001b[0m\u001b[0;34m\u001b[0m\u001b[0m\n\u001b[1;32m   2963\u001b[0m \u001b[0;34m\u001b[0m\u001b[0m\n\u001b[0;32m-> 2964\u001b[0;31m     \u001b[0mplotter\u001b[0m\u001b[0;34m.\u001b[0m\u001b[0mplot\u001b[0m\u001b[0;34m(\u001b[0m\u001b[0max\u001b[0m\u001b[0;34m,\u001b[0m \u001b[0mkwargs\u001b[0m\u001b[0;34m)\u001b[0m\u001b[0;34m\u001b[0m\u001b[0m\n\u001b[0m\u001b[1;32m   2965\u001b[0m     \u001b[0;32mreturn\u001b[0m \u001b[0max\u001b[0m\u001b[0;34m\u001b[0m\u001b[0m\n\u001b[1;32m   2966\u001b[0m \u001b[0;34m\u001b[0m\u001b[0m\n",
      "\u001b[0;32m/anaconda3/lib/python3.6/site-packages/seaborn/categorical.py\u001b[0m in \u001b[0;36mplot\u001b[0;34m(self, ax, bar_kws)\u001b[0m\n\u001b[1;32m   1648\u001b[0m     \u001b[0;32mdef\u001b[0m \u001b[0mplot\u001b[0m\u001b[0;34m(\u001b[0m\u001b[0mself\u001b[0m\u001b[0;34m,\u001b[0m \u001b[0max\u001b[0m\u001b[0;34m,\u001b[0m \u001b[0mbar_kws\u001b[0m\u001b[0;34m)\u001b[0m\u001b[0;34m:\u001b[0m\u001b[0;34m\u001b[0m\u001b[0m\n\u001b[1;32m   1649\u001b[0m         \u001b[0;34m\"\"\"Make the plot.\"\"\"\u001b[0m\u001b[0;34m\u001b[0m\u001b[0m\n\u001b[0;32m-> 1650\u001b[0;31m         \u001b[0mself\u001b[0m\u001b[0;34m.\u001b[0m\u001b[0mdraw_bars\u001b[0m\u001b[0;34m(\u001b[0m\u001b[0max\u001b[0m\u001b[0;34m,\u001b[0m \u001b[0mbar_kws\u001b[0m\u001b[0;34m)\u001b[0m\u001b[0;34m\u001b[0m\u001b[0m\n\u001b[0m\u001b[1;32m   1651\u001b[0m         \u001b[0mself\u001b[0m\u001b[0;34m.\u001b[0m\u001b[0mannotate_axes\u001b[0m\u001b[0;34m(\u001b[0m\u001b[0max\u001b[0m\u001b[0;34m)\u001b[0m\u001b[0;34m\u001b[0m\u001b[0m\n\u001b[1;32m   1652\u001b[0m         \u001b[0;32mif\u001b[0m \u001b[0mself\u001b[0m\u001b[0;34m.\u001b[0m\u001b[0morient\u001b[0m \u001b[0;34m==\u001b[0m \u001b[0;34m\"h\"\u001b[0m\u001b[0;34m:\u001b[0m\u001b[0;34m\u001b[0m\u001b[0m\n",
      "\u001b[0;32m/anaconda3/lib/python3.6/site-packages/seaborn/categorical.py\u001b[0m in \u001b[0;36mdraw_bars\u001b[0;34m(self, ax, kws)\u001b[0m\n\u001b[1;32m   1623\u001b[0m                                \u001b[0merrcolors\u001b[0m\u001b[0;34m,\u001b[0m\u001b[0;34m\u001b[0m\u001b[0m\n\u001b[1;32m   1624\u001b[0m                                \u001b[0mself\u001b[0m\u001b[0;34m.\u001b[0m\u001b[0merrwidth\u001b[0m\u001b[0;34m,\u001b[0m\u001b[0;34m\u001b[0m\u001b[0m\n\u001b[0;32m-> 1625\u001b[0;31m                                self.capsize)\n\u001b[0m\u001b[1;32m   1626\u001b[0m \u001b[0;34m\u001b[0m\u001b[0m\n\u001b[1;32m   1627\u001b[0m         \u001b[0;32melse\u001b[0m\u001b[0;34m:\u001b[0m\u001b[0;34m\u001b[0m\u001b[0m\n",
      "\u001b[0;32m/anaconda3/lib/python3.6/site-packages/seaborn/categorical.py\u001b[0m in \u001b[0;36mdraw_confints\u001b[0;34m(self, ax, at_group, confint, colors, errwidth, capsize, **kws)\u001b[0m\n\u001b[1;32m   1568\u001b[0m                                                 colors):\n\u001b[1;32m   1569\u001b[0m             \u001b[0;32mif\u001b[0m \u001b[0mself\u001b[0m\u001b[0;34m.\u001b[0m\u001b[0morient\u001b[0m \u001b[0;34m==\u001b[0m \u001b[0;34m\"v\"\u001b[0m\u001b[0;34m:\u001b[0m\u001b[0;34m\u001b[0m\u001b[0m\n\u001b[0;32m-> 1570\u001b[0;31m                 \u001b[0max\u001b[0m\u001b[0;34m.\u001b[0m\u001b[0mplot\u001b[0m\u001b[0;34m(\u001b[0m\u001b[0;34m[\u001b[0m\u001b[0mat\u001b[0m\u001b[0;34m,\u001b[0m \u001b[0mat\u001b[0m\u001b[0;34m]\u001b[0m\u001b[0;34m,\u001b[0m \u001b[0;34m[\u001b[0m\u001b[0mci_low\u001b[0m\u001b[0;34m,\u001b[0m \u001b[0mci_high\u001b[0m\u001b[0;34m]\u001b[0m\u001b[0;34m,\u001b[0m \u001b[0mcolor\u001b[0m\u001b[0;34m=\u001b[0m\u001b[0mcolor\u001b[0m\u001b[0;34m,\u001b[0m \u001b[0;34m**\u001b[0m\u001b[0mkws\u001b[0m\u001b[0;34m)\u001b[0m\u001b[0;34m\u001b[0m\u001b[0m\n\u001b[0m\u001b[1;32m   1571\u001b[0m                 \u001b[0;32mif\u001b[0m \u001b[0mcapsize\u001b[0m \u001b[0;32mis\u001b[0m \u001b[0;32mnot\u001b[0m \u001b[0;32mNone\u001b[0m\u001b[0;34m:\u001b[0m\u001b[0;34m\u001b[0m\u001b[0m\n\u001b[1;32m   1572\u001b[0m                     ax.plot([at - capsize / 2, at + capsize / 2],\n",
      "\u001b[0;32m/anaconda3/lib/python3.6/site-packages/matplotlib/__init__.py\u001b[0m in \u001b[0;36minner\u001b[0;34m(ax, *args, **kwargs)\u001b[0m\n\u001b[1;32m   1853\u001b[0m                         \u001b[0;34m\"the Matplotlib list!)\"\u001b[0m \u001b[0;34m%\u001b[0m \u001b[0;34m(\u001b[0m\u001b[0mlabel_namer\u001b[0m\u001b[0;34m,\u001b[0m \u001b[0mfunc\u001b[0m\u001b[0;34m.\u001b[0m\u001b[0m__name__\u001b[0m\u001b[0;34m)\u001b[0m\u001b[0;34m,\u001b[0m\u001b[0;34m\u001b[0m\u001b[0m\n\u001b[1;32m   1854\u001b[0m                         RuntimeWarning, stacklevel=2)\n\u001b[0;32m-> 1855\u001b[0;31m             \u001b[0;32mreturn\u001b[0m \u001b[0mfunc\u001b[0m\u001b[0;34m(\u001b[0m\u001b[0max\u001b[0m\u001b[0;34m,\u001b[0m \u001b[0;34m*\u001b[0m\u001b[0margs\u001b[0m\u001b[0;34m,\u001b[0m \u001b[0;34m**\u001b[0m\u001b[0mkwargs\u001b[0m\u001b[0;34m)\u001b[0m\u001b[0;34m\u001b[0m\u001b[0m\n\u001b[0m\u001b[1;32m   1856\u001b[0m \u001b[0;34m\u001b[0m\u001b[0m\n\u001b[1;32m   1857\u001b[0m         inner.__doc__ = _add_data_doc(inner.__doc__,\n",
      "\u001b[0;32m/anaconda3/lib/python3.6/site-packages/matplotlib/axes/_axes.py\u001b[0m in \u001b[0;36mplot\u001b[0;34m(self, *args, **kwargs)\u001b[0m\n\u001b[1;32m   1529\u001b[0m             \u001b[0mlines\u001b[0m\u001b[0;34m.\u001b[0m\u001b[0mappend\u001b[0m\u001b[0;34m(\u001b[0m\u001b[0mline\u001b[0m\u001b[0;34m)\u001b[0m\u001b[0;34m\u001b[0m\u001b[0m\n\u001b[1;32m   1530\u001b[0m \u001b[0;34m\u001b[0m\u001b[0m\n\u001b[0;32m-> 1531\u001b[0;31m         \u001b[0mself\u001b[0m\u001b[0;34m.\u001b[0m\u001b[0mautoscale_view\u001b[0m\u001b[0;34m(\u001b[0m\u001b[0mscalex\u001b[0m\u001b[0;34m=\u001b[0m\u001b[0mscalex\u001b[0m\u001b[0;34m,\u001b[0m \u001b[0mscaley\u001b[0m\u001b[0;34m=\u001b[0m\u001b[0mscaley\u001b[0m\u001b[0;34m)\u001b[0m\u001b[0;34m\u001b[0m\u001b[0m\n\u001b[0m\u001b[1;32m   1532\u001b[0m         \u001b[0;32mreturn\u001b[0m \u001b[0mlines\u001b[0m\u001b[0;34m\u001b[0m\u001b[0m\n\u001b[1;32m   1533\u001b[0m \u001b[0;34m\u001b[0m\u001b[0m\n",
      "\u001b[0;32m/anaconda3/lib/python3.6/site-packages/matplotlib/axes/_base.py\u001b[0m in \u001b[0;36mautoscale_view\u001b[0;34m(self, tight, scalex, scaley)\u001b[0m\n\u001b[1;32m   2448\u001b[0m             \u001b[0mstickies\u001b[0m \u001b[0;34m=\u001b[0m \u001b[0;34m[\u001b[0m\u001b[0martist\u001b[0m\u001b[0;34m.\u001b[0m\u001b[0msticky_edges\u001b[0m \u001b[0;32mfor\u001b[0m \u001b[0martist\u001b[0m \u001b[0;32min\u001b[0m \u001b[0mself\u001b[0m\u001b[0;34m.\u001b[0m\u001b[0mget_children\u001b[0m\u001b[0;34m(\u001b[0m\u001b[0;34m)\u001b[0m\u001b[0;34m]\u001b[0m\u001b[0;34m\u001b[0m\u001b[0m\n\u001b[1;32m   2449\u001b[0m             \u001b[0mx_stickies\u001b[0m \u001b[0;34m=\u001b[0m \u001b[0msum\u001b[0m\u001b[0;34m(\u001b[0m\u001b[0;34m[\u001b[0m\u001b[0msticky\u001b[0m\u001b[0;34m.\u001b[0m\u001b[0mx\u001b[0m \u001b[0;32mfor\u001b[0m \u001b[0msticky\u001b[0m \u001b[0;32min\u001b[0m \u001b[0mstickies\u001b[0m\u001b[0;34m]\u001b[0m\u001b[0;34m,\u001b[0m \u001b[0;34m[\u001b[0m\u001b[0;34m]\u001b[0m\u001b[0;34m)\u001b[0m\u001b[0;34m\u001b[0m\u001b[0m\n\u001b[0;32m-> 2450\u001b[0;31m             \u001b[0my_stickies\u001b[0m \u001b[0;34m=\u001b[0m \u001b[0msum\u001b[0m\u001b[0;34m(\u001b[0m\u001b[0;34m[\u001b[0m\u001b[0msticky\u001b[0m\u001b[0;34m.\u001b[0m\u001b[0my\u001b[0m \u001b[0;32mfor\u001b[0m \u001b[0msticky\u001b[0m \u001b[0;32min\u001b[0m \u001b[0mstickies\u001b[0m\u001b[0;34m]\u001b[0m\u001b[0;34m,\u001b[0m \u001b[0;34m[\u001b[0m\u001b[0;34m]\u001b[0m\u001b[0;34m)\u001b[0m\u001b[0;34m\u001b[0m\u001b[0m\n\u001b[0m\u001b[1;32m   2451\u001b[0m             \u001b[0;32mif\u001b[0m \u001b[0mself\u001b[0m\u001b[0;34m.\u001b[0m\u001b[0mget_xscale\u001b[0m\u001b[0;34m(\u001b[0m\u001b[0;34m)\u001b[0m\u001b[0;34m.\u001b[0m\u001b[0mlower\u001b[0m\u001b[0;34m(\u001b[0m\u001b[0;34m)\u001b[0m \u001b[0;34m==\u001b[0m \u001b[0;34m'log'\u001b[0m\u001b[0;34m:\u001b[0m\u001b[0;34m\u001b[0m\u001b[0m\n\u001b[1;32m   2452\u001b[0m                 \u001b[0mx_stickies\u001b[0m \u001b[0;34m=\u001b[0m \u001b[0;34m[\u001b[0m\u001b[0mxs\u001b[0m \u001b[0;32mfor\u001b[0m \u001b[0mxs\u001b[0m \u001b[0;32min\u001b[0m \u001b[0mx_stickies\u001b[0m \u001b[0;32mif\u001b[0m \u001b[0mxs\u001b[0m \u001b[0;34m>\u001b[0m \u001b[0;36m0\u001b[0m\u001b[0;34m]\u001b[0m\u001b[0;34m\u001b[0m\u001b[0m\n",
      "\u001b[0;31mKeyboardInterrupt\u001b[0m: "
     ]
    },
    {
     "data": {
      "image/png": "[encoded data removed]",
      "text/plain": [
       "<Figure size 432x288 with 1 Axes>"
      ]
     },
     "metadata": {},
     "output_type": "display_data"
    }
   ],
   "source": [
    "token_weight = pd.DataFrame.from_dict(rr, orient='index').reset_index()\n",
    "token_weight.columns=('token','weight')\n",
    "token_weight = token_weight.sort_values(by='weight', ascending=False)\n",
    "token_weight \n",
    "\n",
    "sns.barplot(x='token', y='weight', data=token_weight)            \n",
    "plt.title(\"Inverse Document Frequency(idf) per token\")\n",
    "fig=plt.gcf()\n",
    "fig.set_size_inches(10,5)\n",
    "plt.show()"
   ]
  },
  {
   "cell_type": "code",
   "execution_count": null,
   "metadata": {},
   "outputs": [],
   "source": [
    "\n"
   ]
  }
 ],
 "metadata": {
  "kernelspec": {
   "display_name": "Python 3",
   "language": "python",
   "name": "python3"
  },
  "language_info": {
   "codemirror_mode": {
    "name": "ipython",
    "version": 3
   },
   "file_extension": ".py",
   "mimetype": "text/x-python",
   "name": "python",
   "nbconvert_exporter": "python",
   "pygments_lexer": "ipython3",
   "version": "3.6.5"
  }
 },
 "nbformat": 4,
 "nbformat_minor": 2
}
