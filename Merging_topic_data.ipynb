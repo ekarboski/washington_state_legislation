{
 "cells": [
  {
   "cell_type": "code",
   "execution_count": 92,
   "metadata": {},
   "outputs": [],
   "source": [
    "import psycopg2\n",
    "import pandas as pd\n",
    "import sqlalchemy\n",
    "from sqlalchemy import create_engine\n",
    "\n",
    "from collections import defaultdict\n",
    "import pandas as pd\n",
    "\n",
    "from selenium.webdriver import (Chrome, Firefox)\n",
    "import urllib\n",
    "from bs4 import BeautifulSoup"
   ]
  },
  {
   "cell_type": "code",
   "execution_count": 93,
   "metadata": {},
   "outputs": [],
   "source": [
    "def scrape_bill_topic_table(year):\n",
    "    '''Scrape data from apps.leg.wa.gov/billsbytopic organize into a dataframe with the following columns:\n",
    "       bill_id, bill_topic, bill_topic_expanded.\n",
    "       \n",
    "       year: str in format '2015' \n",
    "       '''\n",
    "    \n",
    "    browser = Firefox()\n",
    "    browser.get('http://apps.leg.wa.gov/billsbytopic/Results.aspx?year={}'.format(year))\n",
    "\n",
    "    table = browser.find_elements_by_css_selector('div#divContent table')[1]\n",
    "    html = table.get_attribute('innerHTML')\n",
    "    soup = BeautifulSoup(html, 'html.parser')\n",
    "    rows = soup.select('tr')\n",
    "    data = []\n",
    "    heading = None\n",
    "    \n",
    "    for i, row in enumerate(rows):\n",
    "        row_data = {}\n",
    "        tds = row.select('td')\n",
    "        \n",
    "        if not tds: \n",
    "            continue\n",
    "        if tds[0].attrs.get('width') != '5%':\n",
    "            heading = row.select_one('td a').text.strip()\n",
    "            continue\n",
    "            \n",
    "        row_data['bill_topic'] = heading\n",
    "        row_data['bill_topic_expanded'] = tds[1].text.partition(':')[0]\n",
    "        bill_ids = [a.text for a in tds[1].select('a')]\n",
    "\n",
    "        for bill_id in bill_ids:\n",
    "            row_data['bill_id'] = bill_id\n",
    "            data.append(row_data)\n",
    "\n",
    "    return pd.DataFrame(data)"
   ]
  },
  {
   "cell_type": "code",
   "execution_count": 107,
   "metadata": {},
   "outputs": [],
   "source": [
    "def save_topic_data_STEP_FIVE():\n",
    "    '''The API contains data that dates back to 1991. This data will \n",
    "    not change and therefore only needs to be retrieved once.\n",
    "\n",
    "    Creates table: topic_scrape\n",
    "    '''  \n",
    "    # Create connection to wa_leg_raw postgres database\n",
    "    engine = sqlalchemy.create_engine('postgresql://emilykarboski@localhost:5432/wa_leg_raw')\n",
    "    con = engine.connect()\n",
    "\n",
    "    # Scrape topic data and put in postgres table\n",
    "    years = ['1991', '1992', '1993', '1994', '1995', '1996', '1997', '1998', '1999', '2000',\n",
    "             '2001', '2002', '2003', '2004', '2005', '2006', '2007', '2008', '2009', '2010', \n",
    "             '2011', '2012', '2013', '2014', '2015', '2016', '2017', '2018']\n",
    "\n",
    "    topic_dfs = []\n",
    "    for year in years:\n",
    "        topic_df = scrape_bill_topic_table(year)\n",
    "        topic_df['year'] = year\n",
    "        topic_dfs.append(topic_df)\n",
    "        \n",
    "    topic_dfs[0].to_sql('topic_scrape', con, if_exists='replace', index=False)\n",
    "    \n",
    "    for df in topic_dfs[1:]:\n",
    "        df.to_sql('topic_scrape', con, if_exists='append', index=False)"
   ]
  },
  {
   "cell_type": "code",
   "execution_count": 128,
   "metadata": {},
   "outputs": [],
   "source": [
    "topic_2000 = topic_df_n[0]\n",
    "topic_2001 = topic_df_n[1]"
   ]
  },
  {
   "cell_type": "code",
   "execution_count": 132,
   "metadata": {},
   "outputs": [],
   "source": [
    "topic_df_sub = topic_df[topic_df['year'] != '20002001']"
   ]
  },
  {
   "cell_type": "code",
   "execution_count": 135,
   "metadata": {},
   "outputs": [],
   "source": [
    "topic_df_sub = pd.concat([topic_df_sub, topic_2000])"
   ]
  },
  {
   "cell_type": "code",
   "execution_count": 136,
   "metadata": {},
   "outputs": [],
   "source": [
    "topic_df_sub = pd.concat([topic_df_sub, topic_2001])"
   ]
  },
  {
   "cell_type": "code",
   "execution_count": 138,
   "metadata": {},
   "outputs": [
    {
     "data": {
      "text/plain": [
       "array(['1991', '1992', '1993', '1994', '1995', '1996', '1997', '1998',\n",
       "       '1999', '2005', '2002', '2003', '2004', '2006', '2007', '2008',\n",
       "       '2009', '2010', '2011', '2012', '2013', '2014', '2015', '2016',\n",
       "       '2017', '2018', '2000', '2001'], dtype=object)"
      ]
     },
     "execution_count": 138,
     "metadata": {},
     "output_type": "execute_result"
    }
   ],
   "source": [
    "topic_df_sub['year'].unique()"
   ]
  },
  {
   "cell_type": "code",
   "execution_count": 140,
   "metadata": {},
   "outputs": [],
   "source": [
    "topic_df_sub.to_sql('topic_scrape', con, if_exists='replace', index=False)"
   ]
  },
  {
   "cell_type": "code",
   "execution_count": null,
   "metadata": {},
   "outputs": [],
   "source": []
  },
  {
   "cell_type": "code",
   "execution_count": null,
   "metadata": {},
   "outputs": [],
   "source": []
  },
  {
   "cell_type": "code",
   "execution_count": null,
   "metadata": {},
   "outputs": [],
   "source": []
  },
  {
   "cell_type": "markdown",
   "metadata": {},
   "source": [
    "# Load data"
   ]
  },
  {
   "cell_type": "code",
   "execution_count": 158,
   "metadata": {},
   "outputs": [],
   "source": [
    "engine = create_engine('postgresql://localhost:5432/wa_leg_staging')\n",
    "con = engine.connect()"
   ]
  },
  {
   "cell_type": "code",
   "execution_count": 76,
   "metadata": {},
   "outputs": [],
   "source": [
    "bill_df = pd.read_sql_query('select * from \"bill_api\"',con=engine)"
   ]
  },
  {
   "cell_type": "code",
   "execution_count": 141,
   "metadata": {},
   "outputs": [],
   "source": [
    "topic_df = pd.read_sql_query('select * from \"topic_scrape\"',con=engine)"
   ]
  },
  {
   "cell_type": "markdown",
   "metadata": {},
   "source": [
    "# Prepare topic_data"
   ]
  },
  {
   "cell_type": "code",
   "execution_count": 142,
   "metadata": {},
   "outputs": [],
   "source": [
    "topic_df['bill_id'] = topic_df['bill_id'].apply(lambda x: x.split(',')[0])"
   ]
  },
  {
   "cell_type": "code",
   "execution_count": 143,
   "metadata": {},
   "outputs": [
    {
     "data": {
      "text/html": [
       "<div>\n",
       "<style scoped>\n",
       "    .dataframe tbody tr th:only-of-type {\n",
       "        vertical-align: middle;\n",
       "    }\n",
       "\n",
       "    .dataframe tbody tr th {\n",
       "        vertical-align: top;\n",
       "    }\n",
       "\n",
       "    .dataframe thead th {\n",
       "        text-align: right;\n",
       "    }\n",
       "</style>\n",
       "<table border=\"1\" class=\"dataframe\">\n",
       "  <thead>\n",
       "    <tr style=\"text-align: right;\">\n",
       "      <th></th>\n",
       "      <th>bill_id</th>\n",
       "      <th>bill_topic</th>\n",
       "      <th>bill_topic_expanded</th>\n",
       "      <th>year</th>\n",
       "    </tr>\n",
       "  </thead>\n",
       "  <tbody>\n",
       "    <tr>\n",
       "      <th>0</th>\n",
       "      <td>HB 2682</td>\n",
       "      <td>ABANDONED PROPERTY</td>\n",
       "      <td>Intangible property, when presumed abandoned a...</td>\n",
       "      <td>1991</td>\n",
       "    </tr>\n",
       "    <tr>\n",
       "      <th>1</th>\n",
       "      <td>SB 5049</td>\n",
       "      <td>ABANDONED PROPERTY</td>\n",
       "      <td>Junk vehicles, disposal of abandoned vehicles ...</td>\n",
       "      <td>1991</td>\n",
       "    </tr>\n",
       "    <tr>\n",
       "      <th>2</th>\n",
       "      <td>SHB 1137</td>\n",
       "      <td>ABANDONED PROPERTY</td>\n",
       "      <td>Uncashed checks, duties of local governments h...</td>\n",
       "      <td>1991</td>\n",
       "    </tr>\n",
       "    <tr>\n",
       "      <th>3</th>\n",
       "      <td>SSB 5185</td>\n",
       "      <td>ABANDONED PROPERTY</td>\n",
       "      <td>Uncashed checks, local governments authorized ...</td>\n",
       "      <td>1991</td>\n",
       "    </tr>\n",
       "    <tr>\n",
       "      <th>4</th>\n",
       "      <td>SSB 5185</td>\n",
       "      <td>ABANDONED PROPERTY</td>\n",
       "      <td>Uncashed checks, local governments authorized ...</td>\n",
       "      <td>1991</td>\n",
       "    </tr>\n",
       "  </tbody>\n",
       "</table>\n",
       "</div>"
      ],
      "text/plain": [
       "    bill_id          bill_topic  \\\n",
       "0   HB 2682  ABANDONED PROPERTY   \n",
       "1   SB 5049  ABANDONED PROPERTY   \n",
       "2  SHB 1137  ABANDONED PROPERTY   \n",
       "3  SSB 5185  ABANDONED PROPERTY   \n",
       "4  SSB 5185  ABANDONED PROPERTY   \n",
       "\n",
       "                                 bill_topic_expanded  year  \n",
       "0  Intangible property, when presumed abandoned a...  1991  \n",
       "1  Junk vehicles, disposal of abandoned vehicles ...  1991  \n",
       "2  Uncashed checks, duties of local governments h...  1991  \n",
       "3  Uncashed checks, local governments authorized ...  1991  \n",
       "4  Uncashed checks, local governments authorized ...  1991  "
      ]
     },
     "execution_count": 143,
     "metadata": {},
     "output_type": "execute_result"
    }
   ],
   "source": [
    "topic_df.head()"
   ]
  },
  {
   "cell_type": "code",
   "execution_count": 144,
   "metadata": {},
   "outputs": [
    {
     "data": {
      "text/plain": [
       "array(['1991', '1992', '1993', '1994', '1995', '1996', '1997', '1998',\n",
       "       '1999', '2002', '2005', '2003', '2004', '2006', '2007', '2008',\n",
       "       '2009', '2010', '2011', '2012', '2013', '2014', '2015', '2016',\n",
       "       '2017', '2018', '2000', '2001'], dtype=object)"
      ]
     },
     "execution_count": 144,
     "metadata": {},
     "output_type": "execute_result"
    }
   ],
   "source": [
    "topic_df['year'].unique()"
   ]
  },
  {
   "cell_type": "code",
   "execution_count": 145,
   "metadata": {},
   "outputs": [],
   "source": [
    "def change_year_to_biennium(year):\n",
    "    '''Changes year to biennium. Input is string, output is string'''\n",
    "    if year == '1991' or year == '1992':\n",
    "        return '1991-92'\n",
    "    if year == '1993' or year == '1994':\n",
    "        return '1993-94'\n",
    "    if year == '1995' or year == '1996':\n",
    "        return '1995-96'\n",
    "    if year == '1997' or year == '1998':\n",
    "        return '1997-98'\n",
    "    if year == '1999' or year == '2000':\n",
    "        return '1999-00'\n",
    "    if year == '2001' or year == '2002':\n",
    "        return '2001-02'\n",
    "    if year == '2003' or year == '2004':\n",
    "        return '2003-04'\n",
    "    if year == '2005' or year == '2006':\n",
    "        return '2005-06'\n",
    "    if year == '2007' or year == '2008':\n",
    "        return '2007-08'\n",
    "    if year == '2009' or year == '2010':\n",
    "        return '2003-04'\n",
    "    if year == '2011' or year == '2012':\n",
    "        return '2011-12'\n",
    "    if year == '2013' or year == '2014':\n",
    "        return '2013-14'\n",
    "    if year == '2015' or year == '2016':\n",
    "        return '2015-16'\n",
    "    if year == '2017' or year == '2018':\n",
    "        return '2017-18'"
   ]
  },
  {
   "cell_type": "code",
   "execution_count": 146,
   "metadata": {},
   "outputs": [],
   "source": [
    "topic_df['biennium'] = topic_df['year'].apply(change_year_to_biennium)"
   ]
  },
  {
   "cell_type": "code",
   "execution_count": 147,
   "metadata": {},
   "outputs": [],
   "source": [
    "topic_df['bill_num'] = topic_df['bill_id'].str[-4:]"
   ]
  },
  {
   "cell_type": "code",
   "execution_count": 148,
   "metadata": {},
   "outputs": [],
   "source": [
    "topic_df = topic_df.drop(['bill_topic_expanded', 'year'], axis = 1)"
   ]
  },
  {
   "cell_type": "code",
   "execution_count": 149,
   "metadata": {},
   "outputs": [],
   "source": [
    "topic_df.drop_duplicates(keep='first', inplace=True)"
   ]
  },
  {
   "cell_type": "code",
   "execution_count": 150,
   "metadata": {},
   "outputs": [
    {
     "data": {
      "text/html": [
       "<div>\n",
       "<style scoped>\n",
       "    .dataframe tbody tr th:only-of-type {\n",
       "        vertical-align: middle;\n",
       "    }\n",
       "\n",
       "    .dataframe tbody tr th {\n",
       "        vertical-align: top;\n",
       "    }\n",
       "\n",
       "    .dataframe thead th {\n",
       "        text-align: right;\n",
       "    }\n",
       "</style>\n",
       "<table border=\"1\" class=\"dataframe\">\n",
       "  <thead>\n",
       "    <tr style=\"text-align: right;\">\n",
       "      <th></th>\n",
       "      <th>bill_id</th>\n",
       "      <th>bill_topic</th>\n",
       "      <th>biennium</th>\n",
       "      <th>bill_num</th>\n",
       "    </tr>\n",
       "  </thead>\n",
       "  <tbody>\n",
       "    <tr>\n",
       "      <th>15</th>\n",
       "      <td>ESHB 2293</td>\n",
       "      <td>ACCOUNTANCY, BOARD</td>\n",
       "      <td>1991-92</td>\n",
       "      <td>2293</td>\n",
       "    </tr>\n",
       "    <tr>\n",
       "      <th>27</th>\n",
       "      <td>ESHB 2293</td>\n",
       "      <td>ACCOUNTANTS AND ACCOUNTING</td>\n",
       "      <td>1991-92</td>\n",
       "      <td>2293</td>\n",
       "    </tr>\n",
       "    <tr>\n",
       "      <th>2930</th>\n",
       "      <td>ESHB 2293</td>\n",
       "      <td>COLLEGES AND UNIVERSITIES</td>\n",
       "      <td>1991-92</td>\n",
       "      <td>2293</td>\n",
       "    </tr>\n",
       "    <tr>\n",
       "      <th>8669</th>\n",
       "      <td>ESHB 2293</td>\n",
       "      <td>GOVERNOR</td>\n",
       "      <td>1991-92</td>\n",
       "      <td>2293</td>\n",
       "    </tr>\n",
       "    <tr>\n",
       "      <th>13041</th>\n",
       "      <td>ESHB 2293</td>\n",
       "      <td>MINORITIES</td>\n",
       "      <td>1991-92</td>\n",
       "      <td>2293</td>\n",
       "    </tr>\n",
       "    <tr>\n",
       "      <th>15279</th>\n",
       "      <td>ESHB 2293</td>\n",
       "      <td>PUBLIC FUNDS AND ACCOUNTS</td>\n",
       "      <td>1991-92</td>\n",
       "      <td>2293</td>\n",
       "    </tr>\n",
       "    <tr>\n",
       "      <th>51760</th>\n",
       "      <td>HB 2293</td>\n",
       "      <td>COMMUNITY AND TECHNICAL COLLEGES, BOARD</td>\n",
       "      <td>1993-94</td>\n",
       "      <td>2293</td>\n",
       "    </tr>\n",
       "    <tr>\n",
       "      <th>66503</th>\n",
       "      <td>HB 2293</td>\n",
       "      <td>PUBLIC INSTRUCTION, SUPERINTENDENT</td>\n",
       "      <td>1993-94</td>\n",
       "      <td>2293</td>\n",
       "    </tr>\n",
       "    <tr>\n",
       "      <th>68465</th>\n",
       "      <td>HB 2293</td>\n",
       "      <td>SCHOOLS AND SCHOOL DISTRICTS</td>\n",
       "      <td>1993-94</td>\n",
       "      <td>2293</td>\n",
       "    </tr>\n",
       "    <tr>\n",
       "      <th>72700</th>\n",
       "      <td>HB 2293</td>\n",
       "      <td>TELECOMMUNICATIONS</td>\n",
       "      <td>1993-94</td>\n",
       "      <td>2293</td>\n",
       "    </tr>\n",
       "    <tr>\n",
       "      <th>72756</th>\n",
       "      <td>HB 2293</td>\n",
       "      <td>TELEPHONES</td>\n",
       "      <td>1993-94</td>\n",
       "      <td>2293</td>\n",
       "    </tr>\n",
       "    <tr>\n",
       "      <th>105581</th>\n",
       "      <td>SHB 2293</td>\n",
       "      <td>COLLEGES AND UNIVERSITIES</td>\n",
       "      <td>1995-96</td>\n",
       "      <td>2293</td>\n",
       "    </tr>\n",
       "    <tr>\n",
       "      <th>105585</th>\n",
       "      <td>2SHB 2293</td>\n",
       "      <td>COLLEGES AND UNIVERSITIES</td>\n",
       "      <td>1995-96</td>\n",
       "      <td>2293</td>\n",
       "    </tr>\n",
       "    <tr>\n",
       "      <th>108937</th>\n",
       "      <td>2SHB 2293</td>\n",
       "      <td>FEES</td>\n",
       "      <td>1995-96</td>\n",
       "      <td>2293</td>\n",
       "    </tr>\n",
       "    <tr>\n",
       "      <th>108990</th>\n",
       "      <td>SHB 2293</td>\n",
       "      <td>FEES</td>\n",
       "      <td>1995-96</td>\n",
       "      <td>2293</td>\n",
       "    </tr>\n",
       "    <tr>\n",
       "      <th>121384</th>\n",
       "      <td>2SHB 2293</td>\n",
       "      <td>UNIVERSITY OF WASHINGTON</td>\n",
       "      <td>1995-96</td>\n",
       "      <td>2293</td>\n",
       "    </tr>\n",
       "    <tr>\n",
       "      <th>191517</th>\n",
       "      <td>HB 2293</td>\n",
       "      <td>HEALTH CARE PROFESSIONS</td>\n",
       "      <td>1999-00</td>\n",
       "      <td>2293</td>\n",
       "    </tr>\n",
       "    <tr>\n",
       "      <th>191518</th>\n",
       "      <td>SHB 2293</td>\n",
       "      <td>HEALTH CARE PROFESSIONS</td>\n",
       "      <td>1999-00</td>\n",
       "      <td>2293</td>\n",
       "    </tr>\n",
       "    <tr>\n",
       "      <th>191650</th>\n",
       "      <td>SHB 2293</td>\n",
       "      <td>HEALTH, DEPARTMENT</td>\n",
       "      <td>1999-00</td>\n",
       "      <td>2293</td>\n",
       "    </tr>\n",
       "    <tr>\n",
       "      <th>197003</th>\n",
       "      <td>HB 2293</td>\n",
       "      <td>RENAL DISEASE</td>\n",
       "      <td>1999-00</td>\n",
       "      <td>2293</td>\n",
       "    </tr>\n",
       "    <tr>\n",
       "      <th>197004</th>\n",
       "      <td>SHB 2293</td>\n",
       "      <td>RENAL DISEASE</td>\n",
       "      <td>1999-00</td>\n",
       "      <td>2293</td>\n",
       "    </tr>\n",
       "    <tr>\n",
       "      <th>199479</th>\n",
       "      <td>SHB 2293</td>\n",
       "      <td>STUDIES</td>\n",
       "      <td>1999-00</td>\n",
       "      <td>2293</td>\n",
       "    </tr>\n",
       "    <tr>\n",
       "      <th>205648</th>\n",
       "      <td>HB 2293</td>\n",
       "      <td>CRIMES</td>\n",
       "      <td>2001-02</td>\n",
       "      <td>2293</td>\n",
       "    </tr>\n",
       "    <tr>\n",
       "      <th>213843</th>\n",
       "      <td>HB 2293</td>\n",
       "      <td>SENTENCING</td>\n",
       "      <td>2001-02</td>\n",
       "      <td>2293</td>\n",
       "    </tr>\n",
       "    <tr>\n",
       "      <th>216650</th>\n",
       "      <td>HB 2293</td>\n",
       "      <td>TERRORISM</td>\n",
       "      <td>2001-02</td>\n",
       "      <td>2293</td>\n",
       "    </tr>\n",
       "    <tr>\n",
       "      <th>264183</th>\n",
       "      <td>HB 2293</td>\n",
       "      <td>SCHOOLS AND SCHOOL DISTRICTS</td>\n",
       "      <td>2005-06</td>\n",
       "      <td>2293</td>\n",
       "    </tr>\n",
       "    <tr>\n",
       "      <th>287771</th>\n",
       "      <td>HB 2293</td>\n",
       "      <td>CHECKS AND CHECK CASHING</td>\n",
       "      <td>2007-08</td>\n",
       "      <td>2293</td>\n",
       "    </tr>\n",
       "    <tr>\n",
       "      <th>296245</th>\n",
       "      <td>HB 2293</td>\n",
       "      <td>LOANS</td>\n",
       "      <td>2007-08</td>\n",
       "      <td>2293</td>\n",
       "    </tr>\n",
       "    <tr>\n",
       "      <th>329966</th>\n",
       "      <td>HB 2293</td>\n",
       "      <td>EMERGENCY SERVICES</td>\n",
       "      <td>2003-04</td>\n",
       "      <td>2293</td>\n",
       "    </tr>\n",
       "    <tr>\n",
       "      <th>336217</th>\n",
       "      <td>HB 2293</td>\n",
       "      <td>MEDICINE AND MEDICAL DEVICES</td>\n",
       "      <td>2003-04</td>\n",
       "      <td>2293</td>\n",
       "    </tr>\n",
       "    <tr>\n",
       "      <th>344447</th>\n",
       "      <td>HB 2293</td>\n",
       "      <td>TAXES - SALES TAX</td>\n",
       "      <td>2003-04</td>\n",
       "      <td>2293</td>\n",
       "    </tr>\n",
       "    <tr>\n",
       "      <th>344788</th>\n",
       "      <td>HB 2293</td>\n",
       "      <td>TAXES - USE TAX</td>\n",
       "      <td>2003-04</td>\n",
       "      <td>2293</td>\n",
       "    </tr>\n",
       "    <tr>\n",
       "      <th>373891</th>\n",
       "      <td>HB 2293</td>\n",
       "      <td>CORPORATIONS</td>\n",
       "      <td>2011-12</td>\n",
       "      <td>2293</td>\n",
       "    </tr>\n",
       "    <tr>\n",
       "      <th>409950</th>\n",
       "      <td>HB 2293</td>\n",
       "      <td>ADMINISTRATIVE PROCEDURE</td>\n",
       "      <td>2013-14</td>\n",
       "      <td>2293</td>\n",
       "    </tr>\n",
       "    <tr>\n",
       "      <th>420575</th>\n",
       "      <td>HB 2293</td>\n",
       "      <td>LEGISLATURE</td>\n",
       "      <td>2013-14</td>\n",
       "      <td>2293</td>\n",
       "    </tr>\n",
       "    <tr>\n",
       "      <th>429260</th>\n",
       "      <td>HB 2293</td>\n",
       "      <td>STATE AGENCIES AND DEPARTMENTS</td>\n",
       "      <td>2013-14</td>\n",
       "      <td>2293</td>\n",
       "    </tr>\n",
       "    <tr>\n",
       "      <th>433080</th>\n",
       "      <td>HB 2293</td>\n",
       "      <td>WASHINGTON ADMINISTRATIVE CODE</td>\n",
       "      <td>2013-14</td>\n",
       "      <td>2293</td>\n",
       "    </tr>\n",
       "    <tr>\n",
       "      <th>462498</th>\n",
       "      <td>HB 2293</td>\n",
       "      <td>ELECTIONS</td>\n",
       "      <td>2015-16</td>\n",
       "      <td>2293</td>\n",
       "    </tr>\n",
       "    <tr>\n",
       "      <th>499795</th>\n",
       "      <td>HB 2293</td>\n",
       "      <td>CHILD CARE</td>\n",
       "      <td>2017-18</td>\n",
       "      <td>2293</td>\n",
       "    </tr>\n",
       "    <tr>\n",
       "      <th>502808</th>\n",
       "      <td>HB 2293</td>\n",
       "      <td>CRIMES</td>\n",
       "      <td>2017-18</td>\n",
       "      <td>2293</td>\n",
       "    </tr>\n",
       "    <tr>\n",
       "      <th>504560</th>\n",
       "      <td>HB 2293</td>\n",
       "      <td>EARLY LEARNING, DEPARTMENT</td>\n",
       "      <td>2017-18</td>\n",
       "      <td>2293</td>\n",
       "    </tr>\n",
       "    <tr>\n",
       "      <th>506228</th>\n",
       "      <td>HB 2293</td>\n",
       "      <td>FIREARMS</td>\n",
       "      <td>2017-18</td>\n",
       "      <td>2293</td>\n",
       "    </tr>\n",
       "    <tr>\n",
       "      <th>519489</th>\n",
       "      <td>HB 2293</td>\n",
       "      <td>SENTENCING</td>\n",
       "      <td>2017-18</td>\n",
       "      <td>2293</td>\n",
       "    </tr>\n",
       "  </tbody>\n",
       "</table>\n",
       "</div>"
      ],
      "text/plain": [
       "          bill_id                               bill_topic biennium bill_num\n",
       "15      ESHB 2293                       ACCOUNTANCY, BOARD  1991-92     2293\n",
       "27      ESHB 2293               ACCOUNTANTS AND ACCOUNTING  1991-92     2293\n",
       "2930    ESHB 2293                COLLEGES AND UNIVERSITIES  1991-92     2293\n",
       "8669    ESHB 2293                                 GOVERNOR  1991-92     2293\n",
       "13041   ESHB 2293                               MINORITIES  1991-92     2293\n",
       "15279   ESHB 2293                PUBLIC FUNDS AND ACCOUNTS  1991-92     2293\n",
       "51760     HB 2293  COMMUNITY AND TECHNICAL COLLEGES, BOARD  1993-94     2293\n",
       "66503     HB 2293       PUBLIC INSTRUCTION, SUPERINTENDENT  1993-94     2293\n",
       "68465     HB 2293             SCHOOLS AND SCHOOL DISTRICTS  1993-94     2293\n",
       "72700     HB 2293                       TELECOMMUNICATIONS  1993-94     2293\n",
       "72756     HB 2293                               TELEPHONES  1993-94     2293\n",
       "105581   SHB 2293                COLLEGES AND UNIVERSITIES  1995-96     2293\n",
       "105585  2SHB 2293                COLLEGES AND UNIVERSITIES  1995-96     2293\n",
       "108937  2SHB 2293                                     FEES  1995-96     2293\n",
       "108990   SHB 2293                                     FEES  1995-96     2293\n",
       "121384  2SHB 2293                 UNIVERSITY OF WASHINGTON  1995-96     2293\n",
       "191517    HB 2293                  HEALTH CARE PROFESSIONS  1999-00     2293\n",
       "191518   SHB 2293                  HEALTH CARE PROFESSIONS  1999-00     2293\n",
       "191650   SHB 2293                       HEALTH, DEPARTMENT  1999-00     2293\n",
       "197003    HB 2293                            RENAL DISEASE  1999-00     2293\n",
       "197004   SHB 2293                            RENAL DISEASE  1999-00     2293\n",
       "199479   SHB 2293                                  STUDIES  1999-00     2293\n",
       "205648    HB 2293                                   CRIMES  2001-02     2293\n",
       "213843    HB 2293                               SENTENCING  2001-02     2293\n",
       "216650    HB 2293                                TERRORISM  2001-02     2293\n",
       "264183    HB 2293             SCHOOLS AND SCHOOL DISTRICTS  2005-06     2293\n",
       "287771    HB 2293                 CHECKS AND CHECK CASHING  2007-08     2293\n",
       "296245    HB 2293                                    LOANS  2007-08     2293\n",
       "329966    HB 2293                       EMERGENCY SERVICES  2003-04     2293\n",
       "336217    HB 2293             MEDICINE AND MEDICAL DEVICES  2003-04     2293\n",
       "344447    HB 2293                        TAXES - SALES TAX  2003-04     2293\n",
       "344788    HB 2293                          TAXES - USE TAX  2003-04     2293\n",
       "373891    HB 2293                             CORPORATIONS  2011-12     2293\n",
       "409950    HB 2293                 ADMINISTRATIVE PROCEDURE  2013-14     2293\n",
       "420575    HB 2293                              LEGISLATURE  2013-14     2293\n",
       "429260    HB 2293           STATE AGENCIES AND DEPARTMENTS  2013-14     2293\n",
       "433080    HB 2293           WASHINGTON ADMINISTRATIVE CODE  2013-14     2293\n",
       "462498    HB 2293                                ELECTIONS  2015-16     2293\n",
       "499795    HB 2293                               CHILD CARE  2017-18     2293\n",
       "502808    HB 2293                                   CRIMES  2017-18     2293\n",
       "504560    HB 2293               EARLY LEARNING, DEPARTMENT  2017-18     2293\n",
       "506228    HB 2293                                 FIREARMS  2017-18     2293\n",
       "519489    HB 2293                               SENTENCING  2017-18     2293"
      ]
     },
     "execution_count": 150,
     "metadata": {},
     "output_type": "execute_result"
    }
   ],
   "source": [
    "topic_df[topic_df['bill_num'] == '2293']"
   ]
  },
  {
   "cell_type": "code",
   "execution_count": 151,
   "metadata": {},
   "outputs": [],
   "source": [
    "t = topic_df.loc[:, ['bill_id', 'biennium', 'bill_num']]"
   ]
  },
  {
   "cell_type": "code",
   "execution_count": 152,
   "metadata": {},
   "outputs": [],
   "source": [
    "t = t.drop_duplicates(keep='first')"
   ]
  },
  {
   "cell_type": "code",
   "execution_count": 153,
   "metadata": {},
   "outputs": [
    {
     "data": {
      "text/plain": [
       "(51375, 140500)"
      ]
     },
     "execution_count": 153,
     "metadata": {},
     "output_type": "execute_result"
    }
   ],
   "source": [
    "len(t), len(topic_df)"
   ]
  },
  {
   "cell_type": "code",
   "execution_count": 154,
   "metadata": {},
   "outputs": [],
   "source": [
    "unique_topics = topic_df['bill_topic'].unique()\n",
    "for topic in unique_topics:\n",
    "    t[topic] = 0"
   ]
  },
  {
   "cell_type": "code",
   "execution_count": 155,
   "metadata": {},
   "outputs": [],
   "source": [
    "for row in topic_df.iterrows():\n",
    "#     print(row[1]['bill_topic'])\n",
    "    t.loc[(t['bill_num'] == row[1]['bill_num']) & (t['biennium'] == row[1]['biennium']), row[1]['bill_topic']] = 1"
   ]
  },
  {
   "cell_type": "code",
   "execution_count": null,
   "metadata": {},
   "outputs": [],
   "source": [
    "t.loc[(t['bill_num'] == '1001') & (t['biennium'] == '2015-16'), 'BUDGETS']"
   ]
  },
  {
   "cell_type": "code",
   "execution_count": 157,
   "metadata": {},
   "outputs": [
    {
     "data": {
      "text/plain": [
       "(51375, 1784)"
      ]
     },
     "execution_count": 157,
     "metadata": {},
     "output_type": "execute_result"
    }
   ],
   "source": [
    "t.shape"
   ]
  },
  {
   "cell_type": "code",
   "execution_count": 160,
   "metadata": {},
   "outputs": [],
   "source": [
    "t.to_csv('topic_staging.csv', sep=\"|\")"
   ]
  },
  {
   "cell_type": "code",
   "execution_count": null,
   "metadata": {},
   "outputs": [],
   "source": []
  },
  {
   "cell_type": "code",
   "execution_count": null,
   "metadata": {},
   "outputs": [],
   "source": []
  },
  {
   "cell_type": "code",
   "execution_count": null,
   "metadata": {},
   "outputs": [],
   "source": []
  },
  {
   "cell_type": "code",
   "execution_count": null,
   "metadata": {},
   "outputs": [],
   "source": []
  },
  {
   "cell_type": "code",
   "execution_count": null,
   "metadata": {},
   "outputs": [],
   "source": [
    "bill_df['bill_num'] = bill_df['bill_id'].str[-4:]"
   ]
  },
  {
   "cell_type": "markdown",
   "metadata": {},
   "source": [
    "# Make small data sets to play with"
   ]
  },
  {
   "cell_type": "code",
   "execution_count": null,
   "metadata": {},
   "outputs": [],
   "source": [
    "topic_df_1991 = topic_df[topic_df['biennium'] == '1991-92']"
   ]
  },
  {
   "cell_type": "code",
   "execution_count": null,
   "metadata": {},
   "outputs": [],
   "source": [
    "bill_df_1991 = bill_df[bill_df['biennium'] == '1991-92']"
   ]
  },
  {
   "cell_type": "code",
   "execution_count": null,
   "metadata": {},
   "outputs": [],
   "source": [
    "merged_df = bill_df.merge(topic_df, how='outer', on=['bill_num', 'biennium'])"
   ]
  },
  {
   "cell_type": "code",
   "execution_count": null,
   "metadata": {},
   "outputs": [],
   "source": [
    "len(merged_df)"
   ]
  },
  {
   "cell_type": "code",
   "execution_count": null,
   "metadata": {},
   "outputs": [],
   "source": [
    "len(merged_df[merged_df['bill_topic'].isnull()])"
   ]
  },
  {
   "cell_type": "code",
   "execution_count": null,
   "metadata": {},
   "outputs": [],
   "source": [
    "len(merged_df['bill_topic'].unique())"
   ]
  },
  {
   "cell_type": "code",
   "execution_count": null,
   "metadata": {},
   "outputs": [],
   "source": [
    "merged_df['bill_topic']"
   ]
  },
  {
   "cell_type": "code",
   "execution_count": null,
   "metadata": {},
   "outputs": [],
   "source": []
  },
  {
   "cell_type": "code",
   "execution_count": null,
   "metadata": {},
   "outputs": [],
   "source": []
  }
 ],
 "metadata": {
  "kernelspec": {
   "display_name": "Python 3",
   "language": "python",
   "name": "python3"
  },
  "language_info": {
   "codemirror_mode": {
    "name": "ipython",
    "version": 3
   },
   "file_extension": ".py",
   "mimetype": "text/x-python",
   "name": "python",
   "nbconvert_exporter": "python",
   "pygments_lexer": "ipython3",
   "version": "3.6.5"
  }
 },
 "nbformat": 4,
 "nbformat_minor": 2
}
