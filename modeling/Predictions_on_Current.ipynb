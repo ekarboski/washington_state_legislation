{
 "cells": [
  {
   "cell_type": "code",
   "execution_count": 7,
   "metadata": {},
   "outputs": [],
   "source": [
    "import psycopg2\n",
    "from sqlalchemy import create_engine\n",
    "\n",
    "import pandas as pd\n",
    "import numpy as np\n",
    "import string\n",
    "\n",
    "from sklearn.ensemble import RandomForestClassifier\n",
    "\n",
    "import os\n",
    "import sys\n",
    "module_path = os.path.abspath(os.path.join('..'))\n",
    "if module_path not in sys.path:\n",
    "    sys.path.append(module_path)\n",
    "\n",
    "\n",
    "from data_cleaning.create_staging_tables import create_loyalty_scores_df\n",
    "from data_cleaning.edit_current_legislator import filter_out_duplicates_from_current_leg\n",
    "from clean_for_model import prepare_bill_text_for_clean_df, create_clean_test, create_clean_test, create_label_df\n",
    "\n",
    "import seaborn as sns\n",
    "import matplotlib.pyplot as plt\n",
    "% matplotlib inline"
   ]
  },
  {
   "cell_type": "code",
   "execution_count": 39,
   "metadata": {},
   "outputs": [],
   "source": [
    "engine = create_engine('postgresql://localhost:5432/wa_leg_staging')"
   ]
  },
  {
   "cell_type": "code",
   "execution_count": 77,
   "metadata": {},
   "outputs": [],
   "source": [
    "merged_final_df = pd.read_sql_query('select * from \"merged_final\"',con=engine)\n",
    "bill_text_df_dirty = pd.read_sql_query('select * from \"bill_text\"',con=engine)\n",
    "rep_score_df = pd.read_sql_query('select * from \"rep_score\"',con=engine)\n",
    "loyalty_df = pd.read_sql_query('select * from \"loyalty\"',con=engine)\n",
    "\n",
    "current_df = pd.read_sql_query('select * from \"current_clean\"',con=engine)\n",
    "current_bill_text_dirty = pd.read_sql_query('select * from \"current_bill_text\"',con=engine)\n",
    "current_legislator_df = pd.read_sql_query('select * from \"current_legislator\"',con=engine)"
   ]
  },
  {
   "cell_type": "code",
   "execution_count": 85,
   "metadata": {},
   "outputs": [],
   "source": [
    "train_clean, bill_type_dct = create_clean_train(merged_final_df, bill_text_df, rep_score_df, loyalty_df)"
   ]
  },
  {
   "cell_type": "code",
   "execution_count": 89,
   "metadata": {},
   "outputs": [],
   "source": [
    "test_clean = create_clean_test(current_df, current_bill_text_df, loyalty_df, bill_type_dct)"
   ]
  },
  {
   "cell_type": "markdown",
   "metadata": {},
   "source": [
    "### Use Current Top Model"
   ]
  },
  {
   "cell_type": "code",
   "execution_count": 90,
   "metadata": {},
   "outputs": [],
   "source": [
    "# TRAIN\n",
    "X_train_t = train_clean[['voter_id', 'voting_agency', 'sponsor_agency', 'district', \n",
    "                     'party', 'is_primary_sponsor', 'is_secondary_sponsor', 'is_minority_party', \n",
    "                     'primary_sponsor_party', 'rep_score', 'loyalty_score', 'bill_length', 'bill_num', \n",
    "                     'num_sponsors', 'years_until_vote', 'percent_yea', 'num_sections', 'bill_type_score']]\n",
    "\n",
    "y_train_t = train_clean['vote']\n",
    "\n",
    "# TEST\n",
    "X_test_t = test_clean[['voter_id', 'voting_agency', 'sponsor_agency', 'district', \n",
    "                     'party', 'is_primary_sponsor', 'is_secondary_sponsor', 'is_minority_party', \n",
    "                     'primary_sponsor_party', 'rep_score', 'loyalty_score', 'bill_length', 'bill_num', \n",
    "                     'num_sponsors', 'years_until_vote', 'percent_yea', 'num_sections', 'bill_type_score']]"
   ]
  },
  {
   "cell_type": "code",
   "execution_count": 91,
   "metadata": {},
   "outputs": [
    {
     "name": "stdout",
     "output_type": "stream",
     "text": [
      "CPU times: user 5 µs, sys: 1e+03 ns, total: 6 µs\n",
      "Wall time: 9.78 µs\n"
     ]
    }
   ],
   "source": [
    "top_model = RandomForestClassifier(n_estimators=1000, max_depth=11, n_jobs=2, random_state=709)\n",
    "top_model.fit(X_train_t, y_train_t)\n",
    "y_pred_t = (top_model.predict_proba(X_test_t))[:, 1]\n",
    "% time"
   ]
  },
  {
   "cell_type": "code",
   "execution_count": 92,
   "metadata": {},
   "outputs": [
    {
     "data": {
      "text/plain": [
       "0.10278695233763821"
      ]
     },
     "execution_count": 92,
     "metadata": {},
     "output_type": "execute_result"
    }
   ],
   "source": [
    "y_pred_t.min()"
   ]
  },
  {
   "cell_type": "code",
   "execution_count": null,
   "metadata": {},
   "outputs": [],
   "source": [
    "label_df = create_label_df(test_clean, y_pred_t, current_legislator_df)"
   ]
  },
  {
   "cell_type": "markdown",
   "metadata": {},
   "source": [
    "# Save to wa_leg_label database"
   ]
  },
  {
   "cell_type": "code",
   "execution_count": 98,
   "metadata": {},
   "outputs": [],
   "source": [
    "engine_label = create_engine('postgresql://localhost:5432/wa_leg_label')"
   ]
  },
  {
   "cell_type": "code",
   "execution_count": 99,
   "metadata": {},
   "outputs": [],
   "source": [
    "con = engine_label.connect()"
   ]
  },
  {
   "cell_type": "code",
   "execution_count": 100,
   "metadata": {},
   "outputs": [],
   "source": [
    "label_df.to_sql('label_second', con, if_exists='replace', index=False)"
   ]
  }
 ],
 "metadata": {
  "kernelspec": {
   "display_name": "Python 3",
   "language": "python",
   "name": "python3"
  },
  "language_info": {
   "codemirror_mode": {
    "name": "ipython",
    "version": 3
   },
   "file_extension": ".py",
   "mimetype": "text/x-python",
   "name": "python",
   "nbconvert_exporter": "python",
   "pygments_lexer": "ipython3",
   "version": "3.6.5"
  }
 },
 "nbformat": 4,
 "nbformat_minor": 2
}
