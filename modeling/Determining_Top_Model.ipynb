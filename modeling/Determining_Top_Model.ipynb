{
 "cells": [
  {
   "cell_type": "code",
   "execution_count": 11,
   "metadata": {},
   "outputs": [],
   "source": [
    "import psycopg2\n",
    "from sqlalchemy import create_engine\n",
    "\n",
    "import pandas as pd\n",
    "import numpy as np\n",
    "import string\n",
    "\n",
    "from sklearn.linear_model import LogisticRegression\n",
    "from sklearn.ensemble import RandomForestClassifier, GradientBoostingClassifier\n",
    "from sklearn.model_selection import train_test_split, cross_val_score, GridSearchCV\n",
    "from sklearn.metrics import log_loss, roc_curve, roc_auc_score\n",
    "from sklearn.feature_extraction.text import TfidfVectorizer, CountVectorizer\n",
    "\n",
    "import nltk\n",
    "from nltk.corpus import stopwords\n",
    "from nltk.stem.wordnet import WordNetLemmatizer\n",
    "\n",
    "import os\n",
    "import sys\n",
    "module_path = os.path.abspath(os.path.join('..'))\n",
    "if module_path not in sys.path:\n",
    "    sys.path.append(module_path)\n",
    "\n",
    "from data_cleaning.create_staging_tables import create_loyalty_scores_df\n",
    "from clean_for_model import prepare_bill_text_for_clean_df, prepare_for_train_test_split, create_sample_train_test\n",
    "from stage_predict import stage_score_plot\n",
    "\n",
    "import seaborn as sns\n",
    "import matplotlib.pyplot as plt\n",
    "% matplotlib inline"
   ]
  },
  {
   "cell_type": "markdown",
   "metadata": {},
   "source": [
    "### Load from wa_leg_staging database"
   ]
  },
  {
   "cell_type": "code",
   "execution_count": 2,
   "metadata": {},
   "outputs": [],
   "source": [
    "engine = create_engine('postgresql://localhost:5432/wa_leg_staging')"
   ]
  },
  {
   "cell_type": "code",
   "execution_count": 3,
   "metadata": {},
   "outputs": [],
   "source": [
    "merged_final_df = pd.read_sql_query('select * from \"merged_final\"',con=engine)\n",
    "rep_score_df = pd.read_sql_query('select * from \"rep_score\"',con=engine)\n",
    "bill_text_df = pd.read_sql_query('select * from \"bill_text\"',con=engine)"
   ]
  },
  {
   "cell_type": "markdown",
   "metadata": {},
   "source": [
    "### Create clean dataframe"
   ]
  },
  {
   "cell_type": "code",
   "execution_count": 8,
   "metadata": {},
   "outputs": [],
   "source": [
    "clean = prepare_for_train_test_split(merged_final_df, bill_text_df, rep_score_df)"
   ]
  },
  {
   "cell_type": "code",
   "execution_count": 9,
   "metadata": {},
   "outputs": [
    {
     "data": {
      "text/html": [
       "<div>\n",
       "<style scoped>\n",
       "    .dataframe tbody tr th:only-of-type {\n",
       "        vertical-align: middle;\n",
       "    }\n",
       "\n",
       "    .dataframe tbody tr th {\n",
       "        vertical-align: top;\n",
       "    }\n",
       "\n",
       "    .dataframe thead th {\n",
       "        text-align: right;\n",
       "    }\n",
       "</style>\n",
       "<table border=\"1\" class=\"dataframe\">\n",
       "  <thead>\n",
       "    <tr style=\"text-align: right;\">\n",
       "      <th></th>\n",
       "      <th>vote</th>\n",
       "      <th>vote_date</th>\n",
       "      <th>voter_id</th>\n",
       "      <th>voting_agency</th>\n",
       "      <th>bill_unique</th>\n",
       "      <th>unique_id</th>\n",
       "      <th>biennium</th>\n",
       "      <th>bill_id</th>\n",
       "      <th>htm_url</th>\n",
       "      <th>sponsor_agency</th>\n",
       "      <th>...</th>\n",
       "      <th>dem_score</th>\n",
       "      <th>bill_length</th>\n",
       "      <th>num_sections</th>\n",
       "      <th>congress_num</th>\n",
       "      <th>num_sponsors</th>\n",
       "      <th>vote_year</th>\n",
       "      <th>first_year_read</th>\n",
       "      <th>years_until_vote</th>\n",
       "      <th>bill_type</th>\n",
       "      <th>bill_type_score</th>\n",
       "    </tr>\n",
       "  </thead>\n",
       "  <tbody>\n",
       "    <tr>\n",
       "      <th>0</th>\n",
       "      <td>1</td>\n",
       "      <td>1993-02-16</td>\n",
       "      <td>347</td>\n",
       "      <td>1</td>\n",
       "      <td>1993-94 SB 5426</td>\n",
       "      <td>12053.0</td>\n",
       "      <td>1993-94</td>\n",
       "      <td>SB 5426</td>\n",
       "      <td>http://app.leg.wa.gov/documents/billdocs/1993-...</td>\n",
       "      <td>1</td>\n",
       "      <td>...</td>\n",
       "      <td>0.5</td>\n",
       "      <td>33244</td>\n",
       "      <td>9</td>\n",
       "      <td>3</td>\n",
       "      <td>4</td>\n",
       "      <td>1993</td>\n",
       "      <td>1993.0</td>\n",
       "      <td>0.0</td>\n",
       "      <td>SB</td>\n",
       "      <td>0.980216</td>\n",
       "    </tr>\n",
       "    <tr>\n",
       "      <th>1</th>\n",
       "      <td>1</td>\n",
       "      <td>1993-02-16</td>\n",
       "      <td>360</td>\n",
       "      <td>1</td>\n",
       "      <td>1993-94 SB 5426</td>\n",
       "      <td>12053.0</td>\n",
       "      <td>1993-94</td>\n",
       "      <td>SB 5426</td>\n",
       "      <td>http://app.leg.wa.gov/documents/billdocs/1993-...</td>\n",
       "      <td>1</td>\n",
       "      <td>...</td>\n",
       "      <td>0.5</td>\n",
       "      <td>33244</td>\n",
       "      <td>9</td>\n",
       "      <td>3</td>\n",
       "      <td>4</td>\n",
       "      <td>1993</td>\n",
       "      <td>1993.0</td>\n",
       "      <td>0.0</td>\n",
       "      <td>SB</td>\n",
       "      <td>0.980216</td>\n",
       "    </tr>\n",
       "    <tr>\n",
       "      <th>2</th>\n",
       "      <td>1</td>\n",
       "      <td>1993-02-16</td>\n",
       "      <td>361</td>\n",
       "      <td>1</td>\n",
       "      <td>1993-94 SB 5426</td>\n",
       "      <td>12053.0</td>\n",
       "      <td>1993-94</td>\n",
       "      <td>SB 5426</td>\n",
       "      <td>http://app.leg.wa.gov/documents/billdocs/1993-...</td>\n",
       "      <td>1</td>\n",
       "      <td>...</td>\n",
       "      <td>0.5</td>\n",
       "      <td>33244</td>\n",
       "      <td>9</td>\n",
       "      <td>3</td>\n",
       "      <td>4</td>\n",
       "      <td>1993</td>\n",
       "      <td>1993.0</td>\n",
       "      <td>0.0</td>\n",
       "      <td>SB</td>\n",
       "      <td>0.980216</td>\n",
       "    </tr>\n",
       "    <tr>\n",
       "      <th>3</th>\n",
       "      <td>1</td>\n",
       "      <td>1993-02-16</td>\n",
       "      <td>387</td>\n",
       "      <td>1</td>\n",
       "      <td>1993-94 SB 5426</td>\n",
       "      <td>12053.0</td>\n",
       "      <td>1993-94</td>\n",
       "      <td>SB 5426</td>\n",
       "      <td>http://app.leg.wa.gov/documents/billdocs/1993-...</td>\n",
       "      <td>1</td>\n",
       "      <td>...</td>\n",
       "      <td>0.5</td>\n",
       "      <td>33244</td>\n",
       "      <td>9</td>\n",
       "      <td>3</td>\n",
       "      <td>4</td>\n",
       "      <td>1993</td>\n",
       "      <td>1993.0</td>\n",
       "      <td>0.0</td>\n",
       "      <td>SB</td>\n",
       "      <td>0.980216</td>\n",
       "    </tr>\n",
       "    <tr>\n",
       "      <th>4</th>\n",
       "      <td>1</td>\n",
       "      <td>1993-02-16</td>\n",
       "      <td>512</td>\n",
       "      <td>1</td>\n",
       "      <td>1993-94 SB 5426</td>\n",
       "      <td>12053.0</td>\n",
       "      <td>1993-94</td>\n",
       "      <td>SB 5426</td>\n",
       "      <td>http://app.leg.wa.gov/documents/billdocs/1993-...</td>\n",
       "      <td>1</td>\n",
       "      <td>...</td>\n",
       "      <td>0.5</td>\n",
       "      <td>33244</td>\n",
       "      <td>9</td>\n",
       "      <td>3</td>\n",
       "      <td>4</td>\n",
       "      <td>1993</td>\n",
       "      <td>1993.0</td>\n",
       "      <td>0.0</td>\n",
       "      <td>SB</td>\n",
       "      <td>0.980216</td>\n",
       "    </tr>\n",
       "  </tbody>\n",
       "</table>\n",
       "<p>5 rows × 34 columns</p>\n",
       "</div>"
      ],
      "text/plain": [
       "   vote  vote_date  voter_id  voting_agency      bill_unique  unique_id  \\\n",
       "0     1 1993-02-16       347              1  1993-94 SB 5426    12053.0   \n",
       "1     1 1993-02-16       360              1  1993-94 SB 5426    12053.0   \n",
       "2     1 1993-02-16       361              1  1993-94 SB 5426    12053.0   \n",
       "3     1 1993-02-16       387              1  1993-94 SB 5426    12053.0   \n",
       "4     1 1993-02-16       512              1  1993-94 SB 5426    12053.0   \n",
       "\n",
       "  biennium  bill_id                                            htm_url  \\\n",
       "0  1993-94  SB 5426  http://app.leg.wa.gov/documents/billdocs/1993-...   \n",
       "1  1993-94  SB 5426  http://app.leg.wa.gov/documents/billdocs/1993-...   \n",
       "2  1993-94  SB 5426  http://app.leg.wa.gov/documents/billdocs/1993-...   \n",
       "3  1993-94  SB 5426  http://app.leg.wa.gov/documents/billdocs/1993-...   \n",
       "4  1993-94  SB 5426  http://app.leg.wa.gov/documents/billdocs/1993-...   \n",
       "\n",
       "   sponsor_agency       ...        dem_score  bill_length  num_sections  \\\n",
       "0               1       ...              0.5        33244             9   \n",
       "1               1       ...              0.5        33244             9   \n",
       "2               1       ...              0.5        33244             9   \n",
       "3               1       ...              0.5        33244             9   \n",
       "4               1       ...              0.5        33244             9   \n",
       "\n",
       "   congress_num  num_sponsors  vote_year first_year_read years_until_vote  \\\n",
       "0             3             4       1993          1993.0              0.0   \n",
       "1             3             4       1993          1993.0              0.0   \n",
       "2             3             4       1993          1993.0              0.0   \n",
       "3             3             4       1993          1993.0              0.0   \n",
       "4             3             4       1993          1993.0              0.0   \n",
       "\n",
       "  bill_type bill_type_score  \n",
       "0        SB        0.980216  \n",
       "1        SB        0.980216  \n",
       "2        SB        0.980216  \n",
       "3        SB        0.980216  \n",
       "4        SB        0.980216  \n",
       "\n",
       "[5 rows x 34 columns]"
      ]
     },
     "execution_count": 9,
     "metadata": {},
     "output_type": "execute_result"
    }
   ],
   "source": [
    "clean.head()"
   ]
  },
  {
   "cell_type": "markdown",
   "metadata": {},
   "source": [
    "### Create sample and split into train and test "
   ]
  },
  {
   "cell_type": "code",
   "execution_count": 12,
   "metadata": {},
   "outputs": [],
   "source": [
    "sample_train, sample_test = create_sample_train_test(clean, n=300000)"
   ]
  },
  {
   "cell_type": "markdown",
   "metadata": {},
   "source": [
    "# Modeling"
   ]
  },
  {
   "cell_type": "markdown",
   "metadata": {},
   "source": [
    "### Baseline Model"
   ]
  },
  {
   "cell_type": "code",
   "execution_count": 13,
   "metadata": {},
   "outputs": [],
   "source": [
    "# TRAIN\n",
    "X_train_b = sample_train[['primary_sponsor_party', 'party']]\n",
    "y_train_b = sample_train['vote']\n",
    "\n",
    "# TEST\n",
    "X_test_b = sample_test[['primary_sponsor_party', 'party']]\n",
    "y_test_b = sample_test['vote']"
   ]
  },
  {
   "cell_type": "code",
   "execution_count": 14,
   "metadata": {},
   "outputs": [],
   "source": [
    "baseline_model = LogisticRegression()\n",
    "baseline_model.fit(X_train_b, y_train_b)\n",
    "y_pred_b = (baseline_model.predict_proba(X_test_b))[:,1]"
   ]
  },
  {
   "cell_type": "code",
   "execution_count": 15,
   "metadata": {},
   "outputs": [
    {
     "data": {
      "text/plain": [
       "0.9344986098372076"
      ]
     },
     "execution_count": 15,
     "metadata": {},
     "output_type": "execute_result"
    }
   ],
   "source": [
    "y_pred_b.max()"
   ]
  },
  {
   "cell_type": "code",
   "execution_count": 16,
   "metadata": {},
   "outputs": [
    {
     "data": {
      "text/plain": [
       "0.42390021226748026"
      ]
     },
     "execution_count": 16,
     "metadata": {},
     "output_type": "execute_result"
    }
   ],
   "source": [
    "log_loss(y_test_b, y_pred_b)"
   ]
  },
  {
   "cell_type": "code",
   "execution_count": 17,
   "metadata": {},
   "outputs": [
    {
     "data": {
      "text/plain": [
       "<matplotlib.collections.PathCollection at 0x1a7f816358>"
      ]
     },
     "execution_count": 17,
     "metadata": {},
     "output_type": "execute_result"
    },
    {
     "data": {
      "image/png": "[encoded data removed]",
      "text/plain": [
       "<Figure size 432x288 with 1 Axes>"
      ]
     },
     "metadata": {},
     "output_type": "display_data"
    }
   ],
   "source": [
    "fig, ax = plt.subplots()\n",
    "ax.scatter(y_pred_b, y_test_b, alpha=0.003)"
   ]
  },
  {
   "cell_type": "code",
   "execution_count": 18,
   "metadata": {},
   "outputs": [],
   "source": [
    "roc_auc_b = roc_auc_score(y_test_b, y_pred_b)\n",
    "fpr_b, tpr_b, thresholds_b = roc_curve(y_test_b, y_pred_b)"
   ]
  },
  {
   "cell_type": "code",
   "execution_count": 19,
   "metadata": {},
   "outputs": [
    {
     "data": {
      "image/png": "[encoded data removed]",
      "text/plain": [
       "<Figure size 432x288 with 1 Axes>"
      ]
     },
     "metadata": {},
     "output_type": "display_data"
    }
   ],
   "source": [
    "fig, ax = plt.subplots()\n",
    "plt.plot(fpr_b, tpr_b, color='darkorange', label= f'ROC curve (area = {round(roc_auc_b, 3)})')\n",
    "plt.plot([0, 1], [0, 1], color='navy', linestyle='--')\n",
    "plt.xlim([0.0, 1.0])\n",
    "plt.ylim([0.0, 1.05])\n",
    "plt.xlabel('False Positive Rate')\n",
    "plt.ylabel('True Positive Rate')\n",
    "plt.title('ROC Baseline Model')\n",
    "plt.legend(loc=\"lower right\")\n",
    "plt.show()"
   ]
  },
  {
   "cell_type": "markdown",
   "metadata": {},
   "source": [
    "### Current Top Model - Random Forest"
   ]
  },
  {
   "cell_type": "code",
   "execution_count": 20,
   "metadata": {},
   "outputs": [],
   "source": [
    "# TRAIN\n",
    "X_train_t = sample_train[['voter_id', 'voting_agency', 'sponsor_agency', 'district', \n",
    "                     'party', 'is_primary_sponsor', 'is_secondary_sponsor', 'is_minority_party', \n",
    "                     'primary_sponsor_party', 'rep_score', 'loyalty_score', 'bill_length', 'bill_num', \n",
    "                     'num_sponsors', 'years_until_vote', 'percent_yea', 'num_sections', 'bill_type_score']]\n",
    "\n",
    "y_train_t = sample_train['vote']\n",
    "\n",
    "# TEST\n",
    "X_test_t = sample_test[['voter_id', 'voting_agency', 'sponsor_agency', 'district', \n",
    "                     'party', 'is_primary_sponsor', 'is_secondary_sponsor', 'is_minority_party', \n",
    "                     'primary_sponsor_party', 'rep_score', 'loyalty_score', 'bill_length', 'bill_num', \n",
    "                     'num_sponsors', 'years_until_vote', 'percent_yea', 'num_sections', 'bill_type_score']]\n",
    "\n",
    "y_test_t = sample_test['vote']"
   ]
  },
  {
   "cell_type": "code",
   "execution_count": 22,
   "metadata": {},
   "outputs": [
    {
     "ename": "ValueError",
     "evalue": "Input contains NaN, infinity or a value too large for dtype('float32').",
     "output_type": "error",
     "traceback": [
      "\u001b[0;31m---------------------------------------------------------------------------\u001b[0m",
      "\u001b[0;31mValueError\u001b[0m                                Traceback (most recent call last)",
      "\u001b[0;32m<ipython-input-22-9db0d2d06688>\u001b[0m in \u001b[0;36m<module>\u001b[0;34m()\u001b[0m\n\u001b[1;32m      1\u001b[0m \u001b[0mtop_model\u001b[0m \u001b[0;34m=\u001b[0m \u001b[0mRandomForestClassifier\u001b[0m\u001b[0;34m(\u001b[0m\u001b[0mn_estimators\u001b[0m\u001b[0;34m=\u001b[0m\u001b[0;36m1000\u001b[0m\u001b[0;34m,\u001b[0m \u001b[0mmax_depth\u001b[0m\u001b[0;34m=\u001b[0m\u001b[0;36m11\u001b[0m\u001b[0;34m,\u001b[0m \u001b[0mn_jobs\u001b[0m\u001b[0;34m=\u001b[0m\u001b[0;36m2\u001b[0m\u001b[0;34m,\u001b[0m \u001b[0mrandom_state\u001b[0m\u001b[0;34m=\u001b[0m\u001b[0;36m709\u001b[0m\u001b[0;34m)\u001b[0m\u001b[0;34m\u001b[0m\u001b[0m\n\u001b[1;32m      2\u001b[0m \u001b[0mtop_model\u001b[0m\u001b[0;34m.\u001b[0m\u001b[0mfit\u001b[0m\u001b[0;34m(\u001b[0m\u001b[0mX_train_t\u001b[0m\u001b[0;34m,\u001b[0m \u001b[0my_train_t\u001b[0m\u001b[0;34m)\u001b[0m\u001b[0;34m\u001b[0m\u001b[0m\n\u001b[0;32m----> 3\u001b[0;31m \u001b[0my_pred_t\u001b[0m \u001b[0;34m=\u001b[0m \u001b[0;34m(\u001b[0m\u001b[0mtop_model\u001b[0m\u001b[0;34m.\u001b[0m\u001b[0mpredict_proba\u001b[0m\u001b[0;34m(\u001b[0m\u001b[0mX_test_t\u001b[0m\u001b[0;34m)\u001b[0m\u001b[0;34m)\u001b[0m\u001b[0;34m[\u001b[0m\u001b[0;34m:\u001b[0m\u001b[0;34m,\u001b[0m \u001b[0;36m1\u001b[0m\u001b[0;34m]\u001b[0m\u001b[0;34m\u001b[0m\u001b[0m\n\u001b[0m",
      "\u001b[0;32m/anaconda3/lib/python3.6/site-packages/sklearn/ensemble/forest.py\u001b[0m in \u001b[0;36mpredict_proba\u001b[0;34m(self, X)\u001b[0m\n\u001b[1;32m    576\u001b[0m         \u001b[0mcheck_is_fitted\u001b[0m\u001b[0;34m(\u001b[0m\u001b[0mself\u001b[0m\u001b[0;34m,\u001b[0m \u001b[0;34m'estimators_'\u001b[0m\u001b[0;34m)\u001b[0m\u001b[0;34m\u001b[0m\u001b[0m\n\u001b[1;32m    577\u001b[0m         \u001b[0;31m# Check data\u001b[0m\u001b[0;34m\u001b[0m\u001b[0;34m\u001b[0m\u001b[0m\n\u001b[0;32m--> 578\u001b[0;31m         \u001b[0mX\u001b[0m \u001b[0;34m=\u001b[0m \u001b[0mself\u001b[0m\u001b[0;34m.\u001b[0m\u001b[0m_validate_X_predict\u001b[0m\u001b[0;34m(\u001b[0m\u001b[0mX\u001b[0m\u001b[0;34m)\u001b[0m\u001b[0;34m\u001b[0m\u001b[0m\n\u001b[0m\u001b[1;32m    579\u001b[0m \u001b[0;34m\u001b[0m\u001b[0m\n\u001b[1;32m    580\u001b[0m         \u001b[0;31m# Assign chunk of trees to jobs\u001b[0m\u001b[0;34m\u001b[0m\u001b[0;34m\u001b[0m\u001b[0m\n",
      "\u001b[0;32m/anaconda3/lib/python3.6/site-packages/sklearn/ensemble/forest.py\u001b[0m in \u001b[0;36m_validate_X_predict\u001b[0;34m(self, X)\u001b[0m\n\u001b[1;32m    355\u001b[0m                                  \"call `fit` before exploiting the model.\")\n\u001b[1;32m    356\u001b[0m \u001b[0;34m\u001b[0m\u001b[0m\n\u001b[0;32m--> 357\u001b[0;31m         \u001b[0;32mreturn\u001b[0m \u001b[0mself\u001b[0m\u001b[0;34m.\u001b[0m\u001b[0mestimators_\u001b[0m\u001b[0;34m[\u001b[0m\u001b[0;36m0\u001b[0m\u001b[0;34m]\u001b[0m\u001b[0;34m.\u001b[0m\u001b[0m_validate_X_predict\u001b[0m\u001b[0;34m(\u001b[0m\u001b[0mX\u001b[0m\u001b[0;34m,\u001b[0m \u001b[0mcheck_input\u001b[0m\u001b[0;34m=\u001b[0m\u001b[0;32mTrue\u001b[0m\u001b[0;34m)\u001b[0m\u001b[0;34m\u001b[0m\u001b[0m\n\u001b[0m\u001b[1;32m    358\u001b[0m \u001b[0;34m\u001b[0m\u001b[0m\n\u001b[1;32m    359\u001b[0m     \u001b[0;34m@\u001b[0m\u001b[0mproperty\u001b[0m\u001b[0;34m\u001b[0m\u001b[0m\n",
      "\u001b[0;32m/anaconda3/lib/python3.6/site-packages/sklearn/tree/tree.py\u001b[0m in \u001b[0;36m_validate_X_predict\u001b[0;34m(self, X, check_input)\u001b[0m\n\u001b[1;32m    371\u001b[0m         \u001b[0;34m\"\"\"Validate X whenever one tries to predict, apply, predict_proba\"\"\"\u001b[0m\u001b[0;34m\u001b[0m\u001b[0m\n\u001b[1;32m    372\u001b[0m         \u001b[0;32mif\u001b[0m \u001b[0mcheck_input\u001b[0m\u001b[0;34m:\u001b[0m\u001b[0;34m\u001b[0m\u001b[0m\n\u001b[0;32m--> 373\u001b[0;31m             \u001b[0mX\u001b[0m \u001b[0;34m=\u001b[0m \u001b[0mcheck_array\u001b[0m\u001b[0;34m(\u001b[0m\u001b[0mX\u001b[0m\u001b[0;34m,\u001b[0m \u001b[0mdtype\u001b[0m\u001b[0;34m=\u001b[0m\u001b[0mDTYPE\u001b[0m\u001b[0;34m,\u001b[0m \u001b[0maccept_sparse\u001b[0m\u001b[0;34m=\u001b[0m\u001b[0;34m\"csr\"\u001b[0m\u001b[0;34m)\u001b[0m\u001b[0;34m\u001b[0m\u001b[0m\n\u001b[0m\u001b[1;32m    374\u001b[0m             if issparse(X) and (X.indices.dtype != np.intc or\n\u001b[1;32m    375\u001b[0m                                 X.indptr.dtype != np.intc):\n",
      "\u001b[0;32m/anaconda3/lib/python3.6/site-packages/sklearn/utils/validation.py\u001b[0m in \u001b[0;36mcheck_array\u001b[0;34m(array, accept_sparse, dtype, order, copy, force_all_finite, ensure_2d, allow_nd, ensure_min_samples, ensure_min_features, warn_on_dtype, estimator)\u001b[0m\n\u001b[1;32m    451\u001b[0m                              % (array.ndim, estimator_name))\n\u001b[1;32m    452\u001b[0m         \u001b[0;32mif\u001b[0m \u001b[0mforce_all_finite\u001b[0m\u001b[0;34m:\u001b[0m\u001b[0;34m\u001b[0m\u001b[0m\n\u001b[0;32m--> 453\u001b[0;31m             \u001b[0m_assert_all_finite\u001b[0m\u001b[0;34m(\u001b[0m\u001b[0marray\u001b[0m\u001b[0;34m)\u001b[0m\u001b[0;34m\u001b[0m\u001b[0m\n\u001b[0m\u001b[1;32m    454\u001b[0m \u001b[0;34m\u001b[0m\u001b[0m\n\u001b[1;32m    455\u001b[0m     \u001b[0mshape_repr\u001b[0m \u001b[0;34m=\u001b[0m \u001b[0m_shape_repr\u001b[0m\u001b[0;34m(\u001b[0m\u001b[0marray\u001b[0m\u001b[0;34m.\u001b[0m\u001b[0mshape\u001b[0m\u001b[0;34m)\u001b[0m\u001b[0;34m\u001b[0m\u001b[0m\n",
      "\u001b[0;32m/anaconda3/lib/python3.6/site-packages/sklearn/utils/validation.py\u001b[0m in \u001b[0;36m_assert_all_finite\u001b[0;34m(X)\u001b[0m\n\u001b[1;32m     42\u001b[0m             and not np.isfinite(X).all()):\n\u001b[1;32m     43\u001b[0m         raise ValueError(\"Input contains NaN, infinity\"\n\u001b[0;32m---> 44\u001b[0;31m                          \" or a value too large for %r.\" % X.dtype)\n\u001b[0m\u001b[1;32m     45\u001b[0m \u001b[0;34m\u001b[0m\u001b[0m\n\u001b[1;32m     46\u001b[0m \u001b[0;34m\u001b[0m\u001b[0m\n",
      "\u001b[0;31mValueError\u001b[0m: Input contains NaN, infinity or a value too large for dtype('float32')."
     ]
    }
   ],
   "source": [
    "top_model = RandomForestClassifier(n_estimators=1000, max_depth=11, n_jobs=2, random_state=709)\n",
    "top_model.fit(X_train_t, y_train_t)\n",
    "y_pred_t = (top_model.predict_proba(X_test_t))[:, 1]"
   ]
  },
  {
   "cell_type": "code",
   "execution_count": 43,
   "metadata": {},
   "outputs": [
    {
     "data": {
      "text/plain": [
       "0.3530692058687331"
      ]
     },
     "execution_count": 43,
     "metadata": {},
     "output_type": "execute_result"
    }
   ],
   "source": [
    "log_loss(y_test_t, y_pred_t)"
   ]
  },
  {
   "cell_type": "code",
   "execution_count": 44,
   "metadata": {},
   "outputs": [
    {
     "data": {
      "text/plain": [
       "0.2615225983948311"
      ]
     },
     "execution_count": 44,
     "metadata": {},
     "output_type": "execute_result"
    }
   ],
   "source": [
    "y_pred_t.min()"
   ]
  },
  {
   "cell_type": "code",
   "execution_count": 45,
   "metadata": {},
   "outputs": [
    {
     "data": {
      "text/plain": [
       "<matplotlib.collections.PathCollection at 0x1a761512e8>"
      ]
     },
     "execution_count": 45,
     "metadata": {},
     "output_type": "execute_result"
    },
    {
     "data": {
      "image/png": "[encoded data removed]",
      "text/plain": [
       "<Figure size 432x288 with 1 Axes>"
      ]
     },
     "metadata": {},
     "output_type": "display_data"
    }
   ],
   "source": [
    "fig, ax = plt.subplots()\n",
    "ax.scatter(y_pred_t, y_test_t, alpha=0.003)"
   ]
  },
  {
   "cell_type": "code",
   "execution_count": 46,
   "metadata": {},
   "outputs": [],
   "source": [
    "fpr_t, tpr_t, thresholds_t = roc_curve(y_test_t, y_pred_t)"
   ]
  },
  {
   "cell_type": "code",
   "execution_count": 47,
   "metadata": {},
   "outputs": [
    {
     "data": {
      "text/plain": [
       "0.803178691950253"
      ]
     },
     "execution_count": 47,
     "metadata": {},
     "output_type": "execute_result"
    }
   ],
   "source": [
    "roc_auc_t = roc_auc_score(y_test_t, y_pred_t)\n",
    "roc_auc_t"
   ]
  },
  {
   "cell_type": "code",
   "execution_count": 521,
   "metadata": {},
   "outputs": [
    {
     "data": {
      "image/png": "[encoded data removed]",
      "text/plain": [
       "<Figure size 432x288 with 1 Axes>"
      ]
     },
     "metadata": {},
     "output_type": "display_data"
    }
   ],
   "source": [
    "fig, ax = plt.subplots()\n",
    "plt.plot(fpr_t, tpr_t, color='darkorange', label= f'ROC curve (area = {round(roc_auc_t, 3)})')\n",
    "plt.plot([0, 1], [0, 1], color='navy', linestyle='--')\n",
    "plt.xlim([0.0, 1.0])\n",
    "plt.ylim([0.0, 1.05])\n",
    "plt.xlabel('False Positive Rate')\n",
    "plt.ylabel('True Positive Rate')\n",
    "plt.title('ROC Top Model')\n",
    "plt.legend(loc=\"lower right\")\n",
    "plt.show()"
   ]
  },
  {
   "cell_type": "markdown",
   "metadata": {},
   "source": [
    "### Trying Gradient Boosting Classifier"
   ]
  },
  {
   "cell_type": "code",
   "execution_count": 357,
   "metadata": {},
   "outputs": [],
   "source": [
    "# TRAIN\n",
    "X_train_n = sample_train[['voter_id', 'voting_agency', 'sponsor_agency', 'district', \n",
    "                     'party', 'is_primary_sponsor', 'is_secondary_sponsor', 'is_minority_party', \n",
    "                     'primary_sponsor_party', 'rep_score', 'loyalty_score', 'bill_length', 'bill_num', \n",
    "                     'num_sponsors', 'years_until_vote', 'percent_yea', 'num_sections', 'bill_type_score']]\n",
    "\n",
    "y_train_n = sample_train['vote']\n",
    "\n",
    "# TEST\n",
    "X_test_n = sample_test[['voter_id', 'voting_agency', 'sponsor_agency', 'district', \n",
    "                     'party', 'is_primary_sponsor', 'is_secondary_sponsor', 'is_minority_party', \n",
    "                     'primary_sponsor_party', 'rep_score', 'loyalty_score', 'bill_length', 'bill_num', \n",
    "                     'num_sponsors', 'years_until_vote', 'percent_yea', 'num_sections', 'bill_type_score']]\n",
    "\n",
    "y_test_n = sample_test['vote']"
   ]
  },
  {
   "cell_type": "code",
   "execution_count": 420,
   "metadata": {},
   "outputs": [],
   "source": [
    "new_model = GradientBoostingClassifier(learning_rate=0.05, n_estimators=25, max_depth=6, random_state=709, \n",
    "                                       verbose=1)"
   ]
  },
  {
   "cell_type": "code",
   "execution_count": 421,
   "metadata": {
    "scrolled": false
   },
   "outputs": [
    {
     "name": "stdout",
     "output_type": "stream",
     "text": [
      "      Iter       Train Loss   Remaining Time \n",
      "         1           0.6288           25.99s\n",
      "         2           0.6196           23.76s\n",
      "         3           0.6114           22.31s\n",
      "         4           0.6045           22.82s\n",
      "         5           0.5984           21.72s\n",
      "         6           0.5930           20.29s\n",
      "         7           0.5881           19.02s\n",
      "         8           0.5838           17.87s\n",
      "         9           0.5797           16.86s\n",
      "        10           0.5758           15.93s\n",
      "        20           0.5475            5.20s\n"
     ]
    },
    {
     "data": {
      "text/plain": [
       "GradientBoostingClassifier(criterion='friedman_mse', init=None,\n",
       "              learning_rate=0.05, loss='deviance', max_depth=6,\n",
       "              max_features=None, max_leaf_nodes=None,\n",
       "              min_impurity_decrease=0.0, min_impurity_split=None,\n",
       "              min_samples_leaf=1, min_samples_split=2,\n",
       "              min_weight_fraction_leaf=0.0, n_estimators=25,\n",
       "              presort='auto', random_state=709, subsample=1.0, verbose=1,\n",
       "              warm_start=False)"
      ]
     },
     "execution_count": 421,
     "metadata": {},
     "output_type": "execute_result"
    }
   ],
   "source": [
    "new_model.fit(X_train_n, y_train_n)"
   ]
  },
  {
   "cell_type": "code",
   "execution_count": 419,
   "metadata": {},
   "outputs": [
    {
     "name": "stdout",
     "output_type": "stream",
     "text": [
      "25\n"
     ]
    },
    {
     "data": {
      "image/png": "[encoded data removed]",
      "text/plain": [
       "<Figure size 864x576 with 1 Axes>"
      ]
     },
     "metadata": {},
     "output_type": "display_data"
    }
   ],
   "source": [
    "fig, ax = plt.subplots(figsize=(12, 8))\n",
    "stage_score_plot(new_model, X_train_n, y_train_n, X_test_n, y_test_n, ax)\n",
    "ax.legend()\n",
    "plt.show()"
   ]
  },
  {
   "cell_type": "code",
   "execution_count": 422,
   "metadata": {},
   "outputs": [],
   "source": [
    "y_pred_n = (new_model.predict_proba(X_test_n))[:, 1]"
   ]
  },
  {
   "cell_type": "code",
   "execution_count": 423,
   "metadata": {},
   "outputs": [
    {
     "data": {
      "text/plain": [
       "0.3521900021383175"
      ]
     },
     "execution_count": 423,
     "metadata": {},
     "output_type": "execute_result"
    }
   ],
   "source": [
    "log_loss(y_test_n, y_pred_n)"
   ]
  },
  {
   "cell_type": "code",
   "execution_count": 424,
   "metadata": {},
   "outputs": [
    {
     "data": {
      "text/plain": [
       "0.37285957888024013"
      ]
     },
     "execution_count": 424,
     "metadata": {},
     "output_type": "execute_result"
    }
   ],
   "source": [
    "y_pred_n.min()"
   ]
  },
  {
   "cell_type": "code",
   "execution_count": 425,
   "metadata": {},
   "outputs": [
    {
     "data": {
      "text/plain": [
       "<matplotlib.collections.PathCollection at 0x1a26f9fc18>"
      ]
     },
     "execution_count": 425,
     "metadata": {},
     "output_type": "execute_result"
    },
    {
     "data": {
      "image/png": "[encoded data removed]",
      "text/plain": [
       "<Figure size 432x288 with 1 Axes>"
      ]
     },
     "metadata": {},
     "output_type": "display_data"
    }
   ],
   "source": [
    "fig, ax = plt.subplots()\n",
    "ax.scatter(y_pred_n, y_test_n, alpha=0.01)"
   ]
  },
  {
   "cell_type": "code",
   "execution_count": 426,
   "metadata": {},
   "outputs": [],
   "source": [
    "fpr_n, tpr_n, thresholds_n = roc_curve(y_test_n, y_pred_n)"
   ]
  },
  {
   "cell_type": "code",
   "execution_count": 427,
   "metadata": {},
   "outputs": [
    {
     "data": {
      "text/plain": [
       "0.7985873138706923"
      ]
     },
     "execution_count": 427,
     "metadata": {},
     "output_type": "execute_result"
    }
   ],
   "source": [
    "roc_auc_n = roc_auc_score(y_test_n, y_pred_n)\n",
    "roc_auc_n"
   ]
  },
  {
   "cell_type": "code",
   "execution_count": 428,
   "metadata": {},
   "outputs": [
    {
     "data": {
      "image/png": "[encoded data removed]",
      "text/plain": [
       "<Figure size 432x288 with 1 Axes>"
      ]
     },
     "metadata": {},
     "output_type": "display_data"
    }
   ],
   "source": [
    "fig, ax = plt.subplots()\n",
    "plt.plot(fpr_n, tpr_n, color='darkorange', label= f'ROC curve (area = {round(roc_auc_n, 3)})')\n",
    "plt.plot([0, 1], [0, 1], color='navy', linestyle='--')\n",
    "plt.xlim([0.0, 1.0])\n",
    "plt.ylim([0.0, 1.05])\n",
    "plt.xlabel('False Positive Rate')\n",
    "plt.ylabel('True Positive Rate')\n",
    "plt.title('ROC Top Model')\n",
    "plt.legend(loc=\"lower right\")\n",
    "plt.show()"
   ]
  },
  {
   "cell_type": "code",
   "execution_count": null,
   "metadata": {},
   "outputs": [],
   "source": []
  },
  {
   "cell_type": "code",
   "execution_count": null,
   "metadata": {},
   "outputs": [],
   "source": []
  },
  {
   "cell_type": "code",
   "execution_count": null,
   "metadata": {},
   "outputs": [],
   "source": []
  },
  {
   "cell_type": "code",
   "execution_count": null,
   "metadata": {},
   "outputs": [],
   "source": []
  },
  {
   "cell_type": "code",
   "execution_count": null,
   "metadata": {},
   "outputs": [],
   "source": []
  },
  {
   "cell_type": "markdown",
   "metadata": {},
   "source": [
    "### NLP Playground"
   ]
  },
  {
   "cell_type": "code",
   "execution_count": 432,
   "metadata": {},
   "outputs": [],
   "source": [
    "my_stopwords = ['enacted', 'passed', 'pass', 'yeas', 'nays', 'absents', 'yea', 'nay',\n",
    "                'absents', 'undecided', 'undecideds']\n",
    "\n",
    "stop_nums = list(set([str(num) for num in range(0, 2025)]))\n",
    "stopwords_nltk = list(set(stopwords.words('english')))\n",
    "\n",
    "stopwords_nltk.extend(my_stopwords)\n",
    "stopwords_nltk.extend(stop_nums)\n",
    "stopwords_nltk = set(stopwords_nltk)"
   ]
  },
  {
   "cell_type": "code",
   "execution_count": 429,
   "metadata": {},
   "outputs": [],
   "source": [
    "# TRAIN\n",
    "X_train = sample_train[['voter_id', 'voting_agency', 'unique_id', 'sponsor_agency', 'district', \n",
    "                     'party', 'is_primary_sponsor', 'is_secondary_sponsor', 'is_minority_party', \n",
    "                     'primary_sponsor_party', 'rep_score', 'loyalty_score', 'bill_length', 'bill_num']]\n",
    "\n",
    "y_train = sample_train['vote']\n",
    "\n",
    "# TEST\n",
    "X_test = sample_test[['voter_id', 'voting_agency', 'unique_id', 'sponsor_agency', 'district', \n",
    "                     'party', 'is_primary_sponsor', 'is_secondary_sponsor', 'is_minority_party', \n",
    "                     'primary_sponsor_party', 'rep_score', 'loyalty_score', 'bill_length', 'bill_num']]\n",
    "\n",
    "y_test = sample_test['vote']"
   ]
  },
  {
   "cell_type": "code",
   "execution_count": 430,
   "metadata": {},
   "outputs": [
    {
     "data": {
      "text/plain": [
       "283316"
      ]
     },
     "execution_count": 430,
     "metadata": {},
     "output_type": "execute_result"
    }
   ],
   "source": [
    "bills = sample_train['bill_text']\n",
    "bills_test = sample_test['bill_text']\n",
    "len(bills)"
   ]
  },
  {
   "cell_type": "code",
   "execution_count": 433,
   "metadata": {},
   "outputs": [],
   "source": [
    "tf = TfidfVectorizer(stop_words=stopwords_nltk, ngram_range=(1, 2), max_df=0.85, max_features=8000)"
   ]
  },
  {
   "cell_type": "code",
   "execution_count": 3,
   "metadata": {},
   "outputs": [],
   "source": [
    "fitted = tf.fit(bills)"
   ]
  },
  {
   "cell_type": "code",
   "execution_count": null,
   "metadata": {},
   "outputs": [],
   "source": [
    "transformed_train = tf.transform(bills)"
   ]
  },
  {
   "cell_type": "code",
   "execution_count": null,
   "metadata": {},
   "outputs": [],
   "source": [
    "transformed_test = tf.transform(bills_test)"
   ]
  },
  {
   "cell_type": "code",
   "execution_count": null,
   "metadata": {},
   "outputs": [],
   "source": [
    "def tfidf_transformed_to_dataframe(transformed):\n",
    "    tfidf_cols = transformed.toarray()\n",
    "    tfidf_names = fitted.get_feature_names()\n",
    "    tfidf_df = pd.DataFrame(tfidf_cols, columns=tfidf_names)\n",
    "\n",
    "    return tfidf_df"
   ]
  },
  {
   "cell_type": "code",
   "execution_count": null,
   "metadata": {},
   "outputs": [],
   "source": [
    "tfidf_train_df = tfidf_transformed_to_dataframe(transformed_train)\n",
    "X_train = X_train.reset_index().drop('index', axis=1)\n",
    "X_train = pd.concat([X_train, tfidf_train_df], axis=1)"
   ]
  },
  {
   "cell_type": "code",
   "execution_count": null,
   "metadata": {},
   "outputs": [],
   "source": [
    "tfidf_test_df =  tfidf_transformed_to_dataframe(transformed_test)\n",
    "X_test = X_test.reset_index().drop('index', axis=1)\n",
    "X_test = pd.concat([X_test, tfidf_test_df], axis=1)"
   ]
  },
  {
   "cell_type": "code",
   "execution_count": null,
   "metadata": {},
   "outputs": [],
   "source": [
    "X_train.head()"
   ]
  },
  {
   "cell_type": "code",
   "execution_count": null,
   "metadata": {},
   "outputs": [],
   "source": [
    "model = RandomForestClassifier(n_estimators=5000, max_depth=7, n_jobs=2, random_state=709)\n",
    "model.fit(X_train, y_train)\n",
    "y_pred = (model.predict_proba(X_test))[:, 1]"
   ]
  },
  {
   "cell_type": "code",
   "execution_count": null,
   "metadata": {},
   "outputs": [],
   "source": [
    "log_loss(y_test, y_pred)"
   ]
  },
  {
   "cell_type": "code",
   "execution_count": null,
   "metadata": {},
   "outputs": [],
   "source": [
    "y_pred.min()"
   ]
  },
  {
   "cell_type": "code",
   "execution_count": null,
   "metadata": {},
   "outputs": [],
   "source": [
    "fig, ax = plt.subplots()\n",
    "ax.scatter(y_pred, y_test, alpha=0.01)"
   ]
  },
  {
   "cell_type": "code",
   "execution_count": null,
   "metadata": {},
   "outputs": [],
   "source": [
    "fpr, tpr, thresholds = roc_curve(y_test, y_pred)"
   ]
  },
  {
   "cell_type": "code",
   "execution_count": null,
   "metadata": {},
   "outputs": [],
   "source": [
    "roc_auc = roc_auc_score(y_test, y_pred)\n",
    "roc_auc"
   ]
  },
  {
   "cell_type": "code",
   "execution_count": null,
   "metadata": {},
   "outputs": [],
   "source": [
    "fig, ax = plt.subplots()\n",
    "plt.plot(fpr, tpr, color='darkorange', label= f'ROC curve (area = {round(roc_auc, 3)})')\n",
    "plt.plot([0, 1], [0, 1], color='navy', linestyle='--')\n",
    "plt.xlim([0.0, 1.0])\n",
    "plt.ylim([0.0, 1.05])\n",
    "plt.xlabel('False Positive Rate')\n",
    "plt.ylabel('True Positive Rate')\n",
    "plt.title('ROC rep and loyalty scores 2015-16')\n",
    "plt.legend(loc=\"lower right\")\n",
    "plt.show()"
   ]
  },
  {
   "cell_type": "code",
   "execution_count": null,
   "metadata": {},
   "outputs": [],
   "source": [
    "features_importances = pd.DataFrame(model.feature_importances_, index=X_train.columns)"
   ]
  },
  {
   "cell_type": "code",
   "execution_count": null,
   "metadata": {},
   "outputs": [],
   "source": [
    "X_train.columns"
   ]
  },
  {
   "cell_type": "code",
   "execution_count": null,
   "metadata": {},
   "outputs": [],
   "source": [
    "features_importances_sorted = features_importances.sort_values(by=0, ascending=False)"
   ]
  },
  {
   "cell_type": "code",
   "execution_count": null,
   "metadata": {},
   "outputs": [],
   "source": [
    "features_importances_sorted"
   ]
  },
  {
   "cell_type": "code",
   "execution_count": null,
   "metadata": {},
   "outputs": [],
   "source": []
  },
  {
   "cell_type": "code",
   "execution_count": null,
   "metadata": {},
   "outputs": [],
   "source": []
  },
  {
   "cell_type": "markdown",
   "metadata": {},
   "source": [
    "### Topic Playground"
   ]
  },
  {
   "cell_type": "code",
   "execution_count": null,
   "metadata": {},
   "outputs": [],
   "source": [
    "# bills = sample_one_year['bill_text']"
   ]
  },
  {
   "cell_type": "code",
   "execution_count": null,
   "metadata": {},
   "outputs": [],
   "source": [
    "# wordnet = WordNetLemmatizer()"
   ]
  },
  {
   "cell_type": "code",
   "execution_count": null,
   "metadata": {},
   "outputs": [],
   "source": [
    "# def create_bill_tokens(bill):\n",
    "#     bill = bill.replace('\\n', ' ') \n",
    "#     punctuations = set(string.punctuation)\n",
    "    \n",
    "#     bill = ''.join([char.lower() for char in bill if char not in punctuations])\n",
    "#     bill_tokens = bill.split(' ')\n",
    "#     lemmed_bill = [wordnet.lemmatize(word) for word in bill_tokens] \n",
    "    \n",
    "#     return lemmed_bill"
   ]
  },
  {
   "cell_type": "code",
   "execution_count": null,
   "metadata": {},
   "outputs": [],
   "source": [
    "topic_df = pd.read_csv('topic_staging_better.csv', sep=\"|\")"
   ]
  },
  {
   "cell_type": "code",
   "execution_count": null,
   "metadata": {},
   "outputs": [],
   "source": [
    "topic_df['bill_num_unique'] = topic_df['biennium'] + ' ' + topic_df['bill_num'].apply(str)"
   ]
  },
  {
   "cell_type": "code",
   "execution_count": null,
   "metadata": {},
   "outputs": [],
   "source": [
    "topic_df = topic_df.drop('biennium', axis=1)"
   ]
  },
  {
   "cell_type": "code",
   "execution_count": null,
   "metadata": {},
   "outputs": [],
   "source": [
    "MERGED = sample_train.merge(topic_df, how='left', on='bill_num_unique')"
   ]
  },
  {
   "cell_type": "code",
   "execution_count": null,
   "metadata": {},
   "outputs": [],
   "source": [
    "MERGED_train = MERGED[MERGED['bill_id_y'].notnull()]"
   ]
  },
  {
   "cell_type": "code",
   "execution_count": null,
   "metadata": {},
   "outputs": [],
   "source": [
    "MERGED_test = sample_test.merge(topic_df, how='left', on='bill_num_unique')"
   ]
  },
  {
   "cell_type": "code",
   "execution_count": null,
   "metadata": {},
   "outputs": [],
   "source": [
    "MERGED_test = MERGED_test[MERGED_test['bill_id_y'].notnull()]"
   ]
  },
  {
   "cell_type": "code",
   "execution_count": null,
   "metadata": {},
   "outputs": [],
   "source": [
    "MERGED_train.columns"
   ]
  },
  {
   "cell_type": "code",
   "execution_count": null,
   "metadata": {},
   "outputs": [],
   "source": [
    "# TRAIN\n",
    "X_train = MERGD_train.drop(['vote', 'vote_date', 'bill_unique', 'biennium', 'bill_id_x', 'bill_id_y', 'htm_url',\n",
    "                            'bill_text', 'first_date_read', 'bill_num_unique', 'secondary_sponsors', \n",
    "                            'primary_sponsor_id', 'congress_num', 'dem_score', 'vote_year', 'first_year_read'], \n",
    "                             axis=1)\n",
    "\n",
    "y_train = MERGD_train['vote']\n",
    "\n",
    "# TEST\n",
    "X_test = MERGD_test.drop(['vote', 'vote_date', 'bill_unique', 'biennium', 'bill_id_x','bill_id_y', 'htm_url',\n",
    "                          'bill_text', 'first_date_read', 'bill_num_unique', 'secondary_sponsors', \n",
    "                          'primary_sponsor_id', 'congress_num', 'dem_score', 'vote_year', 'first_year_read'], \n",
    "                           axis=1)\n",
    "\n",
    "y_test = MERGD_test['vote']"
   ]
  },
  {
   "cell_type": "code",
   "execution_count": null,
   "metadata": {},
   "outputs": [],
   "source": [
    "model = RandomForestClassifier(n_estimators=2000, max_depth=6, n_jobs=2, random_state=709)\n",
    "model.fit(X_train, y_train)\n",
    "y_pred = (model.predict_proba(X_test))[:, 1]"
   ]
  },
  {
   "cell_type": "code",
   "execution_count": null,
   "metadata": {},
   "outputs": [],
   "source": [
    "log_loss(y_test, y_pred)"
   ]
  },
  {
   "cell_type": "code",
   "execution_count": null,
   "metadata": {},
   "outputs": [],
   "source": [
    "y_pred.min()"
   ]
  },
  {
   "cell_type": "code",
   "execution_count": null,
   "metadata": {},
   "outputs": [],
   "source": [
    "fig, ax = plt.subplots()\n",
    "ax.scatter(y_pred, y_test, alpha=0.01)"
   ]
  },
  {
   "cell_type": "code",
   "execution_count": null,
   "metadata": {},
   "outputs": [],
   "source": [
    "fpr, tpr, thresholds = roc_curve(y_test, y_pred)"
   ]
  },
  {
   "cell_type": "code",
   "execution_count": null,
   "metadata": {},
   "outputs": [],
   "source": [
    "roc_auc = roc_auc_score(y_test, y_pred)\n",
    "roc_auc"
   ]
  },
  {
   "cell_type": "code",
   "execution_count": null,
   "metadata": {},
   "outputs": [],
   "source": [
    "fig, ax = plt.subplots()\n",
    "plt.plot(fpr, tpr, color='darkorange', label= f'ROC curve (area = {round(roc_auc, 3)})')\n",
    "plt.plot([0, 1], [0, 1], color='navy', linestyle='--')\n",
    "plt.xlim([0.0, 1.0])\n",
    "plt.ylim([0.0, 1.05])\n",
    "plt.xlabel('False Positive Rate')\n",
    "plt.ylabel('True Positive Rate')\n",
    "plt.title('ROC rep and loyalty scores 2015-16')\n",
    "plt.legend(loc=\"lower right\")\n",
    "plt.show()"
   ]
  },
  {
   "cell_type": "code",
   "execution_count": null,
   "metadata": {},
   "outputs": [],
   "source": [
    "features_importances = pd.DataFrame(model.feature_importances_, index=X_train.columns)"
   ]
  },
  {
   "cell_type": "code",
   "execution_count": null,
   "metadata": {},
   "outputs": [],
   "source": [
    "features_importances_sorted = features_importances.sort_values(by=0, ascending=False)"
   ]
  },
  {
   "cell_type": "code",
   "execution_count": null,
   "metadata": {},
   "outputs": [],
   "source": [
    "features_importances_sorted[0:20]"
   ]
  },
  {
   "cell_type": "code",
   "execution_count": null,
   "metadata": {},
   "outputs": [],
   "source": []
  },
  {
   "cell_type": "code",
   "execution_count": null,
   "metadata": {},
   "outputs": [],
   "source": []
  },
  {
   "cell_type": "code",
   "execution_count": null,
   "metadata": {},
   "outputs": [],
   "source": []
  },
  {
   "cell_type": "markdown",
   "metadata": {},
   "source": [
    "# Explore bill_text"
   ]
  },
  {
   "cell_type": "code",
   "execution_count": 64,
   "metadata": {},
   "outputs": [
    {
     "data": {
      "text/html": [
       "<div>\n",
       "<style scoped>\n",
       "    .dataframe tbody tr th:only-of-type {\n",
       "        vertical-align: middle;\n",
       "    }\n",
       "\n",
       "    .dataframe tbody tr th {\n",
       "        vertical-align: top;\n",
       "    }\n",
       "\n",
       "    .dataframe thead th {\n",
       "        text-align: right;\n",
       "    }\n",
       "</style>\n",
       "<table border=\"1\" class=\"dataframe\">\n",
       "  <thead>\n",
       "    <tr style=\"text-align: right;\">\n",
       "      <th></th>\n",
       "      <th>vote</th>\n",
       "      <th>vote_date</th>\n",
       "      <th>voter_id</th>\n",
       "      <th>voting_agency</th>\n",
       "      <th>bill_unique</th>\n",
       "      <th>unique_id</th>\n",
       "      <th>biennium</th>\n",
       "      <th>bill_id</th>\n",
       "      <th>htm_url</th>\n",
       "      <th>sponsor_agency</th>\n",
       "      <th>...</th>\n",
       "      <th>secondary_sponsors</th>\n",
       "      <th>primary_sponsor_id</th>\n",
       "      <th>rep_score</th>\n",
       "      <th>dem_score</th>\n",
       "      <th>bill_length</th>\n",
       "      <th>congress_num</th>\n",
       "      <th>num_sponsors</th>\n",
       "      <th>vote_year</th>\n",
       "      <th>first_year_read</th>\n",
       "      <th>years_until_vote</th>\n",
       "    </tr>\n",
       "  </thead>\n",
       "  <tbody>\n",
       "    <tr>\n",
       "      <th>3097375</th>\n",
       "      <td>1</td>\n",
       "      <td>2018-03-01</td>\n",
       "      <td>1659</td>\n",
       "      <td>0</td>\n",
       "      <td>2017-18 SHB 2998</td>\n",
       "      <td>103639.0</td>\n",
       "      <td>2017-18</td>\n",
       "      <td>SHB 2998</td>\n",
       "      <td>http://app.leg.wa.gov/documents/billdocs/2017-...</td>\n",
       "      <td>0</td>\n",
       "      <td>...</td>\n",
       "      <td>{15817,1543,9207,15816,18265}</td>\n",
       "      <td>18265</td>\n",
       "      <td>0.00</td>\n",
       "      <td>1.00</td>\n",
       "      <td>3180</td>\n",
       "      <td>27</td>\n",
       "      <td>7</td>\n",
       "      <td>2018</td>\n",
       "      <td>2018.0</td>\n",
       "      <td>0.0</td>\n",
       "    </tr>\n",
       "    <tr>\n",
       "      <th>881032</th>\n",
       "      <td>1</td>\n",
       "      <td>1998-02-10</td>\n",
       "      <td>1585</td>\n",
       "      <td>0</td>\n",
       "      <td>1997-98 SHB 2672</td>\n",
       "      <td>25621.0</td>\n",
       "      <td>1997-98</td>\n",
       "      <td>SHB 2672</td>\n",
       "      <td>http://app.leg.wa.gov/documents/billdocs/1997-...</td>\n",
       "      <td>0</td>\n",
       "      <td>...</td>\n",
       "      <td>{2153,2174,1592,406,382,1594}</td>\n",
       "      <td>1594</td>\n",
       "      <td>0.50</td>\n",
       "      <td>0.50</td>\n",
       "      <td>1667</td>\n",
       "      <td>7</td>\n",
       "      <td>7</td>\n",
       "      <td>1998</td>\n",
       "      <td>1998.0</td>\n",
       "      <td>0.0</td>\n",
       "    </tr>\n",
       "    <tr>\n",
       "      <th>3151171</th>\n",
       "      <td>1</td>\n",
       "      <td>2018-02-27</td>\n",
       "      <td>13198</td>\n",
       "      <td>0</td>\n",
       "      <td>2017-18 SSB 5996</td>\n",
       "      <td>105726.0</td>\n",
       "      <td>2017-18</td>\n",
       "      <td>SSB 5996</td>\n",
       "      <td>http://app.leg.wa.gov/documents/billdocs/2017-...</td>\n",
       "      <td>1</td>\n",
       "      <td>...</td>\n",
       "      <td>{1407,5155,5156,12003,12002,15821,27290,21520,...</td>\n",
       "      <td>1950</td>\n",
       "      <td>0.00</td>\n",
       "      <td>1.00</td>\n",
       "      <td>2548</td>\n",
       "      <td>27</td>\n",
       "      <td>12</td>\n",
       "      <td>2018</td>\n",
       "      <td>2018.0</td>\n",
       "      <td>0.0</td>\n",
       "    </tr>\n",
       "    <tr>\n",
       "      <th>2432392</th>\n",
       "      <td>1</td>\n",
       "      <td>2011-03-03</td>\n",
       "      <td>1659</td>\n",
       "      <td>0</td>\n",
       "      <td>2011-12 HB 1178</td>\n",
       "      <td>79451.0</td>\n",
       "      <td>2011-12</td>\n",
       "      <td>HB 1178</td>\n",
       "      <td>http://app.leg.wa.gov/documents/billdocs/2011-...</td>\n",
       "      <td>0</td>\n",
       "      <td>...</td>\n",
       "      <td>{3478,10031}</td>\n",
       "      <td>10031</td>\n",
       "      <td>0.25</td>\n",
       "      <td>0.75</td>\n",
       "      <td>13506</td>\n",
       "      <td>21</td>\n",
       "      <td>3</td>\n",
       "      <td>2011</td>\n",
       "      <td>2011.0</td>\n",
       "      <td>0.0</td>\n",
       "    </tr>\n",
       "    <tr>\n",
       "      <th>1670454</th>\n",
       "      <td>1</td>\n",
       "      <td>2005-03-11</td>\n",
       "      <td>972</td>\n",
       "      <td>0</td>\n",
       "      <td>2005-06 SHB 1394</td>\n",
       "      <td>54299.0</td>\n",
       "      <td>2005-06</td>\n",
       "      <td>SHB 1394</td>\n",
       "      <td>http://app.leg.wa.gov/documents/billdocs/2005-...</td>\n",
       "      <td>0</td>\n",
       "      <td>...</td>\n",
       "      <td>{2314,2166,8237,972}</td>\n",
       "      <td>972</td>\n",
       "      <td>0.25</td>\n",
       "      <td>0.75</td>\n",
       "      <td>12451</td>\n",
       "      <td>15</td>\n",
       "      <td>5</td>\n",
       "      <td>2005</td>\n",
       "      <td>2005.0</td>\n",
       "      <td>0.0</td>\n",
       "    </tr>\n",
       "  </tbody>\n",
       "</table>\n",
       "<p>5 rows × 31 columns</p>\n",
       "</div>"
      ],
      "text/plain": [
       "         vote  vote_date  voter_id  voting_agency       bill_unique  \\\n",
       "3097375     1 2018-03-01      1659              0  2017-18 SHB 2998   \n",
       "881032      1 1998-02-10      1585              0  1997-98 SHB 2672   \n",
       "3151171     1 2018-02-27     13198              0  2017-18 SSB 5996   \n",
       "2432392     1 2011-03-03      1659              0   2011-12 HB 1178   \n",
       "1670454     1 2005-03-11       972              0  2005-06 SHB 1394   \n",
       "\n",
       "         unique_id biennium   bill_id  \\\n",
       "3097375   103639.0  2017-18  SHB 2998   \n",
       "881032     25621.0  1997-98  SHB 2672   \n",
       "3151171   105726.0  2017-18  SSB 5996   \n",
       "2432392    79451.0  2011-12   HB 1178   \n",
       "1670454    54299.0  2005-06  SHB 1394   \n",
       "\n",
       "                                                   htm_url  sponsor_agency  \\\n",
       "3097375  http://app.leg.wa.gov/documents/billdocs/2017-...               0   \n",
       "881032   http://app.leg.wa.gov/documents/billdocs/1997-...               0   \n",
       "3151171  http://app.leg.wa.gov/documents/billdocs/2017-...               1   \n",
       "2432392  http://app.leg.wa.gov/documents/billdocs/2011-...               0   \n",
       "1670454  http://app.leg.wa.gov/documents/billdocs/2005-...               0   \n",
       "\n",
       "              ...                                        secondary_sponsors  \\\n",
       "3097375       ...                             {15817,1543,9207,15816,18265}   \n",
       "881032        ...                             {2153,2174,1592,406,382,1594}   \n",
       "3151171       ...         {1407,5155,5156,12003,12002,15821,27290,21520,...   \n",
       "2432392       ...                                              {3478,10031}   \n",
       "1670454       ...                                      {2314,2166,8237,972}   \n",
       "\n",
       "         primary_sponsor_id  rep_score  dem_score  bill_length  congress_num  \\\n",
       "3097375               18265       0.00       1.00         3180            27   \n",
       "881032                 1594       0.50       0.50         1667             7   \n",
       "3151171                1950       0.00       1.00         2548            27   \n",
       "2432392               10031       0.25       0.75        13506            21   \n",
       "1670454                 972       0.25       0.75        12451            15   \n",
       "\n",
       "        num_sponsors vote_year first_year_read years_until_vote  \n",
       "3097375            7      2018          2018.0              0.0  \n",
       "881032             7      1998          1998.0              0.0  \n",
       "3151171           12      2018          2018.0              0.0  \n",
       "2432392            3      2011          2011.0              0.0  \n",
       "1670454            5      2005          2005.0              0.0  \n",
       "\n",
       "[5 rows x 31 columns]"
      ]
     },
     "execution_count": 64,
     "metadata": {},
     "output_type": "execute_result"
    }
   ],
   "source": [
    "nays = sample[sample['vote'] == 0]\n",
    "yeas = sample[sample['vote'] == 1]\n",
    "\n",
    "yeas.head()"
   ]
  },
  {
   "cell_type": "code",
   "execution_count": 65,
   "metadata": {},
   "outputs": [
    {
     "data": {
      "text/html": [
       "<div>\n",
       "<style scoped>\n",
       "    .dataframe tbody tr th:only-of-type {\n",
       "        vertical-align: middle;\n",
       "    }\n",
       "\n",
       "    .dataframe tbody tr th {\n",
       "        vertical-align: top;\n",
       "    }\n",
       "\n",
       "    .dataframe thead th {\n",
       "        text-align: right;\n",
       "    }\n",
       "</style>\n",
       "<table border=\"1\" class=\"dataframe\">\n",
       "  <thead>\n",
       "    <tr style=\"text-align: right;\">\n",
       "      <th></th>\n",
       "      <th>vote</th>\n",
       "      <th>vote_date</th>\n",
       "      <th>voter_id</th>\n",
       "      <th>voting_agency</th>\n",
       "      <th>bill_unique</th>\n",
       "      <th>unique_id</th>\n",
       "      <th>biennium</th>\n",
       "      <th>bill_id</th>\n",
       "      <th>htm_url</th>\n",
       "      <th>sponsor_agency</th>\n",
       "      <th>...</th>\n",
       "      <th>secondary_sponsors</th>\n",
       "      <th>primary_sponsor_id</th>\n",
       "      <th>rep_score</th>\n",
       "      <th>dem_score</th>\n",
       "      <th>bill_length</th>\n",
       "      <th>congress_num</th>\n",
       "      <th>num_sponsors</th>\n",
       "      <th>vote_year</th>\n",
       "      <th>first_year_read</th>\n",
       "      <th>years_until_vote</th>\n",
       "    </tr>\n",
       "  </thead>\n",
       "  <tbody>\n",
       "    <tr>\n",
       "      <th>2997634</th>\n",
       "      <td>0</td>\n",
       "      <td>2018-02-27</td>\n",
       "      <td>17217</td>\n",
       "      <td>1</td>\n",
       "      <td>2017-18 EHB 1237</td>\n",
       "      <td>100330.0</td>\n",
       "      <td>2017-18</td>\n",
       "      <td>EHB 1237</td>\n",
       "      <td>http://app.leg.wa.gov/documents/billdocs/2017-...</td>\n",
       "      <td>0</td>\n",
       "      <td>...</td>\n",
       "      <td>{18057,9207,17307,10031,3483,16462,17224,10039...</td>\n",
       "      <td>9997</td>\n",
       "      <td>0.095238</td>\n",
       "      <td>0.904762</td>\n",
       "      <td>12836</td>\n",
       "      <td>27</td>\n",
       "      <td>25</td>\n",
       "      <td>2018</td>\n",
       "      <td>2017.0</td>\n",
       "      <td>1.0</td>\n",
       "    </tr>\n",
       "    <tr>\n",
       "      <th>3151895</th>\n",
       "      <td>0</td>\n",
       "      <td>2018-02-27</td>\n",
       "      <td>15809</td>\n",
       "      <td>0</td>\n",
       "      <td>2017-18 ESSB 6002</td>\n",
       "      <td>105739.0</td>\n",
       "      <td>2017-18</td>\n",
       "      <td>ESSB 6002</td>\n",
       "      <td>http://app.leg.wa.gov/documents/billdocs/2017-...</td>\n",
       "      <td>1</td>\n",
       "      <td>...</td>\n",
       "      <td>{1407,5155,14325,17226,27211,14074,13546,12003...</td>\n",
       "      <td>27290</td>\n",
       "      <td>0.000000</td>\n",
       "      <td>1.000000</td>\n",
       "      <td>32142</td>\n",
       "      <td>27</td>\n",
       "      <td>25</td>\n",
       "      <td>2018</td>\n",
       "      <td>2018.0</td>\n",
       "      <td>0.0</td>\n",
       "    </tr>\n",
       "    <tr>\n",
       "      <th>1376648</th>\n",
       "      <td>0</td>\n",
       "      <td>2001-03-13</td>\n",
       "      <td>633</td>\n",
       "      <td>1</td>\n",
       "      <td>2001-02 SSB 5965</td>\n",
       "      <td>43637.0</td>\n",
       "      <td>2001-02</td>\n",
       "      <td>SSB 5965</td>\n",
       "      <td>http://app.leg.wa.gov/documents/billdocs/2001-...</td>\n",
       "      <td>1</td>\n",
       "      <td>...</td>\n",
       "      <td>{2153,2304,644,347,409}</td>\n",
       "      <td>409</td>\n",
       "      <td>0.000000</td>\n",
       "      <td>1.000000</td>\n",
       "      <td>3761</td>\n",
       "      <td>11</td>\n",
       "      <td>6</td>\n",
       "      <td>2001</td>\n",
       "      <td>2001.0</td>\n",
       "      <td>0.0</td>\n",
       "    </tr>\n",
       "    <tr>\n",
       "      <th>2394363</th>\n",
       "      <td>0</td>\n",
       "      <td>2010-03-05</td>\n",
       "      <td>9550</td>\n",
       "      <td>0</td>\n",
       "      <td>2009-10 ESSB 6444</td>\n",
       "      <td>78003.0</td>\n",
       "      <td>2009-10</td>\n",
       "      <td>ESSB 6444</td>\n",
       "      <td>http://app.leg.wa.gov/documents/billdocs/2009-...</td>\n",
       "      <td>1</td>\n",
       "      <td>...</td>\n",
       "      <td>{8214,337}</td>\n",
       "      <td>337</td>\n",
       "      <td>0.250000</td>\n",
       "      <td>0.750000</td>\n",
       "      <td>744659</td>\n",
       "      <td>19</td>\n",
       "      <td>3</td>\n",
       "      <td>2010</td>\n",
       "      <td>2010.0</td>\n",
       "      <td>0.0</td>\n",
       "    </tr>\n",
       "    <tr>\n",
       "      <th>2235843</th>\n",
       "      <td>0</td>\n",
       "      <td>2009-03-09</td>\n",
       "      <td>3478</td>\n",
       "      <td>0</td>\n",
       "      <td>2009-10 ESHB 1939</td>\n",
       "      <td>72569.0</td>\n",
       "      <td>2009-10</td>\n",
       "      <td>ESHB 1939</td>\n",
       "      <td>http://app.leg.wa.gov/documents/billdocs/2009-...</td>\n",
       "      <td>0</td>\n",
       "      <td>...</td>\n",
       "      <td>{12084,9997,2166,9207,8420,2144,10039,8212,347...</td>\n",
       "      <td>10249</td>\n",
       "      <td>0.214286</td>\n",
       "      <td>0.785714</td>\n",
       "      <td>19888</td>\n",
       "      <td>19</td>\n",
       "      <td>16</td>\n",
       "      <td>2009</td>\n",
       "      <td>2009.0</td>\n",
       "      <td>0.0</td>\n",
       "    </tr>\n",
       "  </tbody>\n",
       "</table>\n",
       "<p>5 rows × 31 columns</p>\n",
       "</div>"
      ],
      "text/plain": [
       "         vote  vote_date  voter_id  voting_agency        bill_unique  \\\n",
       "2997634     0 2018-02-27     17217              1   2017-18 EHB 1237   \n",
       "3151895     0 2018-02-27     15809              0  2017-18 ESSB 6002   \n",
       "1376648     0 2001-03-13       633              1   2001-02 SSB 5965   \n",
       "2394363     0 2010-03-05      9550              0  2009-10 ESSB 6444   \n",
       "2235843     0 2009-03-09      3478              0  2009-10 ESHB 1939   \n",
       "\n",
       "         unique_id biennium    bill_id  \\\n",
       "2997634   100330.0  2017-18   EHB 1237   \n",
       "3151895   105739.0  2017-18  ESSB 6002   \n",
       "1376648    43637.0  2001-02   SSB 5965   \n",
       "2394363    78003.0  2009-10  ESSB 6444   \n",
       "2235843    72569.0  2009-10  ESHB 1939   \n",
       "\n",
       "                                                   htm_url  sponsor_agency  \\\n",
       "2997634  http://app.leg.wa.gov/documents/billdocs/2017-...               0   \n",
       "3151895  http://app.leg.wa.gov/documents/billdocs/2017-...               1   \n",
       "1376648  http://app.leg.wa.gov/documents/billdocs/2001-...               1   \n",
       "2394363  http://app.leg.wa.gov/documents/billdocs/2009-...               1   \n",
       "2235843  http://app.leg.wa.gov/documents/billdocs/2009-...               0   \n",
       "\n",
       "              ...                                        secondary_sponsors  \\\n",
       "2997634       ...         {18057,9207,17307,10031,3483,16462,17224,10039...   \n",
       "3151895       ...         {1407,5155,14325,17226,27211,14074,13546,12003...   \n",
       "1376648       ...                                   {2153,2304,644,347,409}   \n",
       "2394363       ...                                                {8214,337}   \n",
       "2235843       ...         {12084,9997,2166,9207,8420,2144,10039,8212,347...   \n",
       "\n",
       "         primary_sponsor_id  rep_score  dem_score  bill_length  congress_num  \\\n",
       "2997634                9997   0.095238   0.904762        12836            27   \n",
       "3151895               27290   0.000000   1.000000        32142            27   \n",
       "1376648                 409   0.000000   1.000000         3761            11   \n",
       "2394363                 337   0.250000   0.750000       744659            19   \n",
       "2235843               10249   0.214286   0.785714        19888            19   \n",
       "\n",
       "        num_sponsors vote_year first_year_read years_until_vote  \n",
       "2997634           25      2018          2017.0              1.0  \n",
       "3151895           25      2018          2018.0              0.0  \n",
       "1376648            6      2001          2001.0              0.0  \n",
       "2394363            3      2010          2010.0              0.0  \n",
       "2235843           16      2009          2009.0              0.0  \n",
       "\n",
       "[5 rows x 31 columns]"
      ]
     },
     "execution_count": 65,
     "metadata": {},
     "output_type": "execute_result"
    }
   ],
   "source": [
    "nays.head()"
   ]
  },
  {
   "cell_type": "code",
   "execution_count": 67,
   "metadata": {},
   "outputs": [
    {
     "name": "stdout",
     "output_type": "stream",
     "text": [
      " to providing a business and occupation tax exemption for accountable communities of health; adding a new section to chapter 82.04 rcw; creating new sections; and declaring an emergency.be it enacted by the legislature of the state of washington:new section.  sec. 1.  (1) this section is the tax preference performance statement for the tax preference contained in section 2, chapter . . ., laws of 2018 (section 2 of this act). the performance statement is only intended to be used for subsequent evaluation of the tax preference. it is not intended to create a private right of action by any party or be used to determine eligibility for preferential tax treatment.(2) the legislature categorizes this tax preference as one intended to reduce structural inefficiencies in the tax structure under rcw 82.32.808(2)(d).(3) the legislature acknowledges the importance of accountable communities of health under rcw 41.05.800 in aligning actions to achieve healthy communities and populations, improving health care quality, and lowering costs. it is the legislature's intent to remedy inconsistencies in the tax structure by allowing accountable communities of health to deduct certain funds as amounts subject to business and occupation tax in order to ensure accountable communities of health receive tax relief similar to other nonprofit or public-private health care organizations.new section.  sec. 2.  a new section is added to chapter 82.04 rcw to read as follows:(1) an accountable community of health may deduct from the measure of tax delivery system reform incentive payments distributed by the washington state health care authority, as described in sec. 1115 medicaid demonstration project number 11-w-00304/0, approved by the centers for medicare and medicaid services in accordance with sec. 1115(a) of the social security act.(2) a hospital that is owned by a municipal corporation or political subdivision, or a hospital that is affiliated with a state institution, may deduct from the measure of tax delivery system reform incentive payments received through the project described in sec. 1115 medicaid demonstration project number 11-w-00304/0, approved by the centers for medicare and medicaid services in accordance with sec. 1115(a) of the social security act.(3) for the purpose of this section, \"accountable community of health\" means an entity designated by the health care authority as a community of health under rcw 41.05.800 and any additional accountable communities of health authorized by the health care authority as part of its federal innovation waiver.new section.  sec. 3.  the deductions in section 2 of this act apply only with respect to amounts received on or after the effective date of section 2 of this act by an accountable community of health or a hospital that is owned by a municipal corporation or political subdivision.new section.  sec. 4.  the provisions of rcw 82.32.805 and 82.32.808 do not apply to this act.new section.  sec. 5.  this act is necessary for the immediate preservation of the public peace, health, or safety, or support of the state government and its existing public institutions, and takes effect immediately.\n"
     ]
    }
   ],
   "source": [
    "print(yeas.loc[3097375, 'bill_text'])"
   ]
  },
  {
   "cell_type": "code",
   "execution_count": 68,
   "metadata": {},
   "outputs": [
    {
     "name": "stdout",
     "output_type": "stream",
     "text": [
      " to vehicle dealer documentary service fees; and amending rcw 46.70.180.be it enacted by the legislature of the state of washington:sec. 1 rcw 46.70.180 and 2007 c 155 s 2 are each amended to read as follows:     each of the following acts or practices is unlawful:     (1) to cause or permit to be advertised, printed, displayed, published, distributed, broadcasted, televised, or disseminated in any manner whatsoever, any statement or representation with regard to the sale, lease, or financing of a vehicle which is false, deceptive, or misleading, including but not limited to the following:     (a) that no down payment is required in connection with the sale of a vehicle when a down payment is in fact required, or that a vehicle may be purchased for a smaller down payment than is actually required;     (b) that a certain percentage of the sale price of a vehicle may be financed when such financing is not offered in a single document evidencing the entire security transaction;     (c) that a certain percentage is the amount of the service charge to be charged for financing, without stating whether this percentage charge is a monthly amount or an amount to be charged per year;     (d) that a new vehicle will be sold for a certain amount above or below cost without computing cost as the exact amount of the factory invoice on the specific vehicle to be sold;     (e) that a vehicle will be sold upon a monthly payment of a certain amount, without including in the statement the number of payments of that same amount which are required to liquidate the unpaid purchase price.     (2)(a)(i) to incorporate within the terms of any purchase and sale or lease agreement any statement or representation with regard to the sale, lease, or financing of a vehicle which is false, deceptive, or misleading, including but not limited to terms that include as an added cost to the selling price or capitalized cost of a vehicle an amount for licensing or transfer of title of that vehicle which is not actually due to the state, unless such amount has in fact been paid by the dealer prior to such sale.     (ii) however, an amount not to exceed ((fifty dollars)) the applicable amount provided in (iii)(a) and (b) of this subsection (2)(a) per vehicle sale or lease may be charged by a dealer to recover administrative costs for collecting motor vehicle excise taxes, licensing and registration fees and other agency fees, verifying and clearing titles, transferring titles, perfecting, releasing, or satisfying liens or other security interests, and other administrative and documentary services rendered by a dealer in connection with the sale or lease of a vehicle and in carrying out the requirements of this chapter or any other provisions of state law.     (iii) a dealer may charge under (a)(ii) of this subsection:     (a) as of the effective date of this act through june 30, 2014, an amount not to exceed one hundred fifty dollars; and     (b) as of july 1, 2014, an amount not to exceed fifty dollars.     (b) a dealer may charge the documentary service fee in (a) of this subsection under the following conditions:     (i) the documentary service fee is disclosed in writing to a prospective purchaser or lessee before the execution of a purchase and sale or lease agreement;     (ii) the dealer discloses to the purchaser or lessee in writing that the documentary service fee is ((not represented)) a negotiable fee. the disclosure must be written in a typeface that is at least as large as the typeface used in the standard text of the document that contains the disclosure and that is bold faced, capitalized, underlined, or otherwise set out from the surrounding material so as to be conspicuous. the dealer shall not represent to the purchaser or lessee ((as a)) that the fee or charge is required by the state to be paid by either the dealer or prospective purchaser or lessee;     (iii) the documentary service fee is separately designated from the selling price or capitalized cost of the vehicle and from any other taxes, fees, or charges; and     (iv) dealers disclose in any advertisement that a documentary service fee in an amount ((up to fifty dollars)) provided in (iv)(a) and (b) of this subsection (2)(b) may be added to the sale price or the capitalized cost:     (a) as of the effective date of this act through june 30, 2014, an amount up to one hundred fifty dollars; and     (b) as of july 1, 2014, an amount up to fifty dollars.     for the purposes of this subsection (2), the term \"documentary service fee\" means the optional amount charged by a dealer to provide the services specified in (a) of this subsection.     (3) to set up, promote, or aid in the promotion of a plan by which vehicles are to be sold or leased to a person for a consideration and upon further consideration that the purchaser or lessee agrees to secure one or more persons to participate in the plan by respectively making a similar purchase and in turn agreeing to secure one or more persons likewise to join in said plan, each purchaser or lessee being given the right to secure money, credits, goods, or something of value, depending upon the number of persons joining the plan.     (4) to commit, allow, or ratify any act of \"bushing\" which is defined as follows: entering into a written contract, written purchase order or agreement, retail installment sales agreement, note and security agreement, or written lease agreement, hereinafter collectively referred to as contract or lease, signed by the prospective buyer or lessee of a vehicle, which:     (a) is subject to any conditions or the dealer's or his or her authorized representative's future acceptance, and the dealer fails or refuses within four calendar days, exclusive of saturday, sunday, or legal holiday, and prior to any further negotiations with said buyer or lessee to inform the buyer or lessee either: (i) that the dealer unconditionally accepts the contract or lease, having satisfied, removed, or waived all conditions to acceptance or performance, including, but not limited to, financing, assignment, or lease approval; or (ii) that the dealer rejects the contract or lease, thereby automatically voiding the contract or lease, as long as such voiding does not negate commercially reasonable contract or lease provisions pertaining to the return of the subject vehicle and any physical damage, excessive mileage after the demand for return of the vehicle, and attorneys' fees authorized by law, and tenders the refund of any initial payment or security made or given by the buyer or lessee, including, but not limited to, any down payment, and tenders return of the trade-in vehicle, key, other trade-in, or certificate of title to a trade-in. tender may be conditioned on return of the subject vehicle if previously delivered to the buyer or lessee.     the provisions of this subsection (4)(a) do not impair, prejudice, or abrogate the rights of a dealer to assert a claim against the buyer or lessee for misrepresentation or breach of contract and to exercise all remedies available at law or in equity, including those under chapter 62a.9a rcw, if the dealer, bank, or other lender or leasing company discovers that approval of the contract or financing or approval of the lease was based upon material misrepresentations made by the buyer or lessee, including, but not limited to, misrepresentations regarding income, employment, or debt of the buyer or lessee, as long as the dealer, or his or her staff, has not, with knowledge of the material misrepresentation, aided, assisted, encouraged, or participated, directly or indirectly, in the misrepresentation. a dealer shall not be in violation of this subsection (4)(a) if the buyer or lessee made a material misrepresentation to the dealer, as long as the dealer, or his or her staff, has not, with knowledge of the material misrepresentation, aided, assisted, encouraged, or participated, directly or indirectly, in the misrepresentation.     when a dealer informs a buyer or lessee under this subsection (4)(a) regarding the unconditional acceptance or rejection of the contract, lease, or financing by an electronic mail message, the dealer must also transmit the communication by any additional means;     (b) permits the dealer to renegotiate a dollar amount specified as trade-in allowance on a vehicle delivered or to be delivered by the buyer or lessee as part of the purchase price or lease, for any reason except:     (i) failure to disclose that the vehicle's certificate of ownership has been branded for any reason, including, but not limited to, status as a rebuilt vehicle as provided in rcw 46.12.050 and 46.12.075; or     (ii) substantial physical damage or latent mechanical defect occurring before the dealer took possession of the vehicle and which could not have been reasonably discoverable at the time of the taking of the order, offer, or contract; or     (iii) excessive additional miles or a discrepancy in the mileage. \"excessive additional miles\" means the addition of five hundred miles or more, as reflected on the vehicle's odometer, between the time the vehicle was first valued by the dealer for purposes of determining its trade-in value and the time of actual delivery of the vehicle to the dealer. \"a discrepancy in the mileage\" means (a) a discrepancy between the mileage reflected on the vehicle's odometer and the stated mileage on the signed odometer statement; or (b) a discrepancy between the mileage stated on the signed odometer statement and the actual mileage on the vehicle; or     (c) fails to comply with the obligation of any written warranty or guarantee given by the dealer requiring the furnishing of services or repairs within a reasonable time.     (5) to commit any offense relating to odometers, as such offenses are defined in rcw 46.37.540, 46.37.550, 46.37.560, and 46.37.570. a violation of this subsection is a class c felony punishable under chapter 9a.20 rcw.     (6) for any vehicle dealer or vehicle salesperson to refuse to furnish, upon request of a prospective purchaser or lessee, for vehicles previously registered to a business or governmental entity, the name and address of the business or governmental entity.     (7) to commit any other offense under rcw 46.37.423, 46.37.424, or 46.37.425.     (8) to commit any offense relating to a dealer's temporary license permit, including but not limited to failure to properly complete each such permit, or the issuance of more than one such permit on any one vehicle. however, a dealer may issue a second temporary permit on a vehicle if the following conditions are met:     (a) the lienholder fails to deliver the vehicle title to the dealer within the required time period;     (b) the dealer has satisfied the lien; and     (c) the dealer has proof that payment of the lien was made within two calendar days, exclusive of saturday, sunday, or a legal holiday, after the sales contract has been executed by all parties and all conditions and contingencies in the sales contract have been met or otherwise satisfied.     (9) for a dealer, salesperson, or mobile home manufacturer, having taken an instrument or cash \"on deposit\" from a purchaser or lessee prior to the delivery of the bargained-for vehicle, to commingle the \"on deposit\" funds with assets of the dealer, salesperson, or mobile home manufacturer instead of holding the \"on deposit\" funds as trustee in a separate trust account until the purchaser or lessee has taken delivery of the bargained-for vehicle. delivery of a manufactured home shall be deemed to occur in accordance with rcw 46.70.135(5). failure, immediately upon receipt, to endorse \"on deposit\" instruments to such a trust account, or to set aside \"on deposit\" cash for deposit in such trust account, and failure to deposit such instruments or cash in such trust account by the close of banking hours on the day following receipt thereof, shall be evidence of intent to commit this unlawful practice: provided, however, that a motor vehicle dealer may keep a separate trust account which equals his or her customary total customer deposits for vehicles for future delivery. for purposes of this section, \"on deposit\" funds received from a purchaser of a manufactured home means those funds that a seller requires a purchaser to advance before ordering the manufactured home, but does not include any loan proceeds or moneys that might have been paid on an installment contract.     (10) for a dealer or manufacturer to fail to comply with the obligations of any written warranty or guarantee given by the dealer or manufacturer requiring the furnishing of goods and services or repairs within a reasonable period of time, or to fail to furnish to a purchaser or lessee, all parts which attach to the manufactured unit including but not limited to the undercarriage, and all items specified in the terms of a sales or lease agreement signed by the seller and buyer or lessee.     (11) for a vehicle dealer to pay to or receive from any person, firm, partnership, association, or corporation acting, either directly or through a subsidiary, as a buyer's agent for consumers, any compensation, fee, purchase moneys or funds that have been deposited into or withdrawn out of any account controlled or used by any buyer's agent, gratuity, or reward in connection with the purchase, sale, or lease of a new motor vehicle.     (12) for a buyer's agent, acting directly or through a subsidiary, to pay to or to receive from any motor vehicle dealer any compensation, fee, gratuity, or reward in connection with the purchase, sale, or lease of a new motor vehicle. in addition, it is unlawful for any buyer's agent to engage in any of the following acts on behalf of or in the name of the consumer:     (a) receiving or paying any purchase moneys or funds into or out of any account controlled or used by any buyer's agent;     (b) signing any vehicle purchase orders, sales contracts, leases, odometer statements, or title documents, or having the name of the buyer's agent appear on the vehicle purchase order, sales contract, lease, or title; or     (c) signing any other documentation relating to the purchase, sale, lease, or transfer of any new motor vehicle.     it is unlawful for a buyer's agent to use a power of attorney obtained from the consumer to accomplish or effect the purchase, sale, lease, or transfer of ownership documents of any new motor vehicle by any means which would otherwise be prohibited under (a) through (c) of this subsection. however, the buyer's agent may use a power of attorney for physical delivery of motor vehicle license plates to the consumer.     further, it is unlawful for a buyer's agent to engage in any false, deceptive, or misleading advertising, disseminated in any manner whatsoever, including but not limited to making any claim or statement that the buyer's agent offers, obtains, or guarantees the lowest price on any motor vehicle or words to similar effect.     (13) for a buyer's agent to arrange for or to negotiate the purchase, or both, of a new motor vehicle through an out-of-state dealer without disclosing in writing to the customer that the new vehicle would not be subject to chapter 19.118 rcw. this subsection also applies to leased vehicles. in addition, it is unlawful for any buyer's agent to fail to have a written agreement with the customer that: (a) sets forth the terms of the parties' agreement; (b) discloses to the customer the total amount of any fees or other compensation being paid by the customer to the buyer's agent for the agent's services; and (c) further discloses whether the fee or any portion of the fee is refundable.     (14) being a manufacturer, other than a motorcycle manufacturer governed by chapter 46.93 rcw, to:     (a) coerce or attempt to coerce any vehicle dealer to order or accept delivery of any vehicle or vehicles, parts or accessories, or any other commodities which have not been voluntarily ordered by the vehicle dealer: provided, that recommendation, endorsement, exposition, persuasion, urging, or argument are not deemed to constitute coercion;     (b) cancel or fail to renew the franchise or selling agreement of any vehicle dealer doing business in this state without fairly compensating the dealer at a fair going business value for his or her capital investment which shall include but not be limited to tools, equipment, and parts inventory possessed by the dealer on the day he or she is notified of such cancellation or termination and which are still within the dealer's possession on the day the cancellation or termination is effective, if: (i) the capital investment has been entered into with reasonable and prudent business judgment for the purpose of fulfilling the franchise; and (ii) the cancellation or nonrenewal was not done in good faith. good faith is defined as the duty of each party to any franchise to act in a fair and equitable manner towards each other, so as to guarantee one party freedom from coercion, intimidation, or threats of coercion or intimidation from the other party: provided, that recommendation, endorsement, exposition, persuasion, urging, or argument are not deemed to constitute a lack of good faith;     (c) encourage, aid, abet, or teach a vehicle dealer to sell or lease vehicles through any false, deceptive, or misleading sales or financing practices including but not limited to those practices declared unlawful in this section;     (d) coerce or attempt to coerce a vehicle dealer to engage in any practice forbidden in this section by either threats of actual cancellation or failure to renew the dealer's franchise agreement;     (e) refuse to deliver any vehicle publicly advertised for immediate delivery to any duly licensed vehicle dealer having a franchise or contractual agreement for the retail sale or lease of new and unused vehicles sold or distributed by such manufacturer within sixty days after such dealer's order has been received in writing unless caused by inability to deliver because of shortage or curtailment of material, labor, transportation, or utility services, or by any labor or production difficulty, or by any cause beyond the reasonable control of the manufacturer;     (f) to provide under the terms of any warranty that a purchaser or lessee of any new or unused vehicle that has been sold or leased, distributed for sale or lease, or transferred into this state for resale or lease by the vehicle manufacturer may only make any warranty claim on any item included as an integral part of the vehicle against the manufacturer of that item.     nothing in this section may be construed to impair the obligations of a contract or to prevent a manufacturer, distributor, representative, or any other person, whether or not licensed under this chapter, from requiring performance of a written contract entered into with any licensee hereunder, nor does the requirement of such performance constitute a violation of any of the provisions of this section if any such contract or the terms thereof requiring performance, have been freely entered into and executed between the contracting parties. this paragraph and subsection (14)(b) of this section do not apply to new motor vehicle manufacturers governed by chapter 46.96 rcw.     (15) unlawful transfer of an ownership interest in a motor vehicle as defined in rcw 19.116.050.     (16) to knowingly and intentionally engage in collusion with a registered owner of a vehicle to repossess and return or resell the vehicle to the registered owner in an attempt to avoid a suspended license impound under chapter 46.55 rcw. however, compliance with chapter 62a.9a rcw in repossessing, selling, leasing, or otherwise disposing of the vehicle, including providing redemption rights to the debtor, is not a violation of this section.         \n"
     ]
    }
   ],
   "source": [
    "print(nays.loc[2235843, 'bill_text'])"
   ]
  }
 ],
 "metadata": {
  "kernelspec": {
   "display_name": "Python 3",
   "language": "python",
   "name": "python3"
  },
  "language_info": {
   "codemirror_mode": {
    "name": "ipython",
    "version": 3
   },
   "file_extension": ".py",
   "mimetype": "text/x-python",
   "name": "python",
   "nbconvert_exporter": "python",
   "pygments_lexer": "ipython3",
   "version": "3.6.5"
  }
 },
 "nbformat": 4,
 "nbformat_minor": 2
}
