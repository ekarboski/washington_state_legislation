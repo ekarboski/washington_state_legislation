{
 "cells": [
  {
   "cell_type": "code",
   "execution_count": 1,
   "metadata": {},
   "outputs": [],
   "source": [
    "import psycopg2\n",
    "from sqlalchemy import create_engine\n",
    "\n",
    "import pandas as pd\n",
    "import numpy as np\n",
    "import string\n",
    "\n",
    "from sklearn.linear_model import LogisticRegression\n",
    "from sklearn.ensemble import RandomForestClassifier, GradientBoostingClassifier\n",
    "from sklearn.model_selection import train_test_split, cross_val_score, GridSearchCV\n",
    "from sklearn.metrics import log_loss, roc_curve, roc_auc_score\n",
    "from sklearn.feature_extraction.text import TfidfVectorizer, CountVectorizer\n",
    "\n",
    "import nltk\n",
    "from nltk.corpus import stopwords\n",
    "from nltk.stem.wordnet import WordNetLemmatizer\n",
    "\n",
    "import os\n",
    "import sys\n",
    "module_path = os.path.abspath(os.path.join('..'))\n",
    "if module_path not in sys.path:\n",
    "    sys.path.append(module_path)\n",
    "\n",
    "from data_cleaning.create_staging_tables import create_loyalty_scores_df\n",
    "from clean_for_model import prepare_bill_text_for_clean_df, prepare_for_train_test_split, create_sample_train_test\n",
    "from stage_predict import stage_score_plot\n",
    "\n",
    "import seaborn as sns\n",
    "import matplotlib.pyplot as plt\n",
    "% matplotlib inline"
   ]
  },
  {
   "cell_type": "markdown",
   "metadata": {},
   "source": [
    "### Load from wa_leg_staging database"
   ]
  },
  {
   "cell_type": "code",
   "execution_count": 2,
   "metadata": {},
   "outputs": [],
   "source": [
    "engine = create_engine('postgresql://localhost:5432/wa_leg_staging')"
   ]
  },
  {
   "cell_type": "code",
   "execution_count": 3,
   "metadata": {},
   "outputs": [],
   "source": [
    "merged_final_df = pd.read_sql_query('select * from \"merged_final\"',con=engine)\n",
    "rep_score_df = pd.read_sql_query('select * from \"rep_score\"',con=engine)\n",
    "bill_text_df = pd.read_sql_query('select * from \"bill_text\"',con=engine)"
   ]
  },
  {
   "cell_type": "markdown",
   "metadata": {},
   "source": [
    "### Create clean dataframe"
   ]
  },
  {
   "cell_type": "code",
   "execution_count": 4,
   "metadata": {},
   "outputs": [],
   "source": [
    "clean = prepare_for_train_test_split(merged_final_df, bill_text_df, rep_score_df)"
   ]
  },
  {
   "cell_type": "code",
   "execution_count": 5,
   "metadata": {},
   "outputs": [
    {
     "data": {
      "text/html": [
       "<div>\n",
       "<style scoped>\n",
       "    .dataframe tbody tr th:only-of-type {\n",
       "        vertical-align: middle;\n",
       "    }\n",
       "\n",
       "    .dataframe tbody tr th {\n",
       "        vertical-align: top;\n",
       "    }\n",
       "\n",
       "    .dataframe thead th {\n",
       "        text-align: right;\n",
       "    }\n",
       "</style>\n",
       "<table border=\"1\" class=\"dataframe\">\n",
       "  <thead>\n",
       "    <tr style=\"text-align: right;\">\n",
       "      <th></th>\n",
       "      <th>vote</th>\n",
       "      <th>vote_date</th>\n",
       "      <th>voter_id</th>\n",
       "      <th>voting_agency</th>\n",
       "      <th>bill_unique</th>\n",
       "      <th>unique_id</th>\n",
       "      <th>biennium</th>\n",
       "      <th>bill_id</th>\n",
       "      <th>htm_url</th>\n",
       "      <th>sponsor_agency</th>\n",
       "      <th>...</th>\n",
       "      <th>dem_score</th>\n",
       "      <th>bill_length</th>\n",
       "      <th>num_sections</th>\n",
       "      <th>congress_num</th>\n",
       "      <th>num_sponsors</th>\n",
       "      <th>vote_year</th>\n",
       "      <th>first_year_read</th>\n",
       "      <th>years_until_vote</th>\n",
       "      <th>bill_type</th>\n",
       "      <th>bill_type_score</th>\n",
       "    </tr>\n",
       "  </thead>\n",
       "  <tbody>\n",
       "    <tr>\n",
       "      <th>0</th>\n",
       "      <td>1</td>\n",
       "      <td>1993-02-16</td>\n",
       "      <td>347</td>\n",
       "      <td>1</td>\n",
       "      <td>1993-94 SB 5426</td>\n",
       "      <td>12053.0</td>\n",
       "      <td>1993-94</td>\n",
       "      <td>SB 5426</td>\n",
       "      <td>http://app.leg.wa.gov/documents/billdocs/1993-...</td>\n",
       "      <td>1</td>\n",
       "      <td>...</td>\n",
       "      <td>0.5</td>\n",
       "      <td>33244</td>\n",
       "      <td>9</td>\n",
       "      <td>3</td>\n",
       "      <td>4</td>\n",
       "      <td>1993</td>\n",
       "      <td>1993.0</td>\n",
       "      <td>0.0</td>\n",
       "      <td>SB</td>\n",
       "      <td>0.980216</td>\n",
       "    </tr>\n",
       "    <tr>\n",
       "      <th>1</th>\n",
       "      <td>1</td>\n",
       "      <td>1993-02-16</td>\n",
       "      <td>360</td>\n",
       "      <td>1</td>\n",
       "      <td>1993-94 SB 5426</td>\n",
       "      <td>12053.0</td>\n",
       "      <td>1993-94</td>\n",
       "      <td>SB 5426</td>\n",
       "      <td>http://app.leg.wa.gov/documents/billdocs/1993-...</td>\n",
       "      <td>1</td>\n",
       "      <td>...</td>\n",
       "      <td>0.5</td>\n",
       "      <td>33244</td>\n",
       "      <td>9</td>\n",
       "      <td>3</td>\n",
       "      <td>4</td>\n",
       "      <td>1993</td>\n",
       "      <td>1993.0</td>\n",
       "      <td>0.0</td>\n",
       "      <td>SB</td>\n",
       "      <td>0.980216</td>\n",
       "    </tr>\n",
       "    <tr>\n",
       "      <th>2</th>\n",
       "      <td>1</td>\n",
       "      <td>1993-02-16</td>\n",
       "      <td>361</td>\n",
       "      <td>1</td>\n",
       "      <td>1993-94 SB 5426</td>\n",
       "      <td>12053.0</td>\n",
       "      <td>1993-94</td>\n",
       "      <td>SB 5426</td>\n",
       "      <td>http://app.leg.wa.gov/documents/billdocs/1993-...</td>\n",
       "      <td>1</td>\n",
       "      <td>...</td>\n",
       "      <td>0.5</td>\n",
       "      <td>33244</td>\n",
       "      <td>9</td>\n",
       "      <td>3</td>\n",
       "      <td>4</td>\n",
       "      <td>1993</td>\n",
       "      <td>1993.0</td>\n",
       "      <td>0.0</td>\n",
       "      <td>SB</td>\n",
       "      <td>0.980216</td>\n",
       "    </tr>\n",
       "    <tr>\n",
       "      <th>3</th>\n",
       "      <td>1</td>\n",
       "      <td>1993-02-16</td>\n",
       "      <td>387</td>\n",
       "      <td>1</td>\n",
       "      <td>1993-94 SB 5426</td>\n",
       "      <td>12053.0</td>\n",
       "      <td>1993-94</td>\n",
       "      <td>SB 5426</td>\n",
       "      <td>http://app.leg.wa.gov/documents/billdocs/1993-...</td>\n",
       "      <td>1</td>\n",
       "      <td>...</td>\n",
       "      <td>0.5</td>\n",
       "      <td>33244</td>\n",
       "      <td>9</td>\n",
       "      <td>3</td>\n",
       "      <td>4</td>\n",
       "      <td>1993</td>\n",
       "      <td>1993.0</td>\n",
       "      <td>0.0</td>\n",
       "      <td>SB</td>\n",
       "      <td>0.980216</td>\n",
       "    </tr>\n",
       "    <tr>\n",
       "      <th>4</th>\n",
       "      <td>1</td>\n",
       "      <td>1993-02-16</td>\n",
       "      <td>512</td>\n",
       "      <td>1</td>\n",
       "      <td>1993-94 SB 5426</td>\n",
       "      <td>12053.0</td>\n",
       "      <td>1993-94</td>\n",
       "      <td>SB 5426</td>\n",
       "      <td>http://app.leg.wa.gov/documents/billdocs/1993-...</td>\n",
       "      <td>1</td>\n",
       "      <td>...</td>\n",
       "      <td>0.5</td>\n",
       "      <td>33244</td>\n",
       "      <td>9</td>\n",
       "      <td>3</td>\n",
       "      <td>4</td>\n",
       "      <td>1993</td>\n",
       "      <td>1993.0</td>\n",
       "      <td>0.0</td>\n",
       "      <td>SB</td>\n",
       "      <td>0.980216</td>\n",
       "    </tr>\n",
       "  </tbody>\n",
       "</table>\n",
       "<p>5 rows × 34 columns</p>\n",
       "</div>"
      ],
      "text/plain": [
       "   vote  vote_date  voter_id  voting_agency      bill_unique  unique_id  \\\n",
       "0     1 1993-02-16       347              1  1993-94 SB 5426    12053.0   \n",
       "1     1 1993-02-16       360              1  1993-94 SB 5426    12053.0   \n",
       "2     1 1993-02-16       361              1  1993-94 SB 5426    12053.0   \n",
       "3     1 1993-02-16       387              1  1993-94 SB 5426    12053.0   \n",
       "4     1 1993-02-16       512              1  1993-94 SB 5426    12053.0   \n",
       "\n",
       "  biennium  bill_id                                            htm_url  \\\n",
       "0  1993-94  SB 5426  http://app.leg.wa.gov/documents/billdocs/1993-...   \n",
       "1  1993-94  SB 5426  http://app.leg.wa.gov/documents/billdocs/1993-...   \n",
       "2  1993-94  SB 5426  http://app.leg.wa.gov/documents/billdocs/1993-...   \n",
       "3  1993-94  SB 5426  http://app.leg.wa.gov/documents/billdocs/1993-...   \n",
       "4  1993-94  SB 5426  http://app.leg.wa.gov/documents/billdocs/1993-...   \n",
       "\n",
       "   sponsor_agency       ...        dem_score  bill_length  num_sections  \\\n",
       "0               1       ...              0.5        33244             9   \n",
       "1               1       ...              0.5        33244             9   \n",
       "2               1       ...              0.5        33244             9   \n",
       "3               1       ...              0.5        33244             9   \n",
       "4               1       ...              0.5        33244             9   \n",
       "\n",
       "   congress_num  num_sponsors  vote_year first_year_read years_until_vote  \\\n",
       "0             3             4       1993          1993.0              0.0   \n",
       "1             3             4       1993          1993.0              0.0   \n",
       "2             3             4       1993          1993.0              0.0   \n",
       "3             3             4       1993          1993.0              0.0   \n",
       "4             3             4       1993          1993.0              0.0   \n",
       "\n",
       "  bill_type bill_type_score  \n",
       "0        SB        0.980216  \n",
       "1        SB        0.980216  \n",
       "2        SB        0.980216  \n",
       "3        SB        0.980216  \n",
       "4        SB        0.980216  \n",
       "\n",
       "[5 rows x 34 columns]"
      ]
     },
     "execution_count": 5,
     "metadata": {},
     "output_type": "execute_result"
    }
   ],
   "source": [
    "clean.head()"
   ]
  },
  {
   "cell_type": "markdown",
   "metadata": {},
   "source": [
    "### Create sample and split into train and test "
   ]
  },
  {
   "cell_type": "code",
   "execution_count": 6,
   "metadata": {},
   "outputs": [],
   "source": [
    "sample_train, sample_test = create_sample_train_test(clean, n=300000)"
   ]
  },
  {
   "cell_type": "markdown",
   "metadata": {},
   "source": [
    "# Modeling"
   ]
  },
  {
   "cell_type": "markdown",
   "metadata": {},
   "source": [
    "### Baseline Model"
   ]
  },
  {
   "cell_type": "code",
   "execution_count": 7,
   "metadata": {},
   "outputs": [],
   "source": [
    "# TRAIN\n",
    "X_train_b = sample_train[['primary_sponsor_party', 'party']]\n",
    "y_train_b = sample_train['vote']\n",
    "\n",
    "# TEST\n",
    "X_test_b = sample_test[['primary_sponsor_party', 'party']]\n",
    "y_test_b = sample_test['vote']"
   ]
  },
  {
   "cell_type": "code",
   "execution_count": 8,
   "metadata": {},
   "outputs": [],
   "source": [
    "baseline_model = LogisticRegression()\n",
    "baseline_model.fit(X_train_b, y_train_b)\n",
    "y_pred_b = (baseline_model.predict_proba(X_test_b))[:,1]"
   ]
  },
  {
   "cell_type": "code",
   "execution_count": 9,
   "metadata": {},
   "outputs": [
    {
     "data": {
      "text/plain": [
       "0.9340312872359089"
      ]
     },
     "execution_count": 9,
     "metadata": {},
     "output_type": "execute_result"
    }
   ],
   "source": [
    "y_pred_b.max()"
   ]
  },
  {
   "cell_type": "code",
   "execution_count": 10,
   "metadata": {},
   "outputs": [
    {
     "data": {
      "text/plain": [
       "0.42428719372265566"
      ]
     },
     "execution_count": 10,
     "metadata": {},
     "output_type": "execute_result"
    }
   ],
   "source": [
    "log_loss(y_test_b, y_pred_b)"
   ]
  },
  {
   "cell_type": "code",
   "execution_count": 11,
   "metadata": {},
   "outputs": [
    {
     "data": {
      "text/plain": [
       "<matplotlib.collections.PathCollection at 0x1a7e608518>"
      ]
     },
     "execution_count": 11,
     "metadata": {},
     "output_type": "execute_result"
    },
    {
     "data": {
      "image/png": "[encoded data removed]",
      "text/plain": [
       "<Figure size 432x288 with 1 Axes>"
      ]
     },
     "metadata": {},
     "output_type": "display_data"
    }
   ],
   "source": [
    "fig, ax = plt.subplots()\n",
    "ax.scatter(y_pred_b, y_test_b, alpha=0.003)"
   ]
  },
  {
   "cell_type": "code",
   "execution_count": 12,
   "metadata": {},
   "outputs": [],
   "source": [
    "roc_auc_b = roc_auc_score(y_test_b, y_pred_b)\n",
    "fpr_b, tpr_b, thresholds_b = roc_curve(y_test_b, y_pred_b)"
   ]
  },
  {
   "cell_type": "code",
   "execution_count": 13,
   "metadata": {},
   "outputs": [
    {
     "data": {
      "image/png": "[encoded data removed]",
      "text/plain": [
       "<Figure size 432x288 with 1 Axes>"
      ]
     },
     "metadata": {},
     "output_type": "display_data"
    }
   ],
   "source": [
    "fig, ax = plt.subplots()\n",
    "plt.plot(fpr_b, tpr_b, color='darkorange', label= f'ROC curve (area = {round(roc_auc_b, 3)})')\n",
    "plt.plot([0, 1], [0, 1], color='navy', linestyle='--')\n",
    "plt.xlim([0.0, 1.0])\n",
    "plt.ylim([0.0, 1.05])\n",
    "plt.xlabel('False Positive Rate')\n",
    "plt.ylabel('True Positive Rate')\n",
    "plt.title('ROC Baseline Model')\n",
    "plt.legend(loc=\"lower right\")\n",
    "plt.show()"
   ]
  },
  {
   "cell_type": "markdown",
   "metadata": {},
   "source": [
    "### Current Top Model - Random Forest"
   ]
  },
  {
   "cell_type": "code",
   "execution_count": null,
   "metadata": {},
   "outputs": [],
   "source": [
    "# TRAIN\n",
    "X_train_t = sample_train[['voter_id', 'voting_agency', 'sponsor_agency', 'district', \n",
    "                     'party', 'is_primary_sponsor', 'is_secondary_sponsor', 'is_minority_party', \n",
    "                     'primary_sponsor_party', 'rep_score', 'loyalty_score', 'bill_length', 'bill_num', \n",
    "                     'num_sponsors', 'years_until_vote', 'percent_yea', 'num_sections', 'bill_type_score']]\n",
    "\n",
    "y_train_t = sample_train['vote']\n",
    "\n",
    "# TEST\n",
    "X_test_t = sample_test[['voter_id', 'voting_agency', 'sponsor_agency', 'district', \n",
    "                     'party', 'is_primary_sponsor', 'is_secondary_sponsor', 'is_minority_party', \n",
    "                     'primary_sponsor_party', 'rep_score', 'loyalty_score', 'bill_length', 'bill_num', \n",
    "                     'num_sponsors', 'years_until_vote', 'percent_yea', 'num_sections', 'bill_type_score']]\n",
    "\n",
    "y_test_t = sample_test['vote']"
   ]
  },
  {
   "cell_type": "code",
   "execution_count": null,
   "metadata": {},
   "outputs": [],
   "source": [
    "top_model = RandomForestClassifier(n_estimators=1000, max_depth=11, n_jobs=2, random_state=709)\n",
    "top_model.fit(X_train_t, y_train_t)\n",
    "y_pred_t = (top_model.predict_proba(X_test_t))[:, 1]"
   ]
  },
  {
   "cell_type": "code",
   "execution_count": null,
   "metadata": {},
   "outputs": [],
   "source": [
    "log_loss(y_test_t, y_pred_t)"
   ]
  },
  {
   "cell_type": "code",
   "execution_count": null,
   "metadata": {},
   "outputs": [],
   "source": [
    "y_pred_t.min()"
   ]
  },
  {
   "cell_type": "code",
   "execution_count": null,
   "metadata": {},
   "outputs": [],
   "source": [
    "fig, ax = plt.subplots()\n",
    "ax.scatter(y_pred_t, y_test_t, alpha=0.003)"
   ]
  },
  {
   "cell_type": "code",
   "execution_count": null,
   "metadata": {},
   "outputs": [],
   "source": [
    "fpr_t, tpr_t, thresholds_t = roc_curve(y_test_t, y_pred_t)"
   ]
  },
  {
   "cell_type": "code",
   "execution_count": null,
   "metadata": {},
   "outputs": [],
   "source": [
    "roc_auc_t = roc_auc_score(y_test_t, y_pred_t)\n",
    "roc_auc_t"
   ]
  },
  {
   "cell_type": "code",
   "execution_count": null,
   "metadata": {},
   "outputs": [],
   "source": [
    "fig, ax = plt.subplots()\n",
    "plt.plot(fpr_t, tpr_t, color='darkorange', label= f'ROC curve (area = {round(roc_auc_t, 3)})')\n",
    "plt.plot([0, 1], [0, 1], color='navy', linestyle='--')\n",
    "plt.xlim([0.0, 1.0])\n",
    "plt.ylim([0.0, 1.05])\n",
    "plt.xlabel('False Positive Rate')\n",
    "plt.ylabel('True Positive Rate')\n",
    "plt.title('ROC Top Model')\n",
    "plt.legend(loc=\"lower right\")\n",
    "plt.show()"
   ]
  },
  {
   "cell_type": "markdown",
   "metadata": {},
   "source": [
    "### Trying Gradient Boosting Classifier"
   ]
  },
  {
   "cell_type": "code",
   "execution_count": null,
   "metadata": {},
   "outputs": [],
   "source": [
    "# TRAIN\n",
    "X_train_n = sample_train[['voter_id', 'voting_agency', 'sponsor_agency', 'district', \n",
    "                     'party', 'is_primary_sponsor', 'is_secondary_sponsor', 'is_minority_party', \n",
    "                     'primary_sponsor_party', 'rep_score', 'loyalty_score', 'bill_length', 'bill_num', \n",
    "                     'num_sponsors', 'years_until_vote', 'percent_yea', 'num_sections', 'bill_type_score']]\n",
    "\n",
    "y_train_n = sample_train['vote']\n",
    "\n",
    "# TEST\n",
    "X_test_n = sample_test[['voter_id', 'voting_agency', 'sponsor_agency', 'district', \n",
    "                     'party', 'is_primary_sponsor', 'is_secondary_sponsor', 'is_minority_party', \n",
    "                     'primary_sponsor_party', 'rep_score', 'loyalty_score', 'bill_length', 'bill_num', \n",
    "                     'num_sponsors', 'years_until_vote', 'percent_yea', 'num_sections', 'bill_type_score']]\n",
    "\n",
    "y_test_n = sample_test['vote']"
   ]
  },
  {
   "cell_type": "code",
   "execution_count": null,
   "metadata": {},
   "outputs": [],
   "source": [
    "new_model = GradientBoostingClassifier(learning_rate=0.05, n_estimators=25, max_depth=6, random_state=709, \n",
    "                                       verbose=1)"
   ]
  },
  {
   "cell_type": "code",
   "execution_count": null,
   "metadata": {
    "scrolled": false
   },
   "outputs": [],
   "source": [
    "new_model.fit(X_train_n, y_train_n)"
   ]
  },
  {
   "cell_type": "code",
   "execution_count": null,
   "metadata": {},
   "outputs": [],
   "source": [
    "fig, ax = plt.subplots(figsize=(12, 8))\n",
    "stage_score_plot(new_model, X_train_n, y_train_n, X_test_n, y_test_n, ax)\n",
    "ax.legend()\n",
    "plt.show()"
   ]
  },
  {
   "cell_type": "code",
   "execution_count": null,
   "metadata": {},
   "outputs": [],
   "source": [
    "y_pred_n = (new_model.predict_proba(X_test_n))[:, 1]"
   ]
  },
  {
   "cell_type": "code",
   "execution_count": null,
   "metadata": {},
   "outputs": [],
   "source": [
    "log_loss(y_test_n, y_pred_n)"
   ]
  },
  {
   "cell_type": "code",
   "execution_count": null,
   "metadata": {},
   "outputs": [],
   "source": [
    "y_pred_n.min()"
   ]
  },
  {
   "cell_type": "code",
   "execution_count": null,
   "metadata": {},
   "outputs": [],
   "source": [
    "fig, ax = plt.subplots()\n",
    "ax.scatter(y_pred_n, y_test_n, alpha=0.01)"
   ]
  },
  {
   "cell_type": "code",
   "execution_count": null,
   "metadata": {},
   "outputs": [],
   "source": [
    "fpr_n, tpr_n, thresholds_n = roc_curve(y_test_n, y_pred_n)"
   ]
  },
  {
   "cell_type": "code",
   "execution_count": null,
   "metadata": {},
   "outputs": [],
   "source": [
    "roc_auc_n = roc_auc_score(y_test_n, y_pred_n)\n",
    "roc_auc_n"
   ]
  },
  {
   "cell_type": "code",
   "execution_count": null,
   "metadata": {},
   "outputs": [],
   "source": [
    "fig, ax = plt.subplots()\n",
    "plt.plot(fpr_n, tpr_n, color='darkorange', label= f'ROC curve (area = {round(roc_auc_n, 3)})')\n",
    "plt.plot([0, 1], [0, 1], color='navy', linestyle='--')\n",
    "plt.xlim([0.0, 1.0])\n",
    "plt.ylim([0.0, 1.05])\n",
    "plt.xlabel('False Positive Rate')\n",
    "plt.ylabel('True Positive Rate')\n",
    "plt.title('ROC Top Model')\n",
    "plt.legend(loc=\"lower right\")\n",
    "plt.show()"
   ]
  },
  {
   "cell_type": "code",
   "execution_count": null,
   "metadata": {},
   "outputs": [],
   "source": []
  },
  {
   "cell_type": "code",
   "execution_count": null,
   "metadata": {},
   "outputs": [],
   "source": []
  },
  {
   "cell_type": "code",
   "execution_count": null,
   "metadata": {},
   "outputs": [],
   "source": []
  },
  {
   "cell_type": "code",
   "execution_count": null,
   "metadata": {},
   "outputs": [],
   "source": []
  },
  {
   "cell_type": "code",
   "execution_count": null,
   "metadata": {},
   "outputs": [],
   "source": []
  },
  {
   "cell_type": "markdown",
   "metadata": {},
   "source": [
    "### NLP Playground"
   ]
  },
  {
   "cell_type": "code",
   "execution_count": null,
   "metadata": {},
   "outputs": [],
   "source": [
    "my_stopwords = ['enacted', 'passed', 'pass', 'yeas', 'nays', 'absents', 'yea', 'nay',\n",
    "                'absents', 'undecided', 'undecideds']\n",
    "\n",
    "stop_nums = list(set([str(num) for num in range(0, 2025)]))\n",
    "stopwords_nltk = list(set(stopwords.words('english')))\n",
    "\n",
    "stopwords_nltk.extend(my_stopwords)\n",
    "stopwords_nltk.extend(stop_nums)\n",
    "stopwords_nltk = set(stopwords_nltk)"
   ]
  },
  {
   "cell_type": "code",
   "execution_count": null,
   "metadata": {},
   "outputs": [],
   "source": [
    "# TRAIN\n",
    "X_train = sample_train[['voter_id', 'voting_agency', 'unique_id', 'sponsor_agency', 'district', \n",
    "                     'party', 'is_primary_sponsor', 'is_secondary_sponsor', 'is_minority_party', \n",
    "                     'primary_sponsor_party', 'rep_score', 'loyalty_score', 'bill_length', 'bill_num']]\n",
    "\n",
    "y_train = sample_train['vote']\n",
    "\n",
    "# TEST\n",
    "X_test = sample_test[['voter_id', 'voting_agency', 'unique_id', 'sponsor_agency', 'district', \n",
    "                     'party', 'is_primary_sponsor', 'is_secondary_sponsor', 'is_minority_party', \n",
    "                     'primary_sponsor_party', 'rep_score', 'loyalty_score', 'bill_length', 'bill_num']]\n",
    "\n",
    "y_test = sample_test['vote']"
   ]
  },
  {
   "cell_type": "code",
   "execution_count": null,
   "metadata": {},
   "outputs": [],
   "source": [
    "bills = sample_train['bill_text']\n",
    "bills_test = sample_test['bill_text']\n",
    "len(bills)"
   ]
  },
  {
   "cell_type": "code",
   "execution_count": null,
   "metadata": {},
   "outputs": [],
   "source": [
    "tf = TfidfVectorizer(stop_words=stopwords_nltk, ngram_range=(1, 2), max_df=0.85, max_features=8000)"
   ]
  },
  {
   "cell_type": "code",
   "execution_count": null,
   "metadata": {},
   "outputs": [],
   "source": [
    "fitted = tf.fit(bills)"
   ]
  },
  {
   "cell_type": "code",
   "execution_count": null,
   "metadata": {},
   "outputs": [],
   "source": [
    "transformed_train = tf.transform(bills)"
   ]
  },
  {
   "cell_type": "code",
   "execution_count": null,
   "metadata": {},
   "outputs": [],
   "source": [
    "transformed_test = tf.transform(bills_test)"
   ]
  },
  {
   "cell_type": "code",
   "execution_count": null,
   "metadata": {},
   "outputs": [],
   "source": [
    "def tfidf_transformed_to_dataframe(transformed):\n",
    "    tfidf_cols = transformed.toarray()\n",
    "    tfidf_names = fitted.get_feature_names()\n",
    "    tfidf_df = pd.DataFrame(tfidf_cols, columns=tfidf_names)\n",
    "\n",
    "    return tfidf_df"
   ]
  },
  {
   "cell_type": "code",
   "execution_count": null,
   "metadata": {},
   "outputs": [],
   "source": [
    "tfidf_train_df = tfidf_transformed_to_dataframe(transformed_train)\n",
    "X_train = X_train.reset_index().drop('index', axis=1)\n",
    "X_train = pd.concat([X_train, tfidf_train_df], axis=1)"
   ]
  },
  {
   "cell_type": "code",
   "execution_count": null,
   "metadata": {},
   "outputs": [],
   "source": [
    "tfidf_test_df =  tfidf_transformed_to_dataframe(transformed_test)\n",
    "X_test = X_test.reset_index().drop('index', axis=1)\n",
    "X_test = pd.concat([X_test, tfidf_test_df], axis=1)"
   ]
  },
  {
   "cell_type": "code",
   "execution_count": null,
   "metadata": {},
   "outputs": [],
   "source": [
    "X_train.head()"
   ]
  },
  {
   "cell_type": "code",
   "execution_count": null,
   "metadata": {},
   "outputs": [],
   "source": [
    "model = RandomForestClassifier(n_estimators=5000, max_depth=7, n_jobs=2, random_state=709)\n",
    "model.fit(X_train, y_train)\n",
    "y_pred = (model.predict_proba(X_test))[:, 1]"
   ]
  },
  {
   "cell_type": "code",
   "execution_count": null,
   "metadata": {},
   "outputs": [],
   "source": [
    "log_loss(y_test, y_pred)"
   ]
  },
  {
   "cell_type": "code",
   "execution_count": null,
   "metadata": {},
   "outputs": [],
   "source": [
    "y_pred.min()"
   ]
  },
  {
   "cell_type": "code",
   "execution_count": null,
   "metadata": {},
   "outputs": [],
   "source": [
    "fig, ax = plt.subplots()\n",
    "ax.scatter(y_pred, y_test, alpha=0.01)"
   ]
  },
  {
   "cell_type": "code",
   "execution_count": null,
   "metadata": {},
   "outputs": [],
   "source": [
    "fpr, tpr, thresholds = roc_curve(y_test, y_pred)"
   ]
  },
  {
   "cell_type": "code",
   "execution_count": null,
   "metadata": {},
   "outputs": [],
   "source": [
    "roc_auc = roc_auc_score(y_test, y_pred)\n",
    "roc_auc"
   ]
  },
  {
   "cell_type": "code",
   "execution_count": null,
   "metadata": {},
   "outputs": [],
   "source": [
    "fig, ax = plt.subplots()\n",
    "plt.plot(fpr, tpr, color='darkorange', label= f'ROC curve (area = {round(roc_auc, 3)})')\n",
    "plt.plot([0, 1], [0, 1], color='navy', linestyle='--')\n",
    "plt.xlim([0.0, 1.0])\n",
    "plt.ylim([0.0, 1.05])\n",
    "plt.xlabel('False Positive Rate')\n",
    "plt.ylabel('True Positive Rate')\n",
    "plt.title('ROC rep and loyalty scores 2015-16')\n",
    "plt.legend(loc=\"lower right\")\n",
    "plt.show()"
   ]
  },
  {
   "cell_type": "code",
   "execution_count": null,
   "metadata": {},
   "outputs": [],
   "source": [
    "features_importances = pd.DataFrame(model.feature_importances_, index=X_train.columns)"
   ]
  },
  {
   "cell_type": "code",
   "execution_count": null,
   "metadata": {},
   "outputs": [],
   "source": [
    "X_train.columns"
   ]
  },
  {
   "cell_type": "code",
   "execution_count": null,
   "metadata": {},
   "outputs": [],
   "source": [
    "features_importances_sorted = features_importances.sort_values(by=0, ascending=False)"
   ]
  },
  {
   "cell_type": "code",
   "execution_count": null,
   "metadata": {},
   "outputs": [],
   "source": [
    "features_importances_sorted"
   ]
  },
  {
   "cell_type": "code",
   "execution_count": null,
   "metadata": {},
   "outputs": [],
   "source": []
  },
  {
   "cell_type": "code",
   "execution_count": null,
   "metadata": {},
   "outputs": [],
   "source": []
  },
  {
   "cell_type": "markdown",
   "metadata": {},
   "source": [
    "### Topic Playground"
   ]
  },
  {
   "cell_type": "code",
   "execution_count": null,
   "metadata": {},
   "outputs": [],
   "source": [
    "# bills = sample_one_year['bill_text']"
   ]
  },
  {
   "cell_type": "code",
   "execution_count": null,
   "metadata": {},
   "outputs": [],
   "source": [
    "# wordnet = WordNetLemmatizer()"
   ]
  },
  {
   "cell_type": "code",
   "execution_count": null,
   "metadata": {},
   "outputs": [],
   "source": [
    "# def create_bill_tokens(bill):\n",
    "#     bill = bill.replace('\\n', ' ') \n",
    "#     punctuations = set(string.punctuation)\n",
    "    \n",
    "#     bill = ''.join([char.lower() for char in bill if char not in punctuations])\n",
    "#     bill_tokens = bill.split(' ')\n",
    "#     lemmed_bill = [wordnet.lemmatize(word) for word in bill_tokens] \n",
    "    \n",
    "#     return lemmed_bill"
   ]
  },
  {
   "cell_type": "code",
   "execution_count": null,
   "metadata": {},
   "outputs": [],
   "source": [
    "topic_df = pd.read_csv('topic_staging_better.csv', sep=\"|\")"
   ]
  },
  {
   "cell_type": "code",
   "execution_count": null,
   "metadata": {},
   "outputs": [],
   "source": [
    "topic_df['bill_num_unique'] = topic_df['biennium'] + ' ' + topic_df['bill_num'].apply(str)"
   ]
  },
  {
   "cell_type": "code",
   "execution_count": null,
   "metadata": {},
   "outputs": [],
   "source": [
    "topic_df = topic_df.drop('biennium', axis=1)"
   ]
  },
  {
   "cell_type": "code",
   "execution_count": null,
   "metadata": {},
   "outputs": [],
   "source": [
    "MERGED = sample_train.merge(topic_df, how='left', on='bill_num_unique')"
   ]
  },
  {
   "cell_type": "code",
   "execution_count": null,
   "metadata": {},
   "outputs": [],
   "source": [
    "MERGED_train = MERGED[MERGED['bill_id_y'].notnull()]"
   ]
  },
  {
   "cell_type": "code",
   "execution_count": null,
   "metadata": {},
   "outputs": [],
   "source": [
    "MERGED_test = sample_test.merge(topic_df, how='left', on='bill_num_unique')"
   ]
  },
  {
   "cell_type": "code",
   "execution_count": null,
   "metadata": {},
   "outputs": [],
   "source": [
    "MERGED_test = MERGED_test[MERGED_test['bill_id_y'].notnull()]"
   ]
  },
  {
   "cell_type": "code",
   "execution_count": null,
   "metadata": {},
   "outputs": [],
   "source": [
    "MERGED_train.columns"
   ]
  },
  {
   "cell_type": "code",
   "execution_count": null,
   "metadata": {},
   "outputs": [],
   "source": [
    "# TRAIN\n",
    "X_train = MERGD_train.drop(['vote', 'vote_date', 'bill_unique', 'biennium', 'bill_id_x', 'bill_id_y', 'htm_url',\n",
    "                            'bill_text', 'first_date_read', 'bill_num_unique', 'secondary_sponsors', \n",
    "                            'primary_sponsor_id', 'congress_num', 'dem_score', 'vote_year', 'first_year_read'], \n",
    "                             axis=1)\n",
    "\n",
    "y_train = MERGD_train['vote']\n",
    "\n",
    "# TEST\n",
    "X_test = MERGD_test.drop(['vote', 'vote_date', 'bill_unique', 'biennium', 'bill_id_x','bill_id_y', 'htm_url',\n",
    "                          'bill_text', 'first_date_read', 'bill_num_unique', 'secondary_sponsors', \n",
    "                          'primary_sponsor_id', 'congress_num', 'dem_score', 'vote_year', 'first_year_read'], \n",
    "                           axis=1)\n",
    "\n",
    "y_test = MERGD_test['vote']"
   ]
  },
  {
   "cell_type": "code",
   "execution_count": null,
   "metadata": {},
   "outputs": [],
   "source": [
    "model = RandomForestClassifier(n_estimators=2000, max_depth=6, n_jobs=2, random_state=709)\n",
    "model.fit(X_train, y_train)\n",
    "y_pred = (model.predict_proba(X_test))[:, 1]"
   ]
  },
  {
   "cell_type": "code",
   "execution_count": null,
   "metadata": {},
   "outputs": [],
   "source": [
    "log_loss(y_test, y_pred)"
   ]
  },
  {
   "cell_type": "code",
   "execution_count": null,
   "metadata": {},
   "outputs": [],
   "source": [
    "y_pred.min()"
   ]
  },
  {
   "cell_type": "code",
   "execution_count": null,
   "metadata": {},
   "outputs": [],
   "source": [
    "fig, ax = plt.subplots()\n",
    "ax.scatter(y_pred, y_test, alpha=0.01)"
   ]
  },
  {
   "cell_type": "code",
   "execution_count": null,
   "metadata": {},
   "outputs": [],
   "source": [
    "fpr, tpr, thresholds = roc_curve(y_test, y_pred)"
   ]
  },
  {
   "cell_type": "code",
   "execution_count": null,
   "metadata": {},
   "outputs": [],
   "source": [
    "roc_auc = roc_auc_score(y_test, y_pred)\n",
    "roc_auc"
   ]
  },
  {
   "cell_type": "code",
   "execution_count": null,
   "metadata": {},
   "outputs": [],
   "source": [
    "fig, ax = plt.subplots()\n",
    "plt.plot(fpr, tpr, color='darkorange', label= f'ROC curve (area = {round(roc_auc, 3)})')\n",
    "plt.plot([0, 1], [0, 1], color='navy', linestyle='--')\n",
    "plt.xlim([0.0, 1.0])\n",
    "plt.ylim([0.0, 1.05])\n",
    "plt.xlabel('False Positive Rate')\n",
    "plt.ylabel('True Positive Rate')\n",
    "plt.title('ROC rep and loyalty scores 2015-16')\n",
    "plt.legend(loc=\"lower right\")\n",
    "plt.show()"
   ]
  },
  {
   "cell_type": "code",
   "execution_count": null,
   "metadata": {},
   "outputs": [],
   "source": [
    "features_importances = pd.DataFrame(model.feature_importances_, index=X_train.columns)"
   ]
  },
  {
   "cell_type": "code",
   "execution_count": null,
   "metadata": {},
   "outputs": [],
   "source": [
    "features_importances_sorted = features_importances.sort_values(by=0, ascending=False)"
   ]
  },
  {
   "cell_type": "code",
   "execution_count": null,
   "metadata": {},
   "outputs": [],
   "source": [
    "features_importances_sorted[0:20]"
   ]
  },
  {
   "cell_type": "code",
   "execution_count": null,
   "metadata": {},
   "outputs": [],
   "source": []
  },
  {
   "cell_type": "code",
   "execution_count": null,
   "metadata": {},
   "outputs": [],
   "source": []
  },
  {
   "cell_type": "code",
   "execution_count": null,
   "metadata": {},
   "outputs": [],
   "source": []
  },
  {
   "cell_type": "markdown",
   "metadata": {},
   "source": [
    "# Explore bill_text"
   ]
  },
  {
   "cell_type": "code",
   "execution_count": null,
   "metadata": {},
   "outputs": [],
   "source": [
    "nays = sample[sample['vote'] == 0]\n",
    "yeas = sample[sample['vote'] == 1]\n",
    "\n",
    "yeas.head()"
   ]
  },
  {
   "cell_type": "code",
   "execution_count": null,
   "metadata": {},
   "outputs": [],
   "source": [
    "nays.head()"
   ]
  },
  {
   "cell_type": "code",
   "execution_count": null,
   "metadata": {},
   "outputs": [],
   "source": [
    "print(yeas.loc[3097375, 'bill_text'])"
   ]
  },
  {
   "cell_type": "code",
   "execution_count": null,
   "metadata": {},
   "outputs": [],
   "source": [
    "print(nays.loc[2235843, 'bill_text'])"
   ]
  }
 ],
 "metadata": {
  "kernelspec": {
   "display_name": "Python 3",
   "language": "python",
   "name": "python3"
  },
  "language_info": {
   "codemirror_mode": {
    "name": "ipython",
    "version": 3
   },
   "file_extension": ".py",
   "mimetype": "text/x-python",
   "name": "python",
   "nbconvert_exporter": "python",
   "pygments_lexer": "ipython3",
   "version": "3.6.5"
  }
 },
 "nbformat": 4,
 "nbformat_minor": 2
}
