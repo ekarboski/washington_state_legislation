{
 "cells": [
  {
   "cell_type": "code",
   "execution_count": 1,
   "metadata": {},
   "outputs": [],
   "source": [
    "import psycopg2\n",
    "from sqlalchemy import create_engine\n",
    "import pandas as pd\n",
    "import numpy as np\n",
    "\n",
    "from sklearn.linear_model import LogisticRegression\n",
    "from sklearn.ensemble import RandomForestClassifier, GradientBoostingClassifier\n",
    "from sklearn.model_selection import train_test_split, cross_val_score, GridSearchCV\n",
    "from sklearn.metrics import log_loss, roc_curve, roc_auc_score\n",
    "import matplotlib.pyplot as plt\n",
    "% matplotlib inline\n",
    "\n",
    "import os\n",
    "import sys\n",
    "module_path = os.path.abspath(os.path.join('..'))\n",
    "if module_path not in sys.path:\n",
    "    sys.path.append(module_path)\n",
    "    \n",
    "from data_cleaning.create_staging_tables import create_staging_legislator_df_STEP_ONE, create_staging_bill_df_STEP_THREE"
   ]
  },
  {
   "cell_type": "markdown",
   "metadata": {},
   "source": [
    "#### features to create:\n",
    "* rep_score DONE\n",
    "* minority_score\n",
    "* num_sponsors DONE\n",
    "* date_introduced\n",
    "* type_dummies\n",
    "* bill_length\n",
    "\n",
    "\n",
    "#### features to clean:\n",
    "* sponsor_agency DONE"
   ]
  },
  {
   "cell_type": "code",
   "execution_count": 2,
   "metadata": {},
   "outputs": [],
   "source": [
    "engine = create_engine('postgresql://localhost:5432/wa_leg_raw')"
   ]
  },
  {
   "cell_type": "code",
   "execution_count": 3,
   "metadata": {},
   "outputs": [],
   "source": [
    "raw_bill_df = pd.read_sql_query('select * from \"bill_api\"', con=engine)\n",
    "raw_sponsor_df = pd.read_sql_query('select * from \"sponsor_api\"', con=engine)\n",
    "raw_vote_df = pd.read_sql_query('select * from \"vote_api\"', con=engine)\n",
    "raw_committee_member_df = pd.read_sql_query('select * from \"committee_member_api\"', con=engine)\n",
    "missing_leg_info_df = pd.read_csv('../data/missing_legislators.csv', sep = '|')\n",
    "raw_sponsor_df = pd.read_sql_query('select * from \"sponsor_api\"', con=engine)"
   ]
  },
  {
   "cell_type": "code",
   "execution_count": 4,
   "metadata": {},
   "outputs": [],
   "source": [
    "legislator_df = create_staging_legislator_df_STEP_ONE(raw_vote_df, raw_committee_member_df, missing_leg_info_df)"
   ]
  },
  {
   "cell_type": "code",
   "execution_count": 6,
   "metadata": {},
   "outputs": [],
   "source": [
    "def change_party_word_to_int(party):\n",
    "        if party == 'Democrat':\n",
    "            return 0\n",
    "        if party == 'Republican':\n",
    "            return 1"
   ]
  },
  {
   "cell_type": "code",
   "execution_count": 7,
   "metadata": {},
   "outputs": [],
   "source": [
    "legislator_df['party'] = legislator_df['party'].apply(change_party_word_to_int)"
   ]
  },
  {
   "cell_type": "code",
   "execution_count": 8,
   "metadata": {},
   "outputs": [
    {
     "name": "stderr",
     "output_type": "stream",
     "text": [
      "/Users/emilykarboski/galvanize/washington_state_legislation/data_cleaning/create_staging_tables.py:372: SettingWithCopyWarning: \n",
      "A value is trying to be set on a copy of a slice from a DataFrame.\n",
      "Try using .loc[row_indexer,col_indexer] = value instead\n",
      "\n",
      "See the caveats in the documentation: http://pandas.pydata.org/pandas-docs/stable/indexing.html#indexing-view-versus-copy\n",
      "  sponsor_df_reformatted['bill_num'] = sponsor_df_reformatted['bill_id'].apply(lambda x: x.split()[1])\n",
      "/Users/emilykarboski/galvanize/washington_state_legislation/data_cleaning/create_staging_tables.py:373: SettingWithCopyWarning: \n",
      "A value is trying to be set on a copy of a slice from a DataFrame.\n",
      "Try using .loc[row_indexer,col_indexer] = value instead\n",
      "\n",
      "See the caveats in the documentation: http://pandas.pydata.org/pandas-docs/stable/indexing.html#indexing-view-versus-copy\n",
      "  sponsor_df_reformatted['bill_num_unique'] = sponsor_df_reformatted['biennium'] + ' ' + sponsor_df_reformatted['bill_num']\n"
     ]
    }
   ],
   "source": [
    "bill_df = create_staging_bill_df_STEP_THREE(raw_bill_df, raw_sponsor_df)"
   ]
  },
  {
   "cell_type": "code",
   "execution_count": 9,
   "metadata": {},
   "outputs": [],
   "source": [
    "minority_df = pd.read_csv('../data/party_minority_history.csv', sep='|')"
   ]
  },
  {
   "cell_type": "code",
   "execution_count": 17,
   "metadata": {},
   "outputs": [],
   "source": [
    "def create_final_bill_df(staging_bill_df, raw_vote_df):\n",
    "    \"\"\"Creates a dataframe with all bills and bill info including a column labeling whether the bill has\n",
    "    been voted on or not. This dataframe will be used to model whether a bill will make it to a vote.\"\"\"\n",
    "    \n",
    "    raw_vote_df['bill_unique'] = raw_vote_df['biennium'] + ' ' + raw_vote_df['bill_id']\n",
    "    bills_already_voted_on = raw_vote_df['bill_unique'].unique()\n",
    "    \n",
    "    def determine_if_reached_vote(bill_unique):\n",
    "        if bill_unique in bills_already_voted_on:\n",
    "            return True\n",
    "        return False\n",
    "    \n",
    "    def filter_out_old_versions(row):\n",
    "        count = len(staging_bill_df[staging_bill_df['bill_num_unique'] == row['bill_num_unique']])\n",
    "        if count > 1 and row['reached_vote'] == False:\n",
    "            return False\n",
    "        return True\n",
    "    \n",
    "    def count_sponsors(secondary_sponsors):\n",
    "        \"\"\"Counts secondary sponsors, adding one for the primary sponsors\"\"\"\n",
    "        if type(secondary_sponsors) == list:\n",
    "            return len(secondary_sponsors) + 1\n",
    "        else: return 1\n",
    "        \n",
    "    def change_agency_to_int(agency):\n",
    "        if agency == 'House':\n",
    "            return 0\n",
    "        if agency == 'Senate':\n",
    "            return 1\n",
    "        \n",
    "    def create_bill_rep_score(row):\n",
    "        '''Return # of republican sponsors / total sponsors. If there are no secondary sponsors return -1 so that\n",
    "        later, when this table is joined with merged_final, the primary sponsor party can fill this field.'''\n",
    "        sponsors = row['secondary_sponsors']\n",
    "        if type(sponsors) == list:\n",
    "            sponsors.append(row['primary_sponsor_id'])\n",
    "\n",
    "            sponsor_parties = []\n",
    "            for s in sponsors:\n",
    "                subset_leg = legislator_df[legislator_df['id'] == int(s)]\n",
    "                if len(subset_leg) > 0:\n",
    "                    sponsor_party = sum(subset_leg.iloc[:, 4]) / len(subset_leg)\n",
    "                    sponsor_parties.append(sponsor_party)\n",
    "            bill_rep_score = np.mean(sponsor_parties)\n",
    "            return bill_rep_score\n",
    "        else:\n",
    "            subset_leg = legislator_df[legislator_df['id'] == int(row['primary_sponsor_id'])]\n",
    "            if len(subset_leg) > 0:\n",
    "                primary_sponsor_party = sum(subset_leg.iloc[:, 4]) / len(subset_leg)\n",
    "            else: primary_sponsor_party = 0.5\n",
    "            return primary_sponsor_party\n",
    "    \n",
    "    def change_rep_score_to_minority_score(row):\n",
    "        if row['sponsor_agency'] == 0:\n",
    "            subset = minority_df[(minority_df['biennium'] == row['biennium']) & (minority_df['agency'] == 'House')]  \n",
    "        if row['sponsor_agency'] == 1:\n",
    "            subset = minority_df[(minority_df['biennium'] == row['biennium']) & (minority_df['agency'] == 'Senate')]\n",
    "        subset = subset.reset_index()\n",
    "        minority_party = subset.loc[0, 'minority_party']\n",
    "        if minority_party == 'D':\n",
    "            return 1 - row['rep_score']\n",
    "        if minority_party == 'Even':\n",
    "            return 0\n",
    "        return row['rep_score']\n",
    "    \n",
    "    def change_biennium_to_year_count(biennium):\n",
    "        year = int(biennium[0:4])\n",
    "        return year - 1991\n",
    "    \n",
    "    staging_bill_df['reached_vote'] = staging_bill_df['bill_unique'].apply(determine_if_reached_vote)\n",
    "    staging_bill_df['is_final_version'] = staging_bill_df.apply(filter_out_old_versions, axis=1)\n",
    "    bill_df = staging_bill_df[staging_bill_df['is_final_version'] == True]\n",
    "    bill_df = bill_df.drop(['is_final_version', 'description', 'long_friendly_name', 'name', \n",
    "                            'htm_last_modified_date'], axis=1)\n",
    "    bill_df['sponsor_agency'] = bill_df['sponsor_agency'].apply(change_agency_to_int)\n",
    "    bill_df['num_sponsors'] = bill_df['secondary_sponsors'].apply(count_sponsors)\n",
    "    bill_df['rep_score'] = bill_df.apply(create_bill_rep_score, axis=1)\n",
    "    bill_df['minority_score'] = bill_df.apply(change_rep_score_to_minority_score, axis=1)\n",
    "    bill_df['year_count'] = bill_df['biennium'].apply(change_biennium_to_year_count)\n",
    "    \n",
    "    return bill_df"
   ]
  },
  {
   "cell_type": "code",
   "execution_count": 18,
   "metadata": {},
   "outputs": [],
   "source": [
    "bill_df = create_final_bill_df(bill_df, raw_vote_df)"
   ]
  },
  {
   "cell_type": "code",
   "execution_count": 19,
   "metadata": {},
   "outputs": [
    {
     "data": {
      "text/html": [
       "<div>\n",
       "<style scoped>\n",
       "    .dataframe tbody tr th:only-of-type {\n",
       "        vertical-align: middle;\n",
       "    }\n",
       "\n",
       "    .dataframe tbody tr th {\n",
       "        vertical-align: top;\n",
       "    }\n",
       "\n",
       "    .dataframe thead th {\n",
       "        text-align: right;\n",
       "    }\n",
       "</style>\n",
       "<table border=\"1\" class=\"dataframe\">\n",
       "  <thead>\n",
       "    <tr style=\"text-align: right;\">\n",
       "      <th></th>\n",
       "      <th>biennium</th>\n",
       "      <th>bill_id</th>\n",
       "      <th>class</th>\n",
       "      <th>htm_create_date</th>\n",
       "      <th>htm_url</th>\n",
       "      <th>type</th>\n",
       "      <th>bill_unique</th>\n",
       "      <th>bill_num</th>\n",
       "      <th>bill_num_unique</th>\n",
       "      <th>sponsor_agency</th>\n",
       "      <th>primary_sponsor_id</th>\n",
       "      <th>secondary_sponsors</th>\n",
       "      <th>reached_vote</th>\n",
       "      <th>num_sponsors</th>\n",
       "      <th>rep_score</th>\n",
       "      <th>minority_score</th>\n",
       "      <th>year_count</th>\n",
       "    </tr>\n",
       "  </thead>\n",
       "  <tbody>\n",
       "    <tr>\n",
       "      <th>1</th>\n",
       "      <td>1991-92</td>\n",
       "      <td>SHB 1001</td>\n",
       "      <td>Bills</td>\n",
       "      <td>1991-02-01T00:00:00</td>\n",
       "      <td>http://app.leg.wa.gov/documents/billdocs/1991-...</td>\n",
       "      <td>House Bills</td>\n",
       "      <td>1991-92 SHB 1001</td>\n",
       "      <td>1001</td>\n",
       "      <td>1991-92 1001</td>\n",
       "      <td>0</td>\n",
       "      <td>251</td>\n",
       "      <td>[17, 429, 406, 72, 48, 474, 75, 481, 325, 34, ...</td>\n",
       "      <td>True</td>\n",
       "      <td>36</td>\n",
       "      <td>0.722222</td>\n",
       "      <td>0.722222</td>\n",
       "      <td>0</td>\n",
       "    </tr>\n",
       "    <tr>\n",
       "      <th>2</th>\n",
       "      <td>1991-92</td>\n",
       "      <td>HB 1002</td>\n",
       "      <td>Bills</td>\n",
       "      <td>1991-01-14T00:00:00</td>\n",
       "      <td>http://app.leg.wa.gov/documents/billdocs/1991-...</td>\n",
       "      <td>House Bills</td>\n",
       "      <td>1991-92 HB 1002</td>\n",
       "      <td>1002</td>\n",
       "      <td>1991-92 1002</td>\n",
       "      <td>0</td>\n",
       "      <td>251</td>\n",
       "      <td>[207, 180, 110, 475, 219, 320, 332, 394, 227, ...</td>\n",
       "      <td>False</td>\n",
       "      <td>20</td>\n",
       "      <td>0.350000</td>\n",
       "      <td>0.350000</td>\n",
       "      <td>0</td>\n",
       "    </tr>\n",
       "    <tr>\n",
       "      <th>4</th>\n",
       "      <td>1991-92</td>\n",
       "      <td>SHB 1003</td>\n",
       "      <td>Bills</td>\n",
       "      <td>1991-02-21T00:00:00</td>\n",
       "      <td>http://app.leg.wa.gov/documents/billdocs/1991-...</td>\n",
       "      <td>House Bills</td>\n",
       "      <td>1991-92 SHB 1003</td>\n",
       "      <td>1003</td>\n",
       "      <td>1991-92 1003</td>\n",
       "      <td>0</td>\n",
       "      <td>311</td>\n",
       "      <td>[110, 474, 54, 311, 311, 311]</td>\n",
       "      <td>True</td>\n",
       "      <td>6</td>\n",
       "      <td>0.166667</td>\n",
       "      <td>0.166667</td>\n",
       "      <td>0</td>\n",
       "    </tr>\n",
       "    <tr>\n",
       "      <th>5</th>\n",
       "      <td>1991-92</td>\n",
       "      <td>HB 1004</td>\n",
       "      <td>Bills</td>\n",
       "      <td>1991-01-14T00:00:00</td>\n",
       "      <td>http://app.leg.wa.gov/documents/billdocs/1991-...</td>\n",
       "      <td>House Bills</td>\n",
       "      <td>1991-92 HB 1004</td>\n",
       "      <td>1004</td>\n",
       "      <td>1991-92 1004</td>\n",
       "      <td>0</td>\n",
       "      <td>311</td>\n",
       "      <td>[110, 475, 54, 304, 32, 311, 311, 311]</td>\n",
       "      <td>False</td>\n",
       "      <td>8</td>\n",
       "      <td>0.500000</td>\n",
       "      <td>0.500000</td>\n",
       "      <td>0</td>\n",
       "    </tr>\n",
       "    <tr>\n",
       "      <th>6</th>\n",
       "      <td>1991-92</td>\n",
       "      <td>HB 1005</td>\n",
       "      <td>Bills</td>\n",
       "      <td>1991-01-14T00:00:00</td>\n",
       "      <td>http://app.leg.wa.gov/documents/billdocs/1991-...</td>\n",
       "      <td>House Bills</td>\n",
       "      <td>1991-92 HB 1005</td>\n",
       "      <td>1005</td>\n",
       "      <td>1991-92 1005</td>\n",
       "      <td>0</td>\n",
       "      <td>311</td>\n",
       "      <td>[475, 23, 311, 311, 311]</td>\n",
       "      <td>False</td>\n",
       "      <td>5</td>\n",
       "      <td>0.200000</td>\n",
       "      <td>0.200000</td>\n",
       "      <td>0</td>\n",
       "    </tr>\n",
       "  </tbody>\n",
       "</table>\n",
       "</div>"
      ],
      "text/plain": [
       "  biennium   bill_id  class      htm_create_date  \\\n",
       "1  1991-92  SHB 1001  Bills  1991-02-01T00:00:00   \n",
       "2  1991-92   HB 1002  Bills  1991-01-14T00:00:00   \n",
       "4  1991-92  SHB 1003  Bills  1991-02-21T00:00:00   \n",
       "5  1991-92   HB 1004  Bills  1991-01-14T00:00:00   \n",
       "6  1991-92   HB 1005  Bills  1991-01-14T00:00:00   \n",
       "\n",
       "                                             htm_url         type  \\\n",
       "1  http://app.leg.wa.gov/documents/billdocs/1991-...  House Bills   \n",
       "2  http://app.leg.wa.gov/documents/billdocs/1991-...  House Bills   \n",
       "4  http://app.leg.wa.gov/documents/billdocs/1991-...  House Bills   \n",
       "5  http://app.leg.wa.gov/documents/billdocs/1991-...  House Bills   \n",
       "6  http://app.leg.wa.gov/documents/billdocs/1991-...  House Bills   \n",
       "\n",
       "        bill_unique bill_num bill_num_unique  sponsor_agency  \\\n",
       "1  1991-92 SHB 1001     1001    1991-92 1001               0   \n",
       "2   1991-92 HB 1002     1002    1991-92 1002               0   \n",
       "4  1991-92 SHB 1003     1003    1991-92 1003               0   \n",
       "5   1991-92 HB 1004     1004    1991-92 1004               0   \n",
       "6   1991-92 HB 1005     1005    1991-92 1005               0   \n",
       "\n",
       "  primary_sponsor_id                                 secondary_sponsors  \\\n",
       "1                251  [17, 429, 406, 72, 48, 474, 75, 481, 325, 34, ...   \n",
       "2                251  [207, 180, 110, 475, 219, 320, 332, 394, 227, ...   \n",
       "4                311                      [110, 474, 54, 311, 311, 311]   \n",
       "5                311             [110, 475, 54, 304, 32, 311, 311, 311]   \n",
       "6                311                           [475, 23, 311, 311, 311]   \n",
       "\n",
       "   reached_vote  num_sponsors  rep_score  minority_score  year_count  \n",
       "1          True            36   0.722222        0.722222           0  \n",
       "2         False            20   0.350000        0.350000           0  \n",
       "4          True             6   0.166667        0.166667           0  \n",
       "5         False             8   0.500000        0.500000           0  \n",
       "6         False             5   0.200000        0.200000           0  "
      ]
     },
     "execution_count": 19,
     "metadata": {},
     "output_type": "execute_result"
    }
   ],
   "source": [
    "bill_df.head()"
   ]
  },
  {
   "cell_type": "code",
   "execution_count": 20,
   "metadata": {},
   "outputs": [],
   "source": [
    "type_dummies = pd.get_dummies(bill_df['type'])"
   ]
  },
  {
   "cell_type": "code",
   "execution_count": 21,
   "metadata": {},
   "outputs": [],
   "source": [
    "bill_df_with_dummies = pd.concat([bill_df, type_dummies], axis=1)"
   ]
  },
  {
   "cell_type": "code",
   "execution_count": 22,
   "metadata": {},
   "outputs": [],
   "source": [
    "train = bill_df_with_dummies[bill_df_with_dummies['year_count'] <= 20]\n",
    "test = bill_df_with_dummies[bill_df_with_dummies['year_count'] > 20]"
   ]
  },
  {
   "cell_type": "code",
   "execution_count": 23,
   "metadata": {},
   "outputs": [],
   "source": [
    "# X_train = train[['sponsor_agency', 'primary_sponsor_id', 'num_sponsors', 'rep_score', 'bill_num', 'year_count']]\n",
    "# X_test = test[['sponsor_agency', 'primary_sponsor_id', 'num_sponsors', 'rep_score', 'bill_num', 'year_count']]\n",
    "X_train = train.drop(['year_count', 'primary_sponsor_id', 'sponsor_agency', 'biennium', 'bill_id', 'class', 'htm_create_date', 'htm_url', 'type', 'bill_unique', 'bill_num_unique',\n",
    "                     'secondary_sponsors', 'reached_vote'], axis=1)\n",
    "X_test = test.drop(['year_count', 'primary_sponsor_id', 'sponsor_agency', 'biennium', 'bill_id', 'class', 'htm_create_date', 'htm_url', 'type', 'bill_unique', 'bill_num_unique',\n",
    "                     'secondary_sponsors', 'reached_vote'], axis=1)\n",
    "y_train = train['reached_vote']\n",
    "y_test = test['reached_vote']"
   ]
  },
  {
   "cell_type": "code",
   "execution_count": 56,
   "metadata": {},
   "outputs": [
    {
     "name": "stdout",
     "output_type": "stream",
     "text": [
      "      Iter       Train Loss   Remaining Time \n",
      "         1           1.3292           18.99s\n",
      "         2           1.3026           18.94s\n",
      "         3           1.2784           18.55s\n",
      "         4           1.2562           18.59s\n",
      "         5           1.2357           19.00s\n",
      "         6           1.2169           18.80s\n",
      "         7           1.1995           18.58s\n",
      "         8           1.1833           18.66s\n",
      "         9           1.1683           19.08s\n",
      "        10           1.1544           19.34s\n",
      "        20           1.0513           20.86s\n",
      "        30           0.9898           21.84s\n",
      "        40           0.9459           23.30s\n",
      "        50           0.9147           23.62s\n",
      "        60           0.8913           23.82s\n",
      "        70           0.8758           23.74s\n",
      "        80           0.8644           23.64s\n",
      "        90           0.8554           23.87s\n",
      "       100           0.8482           24.11s\n",
      "       200           0.8136           20.75s\n",
      "       300           0.8014           16.02s\n",
      "       400           0.7929           11.72s\n",
      "       500           0.7855            7.71s\n",
      "       600           0.7786            3.83s\n",
      "       700           0.7718            0.00s\n"
     ]
    }
   ],
   "source": [
    "baseline_model = GradientBoostingClassifier(learning_rate=0.05, n_estimators=700, max_depth=4, random_state=709, \n",
    "                                       verbose=1)\n",
    "baseline_model.fit(X_train, y_train)\n",
    "y_pred_b = (baseline_model.predict_proba(X_test))[:,1]"
   ]
  },
  {
   "cell_type": "code",
   "execution_count": 55,
   "metadata": {},
   "outputs": [
    {
     "data": {
      "text/plain": [
       "0.45435937700557877"
      ]
     },
     "execution_count": 55,
     "metadata": {},
     "output_type": "execute_result"
    }
   ],
   "source": [
    "log_loss(y_test, y_pred_b)"
   ]
  },
  {
   "cell_type": "code",
   "execution_count": 48,
   "metadata": {},
   "outputs": [
    {
     "data": {
      "text/plain": [
       "<matplotlib.collections.PathCollection at 0x1a8a1466d8>"
      ]
     },
     "execution_count": 48,
     "metadata": {},
     "output_type": "execute_result"
    },
    {
     "data": {
      "image/png": "[encoded data removed]",
      "text/plain": [
       "<Figure size 432x288 with 1 Axes>"
      ]
     },
     "metadata": {},
     "output_type": "display_data"
    }
   ],
   "source": [
    "fig, ax = plt.subplots()\n",
    "ax.scatter(y_pred_b, y_test, alpha=0.003)"
   ]
  },
  {
   "cell_type": "code",
   "execution_count": 49,
   "metadata": {},
   "outputs": [],
   "source": [
    "roc_auc_b = roc_auc_score(y_test, y_pred_b)\n",
    "fpr_b, tpr_b, thresholds_b = roc_curve(y_test, y_pred_b)"
   ]
  },
  {
   "cell_type": "code",
   "execution_count": 50,
   "metadata": {},
   "outputs": [
    {
     "data": {
      "image/png": "[encoded data removed]",
      "text/plain": [
       "<Figure size 432x288 with 1 Axes>"
      ]
     },
     "metadata": {},
     "output_type": "display_data"
    }
   ],
   "source": [
    "fig, ax = plt.subplots()\n",
    "plt.plot(fpr_b, tpr_b, color='darkorange', label= f'ROC curve (area = {round(roc_auc_b, 3)})')\n",
    "plt.plot([0, 1], [0, 1], color='navy', linestyle='--')\n",
    "plt.xlim([0.0, 1.0])\n",
    "plt.ylim([0.0, 1.05])\n",
    "plt.xlabel('False Positive Rate')\n",
    "plt.ylabel('True Positive Rate')\n",
    "plt.title('ROC Baseline Model')\n",
    "plt.legend(loc=\"lower right\")\n",
    "plt.show()"
   ]
  },
  {
   "cell_type": "code",
   "execution_count": 51,
   "metadata": {},
   "outputs": [],
   "source": [
    "features_importances = pd.DataFrame(baseline_model.feature_importances_, index=X_train.columns)\n",
    "features_importances_sorted = features_importances.sort_values(by=0, ascending=False)"
   ]
  },
  {
   "cell_type": "code",
   "execution_count": 52,
   "metadata": {},
   "outputs": [
    {
     "data": {
      "text/html": [
       "<div>\n",
       "<style scoped>\n",
       "    .dataframe tbody tr th:only-of-type {\n",
       "        vertical-align: middle;\n",
       "    }\n",
       "\n",
       "    .dataframe tbody tr th {\n",
       "        vertical-align: top;\n",
       "    }\n",
       "\n",
       "    .dataframe thead th {\n",
       "        text-align: right;\n",
       "    }\n",
       "</style>\n",
       "<table border=\"1\" class=\"dataframe\">\n",
       "  <thead>\n",
       "    <tr style=\"text-align: right;\">\n",
       "      <th></th>\n",
       "      <th>0</th>\n",
       "    </tr>\n",
       "  </thead>\n",
       "  <tbody>\n",
       "    <tr>\n",
       "      <th>bill_num</th>\n",
       "      <td>0.339856</td>\n",
       "    </tr>\n",
       "    <tr>\n",
       "      <th>num_sponsors</th>\n",
       "      <td>0.195006</td>\n",
       "    </tr>\n",
       "    <tr>\n",
       "      <th>rep_score</th>\n",
       "      <td>0.146201</td>\n",
       "    </tr>\n",
       "    <tr>\n",
       "      <th>minority_score</th>\n",
       "      <td>0.137473</td>\n",
       "    </tr>\n",
       "    <tr>\n",
       "      <th>House Bills</th>\n",
       "      <td>0.037750</td>\n",
       "    </tr>\n",
       "    <tr>\n",
       "      <th>Senate Bills</th>\n",
       "      <td>0.031721</td>\n",
       "    </tr>\n",
       "    <tr>\n",
       "      <th>Session Laws</th>\n",
       "      <td>0.023310</td>\n",
       "    </tr>\n",
       "    <tr>\n",
       "      <th>Senate Passed Legislature</th>\n",
       "      <td>0.020740</td>\n",
       "    </tr>\n",
       "    <tr>\n",
       "      <th>House Passed Legislature</th>\n",
       "      <td>0.018914</td>\n",
       "    </tr>\n",
       "    <tr>\n",
       "      <th>House Resolutions</th>\n",
       "      <td>0.012096</td>\n",
       "    </tr>\n",
       "    <tr>\n",
       "      <th>Vetoes</th>\n",
       "      <td>0.011731</td>\n",
       "    </tr>\n",
       "    <tr>\n",
       "      <th>House Joint Memorials</th>\n",
       "      <td>0.006316</td>\n",
       "    </tr>\n",
       "    <tr>\n",
       "      <th>House Joint Resolutions</th>\n",
       "      <td>0.006016</td>\n",
       "    </tr>\n",
       "    <tr>\n",
       "      <th>Senate Joint Memorials</th>\n",
       "      <td>0.005666</td>\n",
       "    </tr>\n",
       "    <tr>\n",
       "      <th>House Concurrent Resolutions</th>\n",
       "      <td>0.003257</td>\n",
       "    </tr>\n",
       "    <tr>\n",
       "      <th>Senate Concurrent Resolutions</th>\n",
       "      <td>0.002203</td>\n",
       "    </tr>\n",
       "    <tr>\n",
       "      <th>Senate Joint Resolutions</th>\n",
       "      <td>0.001636</td>\n",
       "    </tr>\n",
       "    <tr>\n",
       "      <th>Senate Resolutions</th>\n",
       "      <td>0.000108</td>\n",
       "    </tr>\n",
       "  </tbody>\n",
       "</table>\n",
       "</div>"
      ],
      "text/plain": [
       "                                      0\n",
       "bill_num                       0.339856\n",
       "num_sponsors                   0.195006\n",
       "rep_score                      0.146201\n",
       "minority_score                 0.137473\n",
       "House Bills                    0.037750\n",
       "Senate Bills                   0.031721\n",
       "Session Laws                   0.023310\n",
       "Senate Passed Legislature      0.020740\n",
       "House Passed Legislature       0.018914\n",
       "House Resolutions              0.012096\n",
       "Vetoes                         0.011731\n",
       "House Joint Memorials          0.006316\n",
       "House Joint Resolutions        0.006016\n",
       "Senate Joint Memorials         0.005666\n",
       "House Concurrent Resolutions   0.003257\n",
       "Senate Concurrent Resolutions  0.002203\n",
       "Senate Joint Resolutions       0.001636\n",
       "Senate Resolutions             0.000108"
      ]
     },
     "execution_count": 52,
     "metadata": {},
     "output_type": "execute_result"
    }
   ],
   "source": [
    "features_importances_sorted"
   ]
  },
  {
   "cell_type": "code",
   "execution_count": 53,
   "metadata": {},
   "outputs": [
    {
     "data": {
      "text/plain": [
       "18"
      ]
     },
     "execution_count": 53,
     "metadata": {},
     "output_type": "execute_result"
    }
   ],
   "source": [
    "len(X_train.columns)"
   ]
  },
  {
   "cell_type": "code",
   "execution_count": null,
   "metadata": {},
   "outputs": [],
   "source": []
  },
  {
   "cell_type": "code",
   "execution_count": null,
   "metadata": {},
   "outputs": [],
   "source": []
  }
 ],
 "metadata": {
  "kernelspec": {
   "display_name": "Python 3",
   "language": "python",
   "name": "python3"
  },
  "language_info": {
   "codemirror_mode": {
    "name": "ipython",
    "version": 3
   },
   "file_extension": ".py",
   "mimetype": "text/x-python",
   "name": "python",
   "nbconvert_exporter": "python",
   "pygments_lexer": "ipython3",
   "version": "3.6.5"
  }
 },
 "nbformat": 4,
 "nbformat_minor": 2
}
