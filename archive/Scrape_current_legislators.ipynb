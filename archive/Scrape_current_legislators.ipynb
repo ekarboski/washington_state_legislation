{
 "cells": [
  {
   "cell_type": "code",
   "execution_count": 14,
   "metadata": {},
   "outputs": [],
   "source": [
    "from selenium.webdriver import (Chrome, Firefox)\n",
    "import pandas as pd"
   ]
  },
  {
   "cell_type": "code",
   "execution_count": 31,
   "metadata": {},
   "outputs": [],
   "source": [
    "def scrape_current_legislators(url, sel):\n",
    "    '''Return pandas table.\n",
    "    '''\n",
    "    browser = Firefox()\n",
    "    browser.get(url)\n",
    "    \n",
    "    table_text = browser.find_element_by_css_selector(sel)\n",
    "    table_rows = table_text.find_elements_by_css_selector('tr')\n",
    "    \n",
    "    header_row = table_rows[0]\n",
    "    header_row_data = [h.text for h in header_row.find_elements_by_css_selector('th')]\n",
    "    \n",
    "    data_rows = []\n",
    "    for row in table_rows[1:]:\n",
    "        data_rows.append([d.text for d in row.find_elements_by_css_selector('td')])\n",
    "        \n",
    "    return pd.DataFrame(data_rows, columns=header_row_data)"
   ]
  },
  {
   "cell_type": "code",
   "execution_count": 57,
   "metadata": {},
   "outputs": [],
   "source": [
    "def scrape_current_senate_and_house():\n",
    "    '''Scrape wikipedia current Senators and Representatives and return one pandas dataframe.\n",
    "    '''\n",
    "    senate_url = 'https://en.wikipedia.org/wiki/Washington_State_Senate'\n",
    "    house_url = 'https://en.wikipedia.org/wiki/Washington_House_of_Representatives'\n",
    "    sel = \"table.wikitable.sortable.jquery-tablesorter\"\n",
    "    \n",
    "    sens = scrape_current_legislators(senate_url, sel)\n",
    "    sens = sens.drop(['Residence', 'Counties Represented', 'Next election'], axis=1)\n",
    "    sens.columns = ['district', 'name', 'party', 'first_elected']\n",
    "    sens['agency'] = 1\n",
    "    \n",
    "    \n",
    "    reps = scrape_current_legislators(house_url, sel)\n",
    "    for i, row in reps.iterrows():\n",
    "        name = row['Position']\n",
    "        party = row['Representative']\n",
    "        res = row['Party']\n",
    "        f_e = row['Residence']\n",
    "\n",
    "        if row['Position'] != '1':\n",
    "            reps.iloc[i, 1] = 2\n",
    "            reps.iloc[i, 2] = name\n",
    "            reps.iloc[i, 3] = party\n",
    "            reps.iloc[i, 4] = res\n",
    "            reps.iloc[i, 5] = f_e\n",
    "   \n",
    "    reps = reps.drop(['Position', 'Residence', 'Counties Represented'], axis=1)\n",
    "    reps.columns = ['district', 'name', 'party', 'first_elected']\n",
    "    reps['agency'] = 0\n",
    "    \n",
    "    sens.concat\n",
    "            \n",
    "    \n",
    "    \n",
    "    "
   ]
  },
  {
   "cell_type": "code",
   "execution_count": 33,
   "metadata": {},
   "outputs": [],
   "source": [
    "url = 'https://en.wikipedia.org/wiki/Washington_State_Senate'"
   ]
  },
  {
   "cell_type": "code",
   "execution_count": 34,
   "metadata": {},
   "outputs": [],
   "source": [
    "sel = \"table.wikitable.sortable.jquery-tablesorter\""
   ]
  },
  {
   "cell_type": "code",
   "execution_count": 35,
   "metadata": {},
   "outputs": [],
   "source": [
    "header, data = scrape_table(url, sel)"
   ]
  },
  {
   "cell_type": "code",
   "execution_count": 36,
   "metadata": {},
   "outputs": [],
   "source": [
    "current_legislators = pd.DataFrame(data, columns=header)"
   ]
  },
  {
   "cell_type": "code",
   "execution_count": 37,
   "metadata": {},
   "outputs": [],
   "source": [
    "house_url = 'https://en.wikipedia.org/wiki/Washington_House_of_Representatives'"
   ]
  },
  {
   "cell_type": "code",
   "execution_count": 48,
   "metadata": {},
   "outputs": [],
   "source": [
    "reps = scrape_current_legislators(house_url, sel)"
   ]
  },
  {
   "cell_type": "code",
   "execution_count": 49,
   "metadata": {},
   "outputs": [
    {
     "data": {
      "text/html": [
       "<div>\n",
       "<style scoped>\n",
       "    .dataframe tbody tr th:only-of-type {\n",
       "        vertical-align: middle;\n",
       "    }\n",
       "\n",
       "    .dataframe tbody tr th {\n",
       "        vertical-align: top;\n",
       "    }\n",
       "\n",
       "    .dataframe thead th {\n",
       "        text-align: right;\n",
       "    }\n",
       "</style>\n",
       "<table border=\"1\" class=\"dataframe\">\n",
       "  <thead>\n",
       "    <tr style=\"text-align: right;\">\n",
       "      <th></th>\n",
       "      <th>District</th>\n",
       "      <th>Senator</th>\n",
       "      <th>Party</th>\n",
       "      <th>Residence</th>\n",
       "      <th>Counties Represented</th>\n",
       "      <th>First elected</th>\n",
       "      <th>Next election</th>\n",
       "    </tr>\n",
       "  </thead>\n",
       "  <tbody>\n",
       "    <tr>\n",
       "      <th>0</th>\n",
       "      <td>1</td>\n",
       "      <td>Guy Palumbo</td>\n",
       "      <td>Democratic</td>\n",
       "      <td>Maltby</td>\n",
       "      <td>King (part), Snohomish (part)</td>\n",
       "      <td>2016</td>\n",
       "      <td>2020</td>\n",
       "    </tr>\n",
       "    <tr>\n",
       "      <th>1</th>\n",
       "      <td>2</td>\n",
       "      <td>Randi Becker</td>\n",
       "      <td>Republican</td>\n",
       "      <td>Eatonville</td>\n",
       "      <td>Pierce (part), Thurston (part)</td>\n",
       "      <td>2008</td>\n",
       "      <td>2020</td>\n",
       "    </tr>\n",
       "    <tr>\n",
       "      <th>2</th>\n",
       "      <td>3</td>\n",
       "      <td>Andy Billig</td>\n",
       "      <td>Democratic</td>\n",
       "      <td>Spokane</td>\n",
       "      <td>Spokane (part)</td>\n",
       "      <td>2012</td>\n",
       "      <td>2020</td>\n",
       "    </tr>\n",
       "    <tr>\n",
       "      <th>3</th>\n",
       "      <td>4</td>\n",
       "      <td>Mike Padden</td>\n",
       "      <td>Republican</td>\n",
       "      <td>Spokane Valley</td>\n",
       "      <td>Spokane (part)</td>\n",
       "      <td>2011^</td>\n",
       "      <td>2020</td>\n",
       "    </tr>\n",
       "    <tr>\n",
       "      <th>4</th>\n",
       "      <td>5</td>\n",
       "      <td>Mark Mullet</td>\n",
       "      <td>Democratic</td>\n",
       "      <td>Issaquah</td>\n",
       "      <td>King (part)</td>\n",
       "      <td>2012#</td>\n",
       "      <td>2020</td>\n",
       "    </tr>\n",
       "  </tbody>\n",
       "</table>\n",
       "</div>"
      ],
      "text/plain": [
       "  District       Senator       Party       Residence  \\\n",
       "0        1   Guy Palumbo  Democratic          Maltby   \n",
       "1        2  Randi Becker  Republican      Eatonville   \n",
       "2        3   Andy Billig  Democratic         Spokane   \n",
       "3        4   Mike Padden  Republican  Spokane Valley   \n",
       "4        5   Mark Mullet  Democratic        Issaquah   \n",
       "\n",
       "             Counties Represented First elected Next election  \n",
       "0   King (part), Snohomish (part)          2016          2020  \n",
       "1  Pierce (part), Thurston (part)          2008          2020  \n",
       "2                  Spokane (part)          2012          2020  \n",
       "3                  Spokane (part)         2011^          2020  \n",
       "4                     King (part)         2012#          2020  "
      ]
     },
     "execution_count": 49,
     "metadata": {},
     "output_type": "execute_result"
    }
   ],
   "source": [
    "current_legislators.head()"
   ]
  },
  {
   "cell_type": "code",
   "execution_count": 58,
   "metadata": {},
   "outputs": [],
   "source": [
    "current_legislators = current_legislators.drop(['Residence', 'Counties Represented', 'Next election'], axis=1)"
   ]
  },
  {
   "cell_type": "code",
   "execution_count": 59,
   "metadata": {},
   "outputs": [],
   "source": [
    "current_legislators.columns = ['district', 'name', 'party', 'first_elected']"
   ]
  },
  {
   "cell_type": "code",
   "execution_count": 62,
   "metadata": {},
   "outputs": [],
   "source": [
    "current_legislators['agency'] = 1"
   ]
  },
  {
   "cell_type": "code",
   "execution_count": 50,
   "metadata": {},
   "outputs": [
    {
     "data": {
      "text/html": [
       "<div>\n",
       "<style scoped>\n",
       "    .dataframe tbody tr th:only-of-type {\n",
       "        vertical-align: middle;\n",
       "    }\n",
       "\n",
       "    .dataframe tbody tr th {\n",
       "        vertical-align: top;\n",
       "    }\n",
       "\n",
       "    .dataframe thead th {\n",
       "        text-align: right;\n",
       "    }\n",
       "</style>\n",
       "<table border=\"1\" class=\"dataframe\">\n",
       "  <thead>\n",
       "    <tr style=\"text-align: right;\">\n",
       "      <th></th>\n",
       "      <th>District</th>\n",
       "      <th>Position</th>\n",
       "      <th>Representative</th>\n",
       "      <th>Party</th>\n",
       "      <th>Residence</th>\n",
       "      <th>Counties Represented</th>\n",
       "      <th>First elected</th>\n",
       "    </tr>\n",
       "  </thead>\n",
       "  <tbody>\n",
       "    <tr>\n",
       "      <th>0</th>\n",
       "      <td>1</td>\n",
       "      <td>1</td>\n",
       "      <td>Derek Stanford</td>\n",
       "      <td>Democratic</td>\n",
       "      <td>Bothell</td>\n",
       "      <td>King (part), Snohomish (part)</td>\n",
       "      <td>2010</td>\n",
       "    </tr>\n",
       "    <tr>\n",
       "      <th>1</th>\n",
       "      <td>2</td>\n",
       "      <td>Shelley Kloba</td>\n",
       "      <td>Democratic</td>\n",
       "      <td>Kirkland</td>\n",
       "      <td>2016</td>\n",
       "      <td>None</td>\n",
       "      <td>None</td>\n",
       "    </tr>\n",
       "    <tr>\n",
       "      <th>2</th>\n",
       "      <td>2</td>\n",
       "      <td>1</td>\n",
       "      <td>Andrew Barkis</td>\n",
       "      <td>Republican</td>\n",
       "      <td>Lacey</td>\n",
       "      <td>Pierce (part), Thurston (part)</td>\n",
       "      <td>2016*</td>\n",
       "    </tr>\n",
       "    <tr>\n",
       "      <th>3</th>\n",
       "      <td>2</td>\n",
       "      <td>J.T. Wilcox</td>\n",
       "      <td>Republican</td>\n",
       "      <td>Roy</td>\n",
       "      <td>2010</td>\n",
       "      <td>None</td>\n",
       "      <td>None</td>\n",
       "    </tr>\n",
       "    <tr>\n",
       "      <th>4</th>\n",
       "      <td>3</td>\n",
       "      <td>1</td>\n",
       "      <td>Marcus Riccelli</td>\n",
       "      <td>Democratic</td>\n",
       "      <td>Spokane</td>\n",
       "      <td>Spokane (part)</td>\n",
       "      <td>2012</td>\n",
       "    </tr>\n",
       "  </tbody>\n",
       "</table>\n",
       "</div>"
      ],
      "text/plain": [
       "  District       Position   Representative       Party Residence  \\\n",
       "0        1              1   Derek Stanford  Democratic   Bothell   \n",
       "1        2  Shelley Kloba       Democratic    Kirkland      2016   \n",
       "2        2              1    Andrew Barkis  Republican     Lacey   \n",
       "3        2    J.T. Wilcox       Republican         Roy      2010   \n",
       "4        3              1  Marcus Riccelli  Democratic   Spokane   \n",
       "\n",
       "             Counties Represented First elected  \n",
       "0   King (part), Snohomish (part)          2010  \n",
       "1                            None          None  \n",
       "2  Pierce (part), Thurston (part)         2016*  \n",
       "3                            None          None  \n",
       "4                  Spokane (part)          2012  "
      ]
     },
     "execution_count": 50,
     "metadata": {},
     "output_type": "execute_result"
    }
   ],
   "source": [
    "reps.head()"
   ]
  },
  {
   "cell_type": "code",
   "execution_count": 51,
   "metadata": {},
   "outputs": [],
   "source": [
    "row = reps.iloc[0, :]"
   ]
  },
  {
   "cell_type": "code",
   "execution_count": 52,
   "metadata": {},
   "outputs": [],
   "source": [
    "for i, row in reps.iterrows():\n",
    "    name = row['Position']\n",
    "    party = row['Representative']\n",
    "    res = row['Party']\n",
    "    f_e = row['Residence']\n",
    "    \n",
    "    if row['Position'] != '1':\n",
    "        reps.iloc[i, 1] = 2\n",
    "        reps.iloc[i, 2] = name\n",
    "        reps.iloc[i, 3] = party\n",
    "        reps.iloc[i, 4] = res\n",
    "        reps.iloc[i, 5] = f_e"
   ]
  },
  {
   "cell_type": "code",
   "execution_count": 60,
   "metadata": {},
   "outputs": [],
   "source": [
    "reps = reps.drop(['Position', 'Residence', 'Counties Represented'], axis=1)"
   ]
  },
  {
   "cell_type": "code",
   "execution_count": 61,
   "metadata": {},
   "outputs": [],
   "source": [
    "reps.columns = ['district', 'name', 'party', 'first_elected']\n",
    "reps['agency'] = 0"
   ]
  },
  {
   "cell_type": "code",
   "execution_count": 63,
   "metadata": {},
   "outputs": [],
   "source": [
    "pd.concat?"
   ]
  },
  {
   "cell_type": "code",
   "execution_count": null,
   "metadata": {},
   "outputs": [],
   "source": [
    "pd.concat(reps, current_legislators, axis=0)"
   ]
  }
 ],
 "metadata": {
  "kernelspec": {
   "display_name": "Python 3",
   "language": "python",
   "name": "python3"
  },
  "language_info": {
   "codemirror_mode": {
    "name": "ipython",
    "version": 3
   },
   "file_extension": ".py",
   "mimetype": "text/x-python",
   "name": "python",
   "nbconvert_exporter": "python",
   "pygments_lexer": "ipython3",
   "version": "3.6.5"
  }
 },
 "nbformat": 4,
 "nbformat_minor": 2
}
