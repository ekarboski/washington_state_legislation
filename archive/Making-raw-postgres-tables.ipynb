{
 "cells": [
  {
   "cell_type": "code",
   "execution_count": null,
   "metadata": {},
   "outputs": [],
   "source": [
    "import psycopg2 as pg2\n",
    "import pandas as pd\n",
    "import sqlalchemy\n",
    "from functools import reduce\n",
    "from web_scrape_functions import scrape_bill_topic_table\n",
    "from WA_state_API_functions import get_bill_data, get_sponsor_data, get_committee_data, get_committee_member_data, get_and_reorganize_rollcall_data"
   ]
  },
  {
   "cell_type": "markdown",
   "metadata": {},
   "source": [
    "# Load get_bill_data for all bienniums"
   ]
  },
  {
   "cell_type": "code",
   "execution_count": null,
   "metadata": {},
   "outputs": [],
   "source": [
    "bienniums = ['1991-92', '1993-94', '1995-96', '1997-98', '1999-00',\n",
    "             '2001-02', '2003-04', '2005-06', '2007-08', '2009-10', \n",
    "             '2011-12', '2013-14', '2015-16', '2017-18']"
   ]
  },
  {
   "cell_type": "code",
   "execution_count": null,
   "metadata": {},
   "outputs": [],
   "source": [
    "bill_dfs = [get_bill_data(b, 'Bills') for b in bienniums]"
   ]
  },
  {
   "cell_type": "code",
   "execution_count": null,
   "metadata": {},
   "outputs": [],
   "source": [
    "bill_data_all_bienniums = reduce((lambda x, y: x.append(sy)), bill_dfs)"
   ]
  },
  {
   "cell_type": "markdown",
   "metadata": {},
   "source": [
    "# Put dataframes in wa_leg_raw bill_api"
   ]
  },
  {
   "cell_type": "code",
   "execution_count": null,
   "metadata": {},
   "outputs": [],
   "source": [
    "engine = sqlalchemy.create_engine('postgresql://emilykarboski@localhost:5432/wa_leg_raw')\n",
    "con = engine.connect()"
   ]
  },
  {
   "cell_type": "code",
   "execution_count": null,
   "metadata": {},
   "outputs": [],
   "source": [
    "bill_data_all_bienniums.to_sql('bill_api', con, if_exists='replace', index=False)"
   ]
  },
  {
   "cell_type": "markdown",
   "metadata": {},
   "source": [
    "# Load sponsor data for all bills and put in raw table"
   ]
  },
  {
   "cell_type": "code",
   "execution_count": null,
   "metadata": {},
   "outputs": [],
   "source": [
    "bill_1991 = get_bill_data('1991-92', 'Bills')"
   ]
  },
  {
   "cell_type": "code",
   "execution_count": null,
   "metadata": {},
   "outputs": [],
   "source": [
    "bill_1991['bill_id'].unique()[3100: 3150]"
   ]
  },
  {
   "cell_type": "code",
   "execution_count": null,
   "metadata": {},
   "outputs": [],
   "source": [
    "sponsor_dfs = []\n",
    "for bill_id, biennium in zip(bill_data_all_bienniums['bill_id'], \n",
    "                          bill_data_all_bienniums['biennium']):\n",
    "    try: \n",
    "        sponsor_df = get_sponsor_data(biennium, bill_id)\n",
    "        sponsor_df['biennium'] = biennium\n",
    "        sponsor_df['bill_id'] = bill_id\n",
    "        sponsor_dfs.append(sponsor_df)\n",
    "    except:\n",
    "        continue"
   ]
  },
  {
   "cell_type": "code",
   "execution_count": null,
   "metadata": {},
   "outputs": [],
   "source": [
    "len(sponsor_dfs)"
   ]
  },
  {
   "cell_type": "markdown",
   "metadata": {},
   "source": [
    "### Pushing to postgres"
   ]
  },
  {
   "cell_type": "code",
   "execution_count": null,
   "metadata": {},
   "outputs": [],
   "source": [
    "sponsor_dfs[0].to_sql('sponsor_api', con, if_exists='replace', index=False)"
   ]
  },
  {
   "cell_type": "code",
   "execution_count": null,
   "metadata": {},
   "outputs": [],
   "source": [
    "for df in sponsor_dfs[1:]:\n",
    "    df.to_sql('sponsor_api', con, if_exists='append', index=False)\n",
    "% time"
   ]
  },
  {
   "cell_type": "markdown",
   "metadata": {},
   "source": [
    "# Scrape topic data for all years and put in raw postgres table"
   ]
  },
  {
   "cell_type": "code",
   "execution_count": null,
   "metadata": {},
   "outputs": [],
   "source": [
    "years = ['1991', '1992', '1993', '1994', '1995', '1996', '1997', '1998', '1999', '2000'\n",
    "         '2001', '2002', '2003', '2004', '2005', '2006', '2007', '2008', '2009', '2010', \n",
    "         '2011', '2012', '2013', '2014', '2015', '2016', '2017', '2018']"
   ]
  },
  {
   "cell_type": "code",
   "execution_count": null,
   "metadata": {},
   "outputs": [],
   "source": [
    "topic_dfs = []\n",
    "for year in years:\n",
    "    topic_df = scrape_bill_topic_table(year)\n",
    "    topic_df['year'] = year\n",
    "    topic_dfs.append(topic_df)"
   ]
  },
  {
   "cell_type": "code",
   "execution_count": null,
   "metadata": {},
   "outputs": [],
   "source": [
    "topic_dfs[0].head()"
   ]
  },
  {
   "cell_type": "code",
   "execution_count": null,
   "metadata": {},
   "outputs": [],
   "source": [
    "topic_dfs[0].to_sql('topic_scrape', con, if_exists='replace', index=False)"
   ]
  },
  {
   "cell_type": "code",
   "execution_count": null,
   "metadata": {},
   "outputs": [],
   "source": [
    "for df in topic_dfs[1:]:\n",
    "    df.to_sql('topic_scrape', con, if_exists='append', index=False)\n",
    "% time"
   ]
  },
  {
   "cell_type": "markdown",
   "metadata": {},
   "source": [
    "# Load committee data and put in raw postgres table"
   ]
  },
  {
   "cell_type": "code",
   "execution_count": null,
   "metadata": {},
   "outputs": [],
   "source": [
    "bienniums = ['1991-92', '1993-94', '1995-96', '1997-98', '1999-00',\n",
    "             '2001-02', '2003-04', '2005-06', '2007-08', '2009-10', \n",
    "             '2011-12', '2013-14', '2015-16', '2017-18']"
   ]
  },
  {
   "cell_type": "code",
   "execution_count": null,
   "metadata": {},
   "outputs": [],
   "source": [
    "committee_dfs = [get_committee_data(b) for b in bienniums]"
   ]
  },
  {
   "cell_type": "code",
   "execution_count": null,
   "metadata": {},
   "outputs": [],
   "source": [
    "committee_dfs[0].head()"
   ]
  },
  {
   "cell_type": "code",
   "execution_count": null,
   "metadata": {},
   "outputs": [],
   "source": [
    "committee_data_all_bienniums = reduce((lambda x, y: x.append(y)), committee_dfs)"
   ]
  },
  {
   "cell_type": "code",
   "execution_count": null,
   "metadata": {},
   "outputs": [],
   "source": [
    "committee_data_all_bienniums.to_sql('committee_api', con, if_exists='replace', index=False)"
   ]
  },
  {
   "cell_type": "markdown",
   "metadata": {},
   "source": [
    "# Load committee member data and put in raw postgres table"
   ]
  },
  {
   "cell_type": "code",
   "execution_count": null,
   "metadata": {},
   "outputs": [],
   "source": [
    "com_member_dfs = []\n",
    "for biennium, agency, name in zip(committee_data_all_bienniums['biennium'], \n",
    "                              committee_data_all_bienniums['agency'], \n",
    "                              committee_data_all_bienniums['name']):\n",
    "    try: \n",
    "        com_member_df = get_committee_member_data(biennium, agency, name)\n",
    "        com_member_dfs.append(com_member_df)\n",
    "    except:\n",
    "        continue"
   ]
  },
  {
   "cell_type": "code",
   "execution_count": null,
   "metadata": {},
   "outputs": [],
   "source": [
    "com_member_dfs[0].to_sql('committee_member_api', con, if_exists='replace', index=False)"
   ]
  },
  {
   "cell_type": "code",
   "execution_count": null,
   "metadata": {},
   "outputs": [],
   "source": [
    "for df in com_member_dfs[1:]:\n",
    "    df.to_sql('committee_member_api', con, if_exists='append', index=False)\n",
    "% time"
   ]
  },
  {
   "cell_type": "markdown",
   "metadata": {},
   "source": [
    "# Load voting data and put in raw postgres table"
   ]
  },
  {
   "cell_type": "code",
   "execution_count": null,
   "metadata": {},
   "outputs": [],
   "source": []
  },
  {
   "cell_type": "code",
   "execution_count": null,
   "metadata": {},
   "outputs": [],
   "source": [
    "bill_data_all_bienniums['bill_num'] = bill_data_all_bienniums['bill_id'].str[-4:]"
   ]
  },
  {
   "cell_type": "code",
   "execution_count": null,
   "metadata": {
    "scrolled": false
   },
   "outputs": [],
   "source": [
    "bill_data_all_bienniums.iloc[:5, :]"
   ]
  },
  {
   "cell_type": "code",
   "execution_count": null,
   "metadata": {},
   "outputs": [],
   "source": [
    "vote_dfs = []\n",
    "for biennium, bill_num in zip(bill_data_all_bienniums['biennium'], \n",
    "                              bill_data_all_bienniums['bill_num']):\n",
    "    try: \n",
    "        vote_df = get_and_reorganize_rollcall_data(biennium, bill_num)\n",
    "        vote_dfs.append(vote_df)\n",
    "    except:\n",
    "        continue"
   ]
  },
  {
   "cell_type": "code",
   "execution_count": null,
   "metadata": {},
   "outputs": [],
   "source": [
    "vote_dfs[0].to_sql('vote_api', con, if_exists='replace', index=False)"
   ]
  },
  {
   "cell_type": "code",
   "execution_count": null,
   "metadata": {},
   "outputs": [],
   "source": [
    "for df in vote_dfs[1:]:\n",
    "    df.to_sql('vote_api', con, if_exists='append', index=False)\n",
    "% time"
   ]
  }
 ],
 "metadata": {
  "kernelspec": {
   "display_name": "Python 3",
   "language": "python",
   "name": "python3"
  },
  "language_info": {
   "codemirror_mode": {
    "name": "ipython",
    "version": 3
   },
   "file_extension": ".py",
   "mimetype": "text/x-python",
   "name": "python",
   "nbconvert_exporter": "python",
   "pygments_lexer": "ipython3",
   "version": "3.6.5"
  }
 },
 "nbformat": 4,
 "nbformat_minor": 2
}
