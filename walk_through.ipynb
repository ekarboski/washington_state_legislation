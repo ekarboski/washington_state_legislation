{
 "cells": [
  {
   "cell_type": "markdown",
   "metadata": {},
   "source": [
    "# Walk Through"
   ]
  },
  {
   "cell_type": "code",
   "execution_count": 7,
   "metadata": {},
   "outputs": [],
   "source": [
    "import psycopg2 as pg2\n",
    "import pandas as pd\n",
    "import sqlalchemy\n",
    "from functools import reduce"
   ]
  },
  {
   "cell_type": "markdown",
   "metadata": {},
   "source": [
    "## Load data and put into Postgres Tables"
   ]
  },
  {
   "cell_type": "markdown",
   "metadata": {},
   "source": [
    "### Create Raw Database Tables"
   ]
  },
  {
   "cell_type": "code",
   "execution_count": 8,
   "metadata": {},
   "outputs": [],
   "source": [
    "from first_time_get_API_data import (save_bill_data_STEP_ONE, \n",
    "                                     save_sponsor_data_STEP_TWO,\n",
    "                                     save_committee_data_STEP_THREE,\n",
    "                                     save_vote_data_STEP_FOUR,\n",
    "                                     save_topic_data_STEP_FIVE)           "
   ]
  },
  {
   "cell_type": "markdown",
   "metadata": {},
   "source": [
    "##### Save directly to raw databases\n",
    "These functions will:\n",
    "1. call functions from WA_state_API_functions.py (retrieve data from the API dating back to 1991)\n",
    "2. call functions form from web_scrape_functions.py (scrape topic data) \n",
    "3. save the corresponding data directly to the postgres database wa_leg_raw tables\n",
    "\n",
    "The purpose of these functions is to load all the past data, and therefore will only be used once. Past voting data will not change, and therefore does not need to be retrieved again.\n",
    "\n",
    "These functions need to be called in the labeled order because some api interfaces will require information from previous interfaces.\n",
    "\n",
    "The data stored in wa_leg_raw is raw data, unaltered from the api/scrape. All data is type str."
   ]
  },
  {
   "cell_type": "raw",
   "metadata": {},
   "source": [
    "save_bill_data_STEP_ONE()\n",
    "save_bill_data_STEP_TWO()\n",
    "save_committee_data_STEP_THREE()\n",
    "save_vote_data_STEP_FOUR()\n",
    "save_topic_data_STEP_FIVE()"
   ]
  },
  {
   "cell_type": "markdown",
   "metadata": {},
   "source": [
    "### Create Staging Database Tables"
   ]
  },
  {
   "cell_type": "code",
   "execution_count": 9,
   "metadata": {},
   "outputs": [],
   "source": [
    "from create_staging_tables import create_staging_legislator_df_STEP_ONE"
   ]
  },
  {
   "cell_type": "markdown",
   "metadata": {},
   "source": [
    "##### Import from raw databases, run create_staging functions and then save to postgres table\n",
    "These functions will:\n",
    "1. use one or more raw tables as arguments (accept pandas dataframes only)\n",
    "2. organize/merge data\n",
    "3. return a pandas dataframe\n",
    "\n",
    "These functions will take the existing data stored in the wa_leg_raw database and mix and mash them until they are merged into one big table.\n",
    "\n",
    "Some categorial data has been made into integers and unique values have been added to make merging possible.\n",
    "\n",
    "In order to run these functions, one must first load the wa_leg_raw tables in to pandas dataframes, and run the functions in order. It is recommended to save each outputted pandas dataframe to the corresponding wa_leg_staging table before continuing to the next function, but the code below doesn't show that (for simplicity).\n",
    "\n",
    "One function uses missing_leg_info_df. This dataframe is loaded from a csv file that contains party and district information about legislators whose information was missing from the API."
   ]
  },
  {
   "cell_type": "raw",
   "metadata": {},
   "source": [
    "engine_raw = create_engine('postgresql://localhost:5432/wa_leg_staging')"
   ]
  },
  {
   "cell_type": "raw",
   "metadata": {},
   "source": [
    "raw_vote_df =             pd.read_sql_query('select * from \"vote_api\"',con=engine)\n",
    "raw_committee_member_df = pd.read_sql_query('select * from \"committee_member_api\"',con=engine)\n",
    "raw_bill_df =             pd.read_sql_query('select * from \"bill_api\"',con=engine)\n",
    "raw_sponsor_df =          pd.read_sql_query('select * from \"sponsor_api\"',con=engine)\n",
    "missing_leg_info_df = pd.read_csv('missing_legislators.csv', sep='|')"
   ]
  },
  {
   "cell_type": "code",
   "execution_count": null,
   "metadata": {},
   "outputs": [],
   "source": [
    "staging_legislator_df = create_staging_legislator_df_STEP_ONE(raw_vote_df, \n",
    "                                                              raw_committee_member_df, \n",
    "                                                              missing_leg_info_df)\n",
    "\n",
    "staging_bill_df = create_staging_bill_df_STEP_THREE(raw_bill_df, raw_sponsor_df)\n",
    "unique_vote_dates_df = create_staging_unique_vote_dates_df_STEP_FOUR(staging_bill_df, staging_vote_df)\n",
    "merged_initial = create_staging_merged_initial_df_STEP_FIVE(staging_vote_df, staging_bill_df)"
   ]
  }
 ],
 "metadata": {
  "kernelspec": {
   "display_name": "Python 3",
   "language": "python",
   "name": "python3"
  },
  "language_info": {
   "codemirror_mode": {
    "name": "ipython",
    "version": 3
   },
   "file_extension": ".py",
   "mimetype": "text/x-python",
   "name": "python",
   "nbconvert_exporter": "python",
   "pygments_lexer": "ipython3",
   "version": "3.6.5"
  }
 },
 "nbformat": 4,
 "nbformat_minor": 2
}
