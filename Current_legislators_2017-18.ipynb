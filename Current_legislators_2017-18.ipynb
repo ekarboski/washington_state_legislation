{
 "cells": [
  {
   "cell_type": "code",
   "execution_count": 1,
   "metadata": {},
   "outputs": [],
   "source": [
    "import psycopg2\n",
    "import pandas as pd\n",
    "from sqlalchemy import create_engine\n",
    "\n",
    "import pandas as pd\n",
    "import numpy as np"
   ]
  },
  {
   "cell_type": "code",
   "execution_count": 3,
   "metadata": {},
   "outputs": [],
   "source": [
    "engine = create_engine('postgresql://localhost:5432/wa_leg_staging')"
   ]
  },
  {
   "cell_type": "code",
   "execution_count": 4,
   "metadata": {},
   "outputs": [],
   "source": [
    "merged_final_df = pd.read_sql_query('select * from \"merged_final\"',con=engine)\n",
    "current_legislator_df = pd.read_sql_query('select * from \"current_legislator\"',con=engine)"
   ]
  },
  {
   "cell_type": "code",
   "execution_count": 6,
   "metadata": {},
   "outputs": [
    {
     "data": {
      "text/plain": [
       "array(['2010', '2016', '2012', '2003', '2014', '2008', '2004', '2017',\n",
       "       '2015', '2007', '2002', '1998', '2009', '1996', '2011', '2013',\n",
       "       '2000', '1994', '2006', '2001', '1997', '2018'], dtype=object)"
      ]
     },
     "execution_count": 6,
     "metadata": {},
     "output_type": "execute_result"
    }
   ],
   "source": [
    "current_legislator_df['first_elected'].unique()"
   ]
  },
  {
   "cell_type": "code",
   "execution_count": 10,
   "metadata": {},
   "outputs": [],
   "source": [
    "m_2017 = merged_final_df[merged_final_df['biennium'] == '2017-18']"
   ]
  },
  {
   "cell_type": "code",
   "execution_count": 18,
   "metadata": {},
   "outputs": [],
   "source": [
    "m_2017 = m_2017[m_2017['vote_date'] > '2018-03-01T00:00:00.000000000']"
   ]
  },
  {
   "cell_type": "code",
   "execution_count": 23,
   "metadata": {},
   "outputs": [],
   "source": [
    "current_legislators = m_2017['voter_id'].unique()"
   ]
  },
  {
   "cell_type": "code",
   "execution_count": 24,
   "metadata": {},
   "outputs": [
    {
     "data": {
      "text/plain": [
       "array([10031, 24075, 17227,  8317, 15820, 20760,  3469, 26176,  1659,\n",
       "        8209,  1543,  8237,  2143, 20761, 26175, 26174, 21490, 27988,\n",
       "       17241, 13198, 23902, 11999, 26169, 18264, 20752,  9996, 16499,\n",
       "       15822, 20740, 15813, 17219, 17223,  8215, 27522, 26172, 15817,\n",
       "       14211,  3487, 20753,  5154, 14207, 26168, 26173, 10041,  8235,\n",
       "        3476, 15818, 17221, 26178, 17213, 14115, 20754, 20741,  1887,\n",
       "        2144, 20759, 18038, 15097,  7635,  9207, 18546, 14205, 26177,\n",
       "       20755,  8286, 17158, 16596, 27182, 15706, 18265,  9710, 15736,\n",
       "        3483, 17224, 13209,  9997, 18057, 14202, 27504, 13577, 10039,\n",
       "       12017, 15809, 10546, 20756, 17279,  1218, 17243, 15006, 15816,\n",
       "       27975, 20757, 17218, 26170, 27181, 15810, 16462, 18516, 17217,\n",
       "         322, 27225, 14208,  8238, 15780, 14083, 15811, 17289, 17759,\n",
       "       14325,  1407, 17294,   972,  5156, 28022,  3473, 15779,  3474,\n",
       "       15821, 10030,  2006, 12072,  1577,  5155,  1950, 13199, 21520,\n",
       "       13546,  8211,  3478, 17226, 13161, 12002, 14074, 15814, 11998,\n",
       "       27290,   652,   394, 11952, 10249, 12003, 28317,  1232, 12084,\n",
       "       27211, 20758,  4006])"
      ]
     },
     "execution_count": 24,
     "metadata": {},
     "output_type": "execute_result"
    }
   ],
   "source": [
    "current_legislators"
   ]
  },
  {
   "cell_type": "code",
   "execution_count": null,
   "metadata": {},
   "outputs": [],
   "source": []
  }
 ],
 "metadata": {
  "kernelspec": {
   "display_name": "Python 3",
   "language": "python",
   "name": "python3"
  },
  "language_info": {
   "codemirror_mode": {
    "name": "ipython",
    "version": 3
   },
   "file_extension": ".py",
   "mimetype": "text/x-python",
   "name": "python",
   "nbconvert_exporter": "python",
   "pygments_lexer": "ipython3",
   "version": "3.6.5"
  }
 },
 "nbformat": 4,
 "nbformat_minor": 2
}
