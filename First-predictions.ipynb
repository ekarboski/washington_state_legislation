{
 "cells": [
  {
   "cell_type": "code",
   "execution_count": 2,
   "metadata": {},
   "outputs": [],
   "source": [
    "import psycopg2\n",
    "from sqlalchemy import create_engine\n",
    "\n",
    "import pandas as pd\n",
    "import numpy as np\n",
    "import string\n",
    "\n",
    "from sklearn.linear_model import LogisticRegression\n",
    "from sklearn.ensemble import RandomForestClassifier\n",
    "from sklearn.model_selection import train_test_split, cross_val_score\n",
    "from sklearn.metrics import log_loss, roc_curve, roc_auc_score\n",
    "from sklearn.feature_extraction.text import TfidfVectorizer, CountVectorizer\n",
    "\n",
    "import nltk\n",
    "from nltk.corpus import stopwords\n",
    "from nltk.stem.wordnet import WordNetLemmatizer\n",
    "\n",
    "from create_staging_tables import create_loyalty_scores_df\n",
    "\n",
    "import seaborn as sns\n",
    "import matplotlib.pyplot as plt\n",
    "% matplotlib inline"
   ]
  },
  {
   "cell_type": "code",
   "execution_count": 3,
   "metadata": {},
   "outputs": [],
   "source": [
    "engine = create_engine('postgresql://localhost:5432/wa_leg_staging')"
   ]
  },
  {
   "cell_type": "code",
   "execution_count": 5,
   "metadata": {},
   "outputs": [],
   "source": [
    "merged_final_df = pd.read_sql_query('select * from \"merged_final\"',con=engine)\n",
    "bill_text_df = pd.read_sql_query('select * from \"bill_text\"',con=engine)\n",
    "rep_score_df = pd.read_sql_query('select * from \"rep_score\"',con=engine)\n",
    "loyalty_df = pd.read_sql_query('select * from \"loyalty\"',con=engine)\n",
    "\n",
    "current_df = pd.read_sql_query('select * from \"current_clean\"',con=engine)\n",
    "current_bill_text = pd.read_sql_query('select * from \"current_bill_text\"',con=engine)\n",
    "current_legislator_df = pd.read_sql_query('select * from \"current_legislator\"',con=engine)"
   ]
  },
  {
   "cell_type": "code",
   "execution_count": 6,
   "metadata": {},
   "outputs": [],
   "source": [
    "def create_clean_train(merged_final_df, bill_text_df, rep_score_df, loyalty_df):\n",
    "    \n",
    "    # Add bill_text\n",
    "    clean = merged_final_df.merge(bill_text_df, how='left', on=['unique_id', 'htm_url'])\n",
    "    clean.drop(['index_x', 'index_y'], axis=1, inplace=True)\n",
    "    clean.rename(columns={'sponsor_party': 'primary_sponsor_party'}, inplace=True)\n",
    "\n",
    "    \n",
    "    # Add rep_score and replace -1 values, then make dem_score\n",
    "    clean['bill_num'] = clean['bill_id'].apply(lambda x: x.split()[1])\n",
    "    clean['bill_num_unique'] = clean['biennium'] + ' ' + clean['bill_num']\n",
    "    clean = clean.merge(rep_score_df, how='left', on='bill_num_unique')\n",
    "\n",
    "    def replace_with_p_sponsor_party(row):\n",
    "        primary_sponsor_party = row['primary_sponsor_party']\n",
    "        if row['rep_score'] == -1:\n",
    "            return primary_sponsor_party\n",
    "        else:\n",
    "            return row['rep_score']\n",
    "    clean['rep_score'] = clean.apply(replace_with_p_sponsor_party, axis=1)\n",
    "    clean['dem_score'] = 1 - clean['rep_score']\n",
    "    \n",
    "    \n",
    "#     Add loyalty scores\n",
    "    clean = clean.merge(loyalty_df, how = 'left', on='voter_id')\n",
    "    clean.drop(['index_x', 'index_y'], axis=1, inplace=True)\n",
    "    \n",
    "    \n",
    "    # Feature Engineering functions\n",
    "    def create_congress_nums(biennium):\n",
    "        '''Numbers bienniums so that 1991 is 1 and 1993 is 3.'''\n",
    "        first_year = int((biennium.split('-'))[0])\n",
    "        return first_year - 1990\n",
    "    \n",
    "    def find_num_sponsors(secondary_sponsors):\n",
    "        if type(secondary_sponsors) == str:\n",
    "            return round((len(secondary_sponsors) / 5) + 1)\n",
    "        else: return 1\n",
    "    \n",
    "    # Feature Engineering\n",
    "    clean['bill_length'] = clean['bill_text'].apply(lambda x: len(x))\n",
    "    clean['congress_num'] = clean['biennium'].apply(create_congress_nums)\n",
    "    clean['num_sponsors'] = clean['secondary_sponsors'].apply(find_num_sponsors)\n",
    "\n",
    "    return clean"
   ]
  },
  {
   "cell_type": "code",
   "execution_count": 7,
   "metadata": {},
   "outputs": [],
   "source": [
    "def create_clean_test(current_df, current_bill_text_df, loyalty_df):\n",
    "    \n",
    "    # Add bill_text\n",
    "    clean = current_df.merge(current_bill_text_df, how='left', on=['bill_id', 'biennium', 'htm_url'])\n",
    "    clean.rename(columns={'sponsor_party': 'primary_sponsor_party'}, inplace=True)\n",
    "\n",
    "    \n",
    "    # Make dem_score\n",
    "    clean['dem_score'] = 1 - clean['rep_score']\n",
    "    \n",
    "    \n",
    "#     Add loyalty scores\n",
    "    clean = clean.merge(loyalty_df, how = 'left', on='voter_id')\n",
    "    clean.drop('index', axis=1, inplace=True)\n",
    "    \n",
    "    # Feature Engineering functions\n",
    "    def create_congress_nums(biennium):\n",
    "        '''Numbers bienniums so that 1991 is 1 and 1993 is 3.'''\n",
    "        first_year = int((biennium.split('-'))[0])\n",
    "        return first_year - 1990\n",
    "    \n",
    "    def find_num_sponsors(secondary_sponsors):\n",
    "        if type(secondary_sponsors) == str:\n",
    "            return round((len(secondary_sponsors) / 5) + 1)\n",
    "        else: return 1\n",
    "    \n",
    "    # Feature Engineering\n",
    "    clean['bill_length'] = clean['bill_text'].apply(lambda x: len(x))\n",
    "    clean['congress_num'] = clean['biennium'].apply(create_congress_nums)\n",
    "\n",
    "    return clean"
   ]
  },
  {
   "cell_type": "code",
   "execution_count": 8,
   "metadata": {},
   "outputs": [],
   "source": [
    "train_clean = create_clean_train(merged_final_df, bill_text_df, rep_score_df, loyalty_df)"
   ]
  },
  {
   "cell_type": "code",
   "execution_count": 9,
   "metadata": {},
   "outputs": [],
   "source": [
    "test_clean = create_clean_test(current_df, current_bill_text, loyalty_df)"
   ]
  },
  {
   "cell_type": "code",
   "execution_count": null,
   "metadata": {},
   "outputs": [],
   "source": []
  },
  {
   "cell_type": "code",
   "execution_count": null,
   "metadata": {},
   "outputs": [],
   "source": []
  },
  {
   "cell_type": "markdown",
   "metadata": {},
   "source": [
    "### Current Top Model"
   ]
  },
  {
   "cell_type": "code",
   "execution_count": 10,
   "metadata": {},
   "outputs": [],
   "source": [
    "# TRAIN\n",
    "X_train_t = train_clean[['voter_id', 'voting_agency', 'sponsor_agency', 'district', \n",
    "                     'party', 'is_primary_sponsor', 'is_secondary_sponsor', 'is_minority_party', \n",
    "                     'primary_sponsor_party', 'rep_score', 'loyalty_score', 'bill_length', 'bill_num', \n",
    "                     'num_sponsors']]\n",
    "\n",
    "y_train_t = train_clean['vote']\n",
    "\n",
    "# TEST\n",
    "X_test_t = test_clean[['voter_id', 'voting_agency', 'sponsor_agency', 'district', \n",
    "                     'party', 'is_primary_sponsor', 'is_secondary_sponsor', 'is_minority_party', \n",
    "                     'primary_sponsor_party', 'rep_score', 'loyalty_score', 'bill_length', 'bill_num', \n",
    "                     'num_sponsors']]\n",
    "\n",
    "# y_test_t = sample_test['vote']"
   ]
  },
  {
   "cell_type": "code",
   "execution_count": 11,
   "metadata": {},
   "outputs": [
    {
     "name": "stdout",
     "output_type": "stream",
     "text": [
      "CPU times: user 2 µs, sys: 1e+03 ns, total: 3 µs\n",
      "Wall time: 7.15 µs\n"
     ]
    }
   ],
   "source": [
    "top_model = RandomForestClassifier(n_estimators=1000, max_depth=7, n_jobs=2, random_state=709)\n",
    "top_model.fit(X_train_t, y_train_t)\n",
    "y_pred_t = (top_model.predict_proba(X_test_t))[:, 1]\n",
    "% time"
   ]
  },
  {
   "cell_type": "code",
   "execution_count": 12,
   "metadata": {},
   "outputs": [
    {
     "data": {
      "text/plain": [
       "0.4304161936612869"
      ]
     },
     "execution_count": 12,
     "metadata": {},
     "output_type": "execute_result"
    }
   ],
   "source": [
    "y_pred_t.min()"
   ]
  },
  {
   "cell_type": "code",
   "execution_count": 13,
   "metadata": {},
   "outputs": [],
   "source": [
    "test_clean['predicted_vote'] = y_pred_t"
   ]
  },
  {
   "cell_type": "code",
   "execution_count": 14,
   "metadata": {},
   "outputs": [],
   "source": [
    "label_df = test_clean[['bill_id', 'bill_num', 'biennium', 'voter_id', 'voting_agency', 'predicted_vote']]"
   ]
  },
  {
   "cell_type": "code",
   "execution_count": 16,
   "metadata": {},
   "outputs": [],
   "source": [
    "label_df = label_df.merge(current_legislator_df, how='left', on=['voter_id', 'voting_agency'])"
   ]
  },
  {
   "cell_type": "code",
   "execution_count": 18,
   "metadata": {},
   "outputs": [],
   "source": [
    "label_df = label_df[label_df['last_name'].notnull()]"
   ]
  },
  {
   "cell_type": "code",
   "execution_count": 19,
   "metadata": {},
   "outputs": [],
   "source": [
    "engine_label = create_engine('postgresql://localhost:5432/wa_leg_label')"
   ]
  },
  {
   "cell_type": "code",
   "execution_count": 20,
   "metadata": {},
   "outputs": [],
   "source": [
    "con = engine_label.connect()"
   ]
  },
  {
   "cell_type": "code",
   "execution_count": 24,
   "metadata": {},
   "outputs": [],
   "source": [
    "label_df[400000:].to_sql('label', con, if_exists='append', index=False)"
   ]
  },
  {
   "cell_type": "code",
   "execution_count": 21,
   "metadata": {},
   "outputs": [
    {
     "data": {
      "text/plain": [
       "497860"
      ]
     },
     "execution_count": 21,
     "metadata": {},
     "output_type": "execute_result"
    }
   ],
   "source": [
    "len(label_df)"
   ]
  },
  {
   "cell_type": "code",
   "execution_count": null,
   "metadata": {},
   "outputs": [],
   "source": []
  },
  {
   "cell_type": "code",
   "execution_count": null,
   "metadata": {},
   "outputs": [],
   "source": []
  },
  {
   "cell_type": "code",
   "execution_count": null,
   "metadata": {},
   "outputs": [],
   "source": []
  }
 ],
 "metadata": {
  "kernelspec": {
   "display_name": "Python 3",
   "language": "python",
   "name": "python3"
  },
  "language_info": {
   "codemirror_mode": {
    "name": "ipython",
    "version": 3
   },
   "file_extension": ".py",
   "mimetype": "text/x-python",
   "name": "python",
   "nbconvert_exporter": "python",
   "pygments_lexer": "ipython3",
   "version": "3.6.5"
  }
 },
 "nbformat": 4,
 "nbformat_minor": 2
}
