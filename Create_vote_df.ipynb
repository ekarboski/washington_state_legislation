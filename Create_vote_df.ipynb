{
 "cells": [
  {
   "cell_type": "code",
   "execution_count": 21,
   "metadata": {},
   "outputs": [],
   "source": [
    "import psycopg2\n",
    "from sqlalchemy import create_engine\n",
    "import pandas as pd\n",
    "import numpy as np\n",
    "from sklearn.base import BaseEstimator, TransformerMixin"
   ]
  },
  {
   "cell_type": "code",
   "execution_count": 22,
   "metadata": {},
   "outputs": [],
   "source": [
    "engine = create_engine('postgresql://localhost:5432/wa_leg_raw')"
   ]
  },
  {
   "cell_type": "code",
   "execution_count": 23,
   "metadata": {},
   "outputs": [],
   "source": [
    "con = engine.connect()"
   ]
  },
  {
   "cell_type": "code",
   "execution_count": 24,
   "metadata": {},
   "outputs": [],
   "source": [
    "vote_df = pd.read_sql_query('select * from \"vote_api\"',con=engine)"
   ]
  },
  {
   "cell_type": "code",
   "execution_count": 25,
   "metadata": {},
   "outputs": [],
   "source": [
    "vote_df['bill_unique'] = vote_df['biennium'] + ' ' + vote_df['bill_id']"
   ]
  },
  {
   "cell_type": "code",
   "execution_count": 26,
   "metadata": {},
   "outputs": [
    {
     "data": {
      "text/html": [
       "<div>\n",
       "<style scoped>\n",
       "    .dataframe tbody tr th:only-of-type {\n",
       "        vertical-align: middle;\n",
       "    }\n",
       "\n",
       "    .dataframe tbody tr th {\n",
       "        vertical-align: top;\n",
       "    }\n",
       "\n",
       "    .dataframe thead th {\n",
       "        text-align: right;\n",
       "    }\n",
       "</style>\n",
       "<table border=\"1\" class=\"dataframe\">\n",
       "  <thead>\n",
       "    <tr style=\"text-align: right;\">\n",
       "      <th></th>\n",
       "      <th>biennium</th>\n",
       "      <th>bill_id</th>\n",
       "      <th>motion</th>\n",
       "      <th>sequence_number</th>\n",
       "      <th>vote</th>\n",
       "      <th>vote_date</th>\n",
       "      <th>voter_id</th>\n",
       "      <th>voter_name</th>\n",
       "      <th>voting_agency</th>\n",
       "      <th>bill_unique</th>\n",
       "    </tr>\n",
       "  </thead>\n",
       "  <tbody>\n",
       "    <tr>\n",
       "      <th>0</th>\n",
       "      <td>1991-92</td>\n",
       "      <td>SHB 1001</td>\n",
       "      <td>Final Passage</td>\n",
       "      <td>4</td>\n",
       "      <td>Yea</td>\n",
       "      <td>1991-02-22T00:00:00</td>\n",
       "      <td>7</td>\n",
       "      <td>Anderson</td>\n",
       "      <td>House</td>\n",
       "      <td>1991-92 SHB 1001</td>\n",
       "    </tr>\n",
       "    <tr>\n",
       "      <th>1</th>\n",
       "      <td>1991-92</td>\n",
       "      <td>SHB 1001</td>\n",
       "      <td>Final Passage</td>\n",
       "      <td>4</td>\n",
       "      <td>Yea</td>\n",
       "      <td>1991-02-22T00:00:00</td>\n",
       "      <td>11</td>\n",
       "      <td>Appelwick</td>\n",
       "      <td>House</td>\n",
       "      <td>1991-92 SHB 1001</td>\n",
       "    </tr>\n",
       "    <tr>\n",
       "      <th>2</th>\n",
       "      <td>1991-92</td>\n",
       "      <td>SHB 1001</td>\n",
       "      <td>Final Passage</td>\n",
       "      <td>4</td>\n",
       "      <td>Yea</td>\n",
       "      <td>1991-02-22T00:00:00</td>\n",
       "      <td>17</td>\n",
       "      <td>Ballard</td>\n",
       "      <td>House</td>\n",
       "      <td>1991-92 SHB 1001</td>\n",
       "    </tr>\n",
       "    <tr>\n",
       "      <th>3</th>\n",
       "      <td>1991-92</td>\n",
       "      <td>SHB 1001</td>\n",
       "      <td>Final Passage</td>\n",
       "      <td>4</td>\n",
       "      <td>Yea</td>\n",
       "      <td>1991-02-22T00:00:00</td>\n",
       "      <td>23</td>\n",
       "      <td>Basich</td>\n",
       "      <td>House</td>\n",
       "      <td>1991-92 SHB 1001</td>\n",
       "    </tr>\n",
       "    <tr>\n",
       "      <th>4</th>\n",
       "      <td>1991-92</td>\n",
       "      <td>SHB 1001</td>\n",
       "      <td>Final Passage</td>\n",
       "      <td>4</td>\n",
       "      <td>Yea</td>\n",
       "      <td>1991-02-22T00:00:00</td>\n",
       "      <td>32</td>\n",
       "      <td>Beck</td>\n",
       "      <td>House</td>\n",
       "      <td>1991-92 SHB 1001</td>\n",
       "    </tr>\n",
       "  </tbody>\n",
       "</table>\n",
       "</div>"
      ],
      "text/plain": [
       "  biennium   bill_id         motion sequence_number vote            vote_date  \\\n",
       "0  1991-92  SHB 1001  Final Passage               4  Yea  1991-02-22T00:00:00   \n",
       "1  1991-92  SHB 1001  Final Passage               4  Yea  1991-02-22T00:00:00   \n",
       "2  1991-92  SHB 1001  Final Passage               4  Yea  1991-02-22T00:00:00   \n",
       "3  1991-92  SHB 1001  Final Passage               4  Yea  1991-02-22T00:00:00   \n",
       "4  1991-92  SHB 1001  Final Passage               4  Yea  1991-02-22T00:00:00   \n",
       "\n",
       "  voter_id voter_name voting_agency       bill_unique  \n",
       "0        7   Anderson         House  1991-92 SHB 1001  \n",
       "1       11  Appelwick         House  1991-92 SHB 1001  \n",
       "2       17    Ballard         House  1991-92 SHB 1001  \n",
       "3       23     Basich         House  1991-92 SHB 1001  \n",
       "4       32       Beck         House  1991-92 SHB 1001  "
      ]
     },
     "execution_count": 26,
     "metadata": {},
     "output_type": "execute_result"
    }
   ],
   "source": [
    "vote_df.head()"
   ]
  },
  {
   "cell_type": "code",
   "execution_count": 27,
   "metadata": {},
   "outputs": [
    {
     "data": {
      "text/plain": [
       "3042939"
      ]
     },
     "execution_count": 27,
     "metadata": {},
     "output_type": "execute_result"
    }
   ],
   "source": [
    "len(vote_df)"
   ]
  },
  {
   "cell_type": "code",
   "execution_count": 28,
   "metadata": {},
   "outputs": [],
   "source": [
    "def change_biennium_to_year(biennium):\n",
    "    return int(biennium[0:4])"
   ]
  },
  {
   "cell_type": "code",
   "execution_count": 29,
   "metadata": {},
   "outputs": [],
   "source": [
    "vote_df['year'] = vote_df['biennium'].apply(change_biennium_to_year)"
   ]
  },
  {
   "cell_type": "code",
   "execution_count": 30,
   "metadata": {},
   "outputs": [],
   "source": [
    "vote_df = vote_df.drop(['bill_id', 'biennium', 'motion'], axis=1)"
   ]
  },
  {
   "cell_type": "code",
   "execution_count": 31,
   "metadata": {},
   "outputs": [],
   "source": [
    "vote_df['sequence_number'] = vote_df['sequence_number'].apply(int)"
   ]
  },
  {
   "cell_type": "code",
   "execution_count": 32,
   "metadata": {},
   "outputs": [],
   "source": [
    "vote_df['voter_id'] = vote_df['voter_id'].apply(int)"
   ]
  },
  {
   "cell_type": "code",
   "execution_count": 33,
   "metadata": {},
   "outputs": [],
   "source": [
    "vote_df['vote_date'] = pd.to_datetime(vote_df['vote_date'])"
   ]
  },
  {
   "cell_type": "code",
   "execution_count": 34,
   "metadata": {},
   "outputs": [],
   "source": [
    "def change_vote_to_int(vote):\n",
    "    if vote == 'Nay':\n",
    "        return 0\n",
    "    if vote == 'Yea':\n",
    "        return 1\n",
    "    if vote == 'Excused':\n",
    "        return 2\n",
    "    if vote == 'Absent':\n",
    "        return 3"
   ]
  },
  {
   "cell_type": "code",
   "execution_count": 35,
   "metadata": {},
   "outputs": [],
   "source": [
    "def change_agency_to_int(agency):\n",
    "    if agency == 'House':\n",
    "        return 0\n",
    "    if agency == 'Senate':\n",
    "        return 1"
   ]
  },
  {
   "cell_type": "code",
   "execution_count": 36,
   "metadata": {},
   "outputs": [],
   "source": [
    "vote_df['vote'] = vote_df['vote'].apply(change_vote_to_int)"
   ]
  },
  {
   "cell_type": "code",
   "execution_count": 37,
   "metadata": {},
   "outputs": [],
   "source": [
    "vote_df['voting_agency'] = vote_df['voting_agency'].apply(change_agency_to_int)"
   ]
  },
  {
   "cell_type": "code",
   "execution_count": 38,
   "metadata": {},
   "outputs": [
    {
     "name": "stdout",
     "output_type": "stream",
     "text": [
      "<class 'pandas.core.frame.DataFrame'>\n",
      "RangeIndex: 3042939 entries, 0 to 3042938\n",
      "Data columns (total 8 columns):\n",
      "sequence_number    int64\n",
      "vote               int64\n",
      "vote_date          datetime64[ns]\n",
      "voter_id           int64\n",
      "voter_name         object\n",
      "voting_agency      int64\n",
      "bill_unique        object\n",
      "year               int64\n",
      "dtypes: datetime64[ns](1), int64(5), object(2)\n",
      "memory usage: 185.7+ MB\n"
     ]
    }
   ],
   "source": [
    "vote_df.info()"
   ]
  },
  {
   "cell_type": "code",
   "execution_count": 39,
   "metadata": {},
   "outputs": [
    {
     "data": {
      "text/plain": [
       "3042939"
      ]
     },
     "execution_count": 39,
     "metadata": {},
     "output_type": "execute_result"
    }
   ],
   "source": [
    "len(vote_df)"
   ]
  },
  {
   "cell_type": "code",
   "execution_count": 40,
   "metadata": {},
   "outputs": [],
   "source": [
    "con.close()"
   ]
  },
  {
   "cell_type": "code",
   "execution_count": 41,
   "metadata": {},
   "outputs": [],
   "source": [
    "engine = create_engine('postgresql://localhost:5432/wa_leg_staging')\n",
    "con = engine.connect()"
   ]
  },
  {
   "cell_type": "code",
   "execution_count": 53,
   "metadata": {},
   "outputs": [],
   "source": [
    "vote_df[3000000:].to_sql('vote', con, if_exists='append', index=False)"
   ]
  },
  {
   "cell_type": "markdown",
   "metadata": {},
   "source": [
    "0:300000\n",
    "300000:600000\n",
    "600000:900000\n",
    "900000:1200000\n",
    "1200000:1500000\n",
    "1500000:1800000\n",
    "1800000:2100000\n",
    "2100000:2400000\n",
    "2400000:2700000\n",
    "2700000:3000000\n",
    "3000000:"
   ]
  }
 ],
 "metadata": {
  "kernelspec": {
   "display_name": "Python 3",
   "language": "python",
   "name": "python3"
  },
  "language_info": {
   "codemirror_mode": {
    "name": "ipython",
    "version": 3
   },
   "file_extension": ".py",
   "mimetype": "text/x-python",
   "name": "python",
   "nbconvert_exporter": "python",
   "pygments_lexer": "ipython3",
   "version": "3.6.5"
  }
 },
 "nbformat": 4,
 "nbformat_minor": 2
}
