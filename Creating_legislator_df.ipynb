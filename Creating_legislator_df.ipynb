{
 "cells": [
  {
   "cell_type": "code",
   "execution_count": null,
   "metadata": {},
   "outputs": [],
   "source": [
    "import psycopg2\n",
    "from sqlalchemy import create_engine\n",
    "import pandas as pd\n",
    "import numpy as np\n",
    "from sklearn.base import BaseEstimator, TransformerMixin"
   ]
  },
  {
   "cell_type": "markdown",
   "metadata": {},
   "source": [
    "# Load"
   ]
  },
  {
   "cell_type": "code",
   "execution_count": null,
   "metadata": {},
   "outputs": [],
   "source": [
    "engine = create_engine('postgresql://localhost:5432/wa_leg_raw')"
   ]
  },
  {
   "cell_type": "code",
   "execution_count": null,
   "metadata": {},
   "outputs": [],
   "source": [
    "vote_df = pd.read_sql_query('select * from \"vote_api\"',con=engine)"
   ]
  },
  {
   "cell_type": "code",
   "execution_count": null,
   "metadata": {},
   "outputs": [],
   "source": [
    "committee_member_df = pd.read_sql_query('select * from \"committee_member_api\"',con=engine)"
   ]
  },
  {
   "cell_type": "markdown",
   "metadata": {},
   "source": [
    "# Start legislators_df"
   ]
  },
  {
   "cell_type": "code",
   "execution_count": null,
   "metadata": {},
   "outputs": [],
   "source": [
    "legislators_df = vote_df.loc[:, ['biennium', 'voter_id', 'voter_name', 'voting_agency']]"
   ]
  },
  {
   "cell_type": "code",
   "execution_count": null,
   "metadata": {},
   "outputs": [],
   "source": [
    "legislators_df.drop_duplicates(keep='first', inplace=True)"
   ]
  },
  {
   "cell_type": "code",
   "execution_count": null,
   "metadata": {},
   "outputs": [],
   "source": [
    "legislators_df.head()"
   ]
  },
  {
   "cell_type": "code",
   "execution_count": null,
   "metadata": {},
   "outputs": [],
   "source": [
    "cm_legislators_df = committee_member_df.loc[:, ['district', 'id', 'name', 'first_name', 'party']]\n",
    "\n",
    "cm_legislators_df = cm_legislators_df.rename(index=str, columns={\"id\": \"voter_id\"})\n",
    "\n",
    "cm_legislators_df['last_name'] = cm_legislators_df['name'].apply(lambda x: x.split()[1])\n",
    "\n",
    "cm_legislators_df.drop_duplicates(keep='first', inplace=True)\n",
    "\n",
    "legislators_df = legislators_df.merge(cm_legislators_df, how='outer', on='voter_id')\n",
    "\n",
    "legislators_df.drop_duplicates(keep=\"first\", inplace=True)"
   ]
  },
  {
   "cell_type": "code",
   "execution_count": null,
   "metadata": {},
   "outputs": [],
   "source": [
    "legislators_df.head()"
   ]
  },
  {
   "cell_type": "markdown",
   "metadata": {},
   "source": [
    "# Create missing_legislators_manually"
   ]
  },
  {
   "cell_type": "code",
   "execution_count": null,
   "metadata": {},
   "outputs": [],
   "source": [
    "manual = [{'name': 'Ann Anderson', 'voter_id': '7', 'district': '42', 'party': 'R'},\n",
    " {'name': 'Bob Basich', 'voter_id': '23', 'district': '19', 'party': 'D'},\n",
    " {'name': 'John Beck', 'voter_id': '32', 'district': '21', 'party': 'R'},\n",
    " {'name': 'Jennifer Belcher', 'voter_id': '34', 'district': '22', 'party': 'D'},\n",
    " {'name': 'John Betrozoff', 'voter_id': '40', 'district': '45', 'party': 'R'},\n",
    " {'name': 'Rose Bowman', 'voter_id': '45', 'district': '20', 'party': 'R'},\n",
    " {'name': 'Dennis Braddock', 'voter_id': '46',  'district': '42', 'party': 'D'},\n",
    " {'name': 'Lane Bray', 'voter_id': '47', 'district': '8', 'party': 'D'},\n",
    " {'name': 'Joanne Brekke', 'voter_id': '48', 'district': '32', 'party': 'D'},\n",
    " {'name': 'Art Broback', 'voter_id': '50', 'district': '28', 'party': 'R'},\n",
    " {'name': 'Jean-Marie Brough', 'voter_id': '54', 'district': '30', 'party': 'R'},\n",
    " {'name': 'Bill Brumsickle', 'voter_id': '63', 'district': '20', 'party': 'R'},\n",
    " {'name': 'Maria Cantwell', 'voter_id': '68', 'district': '44', 'party': 'D'},\n",
    " {'name': 'Gary Chandler', 'voter_id': '75', 'district': '13', 'party': 'R'},\n",
    " {'name': 'David Cooper', 'voter_id': '93', 'district': '18', 'party': 'D'},\n",
    " {'name': 'Bill Day', 'voter_id': '103', 'district': '3', 'party': 'D'},\n",
    " {'name': 'Dennis Dellwo', 'voter_id': '110', 'district': '3', 'party': 'D'},\n",
    " {'name': 'Randy Dorn', 'voter_id': '116', 'district': '2', 'party': 'D'},\n",
    " {'name': 'Brian Ebersole', 'voter_id': '121', 'district': '29', 'party': 'D'}, \n",
    " {'name': 'Betty Edmondson', 'voter_id': '123', 'district': '14', 'party': 'R'},\n",
    " {'name': 'Roy Ferguson', 'voter_id': '132', 'district': '48', 'party': 'R'},\n",
    " {'name': 'Greg Fisher', 'voter_id': '135', 'district': '33', 'party': 'D'},\n",
    " {'name': 'Elmira Forner', 'voter_id': '140', 'district': '47', 'party': 'R'}, \n",
    " {'name': 'Steve Fuhrman', 'voter_id': '146', 'district': '7', 'party': 'R'},\n",
    " {'name': 'Lorraine Hine', 'voter_id': '186', 'district': '33', 'party': 'D'},\n",
    " {'name': 'Bruce Holland', 'voter_id': '192', 'district': '47', 'party': 'R'},\n",
    " {'name': 'Jay Inslee', 'voter_id': '205', 'district': '14', 'party': 'D'},\n",
    " {'name': 'Rob Johnson', 'voter_id': '214', 'district': '40', 'party': 'D'},\n",
    " {'name': 'Evan Jones', 'voter_id': '219', 'district': '24', 'party': 'D'},\n",
    " {'name': 'Joseph King', 'voter_id': '226', 'district': '49', 'party': 'D'},\n",
    " {'name': 'Richard King', 'voter_id': '227', 'district': '38', 'party': 'D'},\n",
    " {'name': 'Pete Kremen', 'voter_id': '234', 'district': '42', 'party': 'D'},\n",
    " {'name': 'June Leonard', 'voter_id': '245', 'district': '11', 'party': 'D'},\n",
    " {'name': 'Gary Locke', 'voter_id': '251', 'district': '37', 'party': 'D'},\n",
    " {'name': 'Curtis Ludwig', 'voter_id': '254', 'district': '8', 'party': 'D'},\n",
    " {'name': 'Fred May', 'voter_id': '264', 'district': '41', 'party': 'R'},\n",
    " {'name': 'Alex McLean', 'voter_id': '276', 'district': '12', 'party': 'R'},\n",
    " {'name': 'Holly Meyers', 'voter_id': '282', 'district': '17', 'party': 'D'},\n",
    " {'name': 'Todd Mielke', 'voter_id': '284', 'district': '5', 'party': 'R'},\n",
    " {'name': 'Todd Mielke', 'voter_id': '284', 'district': '6', 'party': 'R'},\n",
    " {'name': 'Louise Miller', 'voter_id': '285', 'district': '45', 'party': 'R'},\n",
    " {'name': 'John Moyer', 'voter_id': '297', 'district': '6', 'party': 'R'},\n",
    " {'name': 'John Moyer', 'voter_id': '297', 'district': '3', 'party': 'R'},\n",
    " {'name': 'Harvey Myers', 'voter_id': '301', 'district': '15', 'party': 'R'},\n",
    " {'name': 'Darwin Nealey', 'voter_id': '304', 'district': '9', 'party': 'R'},\n",
    " {'name': \"John O'Brien\", 'voter_id': '311', 'district': '37', 'party': 'D'},\n",
    " {'name': 'George Orr', 'voter_id': '320', 'district': '4', 'party': 'D'},\n",
    " {'name': 'George-Marshall Paris', 'voter_id': '325', 'district': '44', 'party': 'R'},\n",
    " {'name': 'W-Kim Peery', 'voter_id': '328', 'district': '17', 'party': 'D'},\n",
    " {'name': 'Larry Phillips', 'voter_id': '332', 'district': '36', 'party': 'D'},\n",
    " {'name': 'Wes Pruitt', 'voter_id': '341', 'district': '26', 'party': 'D'},\n",
    " {'name': 'Margaret Rayburn', 'voter_id': '349', 'district': '15', 'party': 'D'},\n",
    " {'name': 'Mike Riley', 'voter_id': '359', 'district': '19', 'party': 'D'},\n",
    " {'name': 'Judith Roland', 'voter_id': '363', 'district': '31', 'party': 'D'},\n",
    " {'name': 'Nancy Rust', 'voter_id': '367', 'district': '1', 'party': 'D'},\n",
    " {'name': 'Karen Schmidt', 'voter_id': '376', 'district': '23', 'party': 'R'},\n",
    " {'name': 'B-Jean Silver', 'voter_id': '396', 'district': '5', 'party': 'R'},\n",
    " {'name': 'B-Jean Silver', 'voter_id': '396', 'district': '6', 'party': 'R'},\n",
    " {'name': 'Duane Sommers, ', 'voter_id': '406', 'district': '6', 'party': 'R'},\n",
    " {'name': 'Art Sprenkle', 'voter_id': '410', 'district': '39', 'party': 'D'},\n",
    " {'name': 'Randy Tate', 'voter_id': '429', 'district': '25', 'party': 'R'},\n",
    " {'name': 'Christopher Vance', 'voter_id': '444', 'district': '31', 'party': 'R'}, \n",
    " {'name': 'Art Wang', 'voter_id': '449', 'district': '27', 'party': 'D'},\n",
    " {'name': 'Simeon Wilson', 'voter_id': '472', 'district': '10', 'party': 'R'},\n",
    " {'name': 'Jesse Wineberry', 'voter_id': '474', 'district': '43', 'party': 'D'},\n",
    " {'name': 'Jesse Wineberry', 'voter_id': '474', 'district': '37', 'party': 'D'},\n",
    " {'name': 'John Wynne', 'voter_id': '481', 'district': '39', 'party': 'R'},\n",
    " {'name': 'Neil Amondson', 'voter_id': '5', 'district': '20', 'party': 'R'},\n",
    " {'name': 'Cliff Bailey', 'voter_id': '15', 'district': '39', 'party': 'R'},\n",
    " {'name': 'Scott Barr', 'voter_id': '19', 'district': '7', 'party': 'R'},\n",
    " {'name': 'Albert Bauer', 'voter_id': '25', 'district': '49', 'party': 'D'},\n",
    " {'name': 'Alan Bluechel', 'voter_id': '42', 'district': '45', 'party': 'R'},\n",
    " {'name': 'Emilio Cantu', 'voter_id': '67', 'district': '41', 'party': 'R'},\n",
    " {'name': 'Paul Conner', 'voter_id': '90', 'district': '24', 'party': 'D'},\n",
    " {'name': 'Ellen Craswell', 'voter_id': '95', 'district': '23', 'party': 'R'},\n",
    " {'name': 'Time Erwin', 'voter_id': '127', 'district': '44', 'party': 'R'},\n",
    " {'name': 'Marcus Gaspard', 'voter_id': '148', 'district': '25', 'party': 'D'},\n",
    " {'name': 'Frank Hansen', 'voter_id': '168', 'district': '13', 'party': 'D'},\n",
    " {'name': 'Jeannette Hayner', 'voter_id': '176', 'district': '16', 'party': 'R'},\n",
    " {'name': 'Jim Jesernig', 'voter_id': '211', 'district': '8', 'party': 'D'},\n",
    " {'name': 'Lela Kreidler,', 'voter_id': '232', 'district': '22', 'party': 'D'},\n",
    " {'name': 'Ken Madsen', 'voter_id': '256', 'district': '2', 'party': 'D'},\n",
    " {'name': 'Jim Matson', 'voter_id': '261', 'district': '14', 'party': 'R'},\n",
    " {'name': 'Patrick McMullen', 'voter_id': '278', 'district': '40', 'party': 'D'},\n",
    " {'name': 'Jack Metcalf', 'voter_id': '281', 'district': '10', 'party': 'R'},\n",
    " {'name': 'Ray Moore', 'voter_id': '290', 'district': '36', 'party': 'D'},\n",
    " {'name': 'Patty Murray', 'voter_id': '299', 'district': '1', 'party': 'D'},\n",
    " {'name': 'Gary Nelson', 'voter_id': '308', 'district': '21', 'party': 'R'},\n",
    " {'name': 'Janice Niemi', 'voter_id': '310', 'district': '43', 'party': 'D'},\n",
    " {'name': 'E-G Patterson', 'voter_id': '326', 'district': '9', 'party': 'R'},\n",
    " {'name': 'Dwight Pelz', 'voter_id': '329', 'district': '37', 'party': 'D'},\n",
    " {'name': 'A-L Rasmussen', 'voter_id': '345', 'district': '29', 'party': 'D'},\n",
    " {'name': 'Nina Rinehart', 'voter_id': '360', 'district': '46', 'party': 'D'},\n",
    " {'name': 'Gerald Saling', 'voter_id': '370', 'district': '5', 'party': 'R'},\n",
    " {'name': 'George Sellar', 'voter_id': '387', 'district': '12', 'party': 'R'},\n",
    " {'name': 'Sylvia Skratek', 'voter_id': '399', 'district': '47', 'party': 'D'},\n",
    " {'name': 'Adam Smith', 'voter_id': '402', 'district': '33', 'party': 'D'},\n",
    " {'name': 'Linda Smith', 'voter_id': '403', 'district': '18', 'party': 'R'},\n",
    " {'name': 'Lois Stratton', 'voter_id': '414', 'district': '3', 'party': 'D'},\n",
    " {'name': 'Dean Sutherland', 'voter_id': '423', 'district': '17', 'party': 'D'},\n",
    " {'name': 'Phil Talmadge', 'voter_id': '428', 'district': '34', 'party': 'D'},\n",
    " {'name': 'Leo Thorsness', 'voter_id': '434', 'district': '11', 'party': 'R'},\n",
    " {'name': 'Larry Vognild', 'voter_id': '445', 'district': '38', 'party': 'D'},\n",
    " {'name': 'Peter von-Reichbauer', 'voter_id': '446', 'district': '30', 'party': 'R'},\n",
    " {'name': 'Alvin Williams', 'voter_id': '467', 'district': '32', 'party': 'D'},\n",
    " {'name': 'R-Lorraine Wojahn', 'voter_id': '477', 'district': '27', 'party': 'D'},\n",
    " {'name': 'Myron Kreidler', 'voter_id': '233', 'district': '22', 'party': 'D'},\n",
    " {'name': 'Wanda Hansen', 'voter_id': '169', 'district': '13', 'party': 'D'},\n",
    " {'name': 'Susan Sumner', 'voter_id': '419', 'district': '28', 'party': 'R'},\n",
    " {'name': 'Barbara Holm', 'voter_id': '639', 'district': '35', 'party': 'D'},\n",
    " {'name': 'Kathleen Drew', 'voter_id': '570', 'district': '5', 'party': 'D'},\n",
    " {'name': 'Valoria Loveland', 'voter_id': '562', 'district': '16', 'party': 'D'},\n",
    " {'name': 'Kevin Quigley', 'voter_id': '563', 'district': '39', 'party': 'D'},\n",
    " {'name': 'David Chappell', 'voter_id': '621', 'district': '20', 'party': 'D'},\n",
    " {'name': 'Barbara Cothern', 'voter_id': '629', 'district': '1', 'party': 'D'},\n",
    " {'name': 'Stanley Flemming', 'voter_id': '636', 'district': '28', 'party': 'D'},\n",
    " {'name': 'Dale Foreman', 'voter_id': '637', 'district': '12', 'party': 'R'},\n",
    " {'name': 'Mick Hansen', 'voter_id': '638', 'district': '13', 'party': 'D'},\n",
    " {'name': 'Jim Johanson', 'voter_id': '640', 'district': '44', 'party': 'D'},\n",
    " {'name': 'Linda Johnson', 'voter_id': '641', 'district': '1', 'party': 'D'},\n",
    " {'name': 'Sue Karahalios', 'voter_id': '642', 'district': '10', 'party': 'D'},\n",
    " {'name': 'Dave Lemmon', 'voter_id': '645', 'district': '14', 'party': 'D'},\n",
    " {'name': 'Jim Springer', 'voter_id': '656', 'district': '18', 'party': 'D'},\n",
    " {'name': 'Brian Thomas', 'voter_id': '660', 'district': '5', 'party': 'R'},\n",
    " {'name': 'Cathy Wolfe', 'voter_id': '662', 'district': '22', 'party': 'D'},\n",
    " {'name': 'Bill Backlund', 'voter_id': '1369', 'district': '45', 'party': 'R'},\n",
    " {'name': 'Vivian Caver', 'voter_id': '1408', 'district': '37', 'party': 'D'},\n",
    " {'name': 'Thomas Moak', 'voter_id': '1351', 'district': '8', 'party': 'D'},\n",
    " {'name': 'Ray Schow', 'voter_id': '1352', 'district': '30', 'party': 'R'},\n",
    " {'name': 'Barney Beeksma', 'voter_id': '1582', 'district': '10', 'party': 'R'},\n",
    " {'name': 'Jerry Blanton', 'voter_id': '1569', 'district': '21', 'party': 'R'},\n",
    " {'name': 'Gene Goldsmith', 'voter_id': '1575', 'district': '42', 'party': 'R'},\n",
    " {'name': 'Steve Hargrove', 'voter_id': '1588', 'district': '23', 'party': 'R'},\n",
    " {'name': 'Tomm Huff', 'voter_id': '1578', 'district': '26', 'party': 'R'},\n",
    " {'name': 'Kathy Lambert', 'voter_id': '1589', 'district': '45', 'party': 'R'},\n",
    " {'name': 'John Pennington', 'voter_id': '1591', 'district': '18', 'party': 'R'},\n",
    " {'name': 'Renee Radcliff', 'voter_id': '1579', 'district': '21', 'party': 'R'},\n",
    " {'name': 'Mike Sherstad', 'voter_id': '1593', 'district': '1', 'party': 'R'},\n",
    " {'name': 'Darlene Fairley', 'voter_id': '1603', 'district': '32', 'party': 'D'},\n",
    " {'name': 'Hal Palmer', 'voter_id': '1667', 'district': '18', 'party': 'R'},\n",
    " {'name': 'Calvin Goings', 'voter_id': '1938', 'district': '25', 'party': 'D'},\n",
    " {'name': 'Carl Scheuerman', 'voter_id': '1949', 'district': '29', 'party': 'D'},\n",
    " {'name': 'Brian Sullivan', 'voter_id': '2132', 'district': '29', 'party': 'D'},\n",
    " {'name': 'Mike Wensman', 'voter_id': '2222', 'district': '41', 'party': 'R'},\n",
    " {'name': 'Lena Swanson', 'voter_id': '2202', 'district': '35', 'party': 'D'},\n",
    " {'name': 'Glenn Anderson', 'voter_id': '2147', 'district': '5', 'party': 'R'},\n",
    " {'name': 'John Blalock', 'voter_id': '2296', 'district': '33', 'party': 'D'},\n",
    " {'name': 'Carolyn Edmonds', 'voter_id': '3471', 'district': '32', 'party': 'D'},\n",
    " {'name': 'Michael Stensen', 'voter_id': '3485', 'district': '31', 'party': 'D'},\n",
    " {'name': 'Joe Marine', 'voter_id': '6307', 'district': '21', 'party': 'R'},\n",
    " {'name': 'John Wyss', 'voter_id': '11176', 'district': '6', 'party': 'R'},\n",
    " {'name': 'Eric Oemig', 'voter_id': '12067', 'district': '45', 'party': 'D'},\n",
    " {'name': 'Gina McCabe', 'voter_id': '20759', 'district': '14', 'party': 'R'},\n",
    " {'name': 'William Jenkin', 'voter_id': '26172', 'district': '16', 'party': 'R'},\n",
    " {'name': 'Keith Wagoner', 'voter_id': '28317', 'district': '39', 'party': 'R'},\n",
    " {'name': 'Stanley Johnson', 'voter_id': '420', 'district': '28', 'party':'R'},\n",
    " {'name': 'Ron Carlson', 'voter_id': '877', 'district': '47', 'party':'R'},\n",
    " {'name': 'Georgette Valle', 'voter_id': '442', 'district': '34', 'party':'D'},\n",
    " {'name': 'Richard Neher', 'voter_id': '305', 'district': '16', 'party':'R'}, \n",
    " {'name': 'Richard Nelson', 'voter_id': '307', 'district': '32', 'party':'D'}]"
   ]
  },
  {
   "cell_type": "code",
   "execution_count": null,
   "metadata": {},
   "outputs": [],
   "source": [
    "manual_df = pd.DataFrame(manual)"
   ]
  },
  {
   "cell_type": "code",
   "execution_count": null,
   "metadata": {},
   "outputs": [],
   "source": [
    "manual_df['first_name'] = manual_df['name'].apply(lambda x: x.split()[0])"
   ]
  },
  {
   "cell_type": "code",
   "execution_count": null,
   "metadata": {},
   "outputs": [],
   "source": [
    "manual_df['last_name'] = manual_df['name'].apply(lambda x: x.split()[1])"
   ]
  },
  {
   "cell_type": "code",
   "execution_count": null,
   "metadata": {},
   "outputs": [],
   "source": [
    "manual_df = manual_df.drop('name', axis=1)"
   ]
  },
  {
   "cell_type": "code",
   "execution_count": null,
   "metadata": {},
   "outputs": [],
   "source": [
    "manual_df.to_csv('missing_legislators.csv', sep='|', index=False)"
   ]
  },
  {
   "cell_type": "markdown",
   "metadata": {},
   "source": [
    "# Load missing_legislator_info from csv"
   ]
  },
  {
   "cell_type": "code",
   "execution_count": 5,
   "metadata": {},
   "outputs": [],
   "source": [
    "missing_legislator_info_df = pd.read_csv('missing_legislators.csv', sep='|')"
   ]
  },
  {
   "cell_type": "code",
   "execution_count": null,
   "metadata": {},
   "outputs": [],
   "source": [
    "missing_legislator_info_df.head()"
   ]
  },
  {
   "cell_type": "code",
   "execution_count": null,
   "metadata": {},
   "outputs": [],
   "source": [
    "missing_legislator_info_df['district'] = missing_legislator_info_df['district'].apply(str)"
   ]
  },
  {
   "cell_type": "code",
   "execution_count": null,
   "metadata": {},
   "outputs": [],
   "source": [
    "missing_legislator_info_df['voter_id'] = missing_legislator_info_df['voter_id'].apply(str)"
   ]
  },
  {
   "cell_type": "markdown",
   "metadata": {},
   "source": [
    "# Merge legislators_df to missing_legislators"
   ]
  },
  {
   "cell_type": "code",
   "execution_count": null,
   "metadata": {},
   "outputs": [],
   "source": [
    "legislators_df = legislators_df.merge(missing_legislator_info_df, how='outer', on='voter_id', suffixes=('', '_missing'))"
   ]
  },
  {
   "cell_type": "code",
   "execution_count": null,
   "metadata": {},
   "outputs": [],
   "source": [
    "legislators_df.head()"
   ]
  },
  {
   "cell_type": "code",
   "execution_count": null,
   "metadata": {},
   "outputs": [],
   "source": [
    "def replace_missing_first_name(x):\n",
    "    if type(x['first_name']) == float:\n",
    "        return x['first_name_missing']\n",
    "    else:\n",
    "        return x['first_name']"
   ]
  },
  {
   "cell_type": "code",
   "execution_count": null,
   "metadata": {},
   "outputs": [],
   "source": [
    "def replace_missing_party(x):\n",
    "    if type(x['party']) == float:\n",
    "        if x['party_missing'] == 'R':\n",
    "            return 'Republican'\n",
    "        if x['party_missing'] == 'D':\n",
    "            return 'Democrat'\n",
    "    else:\n",
    "        return x['party']"
   ]
  },
  {
   "cell_type": "code",
   "execution_count": null,
   "metadata": {},
   "outputs": [],
   "source": [
    "def replace_missing_district(x):\n",
    "    if type(x['district']) == float:\n",
    "        return x['district_missing']\n",
    "    else:\n",
    "        return x['district']"
   ]
  },
  {
   "cell_type": "code",
   "execution_count": null,
   "metadata": {},
   "outputs": [],
   "source": [
    "def replace_missing_last_name(x):\n",
    "    if type(x['last_name']) == float:\n",
    "        return x['last_name_missing']\n",
    "    else:\n",
    "        return x['last_name']"
   ]
  },
  {
   "cell_type": "code",
   "execution_count": null,
   "metadata": {},
   "outputs": [],
   "source": [
    "legislators_df['first_name'] = legislators_df.apply(lambda x : replace_missing_first_name(x),axis=1)\n",
    "legislators_df['party'] = legislators_df.apply(lambda x : replace_missing_party(x),axis=1)\n",
    "legislators_df['district'] = legislators_df.apply(lambda x : replace_missing_district(x),axis=1)\n",
    "legislators_df['last_name'] = legislators_df.apply(lambda x : replace_missing_last_name(x),axis=1)"
   ]
  },
  {
   "cell_type": "code",
   "execution_count": null,
   "metadata": {},
   "outputs": [],
   "source": [
    "legislators_df"
   ]
  },
  {
   "cell_type": "code",
   "execution_count": null,
   "metadata": {},
   "outputs": [],
   "source": [
    "legislators_df[legislators_df['first_name'].isnull()]"
   ]
  },
  {
   "cell_type": "code",
   "execution_count": null,
   "metadata": {},
   "outputs": [],
   "source": [
    "legislators_df = legislators_df.drop(['voter_name', 'name', 'district_missing', 'party_missing', 'first_name_missing', 'last_name_missing', 'biennium'], axis=1)"
   ]
  },
  {
   "cell_type": "code",
   "execution_count": null,
   "metadata": {},
   "outputs": [],
   "source": [
    "legislators_df.drop_duplicates(keep='first', inplace=True)"
   ]
  },
  {
   "cell_type": "code",
   "execution_count": null,
   "metadata": {},
   "outputs": [],
   "source": [
    "legislators_df.columns = ['id', 'agency', 'district', 'first_name', 'party', 'last_name']"
   ]
  },
  {
   "cell_type": "code",
   "execution_count": null,
   "metadata": {},
   "outputs": [],
   "source": [
    "legislators_df.head()"
   ]
  },
  {
   "cell_type": "code",
   "execution_count": null,
   "metadata": {},
   "outputs": [],
   "source": [
    "len(legislators_df['id'].unique())"
   ]
  },
  {
   "cell_type": "code",
   "execution_count": null,
   "metadata": {},
   "outputs": [],
   "source": [
    "len(legislators_df)"
   ]
  },
  {
   "cell_type": "code",
   "execution_count": 12,
   "metadata": {},
   "outputs": [],
   "source": [
    "def create_legislator_df():\n",
    "    \"\"\"Merge votes_df, committee_df and missing_legislator_info_df and clean data to create legislator_df\n",
    "    \n",
    "    Input\n",
    "    votes_df: pandas dataframe loaded from wa_leg_raw database, vote_api table\n",
    "    committee_member_df: pandas dataframe loaded from wa_leg_raw database, committee_member_api table\n",
    "    missing_legislator_info_df: pandas dataframe loaded missing_legislators.csv\n",
    "    \"\"\"\n",
    "\n",
    "    engine = create_engine('postgresql://localhost:5432/wa_leg_raw')\n",
    "    vote_df = pd.read_sql_query('select * from \"vote_api\"',con=engine)\n",
    "    committee_member_df = pd.read_sql_query('select * from \"committee_member_api\"',con=engine)\n",
    "    \n",
    "    leg_info_from_vote_df = vote_df.loc[:, ['biennium', 'voter_id', 'voter_name', 'voting_agency']]\n",
    "    leg_info_from_vote_df.drop_duplicates(keep='first', inplace=True)\n",
    "    \n",
    "    leg_info_from_cm_df = committee_member_df.loc[:, ['district', 'id', 'name', 'first_name', 'party']]\n",
    "    leg_info_from_cm_df = leg_info_from_cm_df.rename(index=str, columns={\"id\": \"voter_id\"})\n",
    "    leg_info_from_cm_df['last_name'] = leg_info_from_cm_df['name'].apply(lambda x: x.split()[1])\n",
    "    leg_info_from_cm_df.drop_duplicates(keep='first', inplace=True)\n",
    "\n",
    "    legislator_df = leg_info_from_vote_df.merge(leg_info_from_cm_df, how='outer', on='voter_id')\n",
    "    legislator_df.drop_duplicates(keep=\"first\", inplace=True)\n",
    "    \n",
    "    missing_leg_info_df = pd.read_csv('missing_legislators.csv', sep='|')\n",
    "    missing_leg_info_df['district'] = missing_leg_info_df['district'].apply(str)\n",
    "    missing_leg_info_df['voter_id'] = missing_leg_info_df['voter_id'].apply(str)\n",
    "    \n",
    "    legislator_df = legislator_df.merge(missing_leg_info_df, how='outer', on='voter_id', suffixes=('', '_missing'))\n",
    "    \n",
    "    def replace_missing_first_name(x):\n",
    "        if type(x['first_name']) == float:\n",
    "            return x['first_name_missing']\n",
    "        else:\n",
    "            return x['first_name']\n",
    "        \n",
    "    def replace_missing_last_name(x):\n",
    "        if type(x['last_name']) == float:\n",
    "            return x['last_name_missing']\n",
    "        else:\n",
    "            return x['last_name']\n",
    "        \n",
    "    def replace_missing_party(x):\n",
    "        if type(x['party']) == float:\n",
    "            if x['party_missing'] == 'R':\n",
    "                return 'Republican'\n",
    "            if x['party_missing'] == 'D':\n",
    "                return 'Democrat'\n",
    "        else:\n",
    "            return x['party']\n",
    "        \n",
    "    def replace_missing_district(x):\n",
    "        if type(x['district']) == float:\n",
    "            return x['district_missing']\n",
    "        else:\n",
    "            return x['district']\n",
    "        \n",
    "    def change_party_to_int(party):\n",
    "        if party == 'Democrat':\n",
    "            return 0\n",
    "        if party == 'Republican':\n",
    "            return 1\n",
    "\n",
    "    legislator_df['first_name'] = legislator_df.apply(lambda x : replace_missing_first_name(x),axis=1)\n",
    "    legislator_df['party']      = legislator_df.apply(lambda x : replace_missing_party(x),     axis=1)\n",
    "    legislator_df['district']   = legislator_df.apply(lambda x : replace_missing_district(x),  axis=1)\n",
    "    legislator_df['last_name']  = legislator_df.apply(lambda x : replace_missing_last_name(x), axis=1)\n",
    "    \n",
    "    legislator_df = legislator_df.drop(['voter_name', 'name', 'district_missing', 'party_missing', 'first_name_missing', 'last_name_missing', 'biennium'], axis=1)\n",
    "    legislator_df.drop_duplicates(keep='first', inplace=True)\n",
    "    legislator_df.columns = ['id', 'agency', 'district', 'first_name', 'party', 'last_name']\n",
    "    legislator_df['id'] = legislator_df['id'].apply(int)\n",
    "    legislator_df['district'] = legislator_df['district'].apply(int)\n",
    "    legislator_df['party'] = legislator_df['party'].apply(change_party_to_int)\n",
    "    \n",
    "    return legislator_df"
   ]
  },
  {
   "cell_type": "code",
   "execution_count": 13,
   "metadata": {},
   "outputs": [],
   "source": [
    "leg_df = create_legislator_df()"
   ]
  },
  {
   "cell_type": "code",
   "execution_count": 14,
   "metadata": {},
   "outputs": [
    {
     "data": {
      "text/html": [
       "<div>\n",
       "<style scoped>\n",
       "    .dataframe tbody tr th:only-of-type {\n",
       "        vertical-align: middle;\n",
       "    }\n",
       "\n",
       "    .dataframe tbody tr th {\n",
       "        vertical-align: top;\n",
       "    }\n",
       "\n",
       "    .dataframe thead th {\n",
       "        text-align: right;\n",
       "    }\n",
       "</style>\n",
       "<table border=\"1\" class=\"dataframe\">\n",
       "  <thead>\n",
       "    <tr style=\"text-align: right;\">\n",
       "      <th></th>\n",
       "      <th>id</th>\n",
       "      <th>agency</th>\n",
       "      <th>district</th>\n",
       "      <th>first_name</th>\n",
       "      <th>party</th>\n",
       "      <th>last_name</th>\n",
       "    </tr>\n",
       "  </thead>\n",
       "  <tbody>\n",
       "    <tr>\n",
       "      <th>0</th>\n",
       "      <td>7</td>\n",
       "      <td>House</td>\n",
       "      <td>42</td>\n",
       "      <td>Ann</td>\n",
       "      <td>1</td>\n",
       "      <td>Anderson</td>\n",
       "    </tr>\n",
       "    <tr>\n",
       "      <th>2</th>\n",
       "      <td>7</td>\n",
       "      <td>Senate</td>\n",
       "      <td>42</td>\n",
       "      <td>Ann</td>\n",
       "      <td>1</td>\n",
       "      <td>Anderson</td>\n",
       "    </tr>\n",
       "    <tr>\n",
       "      <th>3</th>\n",
       "      <td>11</td>\n",
       "      <td>House</td>\n",
       "      <td>46</td>\n",
       "      <td>Marlin</td>\n",
       "      <td>0</td>\n",
       "      <td>Appelwick</td>\n",
       "    </tr>\n",
       "    <tr>\n",
       "      <th>7</th>\n",
       "      <td>17</td>\n",
       "      <td>House</td>\n",
       "      <td>12</td>\n",
       "      <td>Clyde</td>\n",
       "      <td>1</td>\n",
       "      <td>Ballard</td>\n",
       "    </tr>\n",
       "    <tr>\n",
       "      <th>13</th>\n",
       "      <td>23</td>\n",
       "      <td>House</td>\n",
       "      <td>19</td>\n",
       "      <td>Bob</td>\n",
       "      <td>0</td>\n",
       "      <td>Basich</td>\n",
       "    </tr>\n",
       "  </tbody>\n",
       "</table>\n",
       "</div>"
      ],
      "text/plain": [
       "    id  agency  district first_name  party  last_name\n",
       "0    7   House        42        Ann      1   Anderson\n",
       "2    7  Senate        42        Ann      1   Anderson\n",
       "3   11   House        46     Marlin      0  Appelwick\n",
       "7   17   House        12      Clyde      1    Ballard\n",
       "13  23   House        19        Bob      0     Basich"
      ]
     },
     "execution_count": 14,
     "metadata": {},
     "output_type": "execute_result"
    }
   ],
   "source": [
    "leg_df.head()"
   ]
  },
  {
   "cell_type": "code",
   "execution_count": 15,
   "metadata": {},
   "outputs": [
    {
     "name": "stdout",
     "output_type": "stream",
     "text": [
      "<class 'pandas.core.frame.DataFrame'>\n",
      "Int64Index: 647 entries, 0 to 2256\n",
      "Data columns (total 6 columns):\n",
      "id            647 non-null int64\n",
      "agency        646 non-null object\n",
      "district      647 non-null int64\n",
      "first_name    647 non-null object\n",
      "party         647 non-null int64\n",
      "last_name     647 non-null object\n",
      "dtypes: int64(3), object(3)\n",
      "memory usage: 35.4+ KB\n"
     ]
    }
   ],
   "source": [
    "leg_df.info()"
   ]
  },
  {
   "cell_type": "code",
   "execution_count": 16,
   "metadata": {},
   "outputs": [],
   "source": [
    "engine = create_engine('postgresql://localhost:5432/wa_leg_staging')"
   ]
  },
  {
   "cell_type": "code",
   "execution_count": 17,
   "metadata": {},
   "outputs": [],
   "source": [
    "con = engine.connect()"
   ]
  },
  {
   "cell_type": "code",
   "execution_count": 18,
   "metadata": {},
   "outputs": [
    {
     "data": {
      "text/plain": [
       "647"
      ]
     },
     "execution_count": 18,
     "metadata": {},
     "output_type": "execute_result"
    }
   ],
   "source": [
    "len(leg_df)"
   ]
  },
  {
   "cell_type": "code",
   "execution_count": 19,
   "metadata": {},
   "outputs": [],
   "source": [
    "# leg_df.to_sql('legislator', con, if_exists='append', index=False)"
   ]
  },
  {
   "cell_type": "code",
   "execution_count": 20,
   "metadata": {},
   "outputs": [],
   "source": [
    "con.close()"
   ]
  },
  {
   "cell_type": "code",
   "execution_count": null,
   "metadata": {},
   "outputs": [],
   "source": []
  },
  {
   "cell_type": "code",
   "execution_count": null,
   "metadata": {},
   "outputs": [],
   "source": []
  },
  {
   "cell_type": "code",
   "execution_count": null,
   "metadata": {},
   "outputs": [],
   "source": []
  },
  {
   "cell_type": "code",
   "execution_count": null,
   "metadata": {},
   "outputs": [],
   "source": []
  },
  {
   "cell_type": "code",
   "execution_count": null,
   "metadata": {},
   "outputs": [],
   "source": [
    "class CreateLegislatorDataframe(BaseEstimator, TransformerMixin):\n",
    "    \"\"\"Merge votes_df, committee_df and missing_legislator_df and clean data to create legislator_df\"\"\"\n",
    "    \n",
    "    def __init__(self, vote_df, committee_member_df, missing_leg_info_df):\n",
    "        \"\"\"Input\n",
    "           votes_df: pandas dataframe loaded from wa_leg_raw database, vote_api table\n",
    "           committee_member_df: pandas dataframe loaded from wa_leg_raw database, committee_member_api table\n",
    "           missing_legislator_df: pandas dataframe loaded missing_legislators.csv\"\"\"\n",
    "        self.vote_df = vote_df\n",
    "        self.committee_member_df = committee_member_df\n",
    "        self.missing_leg_info_df = missing_leg_info_df\n",
    "    \n",
    "    def fit(self, X=None, y=None):\n",
    "        return self\n",
    "\n",
    "    def transform(self, X=None):\n",
    "        leg_info_from_vote_df = self.vote_df.loc[:, ['biennium', 'voter_id', 'voter_name', 'voting_agency']]\n",
    "        leg_info_from_vote_df.drop_duplicates(keep='first', inplace=True)\n",
    "\n",
    "        leg_info_from_cm_df = self.committee_member_df.loc[:, ['district', 'id', 'name', 'first_name', 'party']]\n",
    "        leg_info_from_cm_df = leg_info_from_cm_df.rename(index=str, columns={\"id\": \"voter_id\"})\n",
    "        leg_info_from_cm_df['last_name'] = leg_info_from_cm_df['name'].apply(lambda x: x.split()[1])\n",
    "        leg_info_from_cm_df.drop_duplicates(keep='first', inplace=True)\n",
    "\n",
    "        legislator_df = leg_info_from_vote_df.merge(leg_info_from_cm_df, how='outer', on='voter_id')\n",
    "        legislator_df.drop_duplicates(keep=\"first\", inplace=True)\n",
    "\n",
    "        self.missing_leg_info_df['district'] = self.missing_leg_info_df['district'].apply(str)\n",
    "        self.missing_leg_info_df['voter_id'] = self.missing_leg_info_df['voter_id'].apply(str)\n",
    "\n",
    "        legislator_df = legislator_df.merge(self.missing_leg_info_df, how='outer', on='voter_id', suffixes=('', '_missing'))\n",
    "\n",
    "        legislator_df['first_name'] = legislator_df.apply(lambda x : replace_missing_first_name(x),axis=1)\n",
    "        legislator_df['party']      = legislator_df.apply(lambda x : replace_missing_party(x),     axis=1)\n",
    "        legislator_df['district']   = legislator_df.apply(lambda x : replace_missing_district(x),  axis=1)\n",
    "        legislator_df['last_name']  = legislator_df.apply(lambda x : replace_missing_last_name(x), axis=1)\n",
    "\n",
    "        legislator_df = legislator_df.drop(['voter_name', 'name', 'district_missing', 'party_missing', 'first_name_missing', 'last_name_missing', 'biennium'], axis=1)\n",
    "        legislator_df.drop_duplicates(keep='first', inplace=True)\n",
    "        legislator_df.columns = ['id', 'agency', 'district', 'first_name', 'party', 'last_name']\n",
    "        legislator_df['id'] = legislator_df['id'].apply(int)\n",
    "        legislator_df['district'] = legislator_df['district'].apply(int)\n",
    "\n",
    "        return legislator_df\n",
    "    \n",
    "    \n",
    "    @staticmethod\n",
    "    def replace_missing_first_name(x):\n",
    "        if type(x['first_name']) == float:\n",
    "            return x['first_name_missing']\n",
    "        else:\n",
    "            return x['first_name']\n",
    "        \n",
    "        \n",
    "    @staticmethod\n",
    "    def replace_missing_last_name(x):\n",
    "        if type(x['last_name']) == float:\n",
    "            return x['last_name_missing']\n",
    "        else:\n",
    "            return x['last_name']\n",
    "        \n",
    "        \n",
    "    @staticmethod\n",
    "    def replace_missing_party(x):\n",
    "        if type(x['party']) == float:\n",
    "            if x['party_missing'] == 'R':\n",
    "                return 'Republican'\n",
    "            if x['party_missing'] == 'D':\n",
    "                return 'Democrat'\n",
    "        else:\n",
    "            return x['party']\n",
    "        \n",
    "        \n",
    "    @staticmethod\n",
    "    def replace_missing_district(x):\n",
    "        if type(x['district']) == float:\n",
    "            return x['district_missing']\n",
    "        else:\n",
    "            return x['district']\n",
    "\n",
    "    "
   ]
  },
  {
   "cell_type": "code",
   "execution_count": null,
   "metadata": {},
   "outputs": [],
   "source": [
    "create = CreateLegislatorDataframe(vote_df, committee_member_df, missing_legislator_info_df)"
   ]
  },
  {
   "cell_type": "code",
   "execution_count": null,
   "metadata": {},
   "outputs": [],
   "source": [
    "create.fit()"
   ]
  },
  {
   "cell_type": "code",
   "execution_count": null,
   "metadata": {},
   "outputs": [],
   "source": [
    "leg_test = create.transform()"
   ]
  },
  {
   "cell_type": "code",
   "execution_count": null,
   "metadata": {},
   "outputs": [],
   "source": [
    "leg_test"
   ]
  },
  {
   "cell_type": "code",
   "execution_count": null,
   "metadata": {},
   "outputs": [],
   "source": []
  }
 ],
 "metadata": {
  "kernelspec": {
   "display_name": "Python 3",
   "language": "python",
   "name": "python3"
  },
  "language_info": {
   "codemirror_mode": {
    "name": "ipython",
    "version": 3
   },
   "file_extension": ".py",
   "mimetype": "text/x-python",
   "name": "python",
   "nbconvert_exporter": "python",
   "pygments_lexer": "ipython3",
   "version": "3.6.5"
  }
 },
 "nbformat": 4,
 "nbformat_minor": 2
}
