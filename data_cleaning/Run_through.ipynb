{
 "cells": [
  {
   "cell_type": "markdown",
   "metadata": {},
   "source": [
    "# Instructions\n",
    "\n",
    "This is a run-through of the cleaning functions in create_staging_tables. The functions below clean and reorganize data collected from the API and scraped from the web. Data was initially collected and put into a postgres database named \"wa_lge_raw\". The API and scraping functions can be found in the data_aquisition directory. \n",
    "\n",
    "There are seven steps to creating the necessary staging tables. Only the following tables need to be saved to the wa_leg_staging database:\n",
    "* legislator_df\n",
    "* rep_score_df\n",
    "* bill_text_df\n",
    "* merged_final_df"
   ]
  },
  {
   "cell_type": "code",
   "execution_count": 1,
   "metadata": {},
   "outputs": [],
   "source": [
    "import psycopg2\n",
    "from sqlalchemy import create_engine\n",
    "import pandas as pd\n",
    "from create_staging_tables import create_staging_legislator_df_STEP_ONE, create_staging_vote_df_STEP_TWO, create_staging_bill_df_STEP_THREE, create_staging_merged_initial_df_STEP_FOUR, create_staging_bill_text_df_STEP_FIVE, clean_merged_final_STEP_SEVEN, create_rep_score_STEP_EIGHT, load_and_clean_party_minority_history_df"
   ]
  },
  {
   "cell_type": "code",
   "execution_count": 2,
   "metadata": {},
   "outputs": [],
   "source": [
    "engine = create_engine('postgresql://localhost:5432/wa_leg_raw')"
   ]
  },
  {
   "cell_type": "code",
   "execution_count": 3,
   "metadata": {},
   "outputs": [],
   "source": [
    "raw_vote_df = pd.read_sql_query('select * from \"vote_api\"', con=engine)\n",
    "raw_committee_member_df = pd.read_sql_query('select * from \"committee_member_api\"', con=engine)\n",
    "missing_leg_info_df = pd.read_csv('../data/missing_legislators.csv', sep = '|')\n",
    "raw_bill_df = pd.read_sql_query('select * from \"bill_api\"', con=engine)\n",
    "raw_sponsor_df = pd.read_sql_query('select * from \"sponsor_api\"', con=engine)"
   ]
  },
  {
   "cell_type": "code",
   "execution_count": 4,
   "metadata": {},
   "outputs": [],
   "source": [
    "legislator_df = create_staging_legislator_df_STEP_ONE(raw_vote_df, raw_committee_member_df, missing_leg_info_df)"
   ]
  },
  {
   "cell_type": "code",
   "execution_count": 5,
   "metadata": {},
   "outputs": [],
   "source": [
    "staging_vote_df = create_staging_vote_df_STEP_TWO(raw_vote_df)"
   ]
  },
  {
   "cell_type": "code",
   "execution_count": 6,
   "metadata": {},
   "outputs": [
    {
     "name": "stderr",
     "output_type": "stream",
     "text": [
      "/Users/emilykarboski/galvanize/washington_state_legislation/data_cleaning/create_staging_tables.py:398: SettingWithCopyWarning: \n",
      "A value is trying to be set on a copy of a slice from a DataFrame.\n",
      "Try using .loc[row_indexer,col_indexer] = value instead\n",
      "\n",
      "See the caveats in the documentation: http://pandas.pydata.org/pandas-docs/stable/indexing.html#indexing-view-versus-copy\n",
      "  sponsor_df_reformatted['bill_num'] = sponsor_df_reformatted['bill_id'].apply(lambda x: x.split()[1])\n",
      "/Users/emilykarboski/galvanize/washington_state_legislation/data_cleaning/create_staging_tables.py:399: SettingWithCopyWarning: \n",
      "A value is trying to be set on a copy of a slice from a DataFrame.\n",
      "Try using .loc[row_indexer,col_indexer] = value instead\n",
      "\n",
      "See the caveats in the documentation: http://pandas.pydata.org/pandas-docs/stable/indexing.html#indexing-view-versus-copy\n",
      "  sponsor_df_reformatted['bill_num_unique'] = sponsor_df_reformatted['biennium'] + ' ' + sponsor_df_reformatted['bill_num']\n"
     ]
    }
   ],
   "source": [
    "staging_bill_df = create_staging_bill_df_STEP_THREE(raw_bill_df, raw_sponsor_df)"
   ]
  },
  {
   "cell_type": "code",
   "execution_count": 7,
   "metadata": {},
   "outputs": [
    {
     "data": {
      "text/html": [
       "<div>\n",
       "<style scoped>\n",
       "    .dataframe tbody tr th:only-of-type {\n",
       "        vertical-align: middle;\n",
       "    }\n",
       "\n",
       "    .dataframe tbody tr th {\n",
       "        vertical-align: top;\n",
       "    }\n",
       "\n",
       "    .dataframe thead th {\n",
       "        text-align: right;\n",
       "    }\n",
       "</style>\n",
       "<table border=\"1\" class=\"dataframe\">\n",
       "  <thead>\n",
       "    <tr style=\"text-align: right;\">\n",
       "      <th></th>\n",
       "      <th>biennium</th>\n",
       "      <th>bill_id</th>\n",
       "      <th>class</th>\n",
       "      <th>description</th>\n",
       "      <th>htm_create_date</th>\n",
       "      <th>htm_last_modified_date</th>\n",
       "      <th>htm_url</th>\n",
       "      <th>long_friendly_name</th>\n",
       "      <th>name</th>\n",
       "      <th>type</th>\n",
       "      <th>bill_unique</th>\n",
       "      <th>bill_num</th>\n",
       "      <th>bill_num_unique</th>\n",
       "      <th>sponsor_agency</th>\n",
       "      <th>primary_sponsor_id</th>\n",
       "      <th>secondary_sponsors</th>\n",
       "    </tr>\n",
       "  </thead>\n",
       "  <tbody>\n",
       "    <tr>\n",
       "      <th>0</th>\n",
       "      <td>1991-92</td>\n",
       "      <td>HB 1001</td>\n",
       "      <td>Bills</td>\n",
       "      <td>None</td>\n",
       "      <td>1991-08-30T00:00:00</td>\n",
       "      <td>2006-07-10T17:13:53.543</td>\n",
       "      <td>http://app.leg.wa.gov/documents/billdocs/1991-...</td>\n",
       "      <td>House Bill 1001</td>\n",
       "      <td>1001</td>\n",
       "      <td>House Bills</td>\n",
       "      <td>1991-92 HB 1001</td>\n",
       "      <td>1001</td>\n",
       "      <td>1991-92 1001</td>\n",
       "      <td>House</td>\n",
       "      <td>251</td>\n",
       "      <td>[444, 429, 297, 48, 75, 286, 325, 32, 213, 188...</td>\n",
       "    </tr>\n",
       "    <tr>\n",
       "      <th>1</th>\n",
       "      <td>1991-92</td>\n",
       "      <td>SHB 1001</td>\n",
       "      <td>Bills</td>\n",
       "      <td>None</td>\n",
       "      <td>1991-02-01T00:00:00</td>\n",
       "      <td>2006-07-10T17:13:54.903</td>\n",
       "      <td>http://app.leg.wa.gov/documents/billdocs/1991-...</td>\n",
       "      <td>Substitute House Bill 1001</td>\n",
       "      <td>1001-S</td>\n",
       "      <td>House Bills</td>\n",
       "      <td>1991-92 SHB 1001</td>\n",
       "      <td>1001</td>\n",
       "      <td>1991-92 1001</td>\n",
       "      <td>House</td>\n",
       "      <td>251</td>\n",
       "      <td>[444, 429, 297, 48, 75, 286, 325, 32, 213, 188...</td>\n",
       "    </tr>\n",
       "    <tr>\n",
       "      <th>2</th>\n",
       "      <td>1991-92</td>\n",
       "      <td>HB 1002</td>\n",
       "      <td>Bills</td>\n",
       "      <td>None</td>\n",
       "      <td>1991-01-14T00:00:00</td>\n",
       "      <td>2006-07-10T17:13:11.637</td>\n",
       "      <td>http://app.leg.wa.gov/documents/billdocs/1991-...</td>\n",
       "      <td>House Bill 1002</td>\n",
       "      <td>1002</td>\n",
       "      <td>House Bills</td>\n",
       "      <td>1991-92 HB 1002</td>\n",
       "      <td>1002</td>\n",
       "      <td>1991-92 1002</td>\n",
       "      <td>House</td>\n",
       "      <td>251</td>\n",
       "      <td>[474, 207, 219, 180, 23, 227, 394, 484, 110, 4...</td>\n",
       "    </tr>\n",
       "    <tr>\n",
       "      <th>3</th>\n",
       "      <td>1991-92</td>\n",
       "      <td>HB 1003</td>\n",
       "      <td>Bills</td>\n",
       "      <td>None</td>\n",
       "      <td>1991-01-14T00:00:00</td>\n",
       "      <td>2006-07-10T17:13:11.747</td>\n",
       "      <td>http://app.leg.wa.gov/documents/billdocs/1991-...</td>\n",
       "      <td>House Bill 1003</td>\n",
       "      <td>1003</td>\n",
       "      <td>House Bills</td>\n",
       "      <td>1991-92 HB 1003</td>\n",
       "      <td>1003</td>\n",
       "      <td>1991-92 1003</td>\n",
       "      <td>House</td>\n",
       "      <td>311</td>\n",
       "      <td>[54, 110, 474]</td>\n",
       "    </tr>\n",
       "    <tr>\n",
       "      <th>4</th>\n",
       "      <td>1991-92</td>\n",
       "      <td>SHB 1003</td>\n",
       "      <td>Bills</td>\n",
       "      <td>None</td>\n",
       "      <td>1991-02-21T00:00:00</td>\n",
       "      <td>2006-07-10T17:14:07.357</td>\n",
       "      <td>http://app.leg.wa.gov/documents/billdocs/1991-...</td>\n",
       "      <td>Substitute House Bill 1003</td>\n",
       "      <td>1003-S</td>\n",
       "      <td>House Bills</td>\n",
       "      <td>1991-92 SHB 1003</td>\n",
       "      <td>1003</td>\n",
       "      <td>1991-92 1003</td>\n",
       "      <td>House</td>\n",
       "      <td>311</td>\n",
       "      <td>[54, 110, 474]</td>\n",
       "    </tr>\n",
       "  </tbody>\n",
       "</table>\n",
       "</div>"
      ],
      "text/plain": [
       "  biennium   bill_id  class description      htm_create_date  \\\n",
       "0  1991-92   HB 1001  Bills        None  1991-08-30T00:00:00   \n",
       "1  1991-92  SHB 1001  Bills        None  1991-02-01T00:00:00   \n",
       "2  1991-92   HB 1002  Bills        None  1991-01-14T00:00:00   \n",
       "3  1991-92   HB 1003  Bills        None  1991-01-14T00:00:00   \n",
       "4  1991-92  SHB 1003  Bills        None  1991-02-21T00:00:00   \n",
       "\n",
       "    htm_last_modified_date                                            htm_url  \\\n",
       "0  2006-07-10T17:13:53.543  http://app.leg.wa.gov/documents/billdocs/1991-...   \n",
       "1  2006-07-10T17:13:54.903  http://app.leg.wa.gov/documents/billdocs/1991-...   \n",
       "2  2006-07-10T17:13:11.637  http://app.leg.wa.gov/documents/billdocs/1991-...   \n",
       "3  2006-07-10T17:13:11.747  http://app.leg.wa.gov/documents/billdocs/1991-...   \n",
       "4  2006-07-10T17:14:07.357  http://app.leg.wa.gov/documents/billdocs/1991-...   \n",
       "\n",
       "           long_friendly_name    name         type       bill_unique bill_num  \\\n",
       "0             House Bill 1001    1001  House Bills   1991-92 HB 1001     1001   \n",
       "1  Substitute House Bill 1001  1001-S  House Bills  1991-92 SHB 1001     1001   \n",
       "2             House Bill 1002    1002  House Bills   1991-92 HB 1002     1002   \n",
       "3             House Bill 1003    1003  House Bills   1991-92 HB 1003     1003   \n",
       "4  Substitute House Bill 1003  1003-S  House Bills  1991-92 SHB 1003     1003   \n",
       "\n",
       "  bill_num_unique sponsor_agency primary_sponsor_id  \\\n",
       "0    1991-92 1001          House                251   \n",
       "1    1991-92 1001          House                251   \n",
       "2    1991-92 1002          House                251   \n",
       "3    1991-92 1003          House                311   \n",
       "4    1991-92 1003          House                311   \n",
       "\n",
       "                                  secondary_sponsors  \n",
       "0  [444, 429, 297, 48, 75, 286, 325, 32, 213, 188...  \n",
       "1  [444, 429, 297, 48, 75, 286, 325, 32, 213, 188...  \n",
       "2  [474, 207, 219, 180, 23, 227, 394, 484, 110, 4...  \n",
       "3                                     [54, 110, 474]  \n",
       "4                                     [54, 110, 474]  "
      ]
     },
     "execution_count": 7,
     "metadata": {},
     "output_type": "execute_result"
    }
   ],
   "source": [
    "staging_bill_df.head()"
   ]
  },
  {
   "cell_type": "code",
   "execution_count": 8,
   "metadata": {},
   "outputs": [
    {
     "name": "stderr",
     "output_type": "stream",
     "text": [
      "/Users/emilykarboski/galvanize/washington_state_legislation/data_cleaning/create_staging_tables.py:437: SettingWithCopyWarning: \n",
      "A value is trying to be set on a copy of a slice from a DataFrame\n",
      "\n",
      "See the caveats in the documentation: http://pandas.pydata.org/pandas-docs/stable/indexing.html#indexing-view-versus-copy\n",
      "  unique_vote_dates.drop_duplicates(keep='first', inplace=True)\n"
     ]
    }
   ],
   "source": [
    "merged_initial_df = create_staging_merged_initial_df_STEP_FOUR(staging_vote_df, staging_bill_df, legislator_df)"
   ]
  },
  {
   "cell_type": "code",
   "execution_count": 9,
   "metadata": {},
   "outputs": [],
   "source": [
    "def change_agency_to_int(agency):\n",
    "    if agency == 'House':\n",
    "        return 0\n",
    "    if agency == 'Senate':\n",
    "        return 1"
   ]
  },
  {
   "cell_type": "code",
   "execution_count": 10,
   "metadata": {},
   "outputs": [],
   "source": [
    "merged_initial_df['sponsor_agency'] = merged_initial_df['sponsor_agency'].apply(change_agency_to_int)\n",
    "legislator_df['agency'] = legislator_df['agency'].apply(change_agency_to_int)"
   ]
  },
  {
   "cell_type": "code",
   "execution_count": 17,
   "metadata": {},
   "outputs": [],
   "source": [
    "legislator_df['agency'] = legislator_df['agency'].apply(change_agency_to_int)"
   ]
  },
  {
   "cell_type": "code",
   "execution_count": 19,
   "metadata": {},
   "outputs": [
    {
     "data": {
      "text/html": [
       "<div>\n",
       "<style scoped>\n",
       "    .dataframe tbody tr th:only-of-type {\n",
       "        vertical-align: middle;\n",
       "    }\n",
       "\n",
       "    .dataframe tbody tr th {\n",
       "        vertical-align: top;\n",
       "    }\n",
       "\n",
       "    .dataframe thead th {\n",
       "        text-align: right;\n",
       "    }\n",
       "</style>\n",
       "<table border=\"1\" class=\"dataframe\">\n",
       "  <thead>\n",
       "    <tr style=\"text-align: right;\">\n",
       "      <th></th>\n",
       "      <th>id</th>\n",
       "      <th>agency</th>\n",
       "      <th>district</th>\n",
       "      <th>first_name</th>\n",
       "      <th>party</th>\n",
       "      <th>last_name</th>\n",
       "    </tr>\n",
       "  </thead>\n",
       "  <tbody>\n",
       "    <tr>\n",
       "      <th>0</th>\n",
       "      <td>7</td>\n",
       "      <td>0.0</td>\n",
       "      <td>42</td>\n",
       "      <td>Ann</td>\n",
       "      <td>Republican</td>\n",
       "      <td>Anderson</td>\n",
       "    </tr>\n",
       "    <tr>\n",
       "      <th>2</th>\n",
       "      <td>7</td>\n",
       "      <td>1.0</td>\n",
       "      <td>42</td>\n",
       "      <td>Ann</td>\n",
       "      <td>Republican</td>\n",
       "      <td>Anderson</td>\n",
       "    </tr>\n",
       "    <tr>\n",
       "      <th>3</th>\n",
       "      <td>11</td>\n",
       "      <td>0.0</td>\n",
       "      <td>46</td>\n",
       "      <td>Marlin</td>\n",
       "      <td>Democrat</td>\n",
       "      <td>Appelwick</td>\n",
       "    </tr>\n",
       "    <tr>\n",
       "      <th>7</th>\n",
       "      <td>17</td>\n",
       "      <td>0.0</td>\n",
       "      <td>12</td>\n",
       "      <td>Clyde</td>\n",
       "      <td>Republican</td>\n",
       "      <td>Ballard</td>\n",
       "    </tr>\n",
       "    <tr>\n",
       "      <th>13</th>\n",
       "      <td>23</td>\n",
       "      <td>0.0</td>\n",
       "      <td>19</td>\n",
       "      <td>Bob</td>\n",
       "      <td>Democrat</td>\n",
       "      <td>Basich</td>\n",
       "    </tr>\n",
       "  </tbody>\n",
       "</table>\n",
       "</div>"
      ],
      "text/plain": [
       "    id  agency  district first_name       party  last_name\n",
       "0    7     0.0        42        Ann  Republican   Anderson\n",
       "2    7     1.0        42        Ann  Republican   Anderson\n",
       "3   11     0.0        46     Marlin    Democrat  Appelwick\n",
       "7   17     0.0        12      Clyde  Republican    Ballard\n",
       "13  23     0.0        19        Bob    Democrat     Basich"
      ]
     },
     "execution_count": 19,
     "metadata": {},
     "output_type": "execute_result"
    }
   ],
   "source": [
    "legislator_df.head()"
   ]
  },
  {
   "cell_type": "code",
   "execution_count": 20,
   "metadata": {},
   "outputs": [
    {
     "name": "stdout",
     "output_type": "stream",
     "text": [
      "<class 'pandas.core.frame.DataFrame'>\n",
      "Int64Index: 3042939 entries, 0 to 3042938\n",
      "Data columns (total 24 columns):\n",
      "sequence_number           int64\n",
      "vote                      int64\n",
      "vote_date                 datetime64[ns]\n",
      "voter_id                  int64\n",
      "voter_name                object\n",
      "voting_agency             int64\n",
      "bill_unique               object\n",
      "year                      int64\n",
      "unique_id                 float64\n",
      "biennium                  object\n",
      "bill_id                   object\n",
      "class                     object\n",
      "description               object\n",
      "htm_create_date           datetime64[ns]\n",
      "htm_last_modified_date    datetime64[ns]\n",
      "htm_url                   object\n",
      "long_friendly_name        object\n",
      "name                      object\n",
      "type                      object\n",
      "bill_num                  object\n",
      "bill_num_unique           object\n",
      "sponsor_agency            float64\n",
      "primary_sponsor_id        object\n",
      "secondary_sponsors        object\n",
      "dtypes: datetime64[ns](3), float64(2), int64(5), object(14)\n",
      "memory usage: 580.4+ MB\n"
     ]
    }
   ],
   "source": [
    "merged_initial_df.info()"
   ]
  },
  {
   "cell_type": "code",
   "execution_count": 21,
   "metadata": {},
   "outputs": [],
   "source": [
    "merged_initial_df = merged_initial_df.merge(legislator_df, \n",
    "                               how='left', \n",
    "                               left_on=['voter_id', 'voting_agency'], \n",
    "                               right_on=['id', 'agency'])"
   ]
  },
  {
   "cell_type": "code",
   "execution_count": 23,
   "metadata": {},
   "outputs": [],
   "source": [
    "def change_party_word_to_int(party):\n",
    "        if party == 'Democrat':\n",
    "            return 0\n",
    "        if party == 'Republican':\n",
    "            return 1"
   ]
  },
  {
   "cell_type": "code",
   "execution_count": 24,
   "metadata": {},
   "outputs": [
    {
     "ename": "KeyError",
     "evalue": "\"labels ['sequence_number' 'type' 'voter_name' 'htm_last_modified_date'\\n 'description' 'bill_num_unique' 'bill_num' 'class'] not contained in axis\"",
     "output_type": "error",
     "traceback": [
      "\u001b[0;31m---------------------------------------------------------------------------\u001b[0m",
      "\u001b[0;31mKeyError\u001b[0m                                  Traceback (most recent call last)",
      "\u001b[0;32m<ipython-input-24-191240042363>\u001b[0m in \u001b[0;36m<module>\u001b[0;34m()\u001b[0m\n\u001b[1;32m      1\u001b[0m merged_initial_df = merged_initial_df.drop(['sequence_number', 'type', \n\u001b[1;32m      2\u001b[0m                                       \u001b[0;34m'voter_name'\u001b[0m\u001b[0;34m,\u001b[0m \u001b[0;34m'htm_last_modified_date'\u001b[0m\u001b[0;34m,\u001b[0m \u001b[0;34m'description'\u001b[0m\u001b[0;34m,\u001b[0m\u001b[0;34m\u001b[0m\u001b[0m\n\u001b[0;32m----> 3\u001b[0;31m                                       'bill_num_unique', 'bill_num', 'class'], axis = 1)\n\u001b[0m\u001b[1;32m      4\u001b[0m \u001b[0mmerged_initial_df\u001b[0m\u001b[0;34m[\u001b[0m\u001b[0;34m'party'\u001b[0m\u001b[0;34m]\u001b[0m \u001b[0;34m=\u001b[0m \u001b[0mmerged_initial_df\u001b[0m\u001b[0;34m[\u001b[0m\u001b[0;34m'party'\u001b[0m\u001b[0;34m]\u001b[0m\u001b[0;34m.\u001b[0m\u001b[0mapply\u001b[0m\u001b[0;34m(\u001b[0m\u001b[0mchange_party_word_to_int\u001b[0m\u001b[0;34m)\u001b[0m\u001b[0;34m\u001b[0m\u001b[0m\n",
      "\u001b[0;32m/anaconda3/lib/python3.6/site-packages/pandas/core/frame.py\u001b[0m in \u001b[0;36mdrop\u001b[0;34m(self, labels, axis, index, columns, level, inplace, errors)\u001b[0m\n\u001b[1;32m   3692\u001b[0m                                            \u001b[0mindex\u001b[0m\u001b[0;34m=\u001b[0m\u001b[0mindex\u001b[0m\u001b[0;34m,\u001b[0m \u001b[0mcolumns\u001b[0m\u001b[0;34m=\u001b[0m\u001b[0mcolumns\u001b[0m\u001b[0;34m,\u001b[0m\u001b[0;34m\u001b[0m\u001b[0m\n\u001b[1;32m   3693\u001b[0m                                            \u001b[0mlevel\u001b[0m\u001b[0;34m=\u001b[0m\u001b[0mlevel\u001b[0m\u001b[0;34m,\u001b[0m \u001b[0minplace\u001b[0m\u001b[0;34m=\u001b[0m\u001b[0minplace\u001b[0m\u001b[0;34m,\u001b[0m\u001b[0;34m\u001b[0m\u001b[0m\n\u001b[0;32m-> 3694\u001b[0;31m                                            errors=errors)\n\u001b[0m\u001b[1;32m   3695\u001b[0m \u001b[0;34m\u001b[0m\u001b[0m\n\u001b[1;32m   3696\u001b[0m     @rewrite_axis_style_signature('mapper', [('copy', True),\n",
      "\u001b[0;32m/anaconda3/lib/python3.6/site-packages/pandas/core/generic.py\u001b[0m in \u001b[0;36mdrop\u001b[0;34m(self, labels, axis, index, columns, level, inplace, errors)\u001b[0m\n\u001b[1;32m   3106\u001b[0m         \u001b[0;32mfor\u001b[0m \u001b[0maxis\u001b[0m\u001b[0;34m,\u001b[0m \u001b[0mlabels\u001b[0m \u001b[0;32min\u001b[0m \u001b[0maxes\u001b[0m\u001b[0;34m.\u001b[0m\u001b[0mitems\u001b[0m\u001b[0;34m(\u001b[0m\u001b[0;34m)\u001b[0m\u001b[0;34m:\u001b[0m\u001b[0;34m\u001b[0m\u001b[0m\n\u001b[1;32m   3107\u001b[0m             \u001b[0;32mif\u001b[0m \u001b[0mlabels\u001b[0m \u001b[0;32mis\u001b[0m \u001b[0;32mnot\u001b[0m \u001b[0;32mNone\u001b[0m\u001b[0;34m:\u001b[0m\u001b[0;34m\u001b[0m\u001b[0m\n\u001b[0;32m-> 3108\u001b[0;31m                 \u001b[0mobj\u001b[0m \u001b[0;34m=\u001b[0m \u001b[0mobj\u001b[0m\u001b[0;34m.\u001b[0m\u001b[0m_drop_axis\u001b[0m\u001b[0;34m(\u001b[0m\u001b[0mlabels\u001b[0m\u001b[0;34m,\u001b[0m \u001b[0maxis\u001b[0m\u001b[0;34m,\u001b[0m \u001b[0mlevel\u001b[0m\u001b[0;34m=\u001b[0m\u001b[0mlevel\u001b[0m\u001b[0;34m,\u001b[0m \u001b[0merrors\u001b[0m\u001b[0;34m=\u001b[0m\u001b[0merrors\u001b[0m\u001b[0;34m)\u001b[0m\u001b[0;34m\u001b[0m\u001b[0m\n\u001b[0m\u001b[1;32m   3109\u001b[0m \u001b[0;34m\u001b[0m\u001b[0m\n\u001b[1;32m   3110\u001b[0m         \u001b[0;32mif\u001b[0m \u001b[0minplace\u001b[0m\u001b[0;34m:\u001b[0m\u001b[0;34m\u001b[0m\u001b[0m\n",
      "\u001b[0;32m/anaconda3/lib/python3.6/site-packages/pandas/core/generic.py\u001b[0m in \u001b[0;36m_drop_axis\u001b[0;34m(self, labels, axis, level, errors)\u001b[0m\n\u001b[1;32m   3138\u001b[0m                 \u001b[0mnew_axis\u001b[0m \u001b[0;34m=\u001b[0m \u001b[0maxis\u001b[0m\u001b[0;34m.\u001b[0m\u001b[0mdrop\u001b[0m\u001b[0;34m(\u001b[0m\u001b[0mlabels\u001b[0m\u001b[0;34m,\u001b[0m \u001b[0mlevel\u001b[0m\u001b[0;34m=\u001b[0m\u001b[0mlevel\u001b[0m\u001b[0;34m,\u001b[0m \u001b[0merrors\u001b[0m\u001b[0;34m=\u001b[0m\u001b[0merrors\u001b[0m\u001b[0;34m)\u001b[0m\u001b[0;34m\u001b[0m\u001b[0m\n\u001b[1;32m   3139\u001b[0m             \u001b[0;32melse\u001b[0m\u001b[0;34m:\u001b[0m\u001b[0;34m\u001b[0m\u001b[0m\n\u001b[0;32m-> 3140\u001b[0;31m                 \u001b[0mnew_axis\u001b[0m \u001b[0;34m=\u001b[0m \u001b[0maxis\u001b[0m\u001b[0;34m.\u001b[0m\u001b[0mdrop\u001b[0m\u001b[0;34m(\u001b[0m\u001b[0mlabels\u001b[0m\u001b[0;34m,\u001b[0m \u001b[0merrors\u001b[0m\u001b[0;34m=\u001b[0m\u001b[0merrors\u001b[0m\u001b[0;34m)\u001b[0m\u001b[0;34m\u001b[0m\u001b[0m\n\u001b[0m\u001b[1;32m   3141\u001b[0m             \u001b[0mdropped\u001b[0m \u001b[0;34m=\u001b[0m \u001b[0mself\u001b[0m\u001b[0;34m.\u001b[0m\u001b[0mreindex\u001b[0m\u001b[0;34m(\u001b[0m\u001b[0;34m**\u001b[0m\u001b[0;34m{\u001b[0m\u001b[0maxis_name\u001b[0m\u001b[0;34m:\u001b[0m \u001b[0mnew_axis\u001b[0m\u001b[0;34m}\u001b[0m\u001b[0;34m)\u001b[0m\u001b[0;34m\u001b[0m\u001b[0m\n\u001b[1;32m   3142\u001b[0m             \u001b[0;32mtry\u001b[0m\u001b[0;34m:\u001b[0m\u001b[0;34m\u001b[0m\u001b[0m\n",
      "\u001b[0;32m/anaconda3/lib/python3.6/site-packages/pandas/core/indexes/base.py\u001b[0m in \u001b[0;36mdrop\u001b[0;34m(self, labels, errors)\u001b[0m\n\u001b[1;32m   4385\u001b[0m             \u001b[0;32mif\u001b[0m \u001b[0merrors\u001b[0m \u001b[0;34m!=\u001b[0m \u001b[0;34m'ignore'\u001b[0m\u001b[0;34m:\u001b[0m\u001b[0;34m\u001b[0m\u001b[0m\n\u001b[1;32m   4386\u001b[0m                 raise KeyError(\n\u001b[0;32m-> 4387\u001b[0;31m                     'labels %s not contained in axis' % labels[mask])\n\u001b[0m\u001b[1;32m   4388\u001b[0m             \u001b[0mindexer\u001b[0m \u001b[0;34m=\u001b[0m \u001b[0mindexer\u001b[0m\u001b[0;34m[\u001b[0m\u001b[0;34m~\u001b[0m\u001b[0mmask\u001b[0m\u001b[0;34m]\u001b[0m\u001b[0;34m\u001b[0m\u001b[0m\n\u001b[1;32m   4389\u001b[0m         \u001b[0;32mreturn\u001b[0m \u001b[0mself\u001b[0m\u001b[0;34m.\u001b[0m\u001b[0mdelete\u001b[0m\u001b[0;34m(\u001b[0m\u001b[0mindexer\u001b[0m\u001b[0;34m)\u001b[0m\u001b[0;34m\u001b[0m\u001b[0m\n",
      "\u001b[0;31mKeyError\u001b[0m: \"labels ['sequence_number' 'type' 'voter_name' 'htm_last_modified_date'\\n 'description' 'bill_num_unique' 'bill_num' 'class'] not contained in axis\""
     ]
    }
   ],
   "source": [
    "merged_initial_df = merged_initial_df.drop(['sequence_number', 'type', \n",
    "                                      'voter_name', 'htm_last_modified_date', 'description', \n",
    "                                      'bill_num_unique', 'bill_num', 'class'], axis = 1)\n",
    "merged_initial_df['party'] = merged_initial_df['party'].apply(change_party_word_to_int)"
   ]
  },
  {
   "cell_type": "code",
   "execution_count": null,
   "metadata": {},
   "outputs": [],
   "source": []
  },
  {
   "cell_type": "code",
   "execution_count": null,
   "metadata": {},
   "outputs": [],
   "source": []
  }
 ],
 "metadata": {
  "kernelspec": {
   "display_name": "Python 3",
   "language": "python",
   "name": "python3"
  },
  "language_info": {
   "codemirror_mode": {
    "name": "ipython",
    "version": 3
   },
   "file_extension": ".py",
   "mimetype": "text/x-python",
   "name": "python",
   "nbconvert_exporter": "python",
   "pygments_lexer": "ipython3",
   "version": "3.6.5"
  }
 },
 "nbformat": 4,
 "nbformat_minor": 2
}
