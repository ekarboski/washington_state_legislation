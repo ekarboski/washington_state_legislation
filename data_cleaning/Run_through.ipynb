{
 "cells": [
  {
   "cell_type": "markdown",
   "metadata": {},
   "source": [
    "# Instructions\n",
    "\n",
    "This is a run-through of the cleaning functions in create_staging_tables. The functions below clean and reorganize data collected from the API and scraped from the web. Data was initially collected and put into a postgres database named \"wa_lge_raw\". The API and scraping functions can be found in the data_aquisition directory. \n",
    "\n",
    "There are seven steps to creating the necessary staging tables. Only the following tables need to be saved to the wa_leg_staging database:\n",
    "* legislator_df\n",
    "* rep_score_df\n",
    "* bill_text_df\n",
    "* merged_final_df"
   ]
  },
  {
   "cell_type": "code",
   "execution_count": null,
   "metadata": {},
   "outputs": [],
   "source": [
    "import psycopg2\n",
    "from sqlalchemy import create_engine\n",
    "import pandas as pd\n",
    "from create_staging_tables import (create_staging_legislator_df_STEP_ONE, \n",
    "                                   create_staging_vote_df_STEP_TWO, \n",
    "                                   create_staging_bill_df_STEP_THREE, \n",
    "                                   create_staging_merged_initial_df_STEP_FOUR, \n",
    "                                   create_staging_bill_text_df_STEP_FIVE, \n",
    "                                   clean_merged_final_STEP_SIX, \n",
    "                                   create_rep_score_STEP_SEVEN)"
   ]
  },
  {
   "cell_type": "code",
   "execution_count": null,
   "metadata": {},
   "outputs": [],
   "source": [
    "engine = create_engine('postgresql://localhost:5432/wa_leg_raw')"
   ]
  },
  {
   "cell_type": "code",
   "execution_count": null,
   "metadata": {},
   "outputs": [],
   "source": [
    "raw_vote_df = pd.read_sql_query('select * from \"vote_api\"', con=engine)\n",
    "raw_committee_member_df = pd.read_sql_query('select * from \"committee_member_api\"', con=engine)\n",
    "missing_leg_info_df = pd.read_csv('../data/missing_legislators.csv', sep = '|')\n",
    "raw_bill_df = pd.read_sql_query('select * from \"bill_api\"', con=engine)\n",
    "raw_sponsor_df = pd.read_sql_query('select * from \"sponsor_api\"', con=engine)"
   ]
  },
  {
   "cell_type": "code",
   "execution_count": null,
   "metadata": {},
   "outputs": [],
   "source": [
    "legislator_df = create_staging_legislator_df_STEP_ONE(raw_vote_df, raw_committee_member_df, missing_leg_info_df)"
   ]
  },
  {
   "cell_type": "code",
   "execution_count": null,
   "metadata": {},
   "outputs": [],
   "source": [
    "staging_vote_df = create_staging_vote_df_STEP_TWO(raw_vote_df)"
   ]
  },
  {
   "cell_type": "code",
   "execution_count": null,
   "metadata": {},
   "outputs": [],
   "source": [
    "staging_bill_df = create_staging_bill_df_STEP_THREE(raw_bill_df, raw_sponsor_df)"
   ]
  },
  {
   "cell_type": "code",
   "execution_count": null,
   "metadata": {},
   "outputs": [],
   "source": [
    "merged_initial_df = create_staging_merged_initial_df_STEP_FOUR(staging_vote_df, staging_bill_df, legislator_df)"
   ]
  },
  {
   "cell_type": "code",
   "execution_count": null,
   "metadata": {},
   "outputs": [],
   "source": [
    "staging_bill_text_df = create_staging_bill_text_df_STEP_FIVE(merged_initial_df)"
   ]
  },
  {
   "cell_type": "code",
   "execution_count": null,
   "metadata": {},
   "outputs": [],
   "source": [
    "merged_final_df = clean_merged_final_STEP_SEVEN(merged_initial_df, legislator_df)"
   ]
  },
  {
   "cell_type": "code",
   "execution_count": null,
   "metadata": {},
   "outputs": [],
   "source": [
    "rep_score_df = create_rep_score_STEP_SEVEN(staging_bill_df, legislator_df)"
   ]
  },
  {
   "cell_type": "code",
   "execution_count": null,
   "metadata": {},
   "outputs": [],
   "source": []
  },
  {
   "cell_type": "code",
   "execution_count": null,
   "metadata": {},
   "outputs": [],
   "source": []
  }
 ],
 "metadata": {
  "kernelspec": {
   "display_name": "Python 3",
   "language": "python",
   "name": "python3"
  },
  "language_info": {
   "codemirror_mode": {
    "name": "ipython",
    "version": 3
   },
   "file_extension": ".py",
   "mimetype": "text/x-python",
   "name": "python",
   "nbconvert_exporter": "python",
   "pygments_lexer": "ipython3",
   "version": "3.6.5"
  }
 },
 "nbformat": 4,
 "nbformat_minor": 2
}
