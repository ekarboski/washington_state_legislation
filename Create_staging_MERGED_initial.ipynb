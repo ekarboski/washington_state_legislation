{
 "cells": [
  {
   "cell_type": "code",
   "execution_count": 1,
   "metadata": {},
   "outputs": [],
   "source": [
    "import psycopg2\n",
    "import pandas as pd\n",
    "from sqlalchemy import create_engine\n",
    "\n",
    "import pandas as pd\n",
    "import numpy as np\n",
    "\n",
    "from create_staging_tables import create_staging_merged_initial_df"
   ]
  },
  {
   "cell_type": "code",
   "execution_count": 2,
   "metadata": {},
   "outputs": [],
   "source": [
    "engine = create_engine('postgresql://localhost:5432/wa_leg_staging')"
   ]
  },
  {
   "cell_type": "code",
   "execution_count": 3,
   "metadata": {},
   "outputs": [],
   "source": [
    "con = engine.connect()"
   ]
  },
  {
   "cell_type": "code",
   "execution_count": 4,
   "metadata": {},
   "outputs": [],
   "source": [
    "staging_vote_df = pd.read_sql_query('select * from \"vote\"',con=engine)"
   ]
  },
  {
   "cell_type": "code",
   "execution_count": 5,
   "metadata": {},
   "outputs": [],
   "source": [
    "staging_bill_df = pd.read_sql_query('select * from \"bill\"',con=engine)"
   ]
  },
  {
   "cell_type": "code",
   "execution_count": null,
   "metadata": {},
   "outputs": [],
   "source": [
    "def create_staging_merged_initial_df(staging_vote_df, staging_bill_df):\n",
    "    '''Create merged_initial by merging staging_bill_df and staging_vote_df on the bill_unique field.\n",
    "    Input\n",
    "    staging_bill_df: pandas dataframe loaded from wa_leg_staging database, bill table\n",
    "    staging_vote_df:pandas dataframe loaded from wa_leg_staging database, vote table\n",
    "    '''\n",
    "    staging_bill_df['bill_unique'] = staging_bill_df['biennium'] + ' ' + staging_bill_df['bill_id']\n",
    "    return staging_vote_df.merge(staging_bill_df, how='left', on='bill_unique')"
   ]
  },
  {
   "cell_type": "code",
   "execution_count": null,
   "metadata": {},
   "outputs": [],
   "source": [
    "MERGED_initial = create_staging_merged_initial_df(staging_vote_df, staging_bill_df)"
   ]
  },
  {
   "cell_type": "code",
   "execution_count": null,
   "metadata": {},
   "outputs": [],
   "source": [
    "MERGED_initial.head()"
   ]
  },
  {
   "cell_type": "code",
   "execution_count": null,
   "metadata": {},
   "outputs": [],
   "source": [
    "len(MERGED_initial)"
   ]
  },
  {
   "cell_type": "code",
   "execution_count": null,
   "metadata": {},
   "outputs": [],
   "source": [
    "MERGED_initial[0:1].to_sql('merged_initial', con, if_exists='replace', index=False)"
   ]
  },
  {
   "cell_type": "code",
   "execution_count": null,
   "metadata": {},
   "outputs": [],
   "source": []
  },
  {
   "cell_type": "code",
   "execution_count": null,
   "metadata": {},
   "outputs": [],
   "source": []
  },
  {
   "cell_type": "code",
   "execution_count": null,
   "metadata": {},
   "outputs": [],
   "source": []
  },
  {
   "cell_type": "code",
   "execution_count": null,
   "metadata": {},
   "outputs": [],
   "source": []
  },
  {
   "cell_type": "code",
   "execution_count": null,
   "metadata": {},
   "outputs": [],
   "source": [
    "staging_vote_df.head()"
   ]
  },
  {
   "cell_type": "code",
   "execution_count": null,
   "metadata": {},
   "outputs": [],
   "source": [
    "staging_bill_df['htm_create_date'] = pd.to_datetime(staging_bill_df['htm_create_date'])"
   ]
  },
  {
   "cell_type": "code",
   "execution_count": null,
   "metadata": {},
   "outputs": [],
   "source": [
    "staging_bill_df['htm_last_modified_date'] = pd.to_datetime(staging_bill_df['htm_last_modified_date'])"
   ]
  },
  {
   "cell_type": "code",
   "execution_count": null,
   "metadata": {},
   "outputs": [],
   "source": [
    "staging_bill_df[staging_bill_df['bill_unique'] == '1993-94 HB 1790']"
   ]
  },
  {
   "cell_type": "code",
   "execution_count": null,
   "metadata": {},
   "outputs": [],
   "source": [
    "150*19000"
   ]
  },
  {
   "cell_type": "code",
   "execution_count": null,
   "metadata": {},
   "outputs": [],
   "source": [
    "staging_bill_df['unique_id'] = np.linspace(1, len(staging_bill_df), len(staging_bill_df))"
   ]
  },
  {
   "cell_type": "code",
   "execution_count": null,
   "metadata": {},
   "outputs": [],
   "source": [
    "unique_vote_dates = staging_vote_df[['bill_unique', 'vote_date']]"
   ]
  },
  {
   "cell_type": "code",
   "execution_count": null,
   "metadata": {},
   "outputs": [],
   "source": [
    "unique_vote_dates.head()"
   ]
  },
  {
   "cell_type": "code",
   "execution_count": null,
   "metadata": {},
   "outputs": [],
   "source": [
    "unique_vote_dates.drop_duplicates(keep='first', inplace=True)"
   ]
  },
  {
   "cell_type": "code",
   "execution_count": null,
   "metadata": {},
   "outputs": [],
   "source": [
    "unique_vote_dates['unique_id'] = np.nan"
   ]
  },
  {
   "cell_type": "code",
   "execution_count": null,
   "metadata": {},
   "outputs": [],
   "source": [
    "unique_vote_dates = unique_vote_dates.reset_index()"
   ]
  },
  {
   "cell_type": "code",
   "execution_count": null,
   "metadata": {},
   "outputs": [],
   "source": [
    "unique_vote_dates.head()"
   ]
  },
  {
   "cell_type": "code",
   "execution_count": 13,
   "metadata": {},
   "outputs": [],
   "source": [
    "def create_staging_unique_vote_dates_df(staging_bill_df, staging_vote_df):\n",
    "    '''Identify the exact bill that the legislators voted on. Create a dataframe that conists of all vote_date \n",
    "    and bill_unique pairs. Create a null unique_id field that labels each bill with a unique ID, and begins as \n",
    "    null for unique_vote_dates. For each row in unique_vote_dates identify the bill that was created closest to, \n",
    "    but before, the vote date. Set the unique_id of that bill to the unique_id of that vote. This will be use to \n",
    "    later join the bill_df to the vote_df.'''\n",
    "    \n",
    "    staging_bill_df['htm_create_date'] =        pd.to_datetime(staging_bill_df['htm_create_date'])\n",
    "    staging_bill_df['htm_last_modified_date'] = pd.to_datetime(staging_bill_df['htm_last_modified_date'])\n",
    "    \n",
    "    unique_vote_dates = staging_vote_df[['bill_unique', 'vote_date']]\n",
    "    unique_vote_dates.drop_duplicates(keep='first', inplace=True)\n",
    "    unique_vote_dates = unique_vote_dates.reset_index()\n",
    "    \n",
    "    unique_vote_dates['unique_id'] = np.nan\n",
    "    staging_bill_df['unique_id'] = np.linspace(1, len(staging_bill_df), len(staging_bill_df))\n",
    "    \n",
    "\n",
    "    for i1, row in unique_vote_dates.iterrows():\n",
    "        time_diffs = {}\n",
    "        bill_options = staging_bill_df[staging_bill_df['bill_unique'] == row['bill_unique']]\n",
    "        \n",
    "        for i2, option in bill_options.iterrows():\n",
    "            time_diff = option['htm_create_date'] - row['vote_date']\n",
    "            \n",
    "            if time_diff <= pd.to_timedelta('0'):\n",
    "                time_diffs[time_diff] = option['unique_id']\n",
    "            if time_diff > pd.to_timedelta('0'):\n",
    "                time_diff -= pd.to_timedelta('-1000 days')\n",
    "                time_diffs[time_diff] = option['unique_id']\n",
    "                \n",
    "        if len(time_diffs) > 0:\n",
    "            bill_voted_on = time_diffs[max(time_diffs)]\n",
    "            unique_vote_dates.iloc[i1, -1] = bill_voted_on\n",
    "            \n",
    "    return unique_vote_dates"
   ]
  },
  {
   "cell_type": "code",
   "execution_count": null,
   "metadata": {},
   "outputs": [],
   "source": [
    "unique_vote_dates.to_sql('unique_vote_dates', con, if_exists='replace', index=False)"
   ]
  },
  {
   "cell_type": "code",
   "execution_count": null,
   "metadata": {},
   "outputs": [],
   "source": [
    "len(x)"
   ]
  },
  {
   "cell_type": "code",
   "execution_count": null,
   "metadata": {},
   "outputs": [],
   "source": []
  }
 ],
 "metadata": {
  "kernelspec": {
   "display_name": "Python 3",
   "language": "python",
   "name": "python3"
  },
  "language_info": {
   "codemirror_mode": {
    "name": "ipython",
    "version": 3
   },
   "file_extension": ".py",
   "mimetype": "text/x-python",
   "name": "python",
   "nbconvert_exporter": "python",
   "pygments_lexer": "ipython3",
   "version": "3.6.5"
  }
 },
 "nbformat": 4,
 "nbformat_minor": 2
}
